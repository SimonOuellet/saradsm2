{
  "nbformat": 4,
  "nbformat_minor": 0,
  "metadata": {
    "environment": {
      "name": "common-cpu.m59",
      "type": "gcloud",
      "uri": "gcr.io/deeplearning-platform-release/base-cpu:m59"
    },
    "kernelspec": {
      "display_name": "Python 3",
      "language": "python",
      "name": "python3"
    },
    "language_info": {
      "codemirror_mode": {
        "name": "ipython",
        "version": 3
      },
      "file_extension": ".py",
      "mimetype": "text/x-python",
      "name": "python",
      "nbconvert_exporter": "python",
      "pygments_lexer": "ipython3",
      "version": "3.7.8"
    },
    "colab": {
      "name": "kine-classifier.ipynb",
      "provenance": [],
      "machine_shape": "hm",
      "include_colab_link": true
    },
    "widgets": {
      "application/vnd.jupyter.widget-state+json": {
        "5ea8cc9192ec43a8b11b9bf7dae011aa": {
          "model_module": "@jupyter-widgets/controls",
          "model_name": "HBoxModel",
          "model_module_version": "1.5.0",
          "state": {
            "_view_name": "HBoxView",
            "_dom_classes": [],
            "_model_name": "HBoxModel",
            "_view_module": "@jupyter-widgets/controls",
            "_model_module_version": "1.5.0",
            "_view_count": null,
            "_view_module_version": "1.5.0",
            "box_style": "",
            "layout": "IPY_MODEL_6fffa4ed9d55412e8d3ba9dc5aa18791",
            "_model_module": "@jupyter-widgets/controls",
            "children": [
              "IPY_MODEL_ce106afdbe6945f3a8f128dc93b8559a",
              "IPY_MODEL_ffbe7fd751df4bd089f1312f4b6df95c",
              "IPY_MODEL_01bc1e3fe64a4efc860f2f520a23cf21"
            ]
          }
        },
        "6fffa4ed9d55412e8d3ba9dc5aa18791": {
          "model_module": "@jupyter-widgets/base",
          "model_name": "LayoutModel",
          "model_module_version": "1.2.0",
          "state": {
            "_view_name": "LayoutView",
            "grid_template_rows": null,
            "right": null,
            "justify_content": null,
            "_view_module": "@jupyter-widgets/base",
            "overflow": null,
            "_model_module_version": "1.2.0",
            "_view_count": null,
            "flex_flow": null,
            "width": null,
            "min_width": null,
            "border": null,
            "align_items": null,
            "bottom": null,
            "_model_module": "@jupyter-widgets/base",
            "top": null,
            "grid_column": null,
            "overflow_y": null,
            "overflow_x": null,
            "grid_auto_flow": null,
            "grid_area": null,
            "grid_template_columns": null,
            "flex": null,
            "_model_name": "LayoutModel",
            "justify_items": null,
            "grid_row": null,
            "max_height": null,
            "align_content": null,
            "visibility": null,
            "align_self": null,
            "height": null,
            "min_height": null,
            "padding": null,
            "grid_auto_rows": null,
            "grid_gap": null,
            "max_width": null,
            "order": null,
            "_view_module_version": "1.2.0",
            "grid_template_areas": null,
            "object_position": null,
            "object_fit": null,
            "grid_auto_columns": null,
            "margin": null,
            "display": null,
            "left": null
          }
        },
        "ce106afdbe6945f3a8f128dc93b8559a": {
          "model_module": "@jupyter-widgets/controls",
          "model_name": "HTMLModel",
          "model_module_version": "1.5.0",
          "state": {
            "_view_name": "HTMLView",
            "style": "IPY_MODEL_0bc90aad5df64926b9243a2330460069",
            "_dom_classes": [],
            "description": "",
            "_model_name": "HTMLModel",
            "placeholder": "​",
            "_view_module": "@jupyter-widgets/controls",
            "_model_module_version": "1.5.0",
            "value": "Summarize dataset: 100%",
            "_view_count": null,
            "_view_module_version": "1.5.0",
            "description_tooltip": null,
            "_model_module": "@jupyter-widgets/controls",
            "layout": "IPY_MODEL_c418562a2a0747a6ad0289534cbc9010"
          }
        },
        "ffbe7fd751df4bd089f1312f4b6df95c": {
          "model_module": "@jupyter-widgets/controls",
          "model_name": "FloatProgressModel",
          "model_module_version": "1.5.0",
          "state": {
            "_view_name": "ProgressView",
            "style": "IPY_MODEL_59c5ff402e85481ca7e62963aa59f121",
            "_dom_classes": [],
            "description": "",
            "_model_name": "FloatProgressModel",
            "bar_style": "success",
            "max": 5,
            "_view_module": "@jupyter-widgets/controls",
            "_model_module_version": "1.5.0",
            "value": 5,
            "_view_count": null,
            "_view_module_version": "1.5.0",
            "orientation": "horizontal",
            "min": 0,
            "description_tooltip": null,
            "_model_module": "@jupyter-widgets/controls",
            "layout": "IPY_MODEL_466df99da62e496585aa6254a61e72c4"
          }
        },
        "01bc1e3fe64a4efc860f2f520a23cf21": {
          "model_module": "@jupyter-widgets/controls",
          "model_name": "HTMLModel",
          "model_module_version": "1.5.0",
          "state": {
            "_view_name": "HTMLView",
            "style": "IPY_MODEL_e6407794b4bc41d986bf28c3209a69b7",
            "_dom_classes": [],
            "description": "",
            "_model_name": "HTMLModel",
            "placeholder": "​",
            "_view_module": "@jupyter-widgets/controls",
            "_model_module_version": "1.5.0",
            "value": " 1918/1918 [24:12&lt;00:00,  2.40s/it, Completed]",
            "_view_count": null,
            "_view_module_version": "1.5.0",
            "description_tooltip": null,
            "_model_module": "@jupyter-widgets/controls",
            "layout": "IPY_MODEL_ef2573f67e77474a83808d61933da1dd"
          }
        },
        "0bc90aad5df64926b9243a2330460069": {
          "model_module": "@jupyter-widgets/controls",
          "model_name": "DescriptionStyleModel",
          "model_module_version": "1.5.0",
          "state": {
            "_view_name": "StyleView",
            "_model_name": "DescriptionStyleModel",
            "description_width": "",
            "_view_module": "@jupyter-widgets/base",
            "_model_module_version": "1.5.0",
            "_view_count": null,
            "_view_module_version": "1.2.0",
            "_model_module": "@jupyter-widgets/controls"
          }
        },
        "c418562a2a0747a6ad0289534cbc9010": {
          "model_module": "@jupyter-widgets/base",
          "model_name": "LayoutModel",
          "model_module_version": "1.2.0",
          "state": {
            "_view_name": "LayoutView",
            "grid_template_rows": null,
            "right": null,
            "justify_content": null,
            "_view_module": "@jupyter-widgets/base",
            "overflow": null,
            "_model_module_version": "1.2.0",
            "_view_count": null,
            "flex_flow": null,
            "width": null,
            "min_width": null,
            "border": null,
            "align_items": null,
            "bottom": null,
            "_model_module": "@jupyter-widgets/base",
            "top": null,
            "grid_column": null,
            "overflow_y": null,
            "overflow_x": null,
            "grid_auto_flow": null,
            "grid_area": null,
            "grid_template_columns": null,
            "flex": null,
            "_model_name": "LayoutModel",
            "justify_items": null,
            "grid_row": null,
            "max_height": null,
            "align_content": null,
            "visibility": null,
            "align_self": null,
            "height": null,
            "min_height": null,
            "padding": null,
            "grid_auto_rows": null,
            "grid_gap": null,
            "max_width": null,
            "order": null,
            "_view_module_version": "1.2.0",
            "grid_template_areas": null,
            "object_position": null,
            "object_fit": null,
            "grid_auto_columns": null,
            "margin": null,
            "display": null,
            "left": null
          }
        },
        "59c5ff402e85481ca7e62963aa59f121": {
          "model_module": "@jupyter-widgets/controls",
          "model_name": "ProgressStyleModel",
          "model_module_version": "1.5.0",
          "state": {
            "_view_name": "StyleView",
            "_model_name": "ProgressStyleModel",
            "description_width": "",
            "_view_module": "@jupyter-widgets/base",
            "_model_module_version": "1.5.0",
            "_view_count": null,
            "_view_module_version": "1.2.0",
            "bar_color": null,
            "_model_module": "@jupyter-widgets/controls"
          }
        },
        "466df99da62e496585aa6254a61e72c4": {
          "model_module": "@jupyter-widgets/base",
          "model_name": "LayoutModel",
          "model_module_version": "1.2.0",
          "state": {
            "_view_name": "LayoutView",
            "grid_template_rows": null,
            "right": null,
            "justify_content": null,
            "_view_module": "@jupyter-widgets/base",
            "overflow": null,
            "_model_module_version": "1.2.0",
            "_view_count": null,
            "flex_flow": null,
            "width": null,
            "min_width": null,
            "border": null,
            "align_items": null,
            "bottom": null,
            "_model_module": "@jupyter-widgets/base",
            "top": null,
            "grid_column": null,
            "overflow_y": null,
            "overflow_x": null,
            "grid_auto_flow": null,
            "grid_area": null,
            "grid_template_columns": null,
            "flex": null,
            "_model_name": "LayoutModel",
            "justify_items": null,
            "grid_row": null,
            "max_height": null,
            "align_content": null,
            "visibility": null,
            "align_self": null,
            "height": null,
            "min_height": null,
            "padding": null,
            "grid_auto_rows": null,
            "grid_gap": null,
            "max_width": null,
            "order": null,
            "_view_module_version": "1.2.0",
            "grid_template_areas": null,
            "object_position": null,
            "object_fit": null,
            "grid_auto_columns": null,
            "margin": null,
            "display": null,
            "left": null
          }
        },
        "e6407794b4bc41d986bf28c3209a69b7": {
          "model_module": "@jupyter-widgets/controls",
          "model_name": "DescriptionStyleModel",
          "model_module_version": "1.5.0",
          "state": {
            "_view_name": "StyleView",
            "_model_name": "DescriptionStyleModel",
            "description_width": "",
            "_view_module": "@jupyter-widgets/base",
            "_model_module_version": "1.5.0",
            "_view_count": null,
            "_view_module_version": "1.2.0",
            "_model_module": "@jupyter-widgets/controls"
          }
        },
        "ef2573f67e77474a83808d61933da1dd": {
          "model_module": "@jupyter-widgets/base",
          "model_name": "LayoutModel",
          "model_module_version": "1.2.0",
          "state": {
            "_view_name": "LayoutView",
            "grid_template_rows": null,
            "right": null,
            "justify_content": null,
            "_view_module": "@jupyter-widgets/base",
            "overflow": null,
            "_model_module_version": "1.2.0",
            "_view_count": null,
            "flex_flow": null,
            "width": null,
            "min_width": null,
            "border": null,
            "align_items": null,
            "bottom": null,
            "_model_module": "@jupyter-widgets/base",
            "top": null,
            "grid_column": null,
            "overflow_y": null,
            "overflow_x": null,
            "grid_auto_flow": null,
            "grid_area": null,
            "grid_template_columns": null,
            "flex": null,
            "_model_name": "LayoutModel",
            "justify_items": null,
            "grid_row": null,
            "max_height": null,
            "align_content": null,
            "visibility": null,
            "align_self": null,
            "height": null,
            "min_height": null,
            "padding": null,
            "grid_auto_rows": null,
            "grid_gap": null,
            "max_width": null,
            "order": null,
            "_view_module_version": "1.2.0",
            "grid_template_areas": null,
            "object_position": null,
            "object_fit": null,
            "grid_auto_columns": null,
            "margin": null,
            "display": null,
            "left": null
          }
        },
        "082c3862b4d54d6b85db17f5e1f50a51": {
          "model_module": "@jupyter-widgets/controls",
          "model_name": "HBoxModel",
          "model_module_version": "1.5.0",
          "state": {
            "_view_name": "HBoxView",
            "_dom_classes": [],
            "_model_name": "HBoxModel",
            "_view_module": "@jupyter-widgets/controls",
            "_model_module_version": "1.5.0",
            "_view_count": null,
            "_view_module_version": "1.5.0",
            "box_style": "",
            "layout": "IPY_MODEL_ac53dad974e440c396fcea56aff502b9",
            "_model_module": "@jupyter-widgets/controls",
            "children": [
              "IPY_MODEL_d360ae4b8e544ea7bc1f49390dabeff1",
              "IPY_MODEL_31abe0a046bc49c2bc192e16571c3e18",
              "IPY_MODEL_07a831e2f5694b5da534f22fdb30b778"
            ]
          }
        },
        "ac53dad974e440c396fcea56aff502b9": {
          "model_module": "@jupyter-widgets/base",
          "model_name": "LayoutModel",
          "model_module_version": "1.2.0",
          "state": {
            "_view_name": "LayoutView",
            "grid_template_rows": null,
            "right": null,
            "justify_content": null,
            "_view_module": "@jupyter-widgets/base",
            "overflow": null,
            "_model_module_version": "1.2.0",
            "_view_count": null,
            "flex_flow": null,
            "width": null,
            "min_width": null,
            "border": null,
            "align_items": null,
            "bottom": null,
            "_model_module": "@jupyter-widgets/base",
            "top": null,
            "grid_column": null,
            "overflow_y": null,
            "overflow_x": null,
            "grid_auto_flow": null,
            "grid_area": null,
            "grid_template_columns": null,
            "flex": null,
            "_model_name": "LayoutModel",
            "justify_items": null,
            "grid_row": null,
            "max_height": null,
            "align_content": null,
            "visibility": null,
            "align_self": null,
            "height": null,
            "min_height": null,
            "padding": null,
            "grid_auto_rows": null,
            "grid_gap": null,
            "max_width": null,
            "order": null,
            "_view_module_version": "1.2.0",
            "grid_template_areas": null,
            "object_position": null,
            "object_fit": null,
            "grid_auto_columns": null,
            "margin": null,
            "display": null,
            "left": null
          }
        },
        "d360ae4b8e544ea7bc1f49390dabeff1": {
          "model_module": "@jupyter-widgets/controls",
          "model_name": "HTMLModel",
          "model_module_version": "1.5.0",
          "state": {
            "_view_name": "HTMLView",
            "style": "IPY_MODEL_c31ad13edb4747e6aa9b06d871f6caf7",
            "_dom_classes": [],
            "description": "",
            "_model_name": "HTMLModel",
            "placeholder": "​",
            "_view_module": "@jupyter-widgets/controls",
            "_model_module_version": "1.5.0",
            "value": "Generate report structure: 100%",
            "_view_count": null,
            "_view_module_version": "1.5.0",
            "description_tooltip": null,
            "_model_module": "@jupyter-widgets/controls",
            "layout": "IPY_MODEL_3ce057e7095a45578454669d72dd219f"
          }
        },
        "31abe0a046bc49c2bc192e16571c3e18": {
          "model_module": "@jupyter-widgets/controls",
          "model_name": "FloatProgressModel",
          "model_module_version": "1.5.0",
          "state": {
            "_view_name": "ProgressView",
            "style": "IPY_MODEL_c79e88b849ec45bcb35d9417dd19407b",
            "_dom_classes": [],
            "description": "",
            "_model_name": "FloatProgressModel",
            "bar_style": "success",
            "max": 1,
            "_view_module": "@jupyter-widgets/controls",
            "_model_module_version": "1.5.0",
            "value": 1,
            "_view_count": null,
            "_view_module_version": "1.5.0",
            "orientation": "horizontal",
            "min": 0,
            "description_tooltip": null,
            "_model_module": "@jupyter-widgets/controls",
            "layout": "IPY_MODEL_89f9a6b021504316a335e3e9a5b4c363"
          }
        },
        "07a831e2f5694b5da534f22fdb30b778": {
          "model_module": "@jupyter-widgets/controls",
          "model_name": "HTMLModel",
          "model_module_version": "1.5.0",
          "state": {
            "_view_name": "HTMLView",
            "style": "IPY_MODEL_397671cad26d407a97e8632a1a34bc13",
            "_dom_classes": [],
            "description": "",
            "_model_name": "HTMLModel",
            "placeholder": "​",
            "_view_module": "@jupyter-widgets/controls",
            "_model_module_version": "1.5.0",
            "value": " 1/1 [00:31&lt;00:00, 31.67s/it]",
            "_view_count": null,
            "_view_module_version": "1.5.0",
            "description_tooltip": null,
            "_model_module": "@jupyter-widgets/controls",
            "layout": "IPY_MODEL_11ddf2083a144e15bed35eb63174d714"
          }
        },
        "c31ad13edb4747e6aa9b06d871f6caf7": {
          "model_module": "@jupyter-widgets/controls",
          "model_name": "DescriptionStyleModel",
          "model_module_version": "1.5.0",
          "state": {
            "_view_name": "StyleView",
            "_model_name": "DescriptionStyleModel",
            "description_width": "",
            "_view_module": "@jupyter-widgets/base",
            "_model_module_version": "1.5.0",
            "_view_count": null,
            "_view_module_version": "1.2.0",
            "_model_module": "@jupyter-widgets/controls"
          }
        },
        "3ce057e7095a45578454669d72dd219f": {
          "model_module": "@jupyter-widgets/base",
          "model_name": "LayoutModel",
          "model_module_version": "1.2.0",
          "state": {
            "_view_name": "LayoutView",
            "grid_template_rows": null,
            "right": null,
            "justify_content": null,
            "_view_module": "@jupyter-widgets/base",
            "overflow": null,
            "_model_module_version": "1.2.0",
            "_view_count": null,
            "flex_flow": null,
            "width": null,
            "min_width": null,
            "border": null,
            "align_items": null,
            "bottom": null,
            "_model_module": "@jupyter-widgets/base",
            "top": null,
            "grid_column": null,
            "overflow_y": null,
            "overflow_x": null,
            "grid_auto_flow": null,
            "grid_area": null,
            "grid_template_columns": null,
            "flex": null,
            "_model_name": "LayoutModel",
            "justify_items": null,
            "grid_row": null,
            "max_height": null,
            "align_content": null,
            "visibility": null,
            "align_self": null,
            "height": null,
            "min_height": null,
            "padding": null,
            "grid_auto_rows": null,
            "grid_gap": null,
            "max_width": null,
            "order": null,
            "_view_module_version": "1.2.0",
            "grid_template_areas": null,
            "object_position": null,
            "object_fit": null,
            "grid_auto_columns": null,
            "margin": null,
            "display": null,
            "left": null
          }
        },
        "c79e88b849ec45bcb35d9417dd19407b": {
          "model_module": "@jupyter-widgets/controls",
          "model_name": "ProgressStyleModel",
          "model_module_version": "1.5.0",
          "state": {
            "_view_name": "StyleView",
            "_model_name": "ProgressStyleModel",
            "description_width": "",
            "_view_module": "@jupyter-widgets/base",
            "_model_module_version": "1.5.0",
            "_view_count": null,
            "_view_module_version": "1.2.0",
            "bar_color": null,
            "_model_module": "@jupyter-widgets/controls"
          }
        },
        "89f9a6b021504316a335e3e9a5b4c363": {
          "model_module": "@jupyter-widgets/base",
          "model_name": "LayoutModel",
          "model_module_version": "1.2.0",
          "state": {
            "_view_name": "LayoutView",
            "grid_template_rows": null,
            "right": null,
            "justify_content": null,
            "_view_module": "@jupyter-widgets/base",
            "overflow": null,
            "_model_module_version": "1.2.0",
            "_view_count": null,
            "flex_flow": null,
            "width": null,
            "min_width": null,
            "border": null,
            "align_items": null,
            "bottom": null,
            "_model_module": "@jupyter-widgets/base",
            "top": null,
            "grid_column": null,
            "overflow_y": null,
            "overflow_x": null,
            "grid_auto_flow": null,
            "grid_area": null,
            "grid_template_columns": null,
            "flex": null,
            "_model_name": "LayoutModel",
            "justify_items": null,
            "grid_row": null,
            "max_height": null,
            "align_content": null,
            "visibility": null,
            "align_self": null,
            "height": null,
            "min_height": null,
            "padding": null,
            "grid_auto_rows": null,
            "grid_gap": null,
            "max_width": null,
            "order": null,
            "_view_module_version": "1.2.0",
            "grid_template_areas": null,
            "object_position": null,
            "object_fit": null,
            "grid_auto_columns": null,
            "margin": null,
            "display": null,
            "left": null
          }
        },
        "397671cad26d407a97e8632a1a34bc13": {
          "model_module": "@jupyter-widgets/controls",
          "model_name": "DescriptionStyleModel",
          "model_module_version": "1.5.0",
          "state": {
            "_view_name": "StyleView",
            "_model_name": "DescriptionStyleModel",
            "description_width": "",
            "_view_module": "@jupyter-widgets/base",
            "_model_module_version": "1.5.0",
            "_view_count": null,
            "_view_module_version": "1.2.0",
            "_model_module": "@jupyter-widgets/controls"
          }
        },
        "11ddf2083a144e15bed35eb63174d714": {
          "model_module": "@jupyter-widgets/base",
          "model_name": "LayoutModel",
          "model_module_version": "1.2.0",
          "state": {
            "_view_name": "LayoutView",
            "grid_template_rows": null,
            "right": null,
            "justify_content": null,
            "_view_module": "@jupyter-widgets/base",
            "overflow": null,
            "_model_module_version": "1.2.0",
            "_view_count": null,
            "flex_flow": null,
            "width": null,
            "min_width": null,
            "border": null,
            "align_items": null,
            "bottom": null,
            "_model_module": "@jupyter-widgets/base",
            "top": null,
            "grid_column": null,
            "overflow_y": null,
            "overflow_x": null,
            "grid_auto_flow": null,
            "grid_area": null,
            "grid_template_columns": null,
            "flex": null,
            "_model_name": "LayoutModel",
            "justify_items": null,
            "grid_row": null,
            "max_height": null,
            "align_content": null,
            "visibility": null,
            "align_self": null,
            "height": null,
            "min_height": null,
            "padding": null,
            "grid_auto_rows": null,
            "grid_gap": null,
            "max_width": null,
            "order": null,
            "_view_module_version": "1.2.0",
            "grid_template_areas": null,
            "object_position": null,
            "object_fit": null,
            "grid_auto_columns": null,
            "margin": null,
            "display": null,
            "left": null
          }
        },
        "e3e5787027b5497dbf1f1e9b674ee7ce": {
          "model_module": "@jupyter-widgets/controls",
          "model_name": "HBoxModel",
          "model_module_version": "1.5.0",
          "state": {
            "_view_name": "HBoxView",
            "_dom_classes": [],
            "_model_name": "HBoxModel",
            "_view_module": "@jupyter-widgets/controls",
            "_model_module_version": "1.5.0",
            "_view_count": null,
            "_view_module_version": "1.5.0",
            "box_style": "",
            "layout": "IPY_MODEL_6ea9ff5689da4cd0967cecf8f48becc8",
            "_model_module": "@jupyter-widgets/controls",
            "children": [
              "IPY_MODEL_699d0812620e4405bf3bd01f0bdd94ee",
              "IPY_MODEL_2010d879286f462c8f3df6d0f6e6d43a",
              "IPY_MODEL_d5e59d15a0e142f8abb2d25d8e7aa15a"
            ]
          }
        },
        "6ea9ff5689da4cd0967cecf8f48becc8": {
          "model_module": "@jupyter-widgets/base",
          "model_name": "LayoutModel",
          "model_module_version": "1.2.0",
          "state": {
            "_view_name": "LayoutView",
            "grid_template_rows": null,
            "right": null,
            "justify_content": null,
            "_view_module": "@jupyter-widgets/base",
            "overflow": null,
            "_model_module_version": "1.2.0",
            "_view_count": null,
            "flex_flow": null,
            "width": null,
            "min_width": null,
            "border": null,
            "align_items": null,
            "bottom": null,
            "_model_module": "@jupyter-widgets/base",
            "top": null,
            "grid_column": null,
            "overflow_y": null,
            "overflow_x": null,
            "grid_auto_flow": null,
            "grid_area": null,
            "grid_template_columns": null,
            "flex": null,
            "_model_name": "LayoutModel",
            "justify_items": null,
            "grid_row": null,
            "max_height": null,
            "align_content": null,
            "visibility": null,
            "align_self": null,
            "height": null,
            "min_height": null,
            "padding": null,
            "grid_auto_rows": null,
            "grid_gap": null,
            "max_width": null,
            "order": null,
            "_view_module_version": "1.2.0",
            "grid_template_areas": null,
            "object_position": null,
            "object_fit": null,
            "grid_auto_columns": null,
            "margin": null,
            "display": null,
            "left": null
          }
        },
        "699d0812620e4405bf3bd01f0bdd94ee": {
          "model_module": "@jupyter-widgets/controls",
          "model_name": "HTMLModel",
          "model_module_version": "1.5.0",
          "state": {
            "_view_name": "HTMLView",
            "style": "IPY_MODEL_fb0373c8e3d54e47bb82f3b35318073a",
            "_dom_classes": [],
            "description": "",
            "_model_name": "HTMLModel",
            "placeholder": "​",
            "_view_module": "@jupyter-widgets/controls",
            "_model_module_version": "1.5.0",
            "value": "Render HTML: 100%",
            "_view_count": null,
            "_view_module_version": "1.5.0",
            "description_tooltip": null,
            "_model_module": "@jupyter-widgets/controls",
            "layout": "IPY_MODEL_832d52a4870346309fea1b75e09b27a5"
          }
        },
        "2010d879286f462c8f3df6d0f6e6d43a": {
          "model_module": "@jupyter-widgets/controls",
          "model_name": "FloatProgressModel",
          "model_module_version": "1.5.0",
          "state": {
            "_view_name": "ProgressView",
            "style": "IPY_MODEL_9301c27469ca4693aedb919e409ba5e4",
            "_dom_classes": [],
            "description": "",
            "_model_name": "FloatProgressModel",
            "bar_style": "success",
            "max": 1,
            "_view_module": "@jupyter-widgets/controls",
            "_model_module_version": "1.5.0",
            "value": 1,
            "_view_count": null,
            "_view_module_version": "1.5.0",
            "orientation": "horizontal",
            "min": 0,
            "description_tooltip": null,
            "_model_module": "@jupyter-widgets/controls",
            "layout": "IPY_MODEL_c2f3de91e6134b47934e605679279bc1"
          }
        },
        "d5e59d15a0e142f8abb2d25d8e7aa15a": {
          "model_module": "@jupyter-widgets/controls",
          "model_name": "HTMLModel",
          "model_module_version": "1.5.0",
          "state": {
            "_view_name": "HTMLView",
            "style": "IPY_MODEL_1469240a0b464891b56e316906e21ba0",
            "_dom_classes": [],
            "description": "",
            "_model_name": "HTMLModel",
            "placeholder": "​",
            "_view_module": "@jupyter-widgets/controls",
            "_model_module_version": "1.5.0",
            "value": " 1/1 [01:03&lt;00:00, 63.20s/it]",
            "_view_count": null,
            "_view_module_version": "1.5.0",
            "description_tooltip": null,
            "_model_module": "@jupyter-widgets/controls",
            "layout": "IPY_MODEL_8dc0f66218644a6eba9a66f2ac2c32bc"
          }
        },
        "fb0373c8e3d54e47bb82f3b35318073a": {
          "model_module": "@jupyter-widgets/controls",
          "model_name": "DescriptionStyleModel",
          "model_module_version": "1.5.0",
          "state": {
            "_view_name": "StyleView",
            "_model_name": "DescriptionStyleModel",
            "description_width": "",
            "_view_module": "@jupyter-widgets/base",
            "_model_module_version": "1.5.0",
            "_view_count": null,
            "_view_module_version": "1.2.0",
            "_model_module": "@jupyter-widgets/controls"
          }
        },
        "832d52a4870346309fea1b75e09b27a5": {
          "model_module": "@jupyter-widgets/base",
          "model_name": "LayoutModel",
          "model_module_version": "1.2.0",
          "state": {
            "_view_name": "LayoutView",
            "grid_template_rows": null,
            "right": null,
            "justify_content": null,
            "_view_module": "@jupyter-widgets/base",
            "overflow": null,
            "_model_module_version": "1.2.0",
            "_view_count": null,
            "flex_flow": null,
            "width": null,
            "min_width": null,
            "border": null,
            "align_items": null,
            "bottom": null,
            "_model_module": "@jupyter-widgets/base",
            "top": null,
            "grid_column": null,
            "overflow_y": null,
            "overflow_x": null,
            "grid_auto_flow": null,
            "grid_area": null,
            "grid_template_columns": null,
            "flex": null,
            "_model_name": "LayoutModel",
            "justify_items": null,
            "grid_row": null,
            "max_height": null,
            "align_content": null,
            "visibility": null,
            "align_self": null,
            "height": null,
            "min_height": null,
            "padding": null,
            "grid_auto_rows": null,
            "grid_gap": null,
            "max_width": null,
            "order": null,
            "_view_module_version": "1.2.0",
            "grid_template_areas": null,
            "object_position": null,
            "object_fit": null,
            "grid_auto_columns": null,
            "margin": null,
            "display": null,
            "left": null
          }
        },
        "9301c27469ca4693aedb919e409ba5e4": {
          "model_module": "@jupyter-widgets/controls",
          "model_name": "ProgressStyleModel",
          "model_module_version": "1.5.0",
          "state": {
            "_view_name": "StyleView",
            "_model_name": "ProgressStyleModel",
            "description_width": "",
            "_view_module": "@jupyter-widgets/base",
            "_model_module_version": "1.5.0",
            "_view_count": null,
            "_view_module_version": "1.2.0",
            "bar_color": null,
            "_model_module": "@jupyter-widgets/controls"
          }
        },
        "c2f3de91e6134b47934e605679279bc1": {
          "model_module": "@jupyter-widgets/base",
          "model_name": "LayoutModel",
          "model_module_version": "1.2.0",
          "state": {
            "_view_name": "LayoutView",
            "grid_template_rows": null,
            "right": null,
            "justify_content": null,
            "_view_module": "@jupyter-widgets/base",
            "overflow": null,
            "_model_module_version": "1.2.0",
            "_view_count": null,
            "flex_flow": null,
            "width": null,
            "min_width": null,
            "border": null,
            "align_items": null,
            "bottom": null,
            "_model_module": "@jupyter-widgets/base",
            "top": null,
            "grid_column": null,
            "overflow_y": null,
            "overflow_x": null,
            "grid_auto_flow": null,
            "grid_area": null,
            "grid_template_columns": null,
            "flex": null,
            "_model_name": "LayoutModel",
            "justify_items": null,
            "grid_row": null,
            "max_height": null,
            "align_content": null,
            "visibility": null,
            "align_self": null,
            "height": null,
            "min_height": null,
            "padding": null,
            "grid_auto_rows": null,
            "grid_gap": null,
            "max_width": null,
            "order": null,
            "_view_module_version": "1.2.0",
            "grid_template_areas": null,
            "object_position": null,
            "object_fit": null,
            "grid_auto_columns": null,
            "margin": null,
            "display": null,
            "left": null
          }
        },
        "1469240a0b464891b56e316906e21ba0": {
          "model_module": "@jupyter-widgets/controls",
          "model_name": "DescriptionStyleModel",
          "model_module_version": "1.5.0",
          "state": {
            "_view_name": "StyleView",
            "_model_name": "DescriptionStyleModel",
            "description_width": "",
            "_view_module": "@jupyter-widgets/base",
            "_model_module_version": "1.5.0",
            "_view_count": null,
            "_view_module_version": "1.2.0",
            "_model_module": "@jupyter-widgets/controls"
          }
        },
        "8dc0f66218644a6eba9a66f2ac2c32bc": {
          "model_module": "@jupyter-widgets/base",
          "model_name": "LayoutModel",
          "model_module_version": "1.2.0",
          "state": {
            "_view_name": "LayoutView",
            "grid_template_rows": null,
            "right": null,
            "justify_content": null,
            "_view_module": "@jupyter-widgets/base",
            "overflow": null,
            "_model_module_version": "1.2.0",
            "_view_count": null,
            "flex_flow": null,
            "width": null,
            "min_width": null,
            "border": null,
            "align_items": null,
            "bottom": null,
            "_model_module": "@jupyter-widgets/base",
            "top": null,
            "grid_column": null,
            "overflow_y": null,
            "overflow_x": null,
            "grid_auto_flow": null,
            "grid_area": null,
            "grid_template_columns": null,
            "flex": null,
            "_model_name": "LayoutModel",
            "justify_items": null,
            "grid_row": null,
            "max_height": null,
            "align_content": null,
            "visibility": null,
            "align_self": null,
            "height": null,
            "min_height": null,
            "padding": null,
            "grid_auto_rows": null,
            "grid_gap": null,
            "max_width": null,
            "order": null,
            "_view_module_version": "1.2.0",
            "grid_template_areas": null,
            "object_position": null,
            "object_fit": null,
            "grid_auto_columns": null,
            "margin": null,
            "display": null,
            "left": null
          }
        },
        "9bc40acbf4d5401fbd28789bc211e679": {
          "model_module": "@jupyter-widgets/controls",
          "model_name": "HBoxModel",
          "model_module_version": "1.5.0",
          "state": {
            "_view_name": "HBoxView",
            "_dom_classes": [],
            "_model_name": "HBoxModel",
            "_view_module": "@jupyter-widgets/controls",
            "_model_module_version": "1.5.0",
            "_view_count": null,
            "_view_module_version": "1.5.0",
            "box_style": "",
            "layout": "IPY_MODEL_34fd7f77e194476fb6495c5adcd444da",
            "_model_module": "@jupyter-widgets/controls",
            "children": [
              "IPY_MODEL_bc582ab8060341069ae876fe3fb85d82",
              "IPY_MODEL_6da45ca8215e4e77b7228ba06485af8c",
              "IPY_MODEL_860787f3102e4ca082779913c5b8d20b"
            ]
          }
        },
        "34fd7f77e194476fb6495c5adcd444da": {
          "model_module": "@jupyter-widgets/base",
          "model_name": "LayoutModel",
          "model_module_version": "1.2.0",
          "state": {
            "_view_name": "LayoutView",
            "grid_template_rows": null,
            "right": null,
            "justify_content": null,
            "_view_module": "@jupyter-widgets/base",
            "overflow": null,
            "_model_module_version": "1.2.0",
            "_view_count": null,
            "flex_flow": null,
            "width": null,
            "min_width": null,
            "border": null,
            "align_items": null,
            "bottom": null,
            "_model_module": "@jupyter-widgets/base",
            "top": null,
            "grid_column": null,
            "overflow_y": null,
            "overflow_x": null,
            "grid_auto_flow": null,
            "grid_area": null,
            "grid_template_columns": null,
            "flex": null,
            "_model_name": "LayoutModel",
            "justify_items": null,
            "grid_row": null,
            "max_height": null,
            "align_content": null,
            "visibility": null,
            "align_self": null,
            "height": null,
            "min_height": null,
            "padding": null,
            "grid_auto_rows": null,
            "grid_gap": null,
            "max_width": null,
            "order": null,
            "_view_module_version": "1.2.0",
            "grid_template_areas": null,
            "object_position": null,
            "object_fit": null,
            "grid_auto_columns": null,
            "margin": null,
            "display": null,
            "left": null
          }
        },
        "bc582ab8060341069ae876fe3fb85d82": {
          "model_module": "@jupyter-widgets/controls",
          "model_name": "HTMLModel",
          "model_module_version": "1.5.0",
          "state": {
            "_view_name": "HTMLView",
            "style": "IPY_MODEL_39ba53e06efa4999b5def151c41b258c",
            "_dom_classes": [],
            "description": "",
            "_model_name": "HTMLModel",
            "placeholder": "​",
            "_view_module": "@jupyter-widgets/controls",
            "_model_module_version": "1.5.0",
            "value": "Export report to file: 100%",
            "_view_count": null,
            "_view_module_version": "1.5.0",
            "description_tooltip": null,
            "_model_module": "@jupyter-widgets/controls",
            "layout": "IPY_MODEL_9294fa0825be4a2380205b9b7a05fac4"
          }
        },
        "6da45ca8215e4e77b7228ba06485af8c": {
          "model_module": "@jupyter-widgets/controls",
          "model_name": "FloatProgressModel",
          "model_module_version": "1.5.0",
          "state": {
            "_view_name": "ProgressView",
            "style": "IPY_MODEL_5e563f04fbdb4c009f9611da34e04910",
            "_dom_classes": [],
            "description": "",
            "_model_name": "FloatProgressModel",
            "bar_style": "success",
            "max": 1,
            "_view_module": "@jupyter-widgets/controls",
            "_model_module_version": "1.5.0",
            "value": 1,
            "_view_count": null,
            "_view_module_version": "1.5.0",
            "orientation": "horizontal",
            "min": 0,
            "description_tooltip": null,
            "_model_module": "@jupyter-widgets/controls",
            "layout": "IPY_MODEL_fe7e6c88d64640c2bd567f527b1b20da"
          }
        },
        "860787f3102e4ca082779913c5b8d20b": {
          "model_module": "@jupyter-widgets/controls",
          "model_name": "HTMLModel",
          "model_module_version": "1.5.0",
          "state": {
            "_view_name": "HTMLView",
            "style": "IPY_MODEL_89f2f86fb5c14aaea70b6891a484e8da",
            "_dom_classes": [],
            "description": "",
            "_model_name": "HTMLModel",
            "placeholder": "​",
            "_view_module": "@jupyter-widgets/controls",
            "_model_module_version": "1.5.0",
            "value": " 1/1 [00:00&lt;00:00,  3.46it/s]",
            "_view_count": null,
            "_view_module_version": "1.5.0",
            "description_tooltip": null,
            "_model_module": "@jupyter-widgets/controls",
            "layout": "IPY_MODEL_62099cb886d94366a271ef3cc4985b2f"
          }
        },
        "39ba53e06efa4999b5def151c41b258c": {
          "model_module": "@jupyter-widgets/controls",
          "model_name": "DescriptionStyleModel",
          "model_module_version": "1.5.0",
          "state": {
            "_view_name": "StyleView",
            "_model_name": "DescriptionStyleModel",
            "description_width": "",
            "_view_module": "@jupyter-widgets/base",
            "_model_module_version": "1.5.0",
            "_view_count": null,
            "_view_module_version": "1.2.0",
            "_model_module": "@jupyter-widgets/controls"
          }
        },
        "9294fa0825be4a2380205b9b7a05fac4": {
          "model_module": "@jupyter-widgets/base",
          "model_name": "LayoutModel",
          "model_module_version": "1.2.0",
          "state": {
            "_view_name": "LayoutView",
            "grid_template_rows": null,
            "right": null,
            "justify_content": null,
            "_view_module": "@jupyter-widgets/base",
            "overflow": null,
            "_model_module_version": "1.2.0",
            "_view_count": null,
            "flex_flow": null,
            "width": null,
            "min_width": null,
            "border": null,
            "align_items": null,
            "bottom": null,
            "_model_module": "@jupyter-widgets/base",
            "top": null,
            "grid_column": null,
            "overflow_y": null,
            "overflow_x": null,
            "grid_auto_flow": null,
            "grid_area": null,
            "grid_template_columns": null,
            "flex": null,
            "_model_name": "LayoutModel",
            "justify_items": null,
            "grid_row": null,
            "max_height": null,
            "align_content": null,
            "visibility": null,
            "align_self": null,
            "height": null,
            "min_height": null,
            "padding": null,
            "grid_auto_rows": null,
            "grid_gap": null,
            "max_width": null,
            "order": null,
            "_view_module_version": "1.2.0",
            "grid_template_areas": null,
            "object_position": null,
            "object_fit": null,
            "grid_auto_columns": null,
            "margin": null,
            "display": null,
            "left": null
          }
        },
        "5e563f04fbdb4c009f9611da34e04910": {
          "model_module": "@jupyter-widgets/controls",
          "model_name": "ProgressStyleModel",
          "model_module_version": "1.5.0",
          "state": {
            "_view_name": "StyleView",
            "_model_name": "ProgressStyleModel",
            "description_width": "",
            "_view_module": "@jupyter-widgets/base",
            "_model_module_version": "1.5.0",
            "_view_count": null,
            "_view_module_version": "1.2.0",
            "bar_color": null,
            "_model_module": "@jupyter-widgets/controls"
          }
        },
        "fe7e6c88d64640c2bd567f527b1b20da": {
          "model_module": "@jupyter-widgets/base",
          "model_name": "LayoutModel",
          "model_module_version": "1.2.0",
          "state": {
            "_view_name": "LayoutView",
            "grid_template_rows": null,
            "right": null,
            "justify_content": null,
            "_view_module": "@jupyter-widgets/base",
            "overflow": null,
            "_model_module_version": "1.2.0",
            "_view_count": null,
            "flex_flow": null,
            "width": null,
            "min_width": null,
            "border": null,
            "align_items": null,
            "bottom": null,
            "_model_module": "@jupyter-widgets/base",
            "top": null,
            "grid_column": null,
            "overflow_y": null,
            "overflow_x": null,
            "grid_auto_flow": null,
            "grid_area": null,
            "grid_template_columns": null,
            "flex": null,
            "_model_name": "LayoutModel",
            "justify_items": null,
            "grid_row": null,
            "max_height": null,
            "align_content": null,
            "visibility": null,
            "align_self": null,
            "height": null,
            "min_height": null,
            "padding": null,
            "grid_auto_rows": null,
            "grid_gap": null,
            "max_width": null,
            "order": null,
            "_view_module_version": "1.2.0",
            "grid_template_areas": null,
            "object_position": null,
            "object_fit": null,
            "grid_auto_columns": null,
            "margin": null,
            "display": null,
            "left": null
          }
        },
        "89f2f86fb5c14aaea70b6891a484e8da": {
          "model_module": "@jupyter-widgets/controls",
          "model_name": "DescriptionStyleModel",
          "model_module_version": "1.5.0",
          "state": {
            "_view_name": "StyleView",
            "_model_name": "DescriptionStyleModel",
            "description_width": "",
            "_view_module": "@jupyter-widgets/base",
            "_model_module_version": "1.5.0",
            "_view_count": null,
            "_view_module_version": "1.2.0",
            "_model_module": "@jupyter-widgets/controls"
          }
        },
        "62099cb886d94366a271ef3cc4985b2f": {
          "model_module": "@jupyter-widgets/base",
          "model_name": "LayoutModel",
          "model_module_version": "1.2.0",
          "state": {
            "_view_name": "LayoutView",
            "grid_template_rows": null,
            "right": null,
            "justify_content": null,
            "_view_module": "@jupyter-widgets/base",
            "overflow": null,
            "_model_module_version": "1.2.0",
            "_view_count": null,
            "flex_flow": null,
            "width": null,
            "min_width": null,
            "border": null,
            "align_items": null,
            "bottom": null,
            "_model_module": "@jupyter-widgets/base",
            "top": null,
            "grid_column": null,
            "overflow_y": null,
            "overflow_x": null,
            "grid_auto_flow": null,
            "grid_area": null,
            "grid_template_columns": null,
            "flex": null,
            "_model_name": "LayoutModel",
            "justify_items": null,
            "grid_row": null,
            "max_height": null,
            "align_content": null,
            "visibility": null,
            "align_self": null,
            "height": null,
            "min_height": null,
            "padding": null,
            "grid_auto_rows": null,
            "grid_gap": null,
            "max_width": null,
            "order": null,
            "_view_module_version": "1.2.0",
            "grid_template_areas": null,
            "object_position": null,
            "object_fit": null,
            "grid_auto_columns": null,
            "margin": null,
            "display": null,
            "left": null
          }
        }
      }
    }
  },
  "cells": [
    {
      "cell_type": "markdown",
      "metadata": {
        "id": "view-in-github",
        "colab_type": "text"
      },
      "source": [
        "<a href=\"https://colab.research.google.com/github/SimonOuellet/saradsm2/blob/colab/Notebooks/kine-classifier-colab.ipynb\" target=\"_parent\"><img src=\"https://colab.research.google.com/assets/colab-badge.svg\" alt=\"Open In Colab\"/></a>"
      ]
    },
    {
      "cell_type": "code",
      "metadata": {
        "id": "cSKJUL6Cp6ox"
      },
      "source": [
        "!pip install pandas-profiling"
      ],
      "execution_count": null,
      "outputs": []
    },
    {
      "cell_type": "code",
      "metadata": {
        "id": "54Uvdz-pMitx"
      },
      "source": [
        "import pandas as pd\n",
        "import numpy as np\n",
        "import seaborn as sns\n",
        "import pandas_profiling\n",
        "import glob\n",
        "from matplotlib.colors import cnames\n",
        "from bokeh.plotting import figure, ColumnDataSource, show, output_notebook, output_file\n",
        "from bokeh.models import HoverTool\n",
        "from sklearn.preprocessing import StandardScaler\n",
        "from sklearn.preprocessing import RobustScaler\n",
        "from sklearn.decomposition import PCA\n",
        "from sklearn.preprocessing import Normalizer\n",
        "from sklearn.preprocessing import PowerTransformer\n",
        "from sklearn.manifold import TSNE\n",
        "import matplotlib.pyplot as plt\n",
        "from google.cloud import bigquery\n",
        "import csv\n",
        "import os\n",
        "import warnings\n",
        "warnings.filterwarnings(action='ignore')\n",
        "output_notebook()\n",
        "%matplotlib inline\n",
        "#%matplotlib widget\n",
        "from google.cloud import bigquery\n",
        "from google.colab import auth\n",
        "auth.authenticate_user()"
      ],
      "execution_count": 23,
      "outputs": []
    },
    {
      "cell_type": "markdown",
      "metadata": {
        "id": "AZ18SkAHMit0"
      },
      "source": [
        "# Étape I : Pré-analyse Features Engineering"
      ]
    },
    {
      "cell_type": "markdown",
      "metadata": {
        "id": "3Va-QsDQMit1"
      },
      "source": [
        "## Chargement des fontions"
      ]
    },
    {
      "cell_type": "code",
      "metadata": {
        "jupyter": {
          "source_hidden": true
        },
        "id": "3G3gZVVkMit2"
      },
      "source": [
        "font_size = 3\n",
        "def get_float_list(range_max:int, div:int=100) -> list:\n",
        "    \"\"\" To get 0 -> 1, range_max must be same order of mag as div \"\"\"\n",
        "    return [float(x)/div for x in range(int(range_max))]\n",
        "\n",
        "\n",
        "def get_colorcycle(colordict:dict):\n",
        "    \"\"\" Subset cnames with a string match and get a color cycle for plotting \"\"\"\n",
        "    return cycle(list(colordict.keys()))\n",
        "\n",
        "\n",
        "def get_colordict(filter_:str='dark') -> dict:\n",
        "    \"\"\" return dictionary of colornames by filter \"\"\"\n",
        "    return dict((k, v) for k, v in cnames.items() if filter_ in k)\n",
        "\n",
        "\n",
        "def pca_report_interactive(X, scale_X:bool=True, save_plot:bool=False):\n",
        "    \"\"\"\n",
        "    X:          input data matrix\n",
        "    scale_X:    determine whether to rescale X (StandardScaler) [default: True, X is not prescaled\n",
        "    save_plot:  save plot to file (html) and not show\n",
        "    \"\"\"\n",
        "\n",
        "    # calculate mean and var\n",
        "    X_mean, X_var = X.mean(), X.var()\n",
        "    print('\\n*--- PCA Report ---*\\n')\n",
        "    print(f'X mean:\\t\\t{X_mean:.3f}\\nX variance:\\t{X_var:.3f}')\n",
        "\n",
        "    if scale_X:\n",
        "        # rescale and run PCA\n",
        "        print(\"\\n...Rescaling data...\\n\")\n",
        "        scaler = StandardScaler()\n",
        "        X_scaled = scaler.fit_transform(X)\n",
        "        X_s_mean, X_s_var = X_scaled.mean(), X_scaled.var()\n",
        "        print(f'X_scaled mean:\\t\\t{np.round(X_s_mean):.3f}')\n",
        "        print(f'X_scaled variance:\\t{np.round(X_s_var):.3f}\\n')\n",
        "        pca_ = PCA().fit(X_scaled)\n",
        "        X_pca = PCA().fit_transform(X)\n",
        "    else:\n",
        "        # run PCA directly\n",
        "        print(\"...Assuming data is properly scaled...\")\n",
        "        pca_ = PCA().fit(X)\n",
        "        X_pca = PCA().fit_transform(X)\n",
        "            \n",
        "    # Get cumulative explained variance for each dimension\n",
        "    pca_evr = pca_.explained_variance_ratio_\n",
        "    cumsum_ = np.cumsum(pca_evr)\n",
        "    \n",
        "    # Get dimensions where var >= 95% and values for variance at 2D, 3D\n",
        "    dim_95 = np.argmax(cumsum_ >= 0.95) + 1\n",
        "    twoD = np.round(cumsum_[1], decimals=3)*100 \n",
        "    threeD = np.round(cumsum_[2], decimals=3)*100\n",
        "    instances_, dims_ =  X.shape\n",
        "    \n",
        "    # check shape of X\n",
        "    if dims_ > instances_:\n",
        "        print(\"WARNING: number of features greater than number of instances.\")\n",
        "        dimensions = list(range(1, instances_+1))\n",
        "    else:\n",
        "        dimensions = list(range(1, dims_+1))\n",
        "    \n",
        "    # Print report\n",
        "    print(\"\\n -- Summary --\")\n",
        "    print(f\"You can reduce from {dims_} to {dim_95} dimensions while retaining 95% of variance.\")\n",
        "    print(f\"2 principal components explain {twoD:.2f}% of variance.\")\n",
        "    print(f\"3 principal components explain {threeD:.2f}% of variance.\")\n",
        "    \n",
        "    \"\"\" - Plotting - \"\"\"\n",
        "    # Create custom HoverTool -- we'll name each ROC curve 'ROC' so we only see info on hover there\n",
        "    hover_ = HoverTool(names=['PCA'], tooltips=[(\"dimensions\", \"@x_dim\"), \n",
        "                                                (\"cumulative variance\", \"@y_cumvar\"),\n",
        "                                                (\"explained variance\", \"@y_var\")])\n",
        "    p_tools = [hover_, 'crosshair', 'zoom_in', 'zoom_out', 'save', 'reset', 'tap', 'box_zoom']\n",
        "\n",
        "    # insert 0 at beginning for cleaner plotting\n",
        "    cumsum_plot = np.insert(cumsum_, 0, 0) \n",
        "    pca_evr_plot = np.insert(pca_evr, 0, 0)\n",
        "    dimensions_plot = np.insert(dimensions, 0, 0)\n",
        "\n",
        "    \"\"\"\n",
        "    ColumnDataSource\n",
        "    - a special type in Bokeh that allows you to store data for plotting\n",
        "    - store data as dict (key:list)\n",
        "    - to plot two keys against one another, make sure they're the same length!\n",
        "    - below:\n",
        "        x_dim    # of dimensions (length = # of dimensions)\n",
        "        y_cumvar # cumulative variance (length = # of dimensions)\n",
        "        var_95   # y = 0.95 (length = # of dimensions)\n",
        "        zero_one # list of 0 to 1\n",
        "        twoD     # x = 2 \n",
        "        threeD   # x = 3 \n",
        "    \"\"\" \n",
        "    \n",
        "    # get sources\n",
        "    source_PCA = ColumnDataSource(data=dict(x_dim = dimensions_plot,y_cumvar = cumsum_plot, y_var = pca_evr_plot))    \n",
        "    source_var95 = ColumnDataSource(data=dict(var95_x = [dim_95]*96, var95_y = get_float_list(96)))\n",
        "    source_twoD = ColumnDataSource(data=dict(twoD_x = [2]*(int(twoD)+1), twoD_y = get_float_list(twoD+1)))\n",
        "    source_threeD = ColumnDataSource(data=dict(threeD_x = [3]*(int(threeD)+1), threeD_y = get_float_list(threeD+1)))\n",
        "\n",
        "    \"\"\" PLOT \"\"\"\n",
        "    # set up figure and add axis labels\n",
        "    p = figure(title='PCA Analysis', tools=p_tools)\n",
        "    p.xaxis.axis_label = f'N of {dims_} Principal Components' \n",
        "    p.yaxis.axis_label = 'Variance Explained (per PC & Cumulative)'\n",
        "    \n",
        "    # add reference lines: y=0.95, x=2, x=3\n",
        "    p.line('twoD_x', 'twoD_y', line_width=0.5, line_dash='dotted', color='#435363', source=source_twoD) # x=2\n",
        "    p.line('threeD_x', 'threeD_y', line_width=0.5, line_dash='dotted', color='#435363', source=source_threeD) # x=3\n",
        "    p.line('var95_x', 'var95_y', line_width=2, line_dash='dotted', color='#435363', source=source_var95) # var = 0.95\n",
        "\n",
        "    # add bar plot for variance per dimension\n",
        "    p.vbar(x='x_dim', top='y_var', width=.5, bottom=0, color='#D9F2EF', source=source_PCA, name='PCA')\n",
        "    \n",
        "    # add cumulative variance (scatter + line)\n",
        "    p.line('x_dim', 'y_cumvar', line_width=1, color='#F79737', source=source_PCA)\n",
        "    p.circle('x_dim', 'y_cumvar', size=7, color='#FF4C00', source=source_PCA, name='PCA')\n",
        "\n",
        "    # change gridlines\n",
        "    p.ygrid.grid_line_alpha = 0.25\n",
        "    p.xgrid.grid_line_alpha = 0.25\n",
        "\n",
        "    # change axis bounds and grid\n",
        "    p.xaxis.bounds = (0, dims_)\n",
        "    p.yaxis.bounds = (0, 1)\n",
        "    p.grid.bounds = (0, dims_)\n",
        "    \n",
        "    plt.rcParams.update({'font.size': font_size})\n",
        "    plt.rc('font', size=font_size)          # controls default text sizes\n",
        "    plt.rc('axes', titlesize=font_size)     # fontsize of the axes title\n",
        "    plt.rc('axes', labelsize=font_size)    # fontsize of the x and y labels\n",
        "    plt.rc('xtick', labelsize=font_size)    # fontsize of the tick labels\n",
        "    plt.rc('ytick', labelsize=font_size)    # fontsize of the tick labels\n",
        "    plt.rc('legend', fontsize=font_size)    # legend fontsize\n",
        "    plt.rc('figure', titlesize=font_size)  # fontsize of the figure title\n",
        "\n",
        "    # save and show p\n",
        "    if save_plot:\n",
        "        output_file('PCA_analysis.html')\n",
        "    show(p)\n",
        "        \n",
        "    # output PCA info as a dataframe\n",
        "    df_PCA = pd.DataFrame({'dimension': dimensions, 'variance_cumulative': cumsum_, 'variance': pca_evr}).set_index(['dimension'])\n",
        "        \n",
        "    return df_PCA, X_pca, pca_evr\n",
        "\n",
        "\n",
        "def pca_feature_correlation(X, X_pca, explained_var, features:list=None, fig_dpi:int=150, save_plot:bool=False):\n",
        "    \"\"\"\n",
        "    1. Get dot product of X and X_pca\n",
        "    2. Run normalizations of X*X_pca\n",
        "    3. Retrieve df/matrices\n",
        "\n",
        "    X:               data (numpy matrix)\n",
        "    X_pca:           PCA\n",
        "    explained_var:   explained variance matrix\n",
        "    features:        list of feature names\n",
        "    fig_dpi:         dpi to use for heatmaps\n",
        "    save_plot:       save plot to file (html) and not show\n",
        "    \"\"\"\n",
        "    \n",
        "    # Add zeroes for data where features > instances\n",
        "    outer_diff = X.T.shape[0] - X_pca.shape[1]\n",
        "    if outer_diff > 0: # outer dims must match to get sq matrix\n",
        "        Z = np.zeros([X_pca.shape[0], outer_diff])\n",
        "        X_pca = np.c_[X_pca, Z]\n",
        "        explained_var = np.append(explained_var, np.zeros(outer_diff))\n",
        "    \n",
        "    # Get correlation between original features (X) and PCs (X_pca)\n",
        "    dot_matrix = np.dot(X.T, X_pca)\n",
        "    print(f\"X*X_pca: {X.T.shape} * {X_pca.shape} = {dot_matrix.shape}\")\n",
        "    \n",
        "    # Correlation matrix -> df\n",
        "    df_dotproduct = pd.DataFrame(dot_matrix)\n",
        "    df_dotproduct.columns = [''.join(['PC', f'{i+1}']) for i in range(dot_matrix.shape[0])]\n",
        "    if any(features): df_dotproduct.index = features    \n",
        "    \n",
        "    # Normalize & Sort\n",
        "    df_n, df_na, df_nabv = normalize_dataframe(df_dotproduct, explained_var, plot_opt=True, save_plot=save_plot)\n",
        "    \n",
        "    return df_dotproduct, df_n, df_na, df_nabv\n",
        "\n",
        "\n",
        "def normalize_dataframe(df, explained_var=None, fig_dpi:int=150, plot_opt:bool=True, save_plot:bool=False):\n",
        "    \"\"\"\n",
        "    1. Get z-normalized df (normalized to µ=0, σ=1)\n",
        "    2. Get absolute value of z-normalized df\n",
        "    3. If explained_variance matrix provided, dot it w/ (2)\n",
        "    \"\"\"\n",
        "    # Normalize, Reindex, & Sort\n",
        "    df_norm = (df.copy()-df.mean())/df.std()\n",
        "    df_norm = df_norm.sort_values(list(df_norm.columns), ascending=False)\n",
        "    \n",
        "    # Absolute value of normalized (& sort)\n",
        "    df_abs = df_norm.copy().abs().set_index(df_norm.index)\n",
        "    df_abs = df_abs.sort_values(by=list(df_abs.columns), ascending=False)\n",
        "    \n",
        "    # Plot\n",
        "    if plot_opt:\n",
        "        # Z-normalized corr matrix\n",
        "        plt.figure(dpi=fig_dpi)\n",
        "        ax_normal = sns.heatmap(df_norm, cmap=\"RdBu\")\n",
        "        ax_normal.set_title(\"Z-Normalized Data\")\n",
        "        plt.rcParams.update({'font.size': font_size})\n",
        "        plt.rc('font', size=font_size)          # controls default text sizes\n",
        "        plt.rc('axes', titlesize=font_size)     # fontsize of the axes title\n",
        "        plt.rc('axes', labelsize=font_size)    # fontsize of the x and y labels\n",
        "        plt.rc('xtick', labelsize=font_size)    # fontsize of the tick labels\n",
        "        plt.rc('ytick', labelsize=font_size)    # fontsize of the tick labels\n",
        "        plt.rc('legend', fontsize=font_size)    # legend fontsize\n",
        "        plt.rc('figure', titlesize=font_size)  # fontsize of the figure title\n",
        "        if save_plot:\n",
        "            plt.savefig('Z_normalized_corr_matrix.png')\n",
        "        else:\n",
        "            plt.show()\n",
        "\n",
        "        # |Z-normalized corr matrix|  \n",
        "        plt.figure(dpi=fig_dpi)\n",
        "        ax_abs = sns.heatmap(df_abs, cmap=\"Purples\")\n",
        "        ax_abs.set_title(\"|Z-Normalized|\")\n",
        "        plt.rcParams.update({'font.size': font_size})\n",
        "        if save_plot:\n",
        "            plt.savefig('Z_normalized_corr_matrix_Abs.png')\n",
        "        else:\n",
        "            plt.show()\n",
        "        \n",
        "    # Re-normalize by explained var (& sort)\n",
        "    if explained_var.any():\n",
        "        df_byvar = df_abs.copy()*explained_var\n",
        "        df_byvar = df_byvar.sort_values(by=list(df_norm.columns), ascending=False)\n",
        "        if plot_opt:\n",
        "            plt.figure(dpi=fig_dpi)\n",
        "            ax_relative = sns.heatmap(df_byvar, cmap=\"Purples\")\n",
        "            ax_relative.set_title(\"|Z-Normalized|*Explained_Variance\")\n",
        "            plt.rcParams.update({'font.size': font_size})\n",
        "            if save_plot:\n",
        "                plt.savefig('Normalized_corr_matrix.png')\n",
        "            else:\n",
        "                plt.show()\n",
        "    else:\n",
        "        df_byvar = None\n",
        "    return df_norm, df_abs, df_byvar\n",
        "\n",
        "\n",
        "def pca_rank_features(df_nabv, verbose:bool=True):\n",
        "    \"\"\"\n",
        "    Given a dataframe df_nabv with dimensions [f, p], where:\n",
        "        f = features (sorted)\n",
        "        p = principal components\n",
        "        df_nabv.values are |Z-normalized X|*pca_.explained_variance_ratio_\n",
        "        \n",
        "    1. Create column of sum of each row, sort by it 'score_'\n",
        "    3. Set index as 'rank'\n",
        "    \"\"\"\n",
        "    df_rank = df_nabv.copy().assign(score_ = df_nabv.sum(axis=1)).sort_values('score_', ascending=False)\n",
        "    df_rank['feature_'] = df_rank.index\n",
        "    df_rank.index = range(1, len(df_rank)+1)\n",
        "    df_rank.drop(df_nabv.columns, axis=1, inplace=True)\n",
        "    df_rank.index.rename('rank', inplace=True)\n",
        "    if verbose: print(df_rank)\n",
        "    return df_rank\n",
        "\n",
        "\n",
        "def pca_full_report(X, features_:list=None, fig_dpi:int=150, save_plot:bool=False):\n",
        "    \"\"\"\n",
        "    Run complete PCA workflow:\n",
        "        1. pca_report_interactive()\n",
        "        2. pca_feature_correlation()\n",
        "        3. pca_rank_features()\n",
        "        \n",
        "    X:            data (numpy array)\n",
        "    features_:    list of feature names\n",
        "    fig_dpi:      image resolution\n",
        "    \n",
        "    \"\"\"\n",
        "    # Retrieve the interactive report\n",
        "    df_pca, X_pca, pca_evr = pca_report_interactive(X, save_plot=save_plot)\n",
        "    # Get feature-PC correlation matrices\n",
        "    df_corr, df_n, df_na, df_nabv = pca_feature_correlation(X, X_pca, pca_evr, features_, fig_dpi, save_plot) \n",
        "    # Get rank for each feature\n",
        "    df_rank = pca_rank_features(df_nabv)\n",
        "    return (df_pca, X_pca, pca_evr, df_corr, df_n, df_na, df_nabv, df_rank)"
      ],
      "execution_count": 24,
      "outputs": []
    },
    {
      "cell_type": "markdown",
      "metadata": {
        "id": "BnMFQFerMit7"
      },
      "source": [
        "## Chargement des données"
      ]
    },
    {
      "cell_type": "code",
      "metadata": {
        "id": "q7Qpb9L_ViZY"
      },
      "source": [
        "import os\n",
        "directory = \"data\"\n",
        "try:\n",
        "    os.stat(directory)\n",
        "except:\n",
        "    os.mkdir(directory)\n",
        "directory = \"data/damir\"\n",
        "try:\n",
        "    os.stat(directory)\n",
        "except:\n",
        "    os.mkdir(directory)"
      ],
      "execution_count": 1,
      "outputs": []
    },
    {
      "cell_type": "code",
      "metadata": {
        "colab": {
          "base_uri": "https://localhost:8080/"
        },
        "id": "zkRj4ixq1r1_",
        "outputId": "63d1be07-f3db-43ef-cb0d-99784fbd6e16"
      },
      "source": [
        "!gsutil -m cp -r gs://gleeph_eda_hot_eur4/public/damir ./data/"
      ],
      "execution_count": 4,
      "outputs": [
        {
          "output_type": "stream",
          "name": "stdout",
          "text": [
            "Copying gs://gleeph_eda_hot_eur4/public/damir/damir_201912-000000000000.parquet...\n",
            "/ [0/35 files][    0.0 B/  6.2 GiB]   0% Done                                   \rCopying gs://gleeph_eda_hot_eur4/public/damir/damir_201912-000000000000.csv...\n",
            "/ [0/35 files][    0.0 B/  6.2 GiB]   0% Done                                   \rCopying gs://gleeph_eda_hot_eur4/public/damir/damir_201912-000000000002.parquet...\n",
            "/ [0/35 files][    0.0 B/  6.2 GiB]   0% Done                                   \rCopying gs://gleeph_eda_hot_eur4/public/damir/damir_201912-000000000004.parquet...\n",
            "/ [0/35 files][    0.0 B/  6.2 GiB]   0% Done                                   \rCopying gs://gleeph_eda_hot_eur4/public/damir/damir_201912-000000000003.csv...\n",
            "/ [0/35 files][    0.0 B/  6.2 GiB]   0% Done                                   \rCopying gs://gleeph_eda_hot_eur4/public/damir/damir_201912-000000000001.csv...\n",
            "/ [0/35 files][    0.0 B/  6.2 GiB]   0% Done                                   \rCopying gs://gleeph_eda_hot_eur4/public/damir/damir_201912-000000000002.csv...\n",
            "/ [0/35 files][    0.0 B/  6.2 GiB]   0% Done                                   \rCopying gs://gleeph_eda_hot_eur4/public/damir/damir_201912-000000000003.parquet...\n",
            "/ [0/35 files][    0.0 B/  6.2 GiB]   0% Done                                   \rCopying gs://gleeph_eda_hot_eur4/public/damir/damir_201912-000000000009.parquet...\n",
            "/ [0/35 files][    0.0 B/  6.2 GiB]   0% Done                                   \rCopying gs://gleeph_eda_hot_eur4/public/damir/damir_201912-000000000005.csv...\n",
            "/ [0/35 files][    0.0 B/  6.2 GiB]   0% Done                                   \rCopying gs://gleeph_eda_hot_eur4/public/damir/damir_201912-000000000007.csv...\n",
            "/ [0/35 files][    0.0 B/  6.2 GiB]   0% Done                                   \rCopying gs://gleeph_eda_hot_eur4/public/damir/damir_201912-000000000001.parquet...\n",
            "Copying gs://gleeph_eda_hot_eur4/public/damir/damir_201912-000000000004.csv...\n",
            "Copying gs://gleeph_eda_hot_eur4/public/damir/damir_201912-000000000006.csv...\n",
            "Copying gs://gleeph_eda_hot_eur4/public/damir/damir_201912-000000000005.parquet...\n",
            "/ [0/35 files][    0.0 B/  6.2 GiB]   0% Done                                   \rCopying gs://gleeph_eda_hot_eur4/public/damir/damir_201912-000000000008.csv...\n",
            "/ [0/35 files][    0.0 B/  6.2 GiB]   0% Done                                   \rCopying gs://gleeph_eda_hot_eur4/public/damir/damir_201912-000000000006.parquet...\n",
            "/ [0/35 files][    0.0 B/  6.2 GiB]   0% Done                                   \rCopying gs://gleeph_eda_hot_eur4/public/damir/damir_201912-000000000007.parquet...\n",
            "/ [0/35 files][    0.0 B/  6.2 GiB]   0% Done                                   \r/ [0/35 files][    0.0 B/  6.2 GiB]   0% Done                                   \r/ [0/35 files][    0.0 B/  6.2 GiB]   0% Done                                   \rCopying gs://gleeph_eda_hot_eur4/public/damir/damir_201912-000000000009.csv...\n",
            "Copying gs://gleeph_eda_hot_eur4/public/damir/damir_201912-000000000008.parquet...\n",
            "Copying gs://gleeph_eda_hot_eur4/public/damir/damir_201912-000000000010.csv...\n",
            "Copying gs://gleeph_eda_hot_eur4/public/damir/damir_201912-000000000010.parquet...\n",
            "Copying gs://gleeph_eda_hot_eur4/public/damir/damir_201912-000000000011.csv...\n",
            "Copying gs://gleeph_eda_hot_eur4/public/damir/damir_201912-000000000011.parquet...\n",
            "Copying gs://gleeph_eda_hot_eur4/public/damir/damir_201912-000000000012.csv...\n",
            "Copying gs://gleeph_eda_hot_eur4/public/damir/damir_201912-000000000012.parquet...\n",
            "Copying gs://gleeph_eda_hot_eur4/public/damir/damir_201912-000000000013.csv...\n",
            "Copying gs://gleeph_eda_hot_eur4/public/damir/damir_201912-000000000013.parquet...\n",
            "Copying gs://gleeph_eda_hot_eur4/public/damir/damir_201912-000000000014.csv...\n",
            "Copying gs://gleeph_eda_hot_eur4/public/damir/damir_201912-000000000014.parquet...\n",
            "Copying gs://gleeph_eda_hot_eur4/public/damir/damir_201912-000000000015.csv...\n",
            "Copying gs://gleeph_eda_hot_eur4/public/damir/damir_201912-000000000015.parquet...\n",
            "Copying gs://gleeph_eda_hot_eur4/public/damir/damir_201912-000000000016.csv...\n",
            "Copying gs://gleeph_eda_hot_eur4/public/damir/damir_201912-000000000016.parquet...\n"
          ]
        }
      ]
    },
    {
      "cell_type": "code",
      "metadata": {
        "colab": {
          "base_uri": "https://localhost:8080/"
        },
        "id": "NSHXsuw40rU3",
        "outputId": "19ce8a36-dcde-495b-e1ea-7b6fee37910b"
      },
      "source": [
        "!ls ./data/damir"
      ],
      "execution_count": 4,
      "outputs": [
        {
          "output_type": "stream",
          "name": "stdout",
          "text": [
            "damir_201912-000000000000.csv\t   damir_201912-000000000008.parquet\n",
            "damir_201912-000000000000.parquet  damir_201912-000000000009.csv\n",
            "damir_201912-000000000001.csv\t   damir_201912-000000000009.parquet\n",
            "damir_201912-000000000001.parquet  damir_201912-000000000010.csv\n",
            "damir_201912-000000000002.csv\t   damir_201912-000000000010.parquet\n",
            "damir_201912-000000000002.parquet  damir_201912-000000000011.csv\n",
            "damir_201912-000000000003.csv\t   damir_201912-000000000011.parquet\n",
            "damir_201912-000000000003.parquet  damir_201912-000000000012.csv\n",
            "damir_201912-000000000004.csv\t   damir_201912-000000000012.parquet\n",
            "damir_201912-000000000004.parquet  damir_201912-000000000013.csv\n",
            "damir_201912-000000000005.csv\t   damir_201912-000000000013.parquet\n",
            "damir_201912-000000000005.parquet  damir_201912-000000000014.csv\n",
            "damir_201912-000000000006.csv\t   damir_201912-000000000014.parquet\n",
            "damir_201912-000000000006.parquet  damir_201912-000000000015.csv\n",
            "damir_201912-000000000007.csv\t   damir_201912-000000000015.parquet\n",
            "damir_201912-000000000007.parquet  damir_201912-000000000016.csv\n",
            "damir_201912-000000000008.csv\t   damir_201912-000000000016.parquet\n"
          ]
        }
      ]
    },
    {
      "cell_type": "code",
      "metadata": {
        "id": "p6hxgRVs3MUb"
      },
      "source": [
        "#kine = pd.concat(map(pd.read_parquet(encoding='utf-8'), glob.glob('damir/*.csv')))\n",
        "from pathlib import Path\n",
        "data_dir = Path('./data/damir/')\n",
        "kine = pd.concat(\n",
        "    pd.read_parquet(parquet_file,  )\n",
        "    for parquet_file in data_dir.glob('*0.parquet')\n",
        ")"
      ],
      "execution_count": 5,
      "outputs": []
    },
    {
      "cell_type": "code",
      "metadata": {
        "id": "fSap7K08aU8b"
      },
      "source": [
        "kine = kine[0:10000]"
      ],
      "execution_count": 29,
      "outputs": []
    },
    {
      "cell_type": "code",
      "metadata": {
        "id": "slZY4lOU34ZU"
      },
      "source": [
        "dirpath = 'damir/'   # your directory path\n",
        "kine = pd.concat([pd.read_csv(os.path.join(dirpath, fname), encoding='ISO-8859–1')\n",
        "                for fname in os.listdir(dirpath)], ignore_index=True)"
      ],
      "execution_count": null,
      "outputs": []
    },
    {
      "cell_type": "code",
      "metadata": {
        "id": "GjLlP0ECMit8"
      },
      "source": [
        "#%%bigquery --project prod-gleeph-eda  kine\n",
        "#select * FROM `prod-gleeph-eda.prod.damir_122019` as damir where prs_nat = 3125;"
      ],
      "execution_count": null,
      "outputs": []
    },
    {
      "cell_type": "code",
      "metadata": {
        "id": "b7JjPldhMit9"
      },
      "source": [
        "kine.to_csv('data/damir/kine.csv',quoting=csv.QUOTE_NONNUMERIC,index=False)"
      ],
      "execution_count": 30,
      "outputs": []
    },
    {
      "cell_type": "code",
      "metadata": {
        "colab": {
          "base_uri": "https://localhost:8080/",
          "height": 307
        },
        "id": "ppUCVH91Mit9",
        "outputId": "3bb8af7c-e382-4205-8533-18cebad34eca"
      },
      "source": [
        "kine.drop(['FLX_ANN_MOI','string_field_55'], axis=1, inplace=True)"
      ],
      "execution_count": 31,
      "outputs": [
        {
          "output_type": "error",
          "ename": "KeyError",
          "evalue": "ignored",
          "traceback": [
            "\u001b[0;31m---------------------------------------------------------------------------\u001b[0m",
            "\u001b[0;31mKeyError\u001b[0m                                  Traceback (most recent call last)",
            "\u001b[0;32m<ipython-input-31-a961fb691a27>\u001b[0m in \u001b[0;36m<module>\u001b[0;34m()\u001b[0m\n\u001b[0;32m----> 1\u001b[0;31m \u001b[0mkine\u001b[0m\u001b[0;34m.\u001b[0m\u001b[0mdrop\u001b[0m\u001b[0;34m(\u001b[0m\u001b[0;34m[\u001b[0m\u001b[0;34m'FLX_ANN_MOI'\u001b[0m\u001b[0;34m,\u001b[0m\u001b[0;34m'string_field_55'\u001b[0m\u001b[0;34m]\u001b[0m\u001b[0;34m,\u001b[0m \u001b[0maxis\u001b[0m\u001b[0;34m=\u001b[0m\u001b[0;36m1\u001b[0m\u001b[0;34m,\u001b[0m \u001b[0minplace\u001b[0m\u001b[0;34m=\u001b[0m\u001b[0;32mTrue\u001b[0m\u001b[0;34m)\u001b[0m\u001b[0;34m\u001b[0m\u001b[0;34m\u001b[0m\u001b[0m\n\u001b[0m",
            "\u001b[0;32m/usr/local/lib/python3.7/dist-packages/pandas/core/frame.py\u001b[0m in \u001b[0;36mdrop\u001b[0;34m(self, labels, axis, index, columns, level, inplace, errors)\u001b[0m\n\u001b[1;32m   4172\u001b[0m             \u001b[0mlevel\u001b[0m\u001b[0;34m=\u001b[0m\u001b[0mlevel\u001b[0m\u001b[0;34m,\u001b[0m\u001b[0;34m\u001b[0m\u001b[0;34m\u001b[0m\u001b[0m\n\u001b[1;32m   4173\u001b[0m             \u001b[0minplace\u001b[0m\u001b[0;34m=\u001b[0m\u001b[0minplace\u001b[0m\u001b[0;34m,\u001b[0m\u001b[0;34m\u001b[0m\u001b[0;34m\u001b[0m\u001b[0m\n\u001b[0;32m-> 4174\u001b[0;31m             \u001b[0merrors\u001b[0m\u001b[0;34m=\u001b[0m\u001b[0merrors\u001b[0m\u001b[0;34m,\u001b[0m\u001b[0;34m\u001b[0m\u001b[0;34m\u001b[0m\u001b[0m\n\u001b[0m\u001b[1;32m   4175\u001b[0m         )\n\u001b[1;32m   4176\u001b[0m \u001b[0;34m\u001b[0m\u001b[0m\n",
            "\u001b[0;32m/usr/local/lib/python3.7/dist-packages/pandas/core/generic.py\u001b[0m in \u001b[0;36mdrop\u001b[0;34m(self, labels, axis, index, columns, level, inplace, errors)\u001b[0m\n\u001b[1;32m   3887\u001b[0m         \u001b[0;32mfor\u001b[0m \u001b[0maxis\u001b[0m\u001b[0;34m,\u001b[0m \u001b[0mlabels\u001b[0m \u001b[0;32min\u001b[0m \u001b[0maxes\u001b[0m\u001b[0;34m.\u001b[0m\u001b[0mitems\u001b[0m\u001b[0;34m(\u001b[0m\u001b[0;34m)\u001b[0m\u001b[0;34m:\u001b[0m\u001b[0;34m\u001b[0m\u001b[0;34m\u001b[0m\u001b[0m\n\u001b[1;32m   3888\u001b[0m             \u001b[0;32mif\u001b[0m \u001b[0mlabels\u001b[0m \u001b[0;32mis\u001b[0m \u001b[0;32mnot\u001b[0m \u001b[0;32mNone\u001b[0m\u001b[0;34m:\u001b[0m\u001b[0;34m\u001b[0m\u001b[0;34m\u001b[0m\u001b[0m\n\u001b[0;32m-> 3889\u001b[0;31m                 \u001b[0mobj\u001b[0m \u001b[0;34m=\u001b[0m \u001b[0mobj\u001b[0m\u001b[0;34m.\u001b[0m\u001b[0m_drop_axis\u001b[0m\u001b[0;34m(\u001b[0m\u001b[0mlabels\u001b[0m\u001b[0;34m,\u001b[0m \u001b[0maxis\u001b[0m\u001b[0;34m,\u001b[0m \u001b[0mlevel\u001b[0m\u001b[0;34m=\u001b[0m\u001b[0mlevel\u001b[0m\u001b[0;34m,\u001b[0m \u001b[0merrors\u001b[0m\u001b[0;34m=\u001b[0m\u001b[0merrors\u001b[0m\u001b[0;34m)\u001b[0m\u001b[0;34m\u001b[0m\u001b[0;34m\u001b[0m\u001b[0m\n\u001b[0m\u001b[1;32m   3890\u001b[0m \u001b[0;34m\u001b[0m\u001b[0m\n\u001b[1;32m   3891\u001b[0m         \u001b[0;32mif\u001b[0m \u001b[0minplace\u001b[0m\u001b[0;34m:\u001b[0m\u001b[0;34m\u001b[0m\u001b[0;34m\u001b[0m\u001b[0m\n",
            "\u001b[0;32m/usr/local/lib/python3.7/dist-packages/pandas/core/generic.py\u001b[0m in \u001b[0;36m_drop_axis\u001b[0;34m(self, labels, axis, level, errors)\u001b[0m\n\u001b[1;32m   3921\u001b[0m                 \u001b[0mnew_axis\u001b[0m \u001b[0;34m=\u001b[0m \u001b[0maxis\u001b[0m\u001b[0;34m.\u001b[0m\u001b[0mdrop\u001b[0m\u001b[0;34m(\u001b[0m\u001b[0mlabels\u001b[0m\u001b[0;34m,\u001b[0m \u001b[0mlevel\u001b[0m\u001b[0;34m=\u001b[0m\u001b[0mlevel\u001b[0m\u001b[0;34m,\u001b[0m \u001b[0merrors\u001b[0m\u001b[0;34m=\u001b[0m\u001b[0merrors\u001b[0m\u001b[0;34m)\u001b[0m\u001b[0;34m\u001b[0m\u001b[0;34m\u001b[0m\u001b[0m\n\u001b[1;32m   3922\u001b[0m             \u001b[0;32melse\u001b[0m\u001b[0;34m:\u001b[0m\u001b[0;34m\u001b[0m\u001b[0;34m\u001b[0m\u001b[0m\n\u001b[0;32m-> 3923\u001b[0;31m                 \u001b[0mnew_axis\u001b[0m \u001b[0;34m=\u001b[0m \u001b[0maxis\u001b[0m\u001b[0;34m.\u001b[0m\u001b[0mdrop\u001b[0m\u001b[0;34m(\u001b[0m\u001b[0mlabels\u001b[0m\u001b[0;34m,\u001b[0m \u001b[0merrors\u001b[0m\u001b[0;34m=\u001b[0m\u001b[0merrors\u001b[0m\u001b[0;34m)\u001b[0m\u001b[0;34m\u001b[0m\u001b[0;34m\u001b[0m\u001b[0m\n\u001b[0m\u001b[1;32m   3924\u001b[0m             \u001b[0mresult\u001b[0m \u001b[0;34m=\u001b[0m \u001b[0mself\u001b[0m\u001b[0;34m.\u001b[0m\u001b[0mreindex\u001b[0m\u001b[0;34m(\u001b[0m\u001b[0;34m**\u001b[0m\u001b[0;34m{\u001b[0m\u001b[0maxis_name\u001b[0m\u001b[0;34m:\u001b[0m \u001b[0mnew_axis\u001b[0m\u001b[0;34m}\u001b[0m\u001b[0;34m)\u001b[0m\u001b[0;34m\u001b[0m\u001b[0;34m\u001b[0m\u001b[0m\n\u001b[1;32m   3925\u001b[0m \u001b[0;34m\u001b[0m\u001b[0m\n",
            "\u001b[0;32m/usr/local/lib/python3.7/dist-packages/pandas/core/indexes/base.py\u001b[0m in \u001b[0;36mdrop\u001b[0;34m(self, labels, errors)\u001b[0m\n\u001b[1;32m   5285\u001b[0m         \u001b[0;32mif\u001b[0m \u001b[0mmask\u001b[0m\u001b[0;34m.\u001b[0m\u001b[0many\u001b[0m\u001b[0;34m(\u001b[0m\u001b[0;34m)\u001b[0m\u001b[0;34m:\u001b[0m\u001b[0;34m\u001b[0m\u001b[0;34m\u001b[0m\u001b[0m\n\u001b[1;32m   5286\u001b[0m             \u001b[0;32mif\u001b[0m \u001b[0merrors\u001b[0m \u001b[0;34m!=\u001b[0m \u001b[0;34m\"ignore\"\u001b[0m\u001b[0;34m:\u001b[0m\u001b[0;34m\u001b[0m\u001b[0;34m\u001b[0m\u001b[0m\n\u001b[0;32m-> 5287\u001b[0;31m                 \u001b[0;32mraise\u001b[0m \u001b[0mKeyError\u001b[0m\u001b[0;34m(\u001b[0m\u001b[0;34mf\"{labels[mask]} not found in axis\"\u001b[0m\u001b[0;34m)\u001b[0m\u001b[0;34m\u001b[0m\u001b[0;34m\u001b[0m\u001b[0m\n\u001b[0m\u001b[1;32m   5288\u001b[0m             \u001b[0mindexer\u001b[0m \u001b[0;34m=\u001b[0m \u001b[0mindexer\u001b[0m\u001b[0;34m[\u001b[0m\u001b[0;34m~\u001b[0m\u001b[0mmask\u001b[0m\u001b[0;34m]\u001b[0m\u001b[0;34m\u001b[0m\u001b[0;34m\u001b[0m\u001b[0m\n\u001b[1;32m   5289\u001b[0m         \u001b[0;32mreturn\u001b[0m \u001b[0mself\u001b[0m\u001b[0;34m.\u001b[0m\u001b[0mdelete\u001b[0m\u001b[0;34m(\u001b[0m\u001b[0mindexer\u001b[0m\u001b[0;34m)\u001b[0m\u001b[0;34m\u001b[0m\u001b[0;34m\u001b[0m\u001b[0m\n",
            "\u001b[0;31mKeyError\u001b[0m: \"['FLX_ANN_MOI' 'string_field_55'] not found in axis\""
          ]
        }
      ]
    },
    {
      "cell_type": "code",
      "metadata": {
        "colab": {
          "base_uri": "https://localhost:8080/",
          "height": 224
        },
        "id": "D9NVHtrkMit-",
        "outputId": "6bf5c3c7-9d8a-4653-deff-fa8c07e2c7eb"
      },
      "source": [
        "kine.head(5)"
      ],
      "execution_count": 32,
      "outputs": [
        {
          "output_type": "execute_result",
          "data": {
            "text/html": [
              "<div>\n",
              "<style scoped>\n",
              "    .dataframe tbody tr th:only-of-type {\n",
              "        vertical-align: middle;\n",
              "    }\n",
              "\n",
              "    .dataframe tbody tr th {\n",
              "        vertical-align: top;\n",
              "    }\n",
              "\n",
              "    .dataframe thead th {\n",
              "        text-align: right;\n",
              "    }\n",
              "</style>\n",
              "<table border=\"1\" class=\"dataframe\">\n",
              "  <thead>\n",
              "    <tr style=\"text-align: right;\">\n",
              "      <th></th>\n",
              "      <th>ORG_CLE_REG</th>\n",
              "      <th>AGE_BEN_SNDS</th>\n",
              "      <th>BEN_RES_REG</th>\n",
              "      <th>BEN_CMU_TOP</th>\n",
              "      <th>BEN_QLT_COD</th>\n",
              "      <th>BEN_SEX_COD</th>\n",
              "      <th>DDP_SPE_COD</th>\n",
              "      <th>ETE_CAT_SNDS</th>\n",
              "      <th>ETE_REG_COD</th>\n",
              "      <th>ETE_TYP_SNDS</th>\n",
              "      <th>ETP_REG_COD</th>\n",
              "      <th>ETP_CAT_SNDS</th>\n",
              "      <th>MDT_TYP_COD</th>\n",
              "      <th>MFT_COD</th>\n",
              "      <th>PRS_FJH_TYP</th>\n",
              "      <th>PRS_ACT_COG</th>\n",
              "      <th>PRS_ACT_NBR</th>\n",
              "      <th>PRS_ACT_QTE</th>\n",
              "      <th>PRS_DEP_MNT</th>\n",
              "      <th>PRS_PAI_MNT</th>\n",
              "      <th>PRS_REM_BSE</th>\n",
              "      <th>PRS_REM_MNT</th>\n",
              "      <th>FLT_ACT_COG</th>\n",
              "      <th>FLT_ACT_NBR</th>\n",
              "      <th>FLT_ACT_QTE</th>\n",
              "      <th>FLT_PAI_MNT</th>\n",
              "      <th>FLT_DEP_MNT</th>\n",
              "      <th>FLT_REM_MNT</th>\n",
              "      <th>SOI_ANN</th>\n",
              "      <th>SOI_MOI</th>\n",
              "      <th>ASU_NAT</th>\n",
              "      <th>ATT_NAT</th>\n",
              "      <th>CPL_COD</th>\n",
              "      <th>CPT_ENV_TYP</th>\n",
              "      <th>DRG_AFF_NAT</th>\n",
              "      <th>ETE_IND_TAA</th>\n",
              "      <th>EXO_MTF</th>\n",
              "      <th>MTM_NAT</th>\n",
              "      <th>PRS_NAT</th>\n",
              "      <th>PRS_PPU_SEC</th>\n",
              "      <th>PRS_REM_TAU</th>\n",
              "      <th>PRS_REM_TYP</th>\n",
              "      <th>PRS_PDS_QCP</th>\n",
              "      <th>EXE_INS_REG</th>\n",
              "      <th>PSE_ACT_SNDS</th>\n",
              "      <th>PSE_ACT_CAT</th>\n",
              "      <th>PSE_SPE_SNDS</th>\n",
              "      <th>PSE_STJ_SNDS</th>\n",
              "      <th>PRE_INS_REG</th>\n",
              "      <th>PSP_ACT_SNDS</th>\n",
              "      <th>PSP_ACT_CAT</th>\n",
              "      <th>PSP_SPE_SNDS</th>\n",
              "      <th>PSP_STJ_SNDS</th>\n",
              "      <th>TOP_PS5_TRG</th>\n",
              "    </tr>\n",
              "  </thead>\n",
              "  <tbody>\n",
              "    <tr>\n",
              "      <th>0</th>\n",
              "      <td>76</td>\n",
              "      <td>50</td>\n",
              "      <td>99</td>\n",
              "      <td>0</td>\n",
              "      <td>1</td>\n",
              "      <td>1</td>\n",
              "      <td>121</td>\n",
              "      <td>9999</td>\n",
              "      <td>99</td>\n",
              "      <td>99</td>\n",
              "      <td>99</td>\n",
              "      <td>9999</td>\n",
              "      <td>9</td>\n",
              "      <td>99</td>\n",
              "      <td>0</td>\n",
              "      <td>0.0</td>\n",
              "      <td>-149.0</td>\n",
              "      <td>-149</td>\n",
              "      <td>0.0</td>\n",
              "      <td>0.00</td>\n",
              "      <td>0.00</td>\n",
              "      <td>-4464.48</td>\n",
              "      <td>0.0</td>\n",
              "      <td>-149.0</td>\n",
              "      <td>-149</td>\n",
              "      <td>0.00</td>\n",
              "      <td>0.0</td>\n",
              "      <td>-4464.48</td>\n",
              "      <td>2019</td>\n",
              "      <td>8</td>\n",
              "      <td>10</td>\n",
              "      <td>0</td>\n",
              "      <td>0</td>\n",
              "      <td>1</td>\n",
              "      <td>11</td>\n",
              "      <td>9</td>\n",
              "      <td>41</td>\n",
              "      <td>0</td>\n",
              "      <td>6112</td>\n",
              "      <td>2</td>\n",
              "      <td>0.0</td>\n",
              "      <td>0</td>\n",
              "      <td>0</td>\n",
              "      <td>99</td>\n",
              "      <td>0</td>\n",
              "      <td>99</td>\n",
              "      <td>0</td>\n",
              "      <td>9</td>\n",
              "      <td>76</td>\n",
              "      <td>0</td>\n",
              "      <td>1</td>\n",
              "      <td>1</td>\n",
              "      <td>1</td>\n",
              "      <td>1</td>\n",
              "    </tr>\n",
              "    <tr>\n",
              "      <th>1</th>\n",
              "      <td>76</td>\n",
              "      <td>80</td>\n",
              "      <td>76</td>\n",
              "      <td>0</td>\n",
              "      <td>1</td>\n",
              "      <td>2</td>\n",
              "      <td>121</td>\n",
              "      <td>9999</td>\n",
              "      <td>99</td>\n",
              "      <td>99</td>\n",
              "      <td>99</td>\n",
              "      <td>9999</td>\n",
              "      <td>9</td>\n",
              "      <td>99</td>\n",
              "      <td>8</td>\n",
              "      <td>21.0</td>\n",
              "      <td>NaN</td>\n",
              "      <td>21</td>\n",
              "      <td>0.0</td>\n",
              "      <td>1024.12</td>\n",
              "      <td>1024.12</td>\n",
              "      <td>716.88</td>\n",
              "      <td>21.0</td>\n",
              "      <td>NaN</td>\n",
              "      <td>21</td>\n",
              "      <td>1024.12</td>\n",
              "      <td>0.0</td>\n",
              "      <td>716.88</td>\n",
              "      <td>2019</td>\n",
              "      <td>12</td>\n",
              "      <td>10</td>\n",
              "      <td>0</td>\n",
              "      <td>0</td>\n",
              "      <td>1</td>\n",
              "      <td>35</td>\n",
              "      <td>9</td>\n",
              "      <td>41</td>\n",
              "      <td>0</td>\n",
              "      <td>1451</td>\n",
              "      <td>2</td>\n",
              "      <td>70.0</td>\n",
              "      <td>0</td>\n",
              "      <td>31</td>\n",
              "      <td>76</td>\n",
              "      <td>19</td>\n",
              "      <td>4</td>\n",
              "      <td>0</td>\n",
              "      <td>9</td>\n",
              "      <td>76</td>\n",
              "      <td>19</td>\n",
              "      <td>4</td>\n",
              "      <td>0</td>\n",
              "      <td>9</td>\n",
              "      <td>1</td>\n",
              "    </tr>\n",
              "    <tr>\n",
              "      <th>2</th>\n",
              "      <td>75</td>\n",
              "      <td>80</td>\n",
              "      <td>75</td>\n",
              "      <td>0</td>\n",
              "      <td>1</td>\n",
              "      <td>2</td>\n",
              "      <td>121</td>\n",
              "      <td>9999</td>\n",
              "      <td>99</td>\n",
              "      <td>99</td>\n",
              "      <td>99</td>\n",
              "      <td>9999</td>\n",
              "      <td>9</td>\n",
              "      <td>99</td>\n",
              "      <td>0</td>\n",
              "      <td>18.0</td>\n",
              "      <td>18.0</td>\n",
              "      <td>18</td>\n",
              "      <td>0.0</td>\n",
              "      <td>3257.00</td>\n",
              "      <td>170.19</td>\n",
              "      <td>102.09</td>\n",
              "      <td>18.0</td>\n",
              "      <td>18.0</td>\n",
              "      <td>18</td>\n",
              "      <td>3257.00</td>\n",
              "      <td>0.0</td>\n",
              "      <td>102.09</td>\n",
              "      <td>2019</td>\n",
              "      <td>12</td>\n",
              "      <td>10</td>\n",
              "      <td>0</td>\n",
              "      <td>0</td>\n",
              "      <td>1</td>\n",
              "      <td>35</td>\n",
              "      <td>9</td>\n",
              "      <td>0</td>\n",
              "      <td>0</td>\n",
              "      <td>3533</td>\n",
              "      <td>2</td>\n",
              "      <td>60.0</td>\n",
              "      <td>0</td>\n",
              "      <td>31</td>\n",
              "      <td>75</td>\n",
              "      <td>60</td>\n",
              "      <td>2</td>\n",
              "      <td>0</td>\n",
              "      <td>1</td>\n",
              "      <td>52</td>\n",
              "      <td>0</td>\n",
              "      <td>1</td>\n",
              "      <td>15</td>\n",
              "      <td>1</td>\n",
              "      <td>1</td>\n",
              "    </tr>\n",
              "    <tr>\n",
              "      <th>3</th>\n",
              "      <td>24</td>\n",
              "      <td>50</td>\n",
              "      <td>24</td>\n",
              "      <td>0</td>\n",
              "      <td>1</td>\n",
              "      <td>1</td>\n",
              "      <td>121</td>\n",
              "      <td>9999</td>\n",
              "      <td>99</td>\n",
              "      <td>99</td>\n",
              "      <td>99</td>\n",
              "      <td>9999</td>\n",
              "      <td>9</td>\n",
              "      <td>99</td>\n",
              "      <td>0</td>\n",
              "      <td>-6.0</td>\n",
              "      <td>-6.0</td>\n",
              "      <td>-6</td>\n",
              "      <td>0.0</td>\n",
              "      <td>-990.70</td>\n",
              "      <td>-62.22</td>\n",
              "      <td>-37.32</td>\n",
              "      <td>-6.0</td>\n",
              "      <td>-6.0</td>\n",
              "      <td>-6</td>\n",
              "      <td>-990.70</td>\n",
              "      <td>0.0</td>\n",
              "      <td>-37.32</td>\n",
              "      <td>2019</td>\n",
              "      <td>8</td>\n",
              "      <td>10</td>\n",
              "      <td>0</td>\n",
              "      <td>0</td>\n",
              "      <td>1</td>\n",
              "      <td>36</td>\n",
              "      <td>9</td>\n",
              "      <td>41</td>\n",
              "      <td>0</td>\n",
              "      <td>3533</td>\n",
              "      <td>2</td>\n",
              "      <td>60.0</td>\n",
              "      <td>0</td>\n",
              "      <td>31</td>\n",
              "      <td>24</td>\n",
              "      <td>60</td>\n",
              "      <td>2</td>\n",
              "      <td>0</td>\n",
              "      <td>1</td>\n",
              "      <td>24</td>\n",
              "      <td>0</td>\n",
              "      <td>1</td>\n",
              "      <td>15</td>\n",
              "      <td>1</td>\n",
              "      <td>1</td>\n",
              "    </tr>\n",
              "    <tr>\n",
              "      <th>4</th>\n",
              "      <td>5</td>\n",
              "      <td>20</td>\n",
              "      <td>5</td>\n",
              "      <td>1</td>\n",
              "      <td>1</td>\n",
              "      <td>2</td>\n",
              "      <td>60</td>\n",
              "      <td>1103</td>\n",
              "      <td>5</td>\n",
              "      <td>1</td>\n",
              "      <td>99</td>\n",
              "      <td>9999</td>\n",
              "      <td>1</td>\n",
              "      <td>3</td>\n",
              "      <td>0</td>\n",
              "      <td>60.0</td>\n",
              "      <td>60.0</td>\n",
              "      <td>60</td>\n",
              "      <td>0.0</td>\n",
              "      <td>8400.00</td>\n",
              "      <td>8400.00</td>\n",
              "      <td>0.00</td>\n",
              "      <td>60.0</td>\n",
              "      <td>60.0</td>\n",
              "      <td>60</td>\n",
              "      <td>8400.00</td>\n",
              "      <td>0.0</td>\n",
              "      <td>0.00</td>\n",
              "      <td>2019</td>\n",
              "      <td>10</td>\n",
              "      <td>10</td>\n",
              "      <td>0</td>\n",
              "      <td>0</td>\n",
              "      <td>2</td>\n",
              "      <td>36</td>\n",
              "      <td>0</td>\n",
              "      <td>0</td>\n",
              "      <td>0</td>\n",
              "      <td>2237</td>\n",
              "      <td>1</td>\n",
              "      <td>0.0</td>\n",
              "      <td>0</td>\n",
              "      <td>31</td>\n",
              "      <td>99</td>\n",
              "      <td>0</td>\n",
              "      <td>0</td>\n",
              "      <td>0</td>\n",
              "      <td>2</td>\n",
              "      <td>99</td>\n",
              "      <td>0</td>\n",
              "      <td>99</td>\n",
              "      <td>0</td>\n",
              "      <td>9</td>\n",
              "      <td>1</td>\n",
              "    </tr>\n",
              "  </tbody>\n",
              "</table>\n",
              "</div>"
            ],
            "text/plain": [
              "   ORG_CLE_REG  AGE_BEN_SNDS  ...  PSP_STJ_SNDS  TOP_PS5_TRG\n",
              "0           76            50  ...             1            1\n",
              "1           76            80  ...             9            1\n",
              "2           75            80  ...             1            1\n",
              "3           24            50  ...             1            1\n",
              "4            5            20  ...             9            1\n",
              "\n",
              "[5 rows x 54 columns]"
            ]
          },
          "metadata": {},
          "execution_count": 32
        }
      ]
    },
    {
      "cell_type": "code",
      "metadata": {
        "collapsed": true,
        "jupyter": {
          "outputs_hidden": true
        },
        "colab": {
          "base_uri": "https://localhost:8080/"
        },
        "id": "7dGPZWBZMiuB",
        "outputId": "88b50c2b-2f0c-4bc2-c67a-0b9813d7639f"
      },
      "source": [
        "kine.info()"
      ],
      "execution_count": 9,
      "outputs": [
        {
          "output_type": "stream",
          "name": "stdout",
          "text": [
            "<class 'pandas.core.frame.DataFrame'>\n",
            "Int64Index: 1000000 entries, 0 to 999999\n",
            "Data columns (total 54 columns):\n",
            " #   Column        Non-Null Count    Dtype  \n",
            "---  ------        --------------    -----  \n",
            " 0   ORG_CLE_REG   1000000 non-null  int64  \n",
            " 1   AGE_BEN_SNDS  1000000 non-null  int64  \n",
            " 2   BEN_RES_REG   1000000 non-null  int64  \n",
            " 3   BEN_CMU_TOP   1000000 non-null  int64  \n",
            " 4   BEN_QLT_COD   1000000 non-null  int64  \n",
            " 5   BEN_SEX_COD   1000000 non-null  int64  \n",
            " 6   DDP_SPE_COD   1000000 non-null  int64  \n",
            " 7   ETE_CAT_SNDS  1000000 non-null  int64  \n",
            " 8   ETE_REG_COD   1000000 non-null  int64  \n",
            " 9   ETE_TYP_SNDS  1000000 non-null  int64  \n",
            " 10  ETP_REG_COD   1000000 non-null  int64  \n",
            " 11  ETP_CAT_SNDS  1000000 non-null  int64  \n",
            " 12  MDT_TYP_COD   1000000 non-null  int64  \n",
            " 13  MFT_COD       1000000 non-null  int64  \n",
            " 14  PRS_FJH_TYP   1000000 non-null  int64  \n",
            " 15  PRS_ACT_COG   1000000 non-null  float64\n",
            " 16  PRS_ACT_NBR   799323 non-null   float64\n",
            " 17  PRS_ACT_QTE   1000000 non-null  int64  \n",
            " 18  PRS_DEP_MNT   1000000 non-null  float64\n",
            " 19  PRS_PAI_MNT   1000000 non-null  float64\n",
            " 20  PRS_REM_BSE   1000000 non-null  float64\n",
            " 21  PRS_REM_MNT   1000000 non-null  float64\n",
            " 22  FLT_ACT_COG   1000000 non-null  float64\n",
            " 23  FLT_ACT_NBR   819492 non-null   float64\n",
            " 24  FLT_ACT_QTE   1000000 non-null  int64  \n",
            " 25  FLT_PAI_MNT   1000000 non-null  float64\n",
            " 26  FLT_DEP_MNT   1000000 non-null  float64\n",
            " 27  FLT_REM_MNT   1000000 non-null  float64\n",
            " 28  SOI_ANN       1000000 non-null  int64  \n",
            " 29  SOI_MOI       1000000 non-null  int64  \n",
            " 30  ASU_NAT       1000000 non-null  int64  \n",
            " 31  ATT_NAT       1000000 non-null  int64  \n",
            " 32  CPL_COD       1000000 non-null  int64  \n",
            " 33  CPT_ENV_TYP   1000000 non-null  int64  \n",
            " 34  DRG_AFF_NAT   1000000 non-null  int64  \n",
            " 35  ETE_IND_TAA   1000000 non-null  int64  \n",
            " 36  EXO_MTF       1000000 non-null  int64  \n",
            " 37  MTM_NAT       1000000 non-null  int64  \n",
            " 38  PRS_NAT       1000000 non-null  int64  \n",
            " 39  PRS_PPU_SEC   1000000 non-null  int64  \n",
            " 40  PRS_REM_TAU   1000000 non-null  float64\n",
            " 41  PRS_REM_TYP   1000000 non-null  int64  \n",
            " 42  PRS_PDS_QCP   1000000 non-null  int64  \n",
            " 43  EXE_INS_REG   1000000 non-null  int64  \n",
            " 44  PSE_ACT_SNDS  1000000 non-null  int64  \n",
            " 45  PSE_ACT_CAT   1000000 non-null  int64  \n",
            " 46  PSE_SPE_SNDS  1000000 non-null  int64  \n",
            " 47  PSE_STJ_SNDS  1000000 non-null  int64  \n",
            " 48  PRE_INS_REG   1000000 non-null  int64  \n",
            " 49  PSP_ACT_SNDS  1000000 non-null  int64  \n",
            " 50  PSP_ACT_CAT   1000000 non-null  int64  \n",
            " 51  PSP_SPE_SNDS  1000000 non-null  int64  \n",
            " 52  PSP_STJ_SNDS  1000000 non-null  int64  \n",
            " 53  TOP_PS5_TRG   1000000 non-null  int64  \n",
            "dtypes: float64(12), int64(42)\n",
            "memory usage: 419.6 MB\n"
          ]
        }
      ]
    },
    {
      "cell_type": "code",
      "metadata": {
        "collapsed": true,
        "jupyter": {
          "outputs_hidden": true
        },
        "colab": {
          "base_uri": "https://localhost:8080/"
        },
        "id": "Ph6fnTc0MiuC",
        "outputId": "1e35a1ca-7450-4ee2-e535-9e66516a9af4"
      },
      "source": [
        "kine.isna().sum()"
      ],
      "execution_count": 33,
      "outputs": [
        {
          "output_type": "execute_result",
          "data": {
            "text/plain": [
              "ORG_CLE_REG        0\n",
              "AGE_BEN_SNDS       0\n",
              "BEN_RES_REG        0\n",
              "BEN_CMU_TOP        0\n",
              "BEN_QLT_COD        0\n",
              "BEN_SEX_COD        0\n",
              "DDP_SPE_COD        0\n",
              "ETE_CAT_SNDS       0\n",
              "ETE_REG_COD        0\n",
              "ETE_TYP_SNDS       0\n",
              "ETP_REG_COD        0\n",
              "ETP_CAT_SNDS       0\n",
              "MDT_TYP_COD        0\n",
              "MFT_COD            0\n",
              "PRS_FJH_TYP        0\n",
              "PRS_ACT_COG        0\n",
              "PRS_ACT_NBR     1446\n",
              "PRS_ACT_QTE        0\n",
              "PRS_DEP_MNT        0\n",
              "PRS_PAI_MNT        0\n",
              "PRS_REM_BSE        0\n",
              "PRS_REM_MNT        0\n",
              "FLT_ACT_COG        0\n",
              "FLT_ACT_NBR     1446\n",
              "FLT_ACT_QTE        0\n",
              "FLT_PAI_MNT        0\n",
              "FLT_DEP_MNT        0\n",
              "FLT_REM_MNT        0\n",
              "SOI_ANN            0\n",
              "SOI_MOI            0\n",
              "ASU_NAT            0\n",
              "ATT_NAT            0\n",
              "CPL_COD            0\n",
              "CPT_ENV_TYP        0\n",
              "DRG_AFF_NAT        0\n",
              "ETE_IND_TAA        0\n",
              "EXO_MTF            0\n",
              "MTM_NAT            0\n",
              "PRS_NAT            0\n",
              "PRS_PPU_SEC        0\n",
              "PRS_REM_TAU        0\n",
              "PRS_REM_TYP        0\n",
              "PRS_PDS_QCP        0\n",
              "EXE_INS_REG        0\n",
              "PSE_ACT_SNDS       0\n",
              "PSE_ACT_CAT        0\n",
              "PSE_SPE_SNDS       0\n",
              "PSE_STJ_SNDS       0\n",
              "PRE_INS_REG        0\n",
              "PSP_ACT_SNDS       0\n",
              "PSP_ACT_CAT        0\n",
              "PSP_SPE_SNDS       0\n",
              "PSP_STJ_SNDS       0\n",
              "TOP_PS5_TRG        0\n",
              "dtype: int64"
            ]
          },
          "metadata": {},
          "execution_count": 33
        }
      ]
    },
    {
      "cell_type": "markdown",
      "metadata": {
        "id": "eoO9bEo6MiuC"
      },
      "source": [
        "## Version en supprimant les entrées NAN"
      ]
    },
    {
      "cell_type": "code",
      "metadata": {
        "id": "LRa3CXEGMiuD"
      },
      "source": [
        "kine_wo_na = kine.dropna()"
      ],
      "execution_count": 34,
      "outputs": []
    },
    {
      "cell_type": "markdown",
      "metadata": {
        "id": "5QzfmX_qMiuD"
      },
      "source": [
        "## Version qui supprime les variables type \"indicateurs\""
      ]
    },
    {
      "cell_type": "code",
      "metadata": {
        "id": "ZOV1iaQiMiuD"
      },
      "source": [
        "kinewonawoindic = kine.drop(['FLT_ACT_COG','FLT_ACT_NBR','FLT_ACT_QTE','FLT_DEP_MNT','FLT_PAI_MNT','FLT_REM_MNT','PRS_ACT_COG','PRS_ACT_NBR','PRS_ACT_QTE','PRS_DEP_MNT','PRS_DEP_MNT','PRS_PAI_MNT','PRS_REM_MNT','PRS_REM_BSE'], axis=1)"
      ],
      "execution_count": 35,
      "outputs": []
    },
    {
      "cell_type": "code",
      "metadata": {
        "id": "M2vCtPuTMiuD"
      },
      "source": [
        "kinewonawoindic = kine.drop(['FLT_ACT_COG','FLT_ACT_NBR','FLT_ACT_QTE','FLT_DEP_MNT','FLT_PAI_MNT','FLT_REM_MNT','PRS_ACT_COG','PRS_ACT_NBR','PRS_ACT_QTE','PRS_DEP_MNT','PRS_DEP_MNT','PRS_PAI_MNT','PRS_REM_MNT','PRS_REM_BSE','ETP_CAT_SNDS','ETE_CAT_SNDS'], axis=1)"
      ],
      "execution_count": 36,
      "outputs": []
    },
    {
      "cell_type": "code",
      "metadata": {
        "id": "veCUYyiZMiuE"
      },
      "source": [
        "kinewonawoindic = kinewonawoindic.dropna()"
      ],
      "execution_count": 37,
      "outputs": []
    },
    {
      "cell_type": "markdown",
      "metadata": {
        "id": "Lzy5bwmsMiuE"
      },
      "source": [
        "# Pandas profiling"
      ]
    },
    {
      "cell_type": "code",
      "metadata": {
        "id": "_FDbb73OXN-4"
      },
      "source": [
        "#!pip install https://github.com/pandas-profiling/pandas-profiling/archive/master.zip\n",
        "#!pip install pandas-profiling"
      ],
      "execution_count": null,
      "outputs": []
    },
    {
      "cell_type": "code",
      "metadata": {
        "collapsed": true,
        "jupyter": {
          "outputs_hidden": true
        },
        "id": "lXavGCjNMiuE"
      },
      "source": [
        "from pandas_profiling import profile_report\n",
        "kine_profile = kine.profile_report(title='Pandas profiling Report')"
      ],
      "execution_count": 15,
      "outputs": []
    },
    {
      "cell_type": "code",
      "metadata": {
        "id": "JTq5PsPGMojc",
        "outputId": "4c142dca-9615-4bf3-b451-9bc7b40d23e2",
        "colab": {
          "base_uri": "https://localhost:8080/"
        }
      },
      "source": [
        "!ls"
      ],
      "execution_count": 19,
      "outputs": [
        {
          "output_type": "stream",
          "name": "stdout",
          "text": [
            "adc.json  data\tkine_profile.html  sample_data\n"
          ]
        }
      ]
    },
    {
      "cell_type": "code",
      "metadata": {
        "id": "p9sOJHlBmPN2",
        "outputId": "98dcc191-eea8-452d-ae46-1fb8708df773",
        "colab": {
          "base_uri": "https://localhost:8080/",
          "height": 17
        }
      },
      "source": [
        "from google.colab import files\n",
        "files.download('kine_profile.html')"
      ],
      "execution_count": 20,
      "outputs": [
        {
          "output_type": "display_data",
          "data": {
            "application/javascript": [
              "\n",
              "    async function download(id, filename, size) {\n",
              "      if (!google.colab.kernel.accessAllowed) {\n",
              "        return;\n",
              "      }\n",
              "      const div = document.createElement('div');\n",
              "      const label = document.createElement('label');\n",
              "      label.textContent = `Downloading \"${filename}\": `;\n",
              "      div.appendChild(label);\n",
              "      const progress = document.createElement('progress');\n",
              "      progress.max = size;\n",
              "      div.appendChild(progress);\n",
              "      document.body.appendChild(div);\n",
              "\n",
              "      const buffers = [];\n",
              "      let downloaded = 0;\n",
              "\n",
              "      const channel = await google.colab.kernel.comms.open(id);\n",
              "      // Send a message to notify the kernel that we're ready.\n",
              "      channel.send({})\n",
              "\n",
              "      for await (const message of channel.messages) {\n",
              "        // Send a message to notify the kernel that we're ready.\n",
              "        channel.send({})\n",
              "        if (message.buffers) {\n",
              "          for (const buffer of message.buffers) {\n",
              "            buffers.push(buffer);\n",
              "            downloaded += buffer.byteLength;\n",
              "            progress.value = downloaded;\n",
              "          }\n",
              "        }\n",
              "      }\n",
              "      const blob = new Blob(buffers, {type: 'application/binary'});\n",
              "      const a = document.createElement('a');\n",
              "      a.href = window.URL.createObjectURL(blob);\n",
              "      a.download = filename;\n",
              "      div.appendChild(a);\n",
              "      a.click();\n",
              "      div.remove();\n",
              "    }\n",
              "  "
            ],
            "text/plain": [
              "<IPython.core.display.Javascript object>"
            ]
          },
          "metadata": {}
        },
        {
          "output_type": "display_data",
          "data": {
            "application/javascript": [
              "download(\"download_5e67655f-f50a-4b1c-9827-2bacbd919d04\", \"kine_profile.html\", 97814352)"
            ],
            "text/plain": [
              "<IPython.core.display.Javascript object>"
            ]
          },
          "metadata": {}
        }
      ]
    },
    {
      "cell_type": "code",
      "metadata": {
        "colab": {
          "base_uri": "https://localhost:8080/",
          "height": 145,
          "referenced_widgets": [
            "5ea8cc9192ec43a8b11b9bf7dae011aa",
            "6fffa4ed9d55412e8d3ba9dc5aa18791",
            "ce106afdbe6945f3a8f128dc93b8559a",
            "ffbe7fd751df4bd089f1312f4b6df95c",
            "01bc1e3fe64a4efc860f2f520a23cf21",
            "0bc90aad5df64926b9243a2330460069",
            "c418562a2a0747a6ad0289534cbc9010",
            "59c5ff402e85481ca7e62963aa59f121",
            "466df99da62e496585aa6254a61e72c4",
            "e6407794b4bc41d986bf28c3209a69b7",
            "ef2573f67e77474a83808d61933da1dd",
            "082c3862b4d54d6b85db17f5e1f50a51",
            "ac53dad974e440c396fcea56aff502b9",
            "d360ae4b8e544ea7bc1f49390dabeff1",
            "31abe0a046bc49c2bc192e16571c3e18",
            "07a831e2f5694b5da534f22fdb30b778",
            "c31ad13edb4747e6aa9b06d871f6caf7",
            "3ce057e7095a45578454669d72dd219f",
            "c79e88b849ec45bcb35d9417dd19407b",
            "89f9a6b021504316a335e3e9a5b4c363",
            "397671cad26d407a97e8632a1a34bc13",
            "11ddf2083a144e15bed35eb63174d714",
            "e3e5787027b5497dbf1f1e9b674ee7ce",
            "6ea9ff5689da4cd0967cecf8f48becc8",
            "699d0812620e4405bf3bd01f0bdd94ee",
            "2010d879286f462c8f3df6d0f6e6d43a",
            "d5e59d15a0e142f8abb2d25d8e7aa15a",
            "fb0373c8e3d54e47bb82f3b35318073a",
            "832d52a4870346309fea1b75e09b27a5",
            "9301c27469ca4693aedb919e409ba5e4",
            "c2f3de91e6134b47934e605679279bc1",
            "1469240a0b464891b56e316906e21ba0",
            "8dc0f66218644a6eba9a66f2ac2c32bc",
            "9bc40acbf4d5401fbd28789bc211e679",
            "34fd7f77e194476fb6495c5adcd444da",
            "bc582ab8060341069ae876fe3fb85d82",
            "6da45ca8215e4e77b7228ba06485af8c",
            "860787f3102e4ca082779913c5b8d20b",
            "39ba53e06efa4999b5def151c41b258c",
            "9294fa0825be4a2380205b9b7a05fac4",
            "5e563f04fbdb4c009f9611da34e04910",
            "fe7e6c88d64640c2bd567f527b1b20da",
            "89f2f86fb5c14aaea70b6891a484e8da",
            "62099cb886d94366a271ef3cc4985b2f"
          ]
        },
        "id": "k0FBgZaBMiuF",
        "outputId": "4a479a52-bb9e-459a-ebec-a5e9ccc1d80d"
      },
      "source": [
        "kine_profile.to_file(output_file='kine_profile.html')"
      ],
      "execution_count": 18,
      "outputs": [
        {
          "output_type": "display_data",
          "data": {
            "application/vnd.jupyter.widget-view+json": {
              "model_id": "5ea8cc9192ec43a8b11b9bf7dae011aa",
              "version_minor": 0,
              "version_major": 2
            },
            "text/plain": [
              "Summarize dataset:   0%|          | 0/5 [00:00<?, ?it/s]"
            ]
          },
          "metadata": {}
        },
        {
          "output_type": "display_data",
          "data": {
            "application/vnd.jupyter.widget-view+json": {
              "model_id": "082c3862b4d54d6b85db17f5e1f50a51",
              "version_minor": 0,
              "version_major": 2
            },
            "text/plain": [
              "Generate report structure:   0%|          | 0/1 [00:00<?, ?it/s]"
            ]
          },
          "metadata": {}
        },
        {
          "output_type": "display_data",
          "data": {
            "application/vnd.jupyter.widget-view+json": {
              "model_id": "e3e5787027b5497dbf1f1e9b674ee7ce",
              "version_minor": 0,
              "version_major": 2
            },
            "text/plain": [
              "Render HTML:   0%|          | 0/1 [00:00<?, ?it/s]"
            ]
          },
          "metadata": {}
        },
        {
          "output_type": "display_data",
          "data": {
            "application/vnd.jupyter.widget-view+json": {
              "model_id": "9bc40acbf4d5401fbd28789bc211e679",
              "version_minor": 0,
              "version_major": 2
            },
            "text/plain": [
              "Export report to file:   0%|          | 0/1 [00:00<?, ?it/s]"
            ]
          },
          "metadata": {}
        }
      ]
    },
    {
      "cell_type": "markdown",
      "metadata": {
        "id": "RvUAenvJMiuF"
      },
      "source": [
        "# Analyse PCA"
      ]
    },
    {
      "cell_type": "markdown",
      "metadata": {
        "id": "hFp-JwUhMiuF"
      },
      "source": [
        "## Rapport d'analyse ACP"
      ]
    },
    {
      "cell_type": "code",
      "metadata": {
        "collapsed": true,
        "jupyter": {
          "outputs_hidden": true
        },
        "colab": {
          "base_uri": "https://localhost:8080/"
        },
        "id": "Jdp857ZdMiuF",
        "outputId": "680e9f43-bb3e-4480-c61a-ef8c70769792"
      },
      "source": [
        "pca = PCA(2)\n",
        "X_pca = pca.fit_transform(kinewonawoindic)\n",
        "X_pca"
      ],
      "execution_count": 38,
      "outputs": [
        {
          "output_type": "execute_result",
          "data": {
            "text/plain": [
              "array([[ 3.06361658e+03, -3.00787650e+01],\n",
              "       [-1.59841848e+03,  6.42343144e-01],\n",
              "       [ 4.82694825e+02, -1.35987350e+01],\n",
              "       ...,\n",
              "       [ 3.06673120e+03, -2.90695419e+01],\n",
              "       [ 2.63217331e+02, -1.06683523e+01],\n",
              "       [-1.07907477e+03, -2.21265904e+00]])"
            ]
          },
          "metadata": {},
          "execution_count": 38
        }
      ]
    },
    {
      "cell_type": "code",
      "metadata": {
        "collapsed": true,
        "jupyter": {
          "outputs_hidden": true
        },
        "colab": {
          "base_uri": "https://localhost:8080/",
          "height": 1000
        },
        "id": "iU281dDUMiuG",
        "outputId": "87778f6f-e401-491b-adff-1dd1b24679a7"
      },
      "source": [
        "pca_full_report(X=kinewonawoindic.to_numpy(), features_=kinewonawoindic.columns)"
      ],
      "execution_count": 39,
      "outputs": [
        {
          "output_type": "stream",
          "name": "stdout",
          "text": [
            "\n",
            "*--- PCA Report ---*\n",
            "\n",
            "X mean:\t\t155.589\n",
            "X variance:\t391301.165\n",
            "\n",
            "...Rescaling data...\n",
            "\n",
            "X_scaled mean:\t\t0.000\n",
            "X_scaled variance:\t1.000\n",
            "\n",
            "\n",
            " -- Summary --\n",
            "You can reduce from 39 to 22 dimensions while retaining 95% of variance.\n",
            "2 principal components explain 33.80% of variance.\n",
            "3 principal components explain 46.00% of variance.\n"
          ]
        },
        {
          "output_type": "display_data",
          "data": {
            "application/javascript": [
              "\n",
              "(function(root) {\n",
              "  function now() {\n",
              "    return new Date();\n",
              "  }\n",
              "\n",
              "  var force = true;\n",
              "\n",
              "  if (typeof root._bokeh_onload_callbacks === \"undefined\" || force === true) {\n",
              "    root._bokeh_onload_callbacks = [];\n",
              "    root._bokeh_is_loading = undefined;\n",
              "  }\n",
              "\n",
              "  var JS_MIME_TYPE = 'application/javascript';\n",
              "  var HTML_MIME_TYPE = 'text/html';\n",
              "  var EXEC_MIME_TYPE = 'application/vnd.bokehjs_exec.v0+json';\n",
              "  var CLASS_NAME = 'output_bokeh rendered_html';\n",
              "\n",
              "  /**\n",
              "   * Render data to the DOM node\n",
              "   */\n",
              "  function render(props, node) {\n",
              "    var script = document.createElement(\"script\");\n",
              "    node.appendChild(script);\n",
              "  }\n",
              "\n",
              "  /**\n",
              "   * Handle when an output is cleared or removed\n",
              "   */\n",
              "  function handleClearOutput(event, handle) {\n",
              "    var cell = handle.cell;\n",
              "\n",
              "    var id = cell.output_area._bokeh_element_id;\n",
              "    var server_id = cell.output_area._bokeh_server_id;\n",
              "    // Clean up Bokeh references\n",
              "    if (id != null && id in Bokeh.index) {\n",
              "      Bokeh.index[id].model.document.clear();\n",
              "      delete Bokeh.index[id];\n",
              "    }\n",
              "\n",
              "    if (server_id !== undefined) {\n",
              "      // Clean up Bokeh references\n",
              "      var cmd = \"from bokeh.io.state import curstate; print(curstate().uuid_to_server['\" + server_id + \"'].get_sessions()[0].document.roots[0]._id)\";\n",
              "      cell.notebook.kernel.execute(cmd, {\n",
              "        iopub: {\n",
              "          output: function(msg) {\n",
              "            var id = msg.content.text.trim();\n",
              "            if (id in Bokeh.index) {\n",
              "              Bokeh.index[id].model.document.clear();\n",
              "              delete Bokeh.index[id];\n",
              "            }\n",
              "          }\n",
              "        }\n",
              "      });\n",
              "      // Destroy server and session\n",
              "      var cmd = \"import bokeh.io.notebook as ion; ion.destroy_server('\" + server_id + \"')\";\n",
              "      cell.notebook.kernel.execute(cmd);\n",
              "    }\n",
              "  }\n",
              "\n",
              "  /**\n",
              "   * Handle when a new output is added\n",
              "   */\n",
              "  function handleAddOutput(event, handle) {\n",
              "    var output_area = handle.output_area;\n",
              "    var output = handle.output;\n",
              "\n",
              "    // limit handleAddOutput to display_data with EXEC_MIME_TYPE content only\n",
              "    if ((output.output_type != \"display_data\") || (!Object.prototype.hasOwnProperty.call(output.data, EXEC_MIME_TYPE))) {\n",
              "      return\n",
              "    }\n",
              "\n",
              "    var toinsert = output_area.element.find(\".\" + CLASS_NAME.split(' ')[0]);\n",
              "\n",
              "    if (output.metadata[EXEC_MIME_TYPE][\"id\"] !== undefined) {\n",
              "      toinsert[toinsert.length - 1].firstChild.textContent = output.data[JS_MIME_TYPE];\n",
              "      // store reference to embed id on output_area\n",
              "      output_area._bokeh_element_id = output.metadata[EXEC_MIME_TYPE][\"id\"];\n",
              "    }\n",
              "    if (output.metadata[EXEC_MIME_TYPE][\"server_id\"] !== undefined) {\n",
              "      var bk_div = document.createElement(\"div\");\n",
              "      bk_div.innerHTML = output.data[HTML_MIME_TYPE];\n",
              "      var script_attrs = bk_div.children[0].attributes;\n",
              "      for (var i = 0; i < script_attrs.length; i++) {\n",
              "        toinsert[toinsert.length - 1].firstChild.setAttribute(script_attrs[i].name, script_attrs[i].value);\n",
              "        toinsert[toinsert.length - 1].firstChild.textContent = bk_div.children[0].textContent\n",
              "      }\n",
              "      // store reference to server id on output_area\n",
              "      output_area._bokeh_server_id = output.metadata[EXEC_MIME_TYPE][\"server_id\"];\n",
              "    }\n",
              "  }\n",
              "\n",
              "  function register_renderer(events, OutputArea) {\n",
              "\n",
              "    function append_mime(data, metadata, element) {\n",
              "      // create a DOM node to render to\n",
              "      var toinsert = this.create_output_subarea(\n",
              "        metadata,\n",
              "        CLASS_NAME,\n",
              "        EXEC_MIME_TYPE\n",
              "      );\n",
              "      this.keyboard_manager.register_events(toinsert);\n",
              "      // Render to node\n",
              "      var props = {data: data, metadata: metadata[EXEC_MIME_TYPE]};\n",
              "      render(props, toinsert[toinsert.length - 1]);\n",
              "      element.append(toinsert);\n",
              "      return toinsert\n",
              "    }\n",
              "\n",
              "    /* Handle when an output is cleared or removed */\n",
              "    events.on('clear_output.CodeCell', handleClearOutput);\n",
              "    events.on('delete.Cell', handleClearOutput);\n",
              "\n",
              "    /* Handle when a new output is added */\n",
              "    events.on('output_added.OutputArea', handleAddOutput);\n",
              "\n",
              "    /**\n",
              "     * Register the mime type and append_mime function with output_area\n",
              "     */\n",
              "    OutputArea.prototype.register_mime_type(EXEC_MIME_TYPE, append_mime, {\n",
              "      /* Is output safe? */\n",
              "      safe: true,\n",
              "      /* Index of renderer in `output_area.display_order` */\n",
              "      index: 0\n",
              "    });\n",
              "  }\n",
              "\n",
              "  // register the mime type if in Jupyter Notebook environment and previously unregistered\n",
              "  if (root.Jupyter !== undefined) {\n",
              "    var events = require('base/js/events');\n",
              "    var OutputArea = require('notebook/js/outputarea').OutputArea;\n",
              "\n",
              "    if (OutputArea.prototype.mime_types().indexOf(EXEC_MIME_TYPE) == -1) {\n",
              "      register_renderer(events, OutputArea);\n",
              "    }\n",
              "  }\n",
              "\n",
              "  \n",
              "  if (typeof (root._bokeh_timeout) === \"undefined\" || force === true) {\n",
              "    root._bokeh_timeout = Date.now() + 5000;\n",
              "    root._bokeh_failed_load = false;\n",
              "  }\n",
              "\n",
              "  var NB_LOAD_WARNING = {'data': {'text/html':\n",
              "     \"<div style='background-color: #fdd'>\\n\"+\n",
              "     \"<p>\\n\"+\n",
              "     \"BokehJS does not appear to have successfully loaded. If loading BokehJS from CDN, this \\n\"+\n",
              "     \"may be due to a slow or bad network connection. Possible fixes:\\n\"+\n",
              "     \"</p>\\n\"+\n",
              "     \"<ul>\\n\"+\n",
              "     \"<li>re-rerun `output_notebook()` to attempt to load from CDN again, or</li>\\n\"+\n",
              "     \"<li>use INLINE resources instead, as so:</li>\\n\"+\n",
              "     \"</ul>\\n\"+\n",
              "     \"<code>\\n\"+\n",
              "     \"from bokeh.resources import INLINE\\n\"+\n",
              "     \"output_notebook(resources=INLINE)\\n\"+\n",
              "     \"</code>\\n\"+\n",
              "     \"</div>\"}};\n",
              "\n",
              "  function display_loaded() {\n",
              "    var el = document.getElementById(null);\n",
              "    if (el != null) {\n",
              "      el.textContent = \"BokehJS is loading...\";\n",
              "    }\n",
              "    if (root.Bokeh !== undefined) {\n",
              "      if (el != null) {\n",
              "        el.textContent = \"BokehJS \" + root.Bokeh.version + \" successfully loaded.\";\n",
              "      }\n",
              "    } else if (Date.now() < root._bokeh_timeout) {\n",
              "      setTimeout(display_loaded, 100)\n",
              "    }\n",
              "  }\n",
              "\n",
              "\n",
              "  function run_callbacks() {\n",
              "    try {\n",
              "      root._bokeh_onload_callbacks.forEach(function(callback) {\n",
              "        if (callback != null)\n",
              "          callback();\n",
              "      });\n",
              "    } finally {\n",
              "      delete root._bokeh_onload_callbacks\n",
              "    }\n",
              "    console.debug(\"Bokeh: all callbacks have finished\");\n",
              "  }\n",
              "\n",
              "  function load_libs(css_urls, js_urls, callback) {\n",
              "    if (css_urls == null) css_urls = [];\n",
              "    if (js_urls == null) js_urls = [];\n",
              "\n",
              "    root._bokeh_onload_callbacks.push(callback);\n",
              "    if (root._bokeh_is_loading > 0) {\n",
              "      console.debug(\"Bokeh: BokehJS is being loaded, scheduling callback at\", now());\n",
              "      return null;\n",
              "    }\n",
              "    if (js_urls == null || js_urls.length === 0) {\n",
              "      run_callbacks();\n",
              "      return null;\n",
              "    }\n",
              "    console.debug(\"Bokeh: BokehJS not loaded, scheduling load and callback at\", now());\n",
              "    root._bokeh_is_loading = css_urls.length + js_urls.length;\n",
              "\n",
              "    function on_load() {\n",
              "      root._bokeh_is_loading--;\n",
              "      if (root._bokeh_is_loading === 0) {\n",
              "        console.debug(\"Bokeh: all BokehJS libraries/stylesheets loaded\");\n",
              "        run_callbacks()\n",
              "      }\n",
              "    }\n",
              "\n",
              "    function on_error(url) {\n",
              "      console.error(\"failed to load \" + url);\n",
              "    }\n",
              "\n",
              "    for (let i = 0; i < css_urls.length; i++) {\n",
              "      const url = css_urls[i];\n",
              "      const element = document.createElement(\"link\");\n",
              "      element.onload = on_load;\n",
              "      element.onerror = on_error.bind(null, url);\n",
              "      element.rel = \"stylesheet\";\n",
              "      element.type = \"text/css\";\n",
              "      element.href = url;\n",
              "      console.debug(\"Bokeh: injecting link tag for BokehJS stylesheet: \", url);\n",
              "      document.body.appendChild(element);\n",
              "    }\n",
              "\n",
              "    const hashes = {\"https://cdn.bokeh.org/bokeh/release/bokeh-2.3.3.min.js\": \"dM3QQsP+wXdHg42wTqW85BjZQdLNNIXqlPw/BgKoExPmTG7ZLML4EGqLMfqHT6ON\", \"https://cdn.bokeh.org/bokeh/release/bokeh-tables-2.3.3.min.js\": \"8x57I4YuIfu8XyZfFo0XVr2WAT8EK4rh/uDe3wF7YuW2FNUSNEpJbsPaB1nJ2fz2\", \"https://cdn.bokeh.org/bokeh/release/bokeh-widgets-2.3.3.min.js\": \"3QTqdz9LyAm2i0sG5XTePsHec3UHWwVsrOL68SYRoAXsafvfAyqtQ+h440+qIBhS\"};\n",
              "\n",
              "    for (let i = 0; i < js_urls.length; i++) {\n",
              "      const url = js_urls[i];\n",
              "      const element = document.createElement('script');\n",
              "      element.onload = on_load;\n",
              "      element.onerror = on_error.bind(null, url);\n",
              "      element.async = false;\n",
              "      element.src = url;\n",
              "      if (url in hashes) {\n",
              "        element.crossOrigin = \"anonymous\";\n",
              "        element.integrity = \"sha384-\" + hashes[url];\n",
              "      }\n",
              "      console.debug(\"Bokeh: injecting script tag for BokehJS library: \", url);\n",
              "      document.head.appendChild(element);\n",
              "    }\n",
              "  };\n",
              "\n",
              "  function inject_raw_css(css) {\n",
              "    const element = document.createElement(\"style\");\n",
              "    element.appendChild(document.createTextNode(css));\n",
              "    document.body.appendChild(element);\n",
              "  }\n",
              "\n",
              "  \n",
              "  var js_urls = [\"https://cdn.bokeh.org/bokeh/release/bokeh-2.3.3.min.js\", \"https://cdn.bokeh.org/bokeh/release/bokeh-widgets-2.3.3.min.js\", \"https://cdn.bokeh.org/bokeh/release/bokeh-tables-2.3.3.min.js\"];\n",
              "  var css_urls = [];\n",
              "  \n",
              "\n",
              "  var inline_js = [\n",
              "    function(Bokeh) {\n",
              "      Bokeh.set_log_level(\"info\");\n",
              "    },\n",
              "    function(Bokeh) {\n",
              "    \n",
              "    \n",
              "    }\n",
              "  ];\n",
              "\n",
              "  function run_inline_js() {\n",
              "    \n",
              "    if (root.Bokeh !== undefined || force === true) {\n",
              "      \n",
              "    for (var i = 0; i < inline_js.length; i++) {\n",
              "      inline_js[i].call(root, root.Bokeh);\n",
              "    }\n",
              "    } else if (Date.now() < root._bokeh_timeout) {\n",
              "      setTimeout(run_inline_js, 100);\n",
              "    } else if (!root._bokeh_failed_load) {\n",
              "      console.log(\"Bokeh: BokehJS failed to load within specified timeout.\");\n",
              "      root._bokeh_failed_load = true;\n",
              "    } else if (force !== true) {\n",
              "      var cell = $(document.getElementById(null)).parents('.cell').data().cell;\n",
              "      cell.output_area.append_execute_result(NB_LOAD_WARNING)\n",
              "    }\n",
              "\n",
              "  }\n",
              "\n",
              "  if (root._bokeh_is_loading === 0) {\n",
              "    console.debug(\"Bokeh: BokehJS loaded, going straight to plotting\");\n",
              "    run_inline_js();\n",
              "  } else {\n",
              "    load_libs(css_urls, js_urls, function() {\n",
              "      console.debug(\"Bokeh: BokehJS plotting callback run at\", now());\n",
              "      run_inline_js();\n",
              "    });\n",
              "  }\n",
              "}(window));"
            ],
            "application/vnd.bokehjs_load.v0+json": "\n(function(root) {\n  function now() {\n    return new Date();\n  }\n\n  var force = true;\n\n  if (typeof root._bokeh_onload_callbacks === \"undefined\" || force === true) {\n    root._bokeh_onload_callbacks = [];\n    root._bokeh_is_loading = undefined;\n  }\n\n  \n\n  \n  if (typeof (root._bokeh_timeout) === \"undefined\" || force === true) {\n    root._bokeh_timeout = Date.now() + 5000;\n    root._bokeh_failed_load = false;\n  }\n\n  var NB_LOAD_WARNING = {'data': {'text/html':\n     \"<div style='background-color: #fdd'>\\n\"+\n     \"<p>\\n\"+\n     \"BokehJS does not appear to have successfully loaded. If loading BokehJS from CDN, this \\n\"+\n     \"may be due to a slow or bad network connection. Possible fixes:\\n\"+\n     \"</p>\\n\"+\n     \"<ul>\\n\"+\n     \"<li>re-rerun `output_notebook()` to attempt to load from CDN again, or</li>\\n\"+\n     \"<li>use INLINE resources instead, as so:</li>\\n\"+\n     \"</ul>\\n\"+\n     \"<code>\\n\"+\n     \"from bokeh.resources import INLINE\\n\"+\n     \"output_notebook(resources=INLINE)\\n\"+\n     \"</code>\\n\"+\n     \"</div>\"}};\n\n  function display_loaded() {\n    var el = document.getElementById(null);\n    if (el != null) {\n      el.textContent = \"BokehJS is loading...\";\n    }\n    if (root.Bokeh !== undefined) {\n      if (el != null) {\n        el.textContent = \"BokehJS \" + root.Bokeh.version + \" successfully loaded.\";\n      }\n    } else if (Date.now() < root._bokeh_timeout) {\n      setTimeout(display_loaded, 100)\n    }\n  }\n\n\n  function run_callbacks() {\n    try {\n      root._bokeh_onload_callbacks.forEach(function(callback) {\n        if (callback != null)\n          callback();\n      });\n    } finally {\n      delete root._bokeh_onload_callbacks\n    }\n    console.debug(\"Bokeh: all callbacks have finished\");\n  }\n\n  function load_libs(css_urls, js_urls, callback) {\n    if (css_urls == null) css_urls = [];\n    if (js_urls == null) js_urls = [];\n\n    root._bokeh_onload_callbacks.push(callback);\n    if (root._bokeh_is_loading > 0) {\n      console.debug(\"Bokeh: BokehJS is being loaded, scheduling callback at\", now());\n      return null;\n    }\n    if (js_urls == null || js_urls.length === 0) {\n      run_callbacks();\n      return null;\n    }\n    console.debug(\"Bokeh: BokehJS not loaded, scheduling load and callback at\", now());\n    root._bokeh_is_loading = css_urls.length + js_urls.length;\n\n    function on_load() {\n      root._bokeh_is_loading--;\n      if (root._bokeh_is_loading === 0) {\n        console.debug(\"Bokeh: all BokehJS libraries/stylesheets loaded\");\n        run_callbacks()\n      }\n    }\n\n    function on_error(url) {\n      console.error(\"failed to load \" + url);\n    }\n\n    for (let i = 0; i < css_urls.length; i++) {\n      const url = css_urls[i];\n      const element = document.createElement(\"link\");\n      element.onload = on_load;\n      element.onerror = on_error.bind(null, url);\n      element.rel = \"stylesheet\";\n      element.type = \"text/css\";\n      element.href = url;\n      console.debug(\"Bokeh: injecting link tag for BokehJS stylesheet: \", url);\n      document.body.appendChild(element);\n    }\n\n    const hashes = {\"https://cdn.bokeh.org/bokeh/release/bokeh-2.3.3.min.js\": \"dM3QQsP+wXdHg42wTqW85BjZQdLNNIXqlPw/BgKoExPmTG7ZLML4EGqLMfqHT6ON\", \"https://cdn.bokeh.org/bokeh/release/bokeh-tables-2.3.3.min.js\": \"8x57I4YuIfu8XyZfFo0XVr2WAT8EK4rh/uDe3wF7YuW2FNUSNEpJbsPaB1nJ2fz2\", \"https://cdn.bokeh.org/bokeh/release/bokeh-widgets-2.3.3.min.js\": \"3QTqdz9LyAm2i0sG5XTePsHec3UHWwVsrOL68SYRoAXsafvfAyqtQ+h440+qIBhS\"};\n\n    for (let i = 0; i < js_urls.length; i++) {\n      const url = js_urls[i];\n      const element = document.createElement('script');\n      element.onload = on_load;\n      element.onerror = on_error.bind(null, url);\n      element.async = false;\n      element.src = url;\n      if (url in hashes) {\n        element.crossOrigin = \"anonymous\";\n        element.integrity = \"sha384-\" + hashes[url];\n      }\n      console.debug(\"Bokeh: injecting script tag for BokehJS library: \", url);\n      document.head.appendChild(element);\n    }\n  };\n\n  function inject_raw_css(css) {\n    const element = document.createElement(\"style\");\n    element.appendChild(document.createTextNode(css));\n    document.body.appendChild(element);\n  }\n\n  \n  var js_urls = [\"https://cdn.bokeh.org/bokeh/release/bokeh-2.3.3.min.js\", \"https://cdn.bokeh.org/bokeh/release/bokeh-widgets-2.3.3.min.js\", \"https://cdn.bokeh.org/bokeh/release/bokeh-tables-2.3.3.min.js\"];\n  var css_urls = [];\n  \n\n  var inline_js = [\n    function(Bokeh) {\n      Bokeh.set_log_level(\"info\");\n    },\n    function(Bokeh) {\n    \n    \n    }\n  ];\n\n  function run_inline_js() {\n    \n    if (root.Bokeh !== undefined || force === true) {\n      \n    for (var i = 0; i < inline_js.length; i++) {\n      inline_js[i].call(root, root.Bokeh);\n    }\n    } else if (Date.now() < root._bokeh_timeout) {\n      setTimeout(run_inline_js, 100);\n    } else if (!root._bokeh_failed_load) {\n      console.log(\"Bokeh: BokehJS failed to load within specified timeout.\");\n      root._bokeh_failed_load = true;\n    } else if (force !== true) {\n      var cell = $(document.getElementById(null)).parents('.cell').data().cell;\n      cell.output_area.append_execute_result(NB_LOAD_WARNING)\n    }\n\n  }\n\n  if (root._bokeh_is_loading === 0) {\n    console.debug(\"Bokeh: BokehJS loaded, going straight to plotting\");\n    run_inline_js();\n  } else {\n    load_libs(css_urls, js_urls, function() {\n      console.debug(\"Bokeh: BokehJS plotting callback run at\", now());\n      run_inline_js();\n    });\n  }\n}(window));"
          },
          "metadata": {}
        },
        {
          "output_type": "display_data",
          "data": {
            "text/html": [
              "\n",
              "\n",
              "\n",
              "\n",
              "\n",
              "\n",
              "  <div class=\"bk-root\" id=\"208236c1-207e-4740-b6ad-6be1c4317a86\" data-root-id=\"1007\"></div>\n"
            ]
          },
          "metadata": {}
        },
        {
          "output_type": "display_data",
          "data": {
            "application/javascript": [
              "(function(root) {\n",
              "  function embed_document(root) {\n",
              "    \n",
              "  var docs_json = {\"c50310c0-7043-4643-9eca-05ae9df1ef2a\":{\"defs\":[],\"roots\":{\"references\":[{\"attributes\":{\"below\":[{\"id\":\"1018\"}],\"center\":[{\"id\":\"1021\"},{\"id\":\"1025\"}],\"left\":[{\"id\":\"1022\"}],\"renderers\":[{\"id\":\"1046\"},{\"id\":\"1051\"},{\"id\":\"1056\"},{\"id\":\"1061\"},{\"id\":\"1066\"},{\"id\":\"1071\"}],\"title\":{\"id\":\"1008\"},\"toolbar\":{\"id\":\"1034\"},\"x_range\":{\"id\":\"1010\"},\"x_scale\":{\"id\":\"1014\"},\"y_range\":{\"id\":\"1012\"},\"y_scale\":{\"id\":\"1016\"}},\"id\":\"1007\",\"subtype\":\"Figure\",\"type\":\"Plot\"},{\"attributes\":{\"data_source\":{\"id\":\"1003\"},\"glyph\":{\"id\":\"1064\"},\"hover_glyph\":null,\"muted_glyph\":null,\"nonselection_glyph\":{\"id\":\"1065\"},\"view\":{\"id\":\"1067\"}},\"id\":\"1066\",\"type\":\"GlyphRenderer\"},{\"attributes\":{\"data\":{\"twoD_x\":[2,2,2,2,2,2,2,2,2,2,2,2,2,2,2,2,2,2,2,2,2,2,2,2,2,2,2,2,2,2,2,2,2,2],\"twoD_y\":[0.0,0.01,0.02,0.03,0.04,0.05,0.06,0.07,0.08,0.09,0.1,0.11,0.12,0.13,0.14,0.15,0.16,0.17,0.18,0.19,0.2,0.21,0.22,0.23,0.24,0.25,0.26,0.27,0.28,0.29,0.3,0.31,0.32,0.33]},\"selected\":{\"id\":\"1082\"},\"selection_policy\":{\"id\":\"1081\"}},\"id\":\"1005\",\"type\":\"ColumnDataSource\"},{\"attributes\":{\"line_color\":\"#435363\",\"line_dash\":[2,4],\"line_width\":2,\"x\":{\"field\":\"var95_x\"},\"y\":{\"field\":\"var95_y\"}},\"id\":\"1054\",\"type\":\"Line\"},{\"attributes\":{\"line_alpha\":0.1,\"line_color\":\"#435363\",\"line_dash\":[2,4],\"line_width\":2,\"x\":{\"field\":\"var95_x\"},\"y\":{\"field\":\"var95_y\"}},\"id\":\"1055\",\"type\":\"Line\"},{\"attributes\":{\"bottom_units\":\"screen\",\"fill_alpha\":0.5,\"fill_color\":\"lightgrey\",\"left_units\":\"screen\",\"level\":\"overlay\",\"line_alpha\":1.0,\"line_color\":\"black\",\"line_dash\":[4,4],\"line_width\":2,\"right_units\":\"screen\",\"syncable\":false,\"top_units\":\"screen\"},\"id\":\"1033\",\"type\":\"BoxAnnotation\"},{\"attributes\":{},\"id\":\"1087\",\"type\":\"UnionRenderers\"},{\"attributes\":{\"line_color\":\"#435363\",\"line_dash\":[2,4],\"line_width\":0.5,\"x\":{\"field\":\"threeD_x\"},\"y\":{\"field\":\"threeD_y\"}},\"id\":\"1049\",\"type\":\"Line\"},{\"attributes\":{},\"id\":\"1084\",\"type\":\"Selection\"},{\"attributes\":{\"source\":{\"id\":\"1006\"}},\"id\":\"1052\",\"type\":\"CDSView\"},{\"attributes\":{},\"id\":\"1074\",\"type\":\"AllLabels\"},{\"attributes\":{\"axis\":{\"id\":\"1022\"},\"bounds\":[0,39],\"dimension\":1,\"grid_line_alpha\":0.25,\"ticker\":null},\"id\":\"1025\",\"type\":\"Grid\"},{\"attributes\":{},\"id\":\"1086\",\"type\":\"Selection\"},{\"attributes\":{\"data\":{\"threeD_x\":[3,3,3,3,3,3,3,3,3,3,3,3,3,3,3,3,3,3,3,3,3,3,3,3,3,3,3,3,3,3,3,3,3,3,3,3,3,3,3,3,3,3,3,3,3,3,3],\"threeD_y\":[0.0,0.01,0.02,0.03,0.04,0.05,0.06,0.07,0.08,0.09,0.1,0.11,0.12,0.13,0.14,0.15,0.16,0.17,0.18,0.19,0.2,0.21,0.22,0.23,0.24,0.25,0.26,0.27,0.28,0.29,0.3,0.31,0.32,0.33,0.34,0.35,0.36,0.37,0.38,0.39,0.4,0.41,0.42,0.43,0.44,0.45,0.46]},\"selected\":{\"id\":\"1084\"},\"selection_policy\":{\"id\":\"1083\"}},\"id\":\"1006\",\"type\":\"ColumnDataSource\"},{\"attributes\":{},\"id\":\"1088\",\"type\":\"Selection\"},{\"attributes\":{},\"id\":\"1029\",\"type\":\"SaveTool\"},{\"attributes\":{\"source\":{\"id\":\"1003\"}},\"id\":\"1072\",\"type\":\"CDSView\"},{\"attributes\":{},\"id\":\"1085\",\"type\":\"UnionRenderers\"},{\"attributes\":{\"axis_label\":\"Variance Explained (per PC & Cumulative)\",\"bounds\":[0,1],\"formatter\":{\"id\":\"1078\"},\"major_label_policy\":{\"id\":\"1077\"},\"ticker\":{\"id\":\"1023\"}},\"id\":\"1022\",\"type\":\"LinearAxis\"},{\"attributes\":{\"source\":{\"id\":\"1005\"}},\"id\":\"1047\",\"type\":\"CDSView\"},{\"attributes\":{\"line_alpha\":0.1,\"line_color\":\"#F79737\",\"x\":{\"field\":\"x_dim\"},\"y\":{\"field\":\"y_cumvar\"}},\"id\":\"1065\",\"type\":\"Line\"},{\"attributes\":{},\"id\":\"1082\",\"type\":\"Selection\"},{\"attributes\":{\"fill_color\":{\"value\":\"#D9F2EF\"},\"line_color\":{\"value\":\"#D9F2EF\"},\"top\":{\"field\":\"y_var\"},\"width\":{\"value\":0.5},\"x\":{\"field\":\"x_dim\"}},\"id\":\"1059\",\"type\":\"VBar\"},{\"attributes\":{\"line_color\":\"#F79737\",\"x\":{\"field\":\"x_dim\"},\"y\":{\"field\":\"y_cumvar\"}},\"id\":\"1064\",\"type\":\"Line\"},{\"attributes\":{\"callback\":null},\"id\":\"1031\",\"type\":\"TapTool\"},{\"attributes\":{},\"id\":\"1077\",\"type\":\"AllLabels\"},{\"attributes\":{\"data_source\":{\"id\":\"1003\"},\"glyph\":{\"id\":\"1059\"},\"hover_glyph\":null,\"muted_glyph\":null,\"name\":\"PCA\",\"nonselection_glyph\":{\"id\":\"1060\"},\"view\":{\"id\":\"1062\"}},\"id\":\"1061\",\"type\":\"GlyphRenderer\"},{\"attributes\":{\"fill_alpha\":{\"value\":0.1},\"fill_color\":{\"value\":\"#FF4C00\"},\"line_alpha\":{\"value\":0.1},\"line_color\":{\"value\":\"#FF4C00\"},\"size\":{\"value\":7},\"x\":{\"field\":\"x_dim\"},\"y\":{\"field\":\"y_cumvar\"}},\"id\":\"1070\",\"type\":\"Circle\"},{\"attributes\":{\"overlay\":{\"id\":\"1033\"}},\"id\":\"1032\",\"type\":\"BoxZoomTool\"},{\"attributes\":{\"text\":\"PCA Analysis\"},\"id\":\"1008\",\"type\":\"Title\"},{\"attributes\":{\"source\":{\"id\":\"1004\"}},\"id\":\"1057\",\"type\":\"CDSView\"},{\"attributes\":{},\"id\":\"1078\",\"type\":\"BasicTickFormatter\"},{\"attributes\":{},\"id\":\"1023\",\"type\":\"BasicTicker\"},{\"attributes\":{},\"id\":\"1016\",\"type\":\"LinearScale\"},{\"attributes\":{},\"id\":\"1030\",\"type\":\"ResetTool\"},{\"attributes\":{\"line_color\":\"#435363\",\"line_dash\":[2,4],\"line_width\":0.5,\"x\":{\"field\":\"twoD_x\"},\"y\":{\"field\":\"twoD_y\"}},\"id\":\"1044\",\"type\":\"Line\"},{\"attributes\":{\"data_source\":{\"id\":\"1005\"},\"glyph\":{\"id\":\"1044\"},\"hover_glyph\":null,\"muted_glyph\":null,\"nonselection_glyph\":{\"id\":\"1045\"},\"view\":{\"id\":\"1047\"}},\"id\":\"1046\",\"type\":\"GlyphRenderer\"},{\"attributes\":{},\"id\":\"1019\",\"type\":\"BasicTicker\"},{\"attributes\":{},\"id\":\"1028\",\"type\":\"ZoomOutTool\"},{\"attributes\":{\"line_alpha\":0.1,\"line_color\":\"#435363\",\"line_dash\":[2,4],\"line_width\":0.5,\"x\":{\"field\":\"threeD_x\"},\"y\":{\"field\":\"threeD_y\"}},\"id\":\"1050\",\"type\":\"Line\"},{\"attributes\":{},\"id\":\"1012\",\"type\":\"DataRange1d\"},{\"attributes\":{\"data_source\":{\"id\":\"1003\"},\"glyph\":{\"id\":\"1069\"},\"hover_glyph\":null,\"muted_glyph\":null,\"name\":\"PCA\",\"nonselection_glyph\":{\"id\":\"1070\"},\"view\":{\"id\":\"1072\"}},\"id\":\"1071\",\"type\":\"GlyphRenderer\"},{\"attributes\":{\"source\":{\"id\":\"1003\"}},\"id\":\"1062\",\"type\":\"CDSView\"},{\"attributes\":{\"source\":{\"id\":\"1003\"}},\"id\":\"1067\",\"type\":\"CDSView\"},{\"attributes\":{},\"id\":\"1026\",\"type\":\"CrosshairTool\"},{\"attributes\":{\"fill_alpha\":{\"value\":0.1},\"fill_color\":{\"value\":\"#D9F2EF\"},\"line_alpha\":{\"value\":0.1},\"line_color\":{\"value\":\"#D9F2EF\"},\"top\":{\"field\":\"y_var\"},\"width\":{\"value\":0.5},\"x\":{\"field\":\"x_dim\"}},\"id\":\"1060\",\"type\":\"VBar\"},{\"attributes\":{\"fill_color\":{\"value\":\"#FF4C00\"},\"line_color\":{\"value\":\"#FF4C00\"},\"size\":{\"value\":7},\"x\":{\"field\":\"x_dim\"},\"y\":{\"field\":\"y_cumvar\"}},\"id\":\"1069\",\"type\":\"Circle\"},{\"attributes\":{\"data_source\":{\"id\":\"1006\"},\"glyph\":{\"id\":\"1049\"},\"hover_glyph\":null,\"muted_glyph\":null,\"nonselection_glyph\":{\"id\":\"1050\"},\"view\":{\"id\":\"1052\"}},\"id\":\"1051\",\"type\":\"GlyphRenderer\"},{\"attributes\":{\"data\":{\"var95_x\":[22,22,22,22,22,22,22,22,22,22,22,22,22,22,22,22,22,22,22,22,22,22,22,22,22,22,22,22,22,22,22,22,22,22,22,22,22,22,22,22,22,22,22,22,22,22,22,22,22,22,22,22,22,22,22,22,22,22,22,22,22,22,22,22,22,22,22,22,22,22,22,22,22,22,22,22,22,22,22,22,22,22,22,22,22,22,22,22,22,22,22,22,22,22,22,22],\"var95_y\":[0.0,0.01,0.02,0.03,0.04,0.05,0.06,0.07,0.08,0.09,0.1,0.11,0.12,0.13,0.14,0.15,0.16,0.17,0.18,0.19,0.2,0.21,0.22,0.23,0.24,0.25,0.26,0.27,0.28,0.29,0.3,0.31,0.32,0.33,0.34,0.35,0.36,0.37,0.38,0.39,0.4,0.41,0.42,0.43,0.44,0.45,0.46,0.47,0.48,0.49,0.5,0.51,0.52,0.53,0.54,0.55,0.56,0.57,0.58,0.59,0.6,0.61,0.62,0.63,0.64,0.65,0.66,0.67,0.68,0.69,0.7,0.71,0.72,0.73,0.74,0.75,0.76,0.77,0.78,0.79,0.8,0.81,0.82,0.83,0.84,0.85,0.86,0.87,0.88,0.89,0.9,0.91,0.92,0.93,0.94,0.95]},\"selected\":{\"id\":\"1086\"},\"selection_policy\":{\"id\":\"1085\"}},\"id\":\"1004\",\"type\":\"ColumnDataSource\"},{\"attributes\":{\"data\":{\"x_dim\":[0,1,2,3,4,5,6,7,8,9,10,11,12,13,14,15,16,17,18,19,20,21,22,23,24,25,26,27,28,29,30,31,32,33,34,35,36,37,38,39],\"y_cumvar\":{\"__ndarray__\":\"AAAAAAAAAACjDrnM7dvKP5hm/8bzoNU/jQucQPVp3T/4SSwmgp/gPwlN9wJfPuI/HaeCEhi44z+1yz18FBrlP/6H6Y16U+Y/+DSr/qhe5z/JIPCPYjjoP59iIaEXDuk/O3WjH27b6T/ntaToA53qP0F+vIh8UOs/vLN5qhf86z/0l2uTbozsPwKY535TCe0/zWU2EQRp7T/6RDHoP7ztP3AuesnoDe4/IUSoNu9Z7j/0+tNfaKLuPz3jeuQz5O4/5igw/gYV7z8x0FsFpz7vP31XXr88ZO8/i4Ag2z+E7z8vR2IuaKHvP1XEmkLXtu8/q78OpG7K7z/FvVa/99rvP9B0YuZ36O8/swXt19Lx7z/tT3OIzPfvP1tIH/cg/e8/9Hypcq//7z8BAAAAAADwPwEAAAAAAPA/AQAAAAAA8D8=\",\"dtype\":\"float64\",\"order\":\"little\",\"shape\":[40]},\"y_var\":{\"__ndarray__\":\"AAAAAAAAAACjDrnM7dvKP46+RcH5ZcA/1JNy5gUkvz8XQ+RdeKiuPw8xsMzN7ak/OaG1+JCbpz+GSbKbxh+mP4jEuxphlqM/oM8aDOeyoD8bep0oMjebP7o6KCaitpo/d1NC0M+qmT95FSgguTKYP00L+QIUb5Y/UK+mN2RzlT8Hhzwe3QqSP28DAN86OY8/vHKzkyTshz8my7e+9c6EP3FdOlI4aoQ/LGyFS5sBgz+otO1KSh6CPzcSuinhcoA/X9Si2oxpeD9apdOVA9B0P+elQwHdynI/B4cU4Y0BcD+wo8ZBUyhtP+0lfTgUb2U/XFb7c2GXYz8aGv5HG4lgP9YVbhdOAFs/UMUhFeO1Uj/O5ygZwuZHP1e44a+6UUU/GsqkUdxzND8sqcOgVSMEP439HDR7Nhc5jf0cNHs2Fzk=\",\"dtype\":\"float64\",\"order\":\"little\",\"shape\":[40]}},\"selected\":{\"id\":\"1088\"},\"selection_policy\":{\"id\":\"1087\"}},\"id\":\"1003\",\"type\":\"ColumnDataSource\"},{\"attributes\":{},\"id\":\"1081\",\"type\":\"UnionRenderers\"},{\"attributes\":{},\"id\":\"1027\",\"type\":\"ZoomInTool\"},{\"attributes\":{\"axis_label\":\"N of 39 Principal Components\",\"bounds\":[0,39],\"formatter\":{\"id\":\"1075\"},\"major_label_policy\":{\"id\":\"1074\"},\"ticker\":{\"id\":\"1019\"}},\"id\":\"1018\",\"type\":\"LinearAxis\"},{\"attributes\":{\"line_alpha\":0.1,\"line_color\":\"#435363\",\"line_dash\":[2,4],\"line_width\":0.5,\"x\":{\"field\":\"twoD_x\"},\"y\":{\"field\":\"twoD_y\"}},\"id\":\"1045\",\"type\":\"Line\"},{\"attributes\":{},\"id\":\"1083\",\"type\":\"UnionRenderers\"},{\"attributes\":{\"active_multi\":null,\"tools\":[{\"id\":\"1002\"},{\"id\":\"1026\"},{\"id\":\"1027\"},{\"id\":\"1028\"},{\"id\":\"1029\"},{\"id\":\"1030\"},{\"id\":\"1031\"},{\"id\":\"1032\"}]},\"id\":\"1034\",\"type\":\"Toolbar\"},{\"attributes\":{},\"id\":\"1010\",\"type\":\"DataRange1d\"},{\"attributes\":{},\"id\":\"1014\",\"type\":\"LinearScale\"},{\"attributes\":{\"callback\":null,\"names\":[\"PCA\"],\"tooltips\":[[\"dimensions\",\"@x_dim\"],[\"cumulative variance\",\"@y_cumvar\"],[\"explained variance\",\"@y_var\"]]},\"id\":\"1002\",\"type\":\"HoverTool\"},{\"attributes\":{\"axis\":{\"id\":\"1018\"},\"bounds\":[0,39],\"grid_line_alpha\":0.25,\"ticker\":null},\"id\":\"1021\",\"type\":\"Grid\"},{\"attributes\":{},\"id\":\"1075\",\"type\":\"BasicTickFormatter\"},{\"attributes\":{\"data_source\":{\"id\":\"1004\"},\"glyph\":{\"id\":\"1054\"},\"hover_glyph\":null,\"muted_glyph\":null,\"nonselection_glyph\":{\"id\":\"1055\"},\"view\":{\"id\":\"1057\"}},\"id\":\"1056\",\"type\":\"GlyphRenderer\"}],\"root_ids\":[\"1007\"]},\"title\":\"Bokeh Application\",\"version\":\"2.3.3\"}};\n",
              "  var render_items = [{\"docid\":\"c50310c0-7043-4643-9eca-05ae9df1ef2a\",\"root_ids\":[\"1007\"],\"roots\":{\"1007\":\"208236c1-207e-4740-b6ad-6be1c4317a86\"}}];\n",
              "  root.Bokeh.embed.embed_items_notebook(docs_json, render_items);\n",
              "\n",
              "  }\n",
              "  if (root.Bokeh !== undefined) {\n",
              "    embed_document(root);\n",
              "  } else {\n",
              "    var attempts = 0;\n",
              "    var timer = setInterval(function(root) {\n",
              "      if (root.Bokeh !== undefined) {\n",
              "        clearInterval(timer);\n",
              "        embed_document(root);\n",
              "      } else {\n",
              "        attempts++;\n",
              "        if (attempts > 100) {\n",
              "          clearInterval(timer);\n",
              "          console.log(\"Bokeh: ERROR: Unable to run BokehJS code because BokehJS library is missing\");\n",
              "        }\n",
              "      }\n",
              "    }, 10, root)\n",
              "  }\n",
              "})(window);"
            ],
            "application/vnd.bokehjs_exec.v0+json": ""
          },
          "metadata": {
            "application/vnd.bokehjs_exec.v0+json": {
              "id": "1007"
            }
          }
        },
        {
          "output_type": "stream",
          "name": "stdout",
          "text": [
            "X*X_pca: (39, 10000) * (10000, 39) = (39, 39)\n"
          ]
        },
        {
          "output_type": "display_data",
          "data": {
            "image/png": "[encoded data removed]",
            "text/plain": [
              "<Figure size 900x600 with 2 Axes>"
            ]
          },
          "metadata": {
            "needs_background": "light"
          }
        },
        {
          "output_type": "display_data",
          "data": {
            "image/png": "[encoded data removed]",
            "text/plain": [
              "<Figure size 900x600 with 2 Axes>"
            ]
          },
          "metadata": {
            "needs_background": "light"
          }
        },
        {
          "output_type": "display_data",
          "data": {
            "image/png": "[encoded data removed]",
            "text/plain": [
              "<Figure size 900x600 with 2 Axes>"
            ]
          },
          "metadata": {
            "needs_background": "light"
          }
        },
        {
          "output_type": "stream",
          "name": "stdout",
          "text": [
            "        score_      feature_\n",
            "rank                        \n",
            "1     1.404162       PRS_NAT\n",
            "2     1.026402   PSP_ACT_CAT\n",
            "3     0.985119       SOI_ANN\n",
            "4     0.884164   PRE_INS_REG\n",
            "5     0.872417   DDP_SPE_COD\n",
            "6     0.829845   EXE_INS_REG\n",
            "7     0.716407   ORG_CLE_REG\n",
            "8     0.711795       EXO_MTF\n",
            "9     0.700100  PSE_ACT_SNDS\n",
            "10    0.686305   ETP_REG_COD\n",
            "11    0.679022   PRS_REM_TAU\n",
            "12    0.662919   PSE_ACT_CAT\n",
            "13    0.662911  ETE_TYP_SNDS\n",
            "14    0.659037       MFT_COD\n",
            "15    0.656441   ETE_REG_COD\n",
            "16    0.598229   BEN_RES_REG\n",
            "17    0.559555  AGE_BEN_SNDS\n",
            "18    0.528559   DRG_AFF_NAT\n",
            "19    0.458774   PRS_PDS_QCP\n",
            "20    0.400765   PRS_REM_TYP\n",
            "21    0.388158       ASU_NAT\n",
            "22    0.348977  PSP_SPE_SNDS\n",
            "23    0.325307  PSE_SPE_SNDS\n",
            "24    0.304431  PSP_ACT_SNDS\n",
            "25    0.231495  PSP_STJ_SNDS\n",
            "26    0.216664  PSE_STJ_SNDS\n",
            "27    0.204865   MDT_TYP_COD\n",
            "28    0.197746   PRS_FJH_TYP\n",
            "29    0.183570       SOI_MOI\n",
            "30    0.179315   CPT_ENV_TYP\n",
            "31    0.174153   BEN_SEX_COD\n",
            "32    0.173286   BEN_QLT_COD\n",
            "33    0.170993   BEN_CMU_TOP\n",
            "34    0.167384       MTM_NAT\n",
            "35    0.161519   PRS_PPU_SEC\n",
            "36    0.159237       ATT_NAT\n",
            "37    0.158728       CPL_COD\n",
            "38    0.157219   TOP_PS5_TRG\n",
            "39    0.156270   ETE_IND_TAA\n"
          ]
        },
        {
          "output_type": "execute_result",
          "data": {
            "text/plain": [
              "(           variance_cumulative      variance\n",
              " dimension                                   \n",
              " 1                     0.209837  2.098367e-01\n",
              " 2                     0.337949  1.281120e-01\n",
              " 3                     0.459592  1.216434e-01\n",
              " 4                     0.519471  5.987908e-02\n",
              " 5                     0.570114  5.064242e-02\n",
              " 6                     0.616222  4.610875e-02\n",
              " 7                     0.659434  4.321118e-02\n",
              " 8                     0.697690  3.825668e-02\n",
              " 9                     0.730305  3.261492e-02\n",
              " 10                    0.756883  2.657774e-02\n",
              " 11                    0.782970  2.608732e-02\n",
              " 12                    0.808036  2.506566e-02\n",
              " 13                    0.831667  2.363099e-02\n",
              " 14                    0.853575  2.190810e-02\n",
              " 15                    0.874523  2.094800e-02\n",
              " 16                    0.892143  1.761957e-02\n",
              " 17                    0.907388  1.524588e-02\n",
              " 18                    0.919069  1.168088e-02\n",
              " 19                    0.929230  1.016037e-02\n",
              " 20                    0.939198  9.968224e-03\n",
              " 21                    0.948478  9.280408e-03\n",
              " 22                    0.957325  8.846836e-03\n",
              " 23                    0.965357  8.031615e-03\n",
              " 24                    0.971317  5.960036e-03\n",
              " 25                    0.976398  5.081190e-03\n",
              " 26                    0.980986  4.587997e-03\n",
              " 27                    0.984894  3.907732e-03\n",
              " 28                    0.988453  3.559268e-03\n",
              " 29                    0.991069  2.616443e-03\n",
              " 30                    0.993461  2.391520e-03\n",
              " 31                    0.995479  2.018503e-03\n",
              " 32                    0.997127  1.648022e-03\n",
              " 33                    0.998269  1.141998e-03\n",
              " 34                    0.998999  7.294128e-04\n",
              " 35                    0.999650  6.506120e-04\n",
              " 36                    0.999962  3.120816e-04\n",
              " 37                    1.000000  3.841024e-05\n",
              " 38                    1.000000  1.117657e-33\n",
              " 39                    1.000000  1.117657e-33,\n",
              " array([[ 3.06361658e+03, -3.00787650e+01,  9.51859649e+00, ...,\n",
              "         -4.39579370e-03,  5.32149763e-14, -1.76364143e-12],\n",
              "        [-1.59841848e+03,  6.42343144e-01, -6.64275252e+01, ...,\n",
              "         -2.47288808e-03, -1.87779865e-13, -2.98528897e-13],\n",
              "        [ 4.82694825e+02, -1.35987350e+01, -5.10006692e+01, ...,\n",
              "         -2.86547825e-03,  1.47959919e-13,  2.57627782e-13],\n",
              "        ...,\n",
              "        [ 3.06673120e+03, -2.90695419e+01,  9.42189056e+00, ...,\n",
              "          1.31151860e-02,  4.85245877e-15, -3.39832529e-15],\n",
              "        [ 2.63217331e+02, -1.06683523e+01, -4.19911806e+01, ...,\n",
              "          4.32410910e-03, -1.82722288e-15,  1.69234251e-16],\n",
              "        [-1.07907477e+03, -2.21265904e+00, -6.27766638e+01, ...,\n",
              "          4.37690038e-03, -6.41650845e-16,  5.20913278e-15]]),\n",
              " array([2.09836698e-01, 1.28112049e-01, 1.21643418e-01, 5.98790755e-02,\n",
              "        5.06424248e-02, 4.61087516e-02, 4.32111802e-02, 3.82566781e-02,\n",
              "        3.26149180e-02, 2.65777433e-02, 2.60873161e-02, 2.50656577e-02,\n",
              "        2.36309934e-02, 2.19081046e-02, 2.09479960e-02, 1.76195669e-02,\n",
              "        1.52458762e-02, 1.16808755e-02, 1.01603698e-02, 9.96822358e-03,\n",
              "        9.28040814e-03, 8.84683648e-03, 8.03161534e-03, 5.96003553e-03,\n",
              "        5.08119011e-03, 4.58799677e-03, 3.90773222e-03, 3.55926763e-03,\n",
              "        2.61644315e-03, 2.39151987e-03, 2.01850251e-03, 1.64802195e-03,\n",
              "        1.14199806e-03, 7.29412818e-04, 6.50612026e-04, 3.12081612e-04,\n",
              "        3.84102351e-05, 1.11765650e-33, 1.11765650e-33]),\n",
              "                        PC1           PC2  ...          PC38          PC39\n",
              " ORG_CLE_REG  -2.912373e+07 -2.569099e+05  ...  1.231980e-09  3.351570e-09\n",
              " AGE_BEN_SNDS -5.286101e+07  2.810010e+05  ...  1.115002e-09  3.033334e-09\n",
              " BEN_RES_REG   1.767681e+08 -1.668807e+06  ...  1.389881e-09  3.781137e-09\n",
              " BEN_CMU_TOP  -3.259864e+05  4.400471e+04  ...  4.838543e-12  1.316313e-11\n",
              " BEN_QLT_COD  -1.191913e+06 -1.517156e+03  ...  2.720336e-11  7.400606e-11\n",
              " BEN_SEX_COD  -2.011887e+04 -3.984829e+03  ...  3.545977e-11  9.646741e-11\n",
              " DDP_SPE_COD   2.404188e+08 -3.155833e+06  ...  2.174235e-09  5.914952e-09\n",
              " ETE_REG_COD   1.142895e+08 -1.662098e+06  ...  1.978673e-09  5.382931e-09\n",
              " ETE_TYP_SNDS  2.298115e+08 -3.238170e+06  ...  1.682189e-09  4.576352e-09\n",
              " ETP_REG_COD  -4.417776e+07  1.055215e+06  ...  2.002102e-09  5.446668e-09\n",
              " MDT_TYP_COD   1.133340e+07 -1.786991e+05  ...  1.745604e-10  4.748873e-10\n",
              " MFT_COD       2.145565e+08 -3.084879e+06  ...  1.715944e-09  4.668183e-09\n",
              " PRS_FJH_TYP  -1.546949e+06  1.334208e+05  ...  2.444894e-11  6.651272e-11\n",
              " SOI_ANN      -2.201672e+08 -9.996964e+07  ...  4.607270e-08  1.253396e-07\n",
              " SOI_MOI      -8.105883e+06 -4.855627e+05  ...  2.419500e-10  6.582189e-10\n",
              " ASU_NAT       6.024274e+07  1.886443e+06  ...  2.830650e-10  7.700713e-10\n",
              " ATT_NAT       8.124977e+04  3.159364e+04  ...  3.660363e-14  9.957926e-14\n",
              " CPL_COD       0.000000e+00  0.000000e+00  ...  0.000000e+00  0.000000e+00\n",
              " CPT_ENV_TYP  -8.796527e+05  1.179824e+05  ...  2.989373e-11  8.132514e-11\n",
              " DRG_AFF_NAT  -6.419973e+07 -2.402463e+05  ...  6.807635e-10  1.852000e-09\n",
              " ETE_IND_TAA   2.051575e+07 -2.879638e+05  ...  1.537673e-10  4.183200e-10\n",
              " EXO_MTF      -3.110067e+07 -1.001001e+06  ...  7.084724e-10  1.927382e-09\n",
              " MTM_NAT      -1.414997e+06  3.813119e+03  ...  3.578005e-12  9.733873e-12\n",
              " PRS_NAT       2.752688e+10 -6.181004e+05  ...  6.979014e-08  1.898623e-07\n",
              " PRS_PPU_SEC   4.881192e+05 -7.116715e+03  ...  4.445969e-11  1.209515e-10\n",
              " PRS_REM_TAU  -4.501610e+08  2.685140e+06  ...  1.574458e-09  4.283274e-09\n",
              " PRS_REM_TYP  -1.067431e+07  3.743686e+04  ...  2.332795e-11  6.346311e-11\n",
              " PRS_PDS_QCP  -1.273159e+08 -1.169242e+05  ...  5.346578e-10  1.454523e-09\n",
              " EXE_INS_REG   1.270791e+08  1.509676e+06  ...  1.669638e-09  4.542209e-09\n",
              " PSE_ACT_SNDS -1.767980e+07 -1.492253e+06  ...  4.103427e-10  1.116327e-09\n",
              " PSE_ACT_CAT   5.197126e+08 -2.193244e+05  ...  4.480582e-10  1.218931e-09\n",
              " PSE_SPE_SNDS -1.895022e+07  6.771494e+04  ...  2.900151e-11  7.889790e-11\n",
              " PSE_STJ_SNDS  3.400930e+07  6.046173e+03  ...  8.302390e-11  2.258644e-10\n",
              " PRE_INS_REG  -5.724516e+07  2.765183e+06  ...  1.719318e-09  4.677363e-09\n",
              " PSP_ACT_SNDS -1.480318e+07 -5.490311e+04  ...  4.007869e-11  1.090331e-10\n",
              " PSP_ACT_CAT  -1.562347e+08  7.618967e+06  ...  5.208125e-10  1.416857e-09\n",
              " PSP_SPE_SNDS  7.405611e+06 -3.827209e+05  ...  8.317260e-11  2.262690e-10\n",
              " PSP_STJ_SNDS -1.171619e+07  5.178579e+05  ...  9.292061e-11  2.527882e-10\n",
              " TOP_PS5_TRG  -8.625705e+05  3.025200e+03  ...  2.476236e-11  6.736537e-11\n",
              " \n",
              " [39 rows x 39 columns],\n",
              "                    PC1       PC2       PC3  ...      PC37      PC38      PC39\n",
              " PRS_NAT       6.081596  0.119788  0.229247  ... -0.156643  5.051320  5.051320\n",
              " PSE_ACT_CAT  -0.044752  0.144543  0.151453  ... -0.155820 -0.237302 -0.237302\n",
              " DDP_SPE_COD  -0.108107 -0.037749 -2.806797  ... -0.156576 -0.105649 -0.105649\n",
              " ETE_TYP_SNDS -0.110514 -0.042860 -2.848233  ... -0.158095 -0.143177 -0.143177\n",
              " MFT_COD      -0.113974 -0.033344 -2.702597  ... -0.154818 -0.140602 -0.140602\n",
              " BEN_RES_REG  -0.122546  0.054563  0.224149  ... -0.156673 -0.165471 -0.165471\n",
              " EXE_INS_REG  -0.133818  0.251875  1.610965  ... -0.156542 -0.144134 -0.144134\n",
              " ETE_REG_COD  -0.136719  0.054979 -1.367862  ... -0.156561 -0.120564 -0.120564\n",
              " ASU_NAT      -0.148979  0.275264  0.146412  ... -0.152979 -0.249886 -0.249886\n",
              " PSE_STJ_SNDS -0.154930  0.158533  0.156147  ... -0.144751 -0.265143 -0.265143\n",
              " ETE_IND_TAA  -0.157991  0.140282 -0.124238  ... -0.153812 -0.259747 -0.259747\n",
              " MDT_TYP_COD  -0.160074  0.147065 -0.021602  ... -0.156712 -0.258161 -0.258161\n",
              " PSP_SPE_SNDS -0.160965  0.134400  0.005900  ... -0.156183 -0.265131 -0.265131\n",
              " PRS_PPU_SEC  -0.162534  0.157716  0.134445  ... -0.238268 -0.268084 -0.268084\n",
              " ATT_NAT      -0.162626  0.160119  0.141546  ...  6.084079 -0.271472 -0.271472\n",
              " CPL_COD      -0.162644  0.158158  0.141698  ... -0.156616 -0.271475 -0.271475\n",
              " BEN_SEX_COD  -0.162649  0.157911  0.140980  ... -0.160808 -0.268770 -0.268770\n",
              " BEN_CMU_TOP  -0.162718  0.160890  0.147866  ... -0.202430 -0.271106 -0.271106\n",
              " TOP_PS5_TRG  -0.162840  0.158346  0.144141  ... -0.156159 -0.269586 -0.269586\n",
              " CPT_ENV_TYP  -0.162844  0.165482  0.169539  ... -0.172984 -0.269195 -0.269195\n",
              " BEN_QLT_COD  -0.162915  0.158064  0.140075  ... -0.156061 -0.269400 -0.269400\n",
              " MTM_NAT      -0.162965  0.158395  0.144663  ... -0.159649 -0.271202 -0.271202\n",
              " PRS_FJH_TYP  -0.162995  0.166441  0.114653  ... -0.185131 -0.269610 -0.269610\n",
              " SOI_MOI      -0.164483  0.128016  0.124617  ... -0.154720 -0.253022 -0.253022\n",
              " PRS_REM_TYP  -0.165066  0.160482  0.171926  ... -0.150960 -0.269696 -0.269696\n",
              " PSP_STJ_SNDS -0.165302  0.190305  0.309910  ... -0.140523 -0.264388 -0.264388\n",
              " PSP_ACT_SNDS -0.166002  0.154750  0.055718  ... -0.156778 -0.268418 -0.268418\n",
              " PSE_ACT_SNDS -0.166655  0.065523 -0.693306  ... -0.155612 -0.240179 -0.240179\n",
              " PSE_SPE_SNDS -0.166943  0.162362  0.121345  ... -0.157204 -0.269263 -0.269263\n",
              " ORG_CLE_REG  -0.169251  0.142210  0.187757  ... -0.156834 -0.177514 -0.177514\n",
              " EXO_MTF      -0.169699  0.096018  0.530092  ... -0.156769 -0.217441 -0.217441\n",
              " ETP_REG_COD  -0.172666  0.223663  0.171931  ... -0.156117 -0.118777 -0.118777\n",
              " AGE_BEN_SNDS -0.174635  0.175602  0.071746  ... -0.156888 -0.186435 -0.186435\n",
              " PRE_INS_REG  -0.175630  0.329814  1.340244  ... -0.156614 -0.140345 -0.140345\n",
              " DRG_AFF_NAT  -0.177208  0.143244  0.340720  ... -0.156399 -0.219554 -0.219554\n",
              " PRS_PDS_QCP  -0.191525  0.150900  0.152114  ... -0.156795 -0.230697 -0.230697\n",
              " PSP_ACT_CAT  -0.198085  0.631125  2.534960  ... -0.157106 -0.231753 -0.231753\n",
              " SOI_ANN      -0.212587 -6.047720  0.682543  ... -0.154615  3.242424  3.242424\n",
              " PRS_REM_TAU  -0.264760  0.324845 -0.174866  ... -0.155874 -0.151393 -0.151393\n",
              " \n",
              " [39 rows x 39 columns],\n",
              "                    PC1       PC2       PC3  ...      PC37      PC38      PC39\n",
              " PRS_NAT       6.081596  0.119788  0.229247  ...  0.156643  5.051320  5.051320\n",
              " PRS_REM_TAU   0.264760  0.324845  0.174866  ...  0.155874  0.151393  0.151393\n",
              " SOI_ANN       0.212587  6.047720  0.682543  ...  0.154615  3.242424  3.242424\n",
              " PSP_ACT_CAT   0.198085  0.631125  2.534960  ...  0.157106  0.231753  0.231753\n",
              " PRS_PDS_QCP   0.191525  0.150900  0.152114  ...  0.156795  0.230697  0.230697\n",
              " DRG_AFF_NAT   0.177208  0.143244  0.340720  ...  0.156399  0.219554  0.219554\n",
              " PRE_INS_REG   0.175630  0.329814  1.340244  ...  0.156614  0.140345  0.140345\n",
              " AGE_BEN_SNDS  0.174635  0.175602  0.071746  ...  0.156888  0.186435  0.186435\n",
              " ETP_REG_COD   0.172666  0.223663  0.171931  ...  0.156117  0.118777  0.118777\n",
              " EXO_MTF       0.169699  0.096018  0.530092  ...  0.156769  0.217441  0.217441\n",
              " ORG_CLE_REG   0.169251  0.142210  0.187757  ...  0.156834  0.177514  0.177514\n",
              " PSE_SPE_SNDS  0.166943  0.162362  0.121345  ...  0.157204  0.269263  0.269263\n",
              " PSE_ACT_SNDS  0.166655  0.065523  0.693306  ...  0.155612  0.240179  0.240179\n",
              " PSP_ACT_SNDS  0.166002  0.154750  0.055718  ...  0.156778  0.268418  0.268418\n",
              " PSP_STJ_SNDS  0.165302  0.190305  0.309910  ...  0.140523  0.264388  0.264388\n",
              " PRS_REM_TYP   0.165066  0.160482  0.171926  ...  0.150960  0.269696  0.269696\n",
              " SOI_MOI       0.164483  0.128016  0.124617  ...  0.154720  0.253022  0.253022\n",
              " PRS_FJH_TYP   0.162995  0.166441  0.114653  ...  0.185131  0.269610  0.269610\n",
              " MTM_NAT       0.162965  0.158395  0.144663  ...  0.159649  0.271202  0.271202\n",
              " BEN_QLT_COD   0.162915  0.158064  0.140075  ...  0.156061  0.269400  0.269400\n",
              " CPT_ENV_TYP   0.162844  0.165482  0.169539  ...  0.172984  0.269195  0.269195\n",
              " TOP_PS5_TRG   0.162840  0.158346  0.144141  ...  0.156159  0.269586  0.269586\n",
              " BEN_CMU_TOP   0.162718  0.160890  0.147866  ...  0.202430  0.271106  0.271106\n",
              " BEN_SEX_COD   0.162649  0.157911  0.140980  ...  0.160808  0.268770  0.268770\n",
              " CPL_COD       0.162644  0.158158  0.141698  ...  0.156616  0.271475  0.271475\n",
              " ATT_NAT       0.162626  0.160119  0.141546  ...  6.084079  0.271472  0.271472\n",
              " PRS_PPU_SEC   0.162534  0.157716  0.134445  ...  0.238268  0.268084  0.268084\n",
              " PSP_SPE_SNDS  0.160965  0.134400  0.005900  ...  0.156183  0.265131  0.265131\n",
              " MDT_TYP_COD   0.160074  0.147065  0.021602  ...  0.156712  0.258161  0.258161\n",
              " ETE_IND_TAA   0.157991  0.140282  0.124238  ...  0.153812  0.259747  0.259747\n",
              " PSE_STJ_SNDS  0.154930  0.158533  0.156147  ...  0.144751  0.265143  0.265143\n",
              " ASU_NAT       0.148979  0.275264  0.146412  ...  0.152979  0.249886  0.249886\n",
              " ETE_REG_COD   0.136719  0.054979  1.367862  ...  0.156561  0.120564  0.120564\n",
              " EXE_INS_REG   0.133818  0.251875  1.610965  ...  0.156542  0.144134  0.144134\n",
              " BEN_RES_REG   0.122546  0.054563  0.224149  ...  0.156673  0.165471  0.165471\n",
              " MFT_COD       0.113974  0.033344  2.702597  ...  0.154818  0.140602  0.140602\n",
              " ETE_TYP_SNDS  0.110514  0.042860  2.848233  ...  0.158095  0.143177  0.143177\n",
              " DDP_SPE_COD   0.108107  0.037749  2.806797  ...  0.156576  0.105649  0.105649\n",
              " PSE_ACT_CAT   0.044752  0.144543  0.151453  ...  0.155820  0.237302  0.237302\n",
              " \n",
              " [39 rows x 39 columns],\n",
              "                    PC1       PC2  ...          PC38          PC39\n",
              " PRS_NAT       1.276142  0.015346  ...  5.645641e-33  5.645641e-33\n",
              " PRS_REM_TAU   0.055556  0.041617  ...  1.692056e-34  1.692056e-34\n",
              " SOI_ANN       0.044609  0.774786  ...  3.623916e-33  3.623916e-33\n",
              " PSP_ACT_CAT   0.041565  0.080855  ...  2.590206e-34  2.590206e-34\n",
              " PRS_PDS_QCP   0.040189  0.019332  ...  2.578404e-34  2.578404e-34\n",
              " DRG_AFF_NAT   0.037185  0.018351  ...  2.453860e-34  2.453860e-34\n",
              " PRE_INS_REG   0.036854  0.042253  ...  1.568574e-34  1.568574e-34\n",
              " AGE_BEN_SNDS  0.036645  0.022497  ...  2.083707e-34  2.083707e-34\n",
              " ETP_REG_COD   0.036232  0.028654  ...  1.327524e-34  1.327524e-34\n",
              " EXO_MTF       0.035609  0.012301  ...  2.430240e-34  2.430240e-34\n",
              " ORG_CLE_REG   0.035515  0.018219  ...  1.983992e-34  1.983992e-34\n",
              " PSE_SPE_SNDS  0.035031  0.020800  ...  3.009435e-34  3.009435e-34\n",
              " PSE_ACT_SNDS  0.034970  0.008394  ...  2.684372e-34  2.684372e-34\n",
              " PSP_ACT_SNDS  0.034833  0.019825  ...  2.999993e-34  2.999993e-34\n",
              " PSP_STJ_SNDS  0.034686  0.024380  ...  2.954949e-34  2.954949e-34\n",
              " PRS_REM_TYP   0.034637  0.020560  ...  3.014272e-34  3.014272e-34\n",
              " SOI_MOI       0.034515  0.016400  ...  2.827914e-34  2.827914e-34\n",
              " PRS_FJH_TYP   0.034202  0.021323  ...  3.013316e-34  3.013316e-34\n",
              " MTM_NAT       0.034196  0.020292  ...  3.031107e-34  3.031107e-34\n",
              " BEN_QLT_COD   0.034186  0.020250  ...  3.010968e-34  3.010968e-34\n",
              " CPT_ENV_TYP   0.034171  0.021200  ...  3.008675e-34  3.008675e-34\n",
              " TOP_PS5_TRG   0.034170  0.020286  ...  3.013049e-34  3.013049e-34\n",
              " BEN_CMU_TOP   0.034144  0.020612  ...  3.030032e-34  3.030032e-34\n",
              " BEN_SEX_COD   0.034130  0.020230  ...  3.003930e-34  3.003930e-34\n",
              " CPL_COD       0.034129  0.020262  ...  3.034157e-34  3.034157e-34\n",
              " ATT_NAT       0.034125  0.020513  ...  3.034126e-34  3.034126e-34\n",
              " PRS_PPU_SEC   0.034106  0.020205  ...  2.996259e-34  2.996259e-34\n",
              " PSP_SPE_SNDS  0.033776  0.017218  ...  2.963259e-34  2.963259e-34\n",
              " MDT_TYP_COD   0.033589  0.018841  ...  2.885358e-34  2.885358e-34\n",
              " ETE_IND_TAA   0.033152  0.017972  ...  2.903083e-34  2.903083e-34\n",
              " PSE_STJ_SNDS  0.032510  0.020310  ...  2.963386e-34  2.963386e-34\n",
              " ASU_NAT       0.031261  0.035265  ...  2.792866e-34  2.792866e-34\n",
              " ETE_REG_COD   0.028689  0.007043  ...  1.347495e-34  1.347495e-34\n",
              " EXE_INS_REG   0.028080  0.032268  ...  1.610923e-34  1.610923e-34\n",
              " BEN_RES_REG   0.025715  0.006990  ...  1.849394e-34  1.849394e-34\n",
              " MFT_COD       0.023916  0.004272  ...  1.571451e-34  1.571451e-34\n",
              " ETE_TYP_SNDS  0.023190  0.005491  ...  1.600225e-34  1.600225e-34\n",
              " DDP_SPE_COD   0.022685  0.004836  ...  1.180794e-34  1.180794e-34\n",
              " PSE_ACT_CAT   0.009391  0.018518  ...  2.652223e-34  2.652223e-34\n",
              " \n",
              " [39 rows x 39 columns],\n",
              "         score_      feature_\n",
              " rank                        \n",
              " 1     1.404162       PRS_NAT\n",
              " 2     1.026402   PSP_ACT_CAT\n",
              " 3     0.985119       SOI_ANN\n",
              " 4     0.884164   PRE_INS_REG\n",
              " 5     0.872417   DDP_SPE_COD\n",
              " 6     0.829845   EXE_INS_REG\n",
              " 7     0.716407   ORG_CLE_REG\n",
              " 8     0.711795       EXO_MTF\n",
              " 9     0.700100  PSE_ACT_SNDS\n",
              " 10    0.686305   ETP_REG_COD\n",
              " 11    0.679022   PRS_REM_TAU\n",
              " 12    0.662919   PSE_ACT_CAT\n",
              " 13    0.662911  ETE_TYP_SNDS\n",
              " 14    0.659037       MFT_COD\n",
              " 15    0.656441   ETE_REG_COD\n",
              " 16    0.598229   BEN_RES_REG\n",
              " 17    0.559555  AGE_BEN_SNDS\n",
              " 18    0.528559   DRG_AFF_NAT\n",
              " 19    0.458774   PRS_PDS_QCP\n",
              " 20    0.400765   PRS_REM_TYP\n",
              " 21    0.388158       ASU_NAT\n",
              " 22    0.348977  PSP_SPE_SNDS\n",
              " 23    0.325307  PSE_SPE_SNDS\n",
              " 24    0.304431  PSP_ACT_SNDS\n",
              " 25    0.231495  PSP_STJ_SNDS\n",
              " 26    0.216664  PSE_STJ_SNDS\n",
              " 27    0.204865   MDT_TYP_COD\n",
              " 28    0.197746   PRS_FJH_TYP\n",
              " 29    0.183570       SOI_MOI\n",
              " 30    0.179315   CPT_ENV_TYP\n",
              " 31    0.174153   BEN_SEX_COD\n",
              " 32    0.173286   BEN_QLT_COD\n",
              " 33    0.170993   BEN_CMU_TOP\n",
              " 34    0.167384       MTM_NAT\n",
              " 35    0.161519   PRS_PPU_SEC\n",
              " 36    0.159237       ATT_NAT\n",
              " 37    0.158728       CPL_COD\n",
              " 38    0.157219   TOP_PS5_TRG\n",
              " 39    0.156270   ETE_IND_TAA)"
            ]
          },
          "metadata": {},
          "execution_count": 39
        }
      ]
    },
    {
      "cell_type": "code",
      "metadata": {
        "id": "eL1KvC9NMiuG"
      },
      "source": [
        "kinewonawoindic = kinewonawoindic[[\"DDP_SPE_COD\",\"PRS_REM_TYP\",\"EXO_MTF\",\"EXE_INS_REG\",\"ORG_CLE_REG\",\"PRE_INS_REG\",\"DRG_AFF_NAT\",\"BEN_RES_REG\",\"PRS_REM_TAU\",\"AGE_BEN_SNDS\",\"ETE_TYP_SNDS\",\"MFT_COD\",\"ETP_REG_COD\",\"ETE_REG_COD\",\"ASU_NAT\",\"PSP_SPE_SNDS\",\"PSP_STJ_SNDS\",\"PSE_STJ_SNDS\",\"PRS_FJH_TYP\",\"SOI_MOI\",\"CPT_ENV_TYP\",\"PSE_ACT_SNDS\"]]"
      ],
      "execution_count": 27,
      "outputs": []
    },
    {
      "cell_type": "markdown",
      "metadata": {
        "id": "DCy-6oOkMiuG"
      },
      "source": [
        "## Standardize values"
      ]
    },
    {
      "cell_type": "markdown",
      "metadata": {
        "id": "WL0ZbqjbMiuH"
      },
      "source": [
        "### Standard Scaler"
      ]
    },
    {
      "cell_type": "code",
      "metadata": {
        "id": "ZWkawl6IMiuH"
      },
      "source": [
        "scaler = StandardScaler()\n",
        "scaler.fit(X_pca)\n",
        "scaler.mean_\n",
        "X_pca_scaled = scaler.transform(X_pca)\n",
        "kinewonawoindic_scaled  = scaler.fit(kinewonawoindic).transform(kinewonawoindic)"
      ],
      "execution_count": 40,
      "outputs": []
    },
    {
      "cell_type": "markdown",
      "metadata": {
        "id": "Dx6OoHp-MiuH"
      },
      "source": [
        "### Robust Scaler (Gestion des valeurs abérantes)"
      ]
    },
    {
      "cell_type": "code",
      "metadata": {
        "id": "YLN-_J3dMiuH"
      },
      "source": [
        "transformer = RobustScaler().fit(X_pca)\n",
        "X_pca_scaled_rb = transformer.transform(X_pca)"
      ],
      "execution_count": 41,
      "outputs": []
    },
    {
      "cell_type": "markdown",
      "metadata": {
        "id": "Rvf8A0iLMiuH"
      },
      "source": [
        "## Normalize values\n",
        "### Normalizer"
      ]
    },
    {
      "cell_type": "code",
      "metadata": {
        "id": "YGVAsbPRMiuH"
      },
      "source": [
        "nrmlz = Normalizer(norm=\"max\").fit(X_pca_scaled)\n",
        "X_pca_scaled_and_normalized = nrmlz.transform(X_pca_scaled)"
      ],
      "execution_count": 42,
      "outputs": []
    },
    {
      "cell_type": "markdown",
      "metadata": {
        "id": "Jh8t1gFDMiuI"
      },
      "source": [
        "### Power Transformer"
      ]
    },
    {
      "cell_type": "code",
      "metadata": {
        "id": "BxFxsf8nMiuI"
      },
      "source": [
        "pt = PowerTransformer()\n",
        "pt.fit(X_pca_scaled)\n",
        "X_pca_scaled_pt = pt.transform(X_pca_scaled)"
      ],
      "execution_count": 43,
      "outputs": []
    },
    {
      "cell_type": "code",
      "metadata": {
        "collapsed": true,
        "jupyter": {
          "outputs_hidden": true
        },
        "colab": {
          "base_uri": "https://localhost:8080/",
          "height": 224
        },
        "id": "CAOOwGPSMiuI",
        "outputId": "0aa78761-7061-4831-b644-ba479a832bed"
      },
      "source": [
        "kinewonawoindic.head(5)"
      ],
      "execution_count": 44,
      "outputs": [
        {
          "output_type": "execute_result",
          "data": {
            "text/html": [
              "<div>\n",
              "<style scoped>\n",
              "    .dataframe tbody tr th:only-of-type {\n",
              "        vertical-align: middle;\n",
              "    }\n",
              "\n",
              "    .dataframe tbody tr th {\n",
              "        vertical-align: top;\n",
              "    }\n",
              "\n",
              "    .dataframe thead th {\n",
              "        text-align: right;\n",
              "    }\n",
              "</style>\n",
              "<table border=\"1\" class=\"dataframe\">\n",
              "  <thead>\n",
              "    <tr style=\"text-align: right;\">\n",
              "      <th></th>\n",
              "      <th>ORG_CLE_REG</th>\n",
              "      <th>AGE_BEN_SNDS</th>\n",
              "      <th>BEN_RES_REG</th>\n",
              "      <th>BEN_CMU_TOP</th>\n",
              "      <th>BEN_QLT_COD</th>\n",
              "      <th>BEN_SEX_COD</th>\n",
              "      <th>DDP_SPE_COD</th>\n",
              "      <th>ETE_REG_COD</th>\n",
              "      <th>ETE_TYP_SNDS</th>\n",
              "      <th>ETP_REG_COD</th>\n",
              "      <th>MDT_TYP_COD</th>\n",
              "      <th>MFT_COD</th>\n",
              "      <th>PRS_FJH_TYP</th>\n",
              "      <th>SOI_ANN</th>\n",
              "      <th>SOI_MOI</th>\n",
              "      <th>ASU_NAT</th>\n",
              "      <th>ATT_NAT</th>\n",
              "      <th>CPL_COD</th>\n",
              "      <th>CPT_ENV_TYP</th>\n",
              "      <th>DRG_AFF_NAT</th>\n",
              "      <th>ETE_IND_TAA</th>\n",
              "      <th>EXO_MTF</th>\n",
              "      <th>MTM_NAT</th>\n",
              "      <th>PRS_NAT</th>\n",
              "      <th>PRS_PPU_SEC</th>\n",
              "      <th>PRS_REM_TAU</th>\n",
              "      <th>PRS_REM_TYP</th>\n",
              "      <th>PRS_PDS_QCP</th>\n",
              "      <th>EXE_INS_REG</th>\n",
              "      <th>PSE_ACT_SNDS</th>\n",
              "      <th>PSE_ACT_CAT</th>\n",
              "      <th>PSE_SPE_SNDS</th>\n",
              "      <th>PSE_STJ_SNDS</th>\n",
              "      <th>PRE_INS_REG</th>\n",
              "      <th>PSP_ACT_SNDS</th>\n",
              "      <th>PSP_ACT_CAT</th>\n",
              "      <th>PSP_SPE_SNDS</th>\n",
              "      <th>PSP_STJ_SNDS</th>\n",
              "      <th>TOP_PS5_TRG</th>\n",
              "    </tr>\n",
              "  </thead>\n",
              "  <tbody>\n",
              "    <tr>\n",
              "      <th>0</th>\n",
              "      <td>76</td>\n",
              "      <td>50</td>\n",
              "      <td>99</td>\n",
              "      <td>0</td>\n",
              "      <td>1</td>\n",
              "      <td>1</td>\n",
              "      <td>121</td>\n",
              "      <td>99</td>\n",
              "      <td>99</td>\n",
              "      <td>99</td>\n",
              "      <td>9</td>\n",
              "      <td>99</td>\n",
              "      <td>0</td>\n",
              "      <td>2019</td>\n",
              "      <td>8</td>\n",
              "      <td>10</td>\n",
              "      <td>0</td>\n",
              "      <td>0</td>\n",
              "      <td>1</td>\n",
              "      <td>11</td>\n",
              "      <td>9</td>\n",
              "      <td>41</td>\n",
              "      <td>0</td>\n",
              "      <td>6112</td>\n",
              "      <td>2</td>\n",
              "      <td>0.0</td>\n",
              "      <td>0</td>\n",
              "      <td>0</td>\n",
              "      <td>99</td>\n",
              "      <td>0</td>\n",
              "      <td>99</td>\n",
              "      <td>0</td>\n",
              "      <td>9</td>\n",
              "      <td>76</td>\n",
              "      <td>0</td>\n",
              "      <td>1</td>\n",
              "      <td>1</td>\n",
              "      <td>1</td>\n",
              "      <td>1</td>\n",
              "    </tr>\n",
              "    <tr>\n",
              "      <th>1</th>\n",
              "      <td>76</td>\n",
              "      <td>80</td>\n",
              "      <td>76</td>\n",
              "      <td>0</td>\n",
              "      <td>1</td>\n",
              "      <td>2</td>\n",
              "      <td>121</td>\n",
              "      <td>99</td>\n",
              "      <td>99</td>\n",
              "      <td>99</td>\n",
              "      <td>9</td>\n",
              "      <td>99</td>\n",
              "      <td>8</td>\n",
              "      <td>2019</td>\n",
              "      <td>12</td>\n",
              "      <td>10</td>\n",
              "      <td>0</td>\n",
              "      <td>0</td>\n",
              "      <td>1</td>\n",
              "      <td>35</td>\n",
              "      <td>9</td>\n",
              "      <td>41</td>\n",
              "      <td>0</td>\n",
              "      <td>1451</td>\n",
              "      <td>2</td>\n",
              "      <td>70.0</td>\n",
              "      <td>0</td>\n",
              "      <td>31</td>\n",
              "      <td>76</td>\n",
              "      <td>19</td>\n",
              "      <td>4</td>\n",
              "      <td>0</td>\n",
              "      <td>9</td>\n",
              "      <td>76</td>\n",
              "      <td>19</td>\n",
              "      <td>4</td>\n",
              "      <td>0</td>\n",
              "      <td>9</td>\n",
              "      <td>1</td>\n",
              "    </tr>\n",
              "    <tr>\n",
              "      <th>2</th>\n",
              "      <td>75</td>\n",
              "      <td>80</td>\n",
              "      <td>75</td>\n",
              "      <td>0</td>\n",
              "      <td>1</td>\n",
              "      <td>2</td>\n",
              "      <td>121</td>\n",
              "      <td>99</td>\n",
              "      <td>99</td>\n",
              "      <td>99</td>\n",
              "      <td>9</td>\n",
              "      <td>99</td>\n",
              "      <td>0</td>\n",
              "      <td>2019</td>\n",
              "      <td>12</td>\n",
              "      <td>10</td>\n",
              "      <td>0</td>\n",
              "      <td>0</td>\n",
              "      <td>1</td>\n",
              "      <td>35</td>\n",
              "      <td>9</td>\n",
              "      <td>0</td>\n",
              "      <td>0</td>\n",
              "      <td>3533</td>\n",
              "      <td>2</td>\n",
              "      <td>60.0</td>\n",
              "      <td>0</td>\n",
              "      <td>31</td>\n",
              "      <td>75</td>\n",
              "      <td>60</td>\n",
              "      <td>2</td>\n",
              "      <td>0</td>\n",
              "      <td>1</td>\n",
              "      <td>52</td>\n",
              "      <td>0</td>\n",
              "      <td>1</td>\n",
              "      <td>15</td>\n",
              "      <td>1</td>\n",
              "      <td>1</td>\n",
              "    </tr>\n",
              "    <tr>\n",
              "      <th>3</th>\n",
              "      <td>24</td>\n",
              "      <td>50</td>\n",
              "      <td>24</td>\n",
              "      <td>0</td>\n",
              "      <td>1</td>\n",
              "      <td>1</td>\n",
              "      <td>121</td>\n",
              "      <td>99</td>\n",
              "      <td>99</td>\n",
              "      <td>99</td>\n",
              "      <td>9</td>\n",
              "      <td>99</td>\n",
              "      <td>0</td>\n",
              "      <td>2019</td>\n",
              "      <td>8</td>\n",
              "      <td>10</td>\n",
              "      <td>0</td>\n",
              "      <td>0</td>\n",
              "      <td>1</td>\n",
              "      <td>36</td>\n",
              "      <td>9</td>\n",
              "      <td>41</td>\n",
              "      <td>0</td>\n",
              "      <td>3533</td>\n",
              "      <td>2</td>\n",
              "      <td>60.0</td>\n",
              "      <td>0</td>\n",
              "      <td>31</td>\n",
              "      <td>24</td>\n",
              "      <td>60</td>\n",
              "      <td>2</td>\n",
              "      <td>0</td>\n",
              "      <td>1</td>\n",
              "      <td>24</td>\n",
              "      <td>0</td>\n",
              "      <td>1</td>\n",
              "      <td>15</td>\n",
              "      <td>1</td>\n",
              "      <td>1</td>\n",
              "    </tr>\n",
              "    <tr>\n",
              "      <th>4</th>\n",
              "      <td>5</td>\n",
              "      <td>20</td>\n",
              "      <td>5</td>\n",
              "      <td>1</td>\n",
              "      <td>1</td>\n",
              "      <td>2</td>\n",
              "      <td>60</td>\n",
              "      <td>5</td>\n",
              "      <td>1</td>\n",
              "      <td>99</td>\n",
              "      <td>1</td>\n",
              "      <td>3</td>\n",
              "      <td>0</td>\n",
              "      <td>2019</td>\n",
              "      <td>10</td>\n",
              "      <td>10</td>\n",
              "      <td>0</td>\n",
              "      <td>0</td>\n",
              "      <td>2</td>\n",
              "      <td>36</td>\n",
              "      <td>0</td>\n",
              "      <td>0</td>\n",
              "      <td>0</td>\n",
              "      <td>2237</td>\n",
              "      <td>1</td>\n",
              "      <td>0.0</td>\n",
              "      <td>0</td>\n",
              "      <td>31</td>\n",
              "      <td>99</td>\n",
              "      <td>0</td>\n",
              "      <td>0</td>\n",
              "      <td>0</td>\n",
              "      <td>2</td>\n",
              "      <td>99</td>\n",
              "      <td>0</td>\n",
              "      <td>99</td>\n",
              "      <td>0</td>\n",
              "      <td>9</td>\n",
              "      <td>1</td>\n",
              "    </tr>\n",
              "  </tbody>\n",
              "</table>\n",
              "</div>"
            ],
            "text/plain": [
              "   ORG_CLE_REG  AGE_BEN_SNDS  ...  PSP_STJ_SNDS  TOP_PS5_TRG\n",
              "0           76            50  ...             1            1\n",
              "1           76            80  ...             9            1\n",
              "2           75            80  ...             1            1\n",
              "3           24            50  ...             1            1\n",
              "4            5            20  ...             9            1\n",
              "\n",
              "[5 rows x 39 columns]"
            ]
          },
          "metadata": {},
          "execution_count": 44
        }
      ]
    },
    {
      "cell_type": "code",
      "metadata": {
        "collapsed": true,
        "jupyter": {
          "outputs_hidden": true,
          "source_hidden": true
        },
        "colab": {
          "base_uri": "https://localhost:8080/",
          "height": 419
        },
        "id": "G5pBCxhtMiuI",
        "outputId": "096bdaa6-9281-4d1e-be6c-77e3fb179e13"
      },
      "source": [
        "f=pd.DataFrame(X_pca_scaled_and_normalized,columns=[\"x\",\"y\"])\n",
        "f['c'] = kinewonawoindic.AGE_BEN_SNDS\n",
        "f"
      ],
      "execution_count": 45,
      "outputs": [
        {
          "output_type": "execute_result",
          "data": {
            "text/html": [
              "<div>\n",
              "<style scoped>\n",
              "    .dataframe tbody tr th:only-of-type {\n",
              "        vertical-align: middle;\n",
              "    }\n",
              "\n",
              "    .dataframe tbody tr th {\n",
              "        vertical-align: top;\n",
              "    }\n",
              "\n",
              "    .dataframe thead th {\n",
              "        text-align: right;\n",
              "    }\n",
              "</style>\n",
              "<table border=\"1\" class=\"dataframe\">\n",
              "  <thead>\n",
              "    <tr style=\"text-align: right;\">\n",
              "      <th></th>\n",
              "      <th>x</th>\n",
              "      <th>y</th>\n",
              "      <th>c</th>\n",
              "    </tr>\n",
              "  </thead>\n",
              "  <tbody>\n",
              "    <tr>\n",
              "      <th>0</th>\n",
              "      <td>1.000000</td>\n",
              "      <td>-0.162476</td>\n",
              "      <td>50</td>\n",
              "    </tr>\n",
              "    <tr>\n",
              "      <th>1</th>\n",
              "      <td>-150.369888</td>\n",
              "      <td>1.000000</td>\n",
              "      <td>80</td>\n",
              "    </tr>\n",
              "    <tr>\n",
              "      <th>2</th>\n",
              "      <td>1.000000</td>\n",
              "      <td>-0.466217</td>\n",
              "      <td>80</td>\n",
              "    </tr>\n",
              "    <tr>\n",
              "      <th>3</th>\n",
              "      <td>1.000000</td>\n",
              "      <td>-0.502120</td>\n",
              "      <td>50</td>\n",
              "    </tr>\n",
              "    <tr>\n",
              "      <th>4</th>\n",
              "      <td>-3.614581</td>\n",
              "      <td>1.000000</td>\n",
              "      <td>20</td>\n",
              "    </tr>\n",
              "    <tr>\n",
              "      <th>...</th>\n",
              "      <td>...</td>\n",
              "      <td>...</td>\n",
              "      <td>...</td>\n",
              "    </tr>\n",
              "    <tr>\n",
              "      <th>9995</th>\n",
              "      <td>1.000000</td>\n",
              "      <td>-2.358772</td>\n",
              "      <td>80</td>\n",
              "    </tr>\n",
              "    <tr>\n",
              "      <th>9996</th>\n",
              "      <td>-3.340606</td>\n",
              "      <td>1.000000</td>\n",
              "      <td>70</td>\n",
              "    </tr>\n",
              "    <tr>\n",
              "      <th>9997</th>\n",
              "      <td>1.000000</td>\n",
              "      <td>-0.156865</td>\n",
              "      <td>30</td>\n",
              "    </tr>\n",
              "    <tr>\n",
              "      <th>9998</th>\n",
              "      <td>1.000000</td>\n",
              "      <td>-0.670726</td>\n",
              "      <td>0</td>\n",
              "    </tr>\n",
              "    <tr>\n",
              "      <th>9999</th>\n",
              "      <td>29.469619</td>\n",
              "      <td>1.000000</td>\n",
              "      <td>70</td>\n",
              "    </tr>\n",
              "  </tbody>\n",
              "</table>\n",
              "<p>10000 rows × 3 columns</p>\n",
              "</div>"
            ],
            "text/plain": [
              "               x         y   c\n",
              "0       1.000000 -0.162476  50\n",
              "1    -150.369888  1.000000  80\n",
              "2       1.000000 -0.466217  80\n",
              "3       1.000000 -0.502120  50\n",
              "4      -3.614581  1.000000  20\n",
              "...          ...       ...  ..\n",
              "9995    1.000000 -2.358772  80\n",
              "9996   -3.340606  1.000000  70\n",
              "9997    1.000000 -0.156865  30\n",
              "9998    1.000000 -0.670726   0\n",
              "9999   29.469619  1.000000  70\n",
              "\n",
              "[10000 rows x 3 columns]"
            ]
          },
          "metadata": {},
          "execution_count": 45
        }
      ]
    },
    {
      "cell_type": "code",
      "metadata": {
        "colab": {
          "base_uri": "https://localhost:8080/",
          "height": 348
        },
        "id": "pVF1R-6YMiuJ",
        "outputId": "24fd0e8f-1738-4646-e4ed-9774f334816d"
      },
      "source": [
        "plt.figure(figsize=(8,5))\n",
        "s = sns.scatterplot(\n",
        "    x=\"x\", y=\"y\",\n",
        "    hue=\"c\",\n",
        "    palette=sns.color_palette(sns.color_palette(\"tab10\"), n_colors=9),\n",
        "    data=f,\n",
        "    s=100,\n",
        "    legend=\"full\",\n",
        "    alpha=.5,\n",
        ")\n",
        "s.set_title(\"Kine PCA :: Age\")"
      ],
      "execution_count": 46,
      "outputs": [
        {
          "output_type": "execute_result",
          "data": {
            "text/plain": [
              "Text(0.5, 1.0, 'Kine PCA :: Age')"
            ]
          },
          "metadata": {},
          "execution_count": 46
        },
        {
          "output_type": "display_data",
          "data": {
            "image/png": "[encoded data removed]",
            "text/plain": [
              "<Figure size 576x360 with 1 Axes>"
            ]
          },
          "metadata": {
            "needs_background": "light"
          }
        }
      ]
    },
    {
      "cell_type": "markdown",
      "metadata": {
        "id": "Ab3Iyc1gMiuJ"
      },
      "source": [
        "## Analyse TSNE"
      ]
    },
    {
      "cell_type": "code",
      "metadata": {
        "id": "BmRyONBGMiuJ"
      },
      "source": [
        " X_embedded = TSNE(n_components=2, learning_rate=20, n_iter=1000, perplexity=64, n_jobs=-1).fit_transform(kinewonawoindic_scaled[0:100000])"
      ],
      "execution_count": 47,
      "outputs": []
    },
    {
      "cell_type": "markdown",
      "metadata": {
        "id": "yT-ZHOCBMiuJ"
      },
      "source": [
        "### Sauvegarde du resultat"
      ]
    },
    {
      "cell_type": "code",
      "metadata": {
        "id": "Ghi3L3dKMiuJ"
      },
      "source": [
        "np.savetxt(\"tsne_kine.csv\", X_embedded, delimiter=\",\")"
      ],
      "execution_count": 48,
      "outputs": []
    },
    {
      "cell_type": "markdown",
      "metadata": {
        "id": "0_Byq4ouMiuK"
      },
      "source": [
        "### Récupération du résultat"
      ]
    },
    {
      "cell_type": "code",
      "metadata": {
        "id": "44Pdsn_xMiuK"
      },
      "source": [
        "X_embedded_loaded = np.loadtxt(open('tsne_kine.csv',\"rb\"), delimiter=\",\", skiprows=0)"
      ],
      "execution_count": 50,
      "outputs": []
    },
    {
      "cell_type": "markdown",
      "metadata": {
        "id": "-94GvnT0MiuK"
      },
      "source": [
        "### Vérification du chargement"
      ]
    },
    {
      "cell_type": "code",
      "metadata": {
        "collapsed": true,
        "jupyter": {
          "outputs_hidden": true,
          "source_hidden": true
        },
        "colab": {
          "base_uri": "https://localhost:8080/"
        },
        "id": "RoYKGWE8MiuK",
        "outputId": "3af086f2-f199-44af-d278-f5cb5c7b6a98"
      },
      "source": [
        "X_embedded_loaded.shape"
      ],
      "execution_count": 51,
      "outputs": [
        {
          "output_type": "execute_result",
          "data": {
            "text/plain": [
              "(10000, 2)"
            ]
          },
          "metadata": {},
          "execution_count": 51
        }
      ]
    },
    {
      "cell_type": "code",
      "metadata": {
        "collapsed": true,
        "jupyter": {
          "outputs_hidden": true,
          "source_hidden": true
        },
        "colab": {
          "base_uri": "https://localhost:8080/"
        },
        "id": "JK9bTg0QMiuK",
        "outputId": "0c92a316-26b9-4791-811f-94e338d2b91e"
      },
      "source": [
        "X_embedded.shape"
      ],
      "execution_count": 52,
      "outputs": [
        {
          "output_type": "execute_result",
          "data": {
            "text/plain": [
              "(10000, 2)"
            ]
          },
          "metadata": {},
          "execution_count": 52
        }
      ]
    },
    {
      "cell_type": "code",
      "metadata": {
        "collapsed": true,
        "jupyter": {
          "outputs_hidden": true,
          "source_hidden": true
        },
        "colab": {
          "base_uri": "https://localhost:8080/"
        },
        "id": "qTHJNa3FMiuK",
        "outputId": "f57d3bfb-a1d6-47f7-d6db-91076dbd6231"
      },
      "source": [
        "X_embedded == X_embedded_loaded"
      ],
      "execution_count": 53,
      "outputs": [
        {
          "output_type": "execute_result",
          "data": {
            "text/plain": [
              "array([[ True,  True],\n",
              "       [ True,  True],\n",
              "       [ True,  True],\n",
              "       ...,\n",
              "       [ True,  True],\n",
              "       [ True,  True],\n",
              "       [ True,  True]])"
            ]
          },
          "metadata": {},
          "execution_count": 53
        }
      ]
    },
    {
      "cell_type": "markdown",
      "metadata": {
        "id": "k4stiVjHMiuK"
      },
      "source": [
        "### Visualisation du TSNE"
      ]
    },
    {
      "cell_type": "code",
      "metadata": {
        "colab": {
          "base_uri": "https://localhost:8080/",
          "height": 632
        },
        "id": "tR0asiPAMiuL",
        "outputId": "02018a3f-addb-4e58-a828-3448ff441c5e"
      },
      "source": [
        "# my_colors = ['#fffffd00','#fffffe00','#ffffff00','#fffffc00','#990000','#992222']\n",
        "f=pd.DataFrame()\n",
        "f['tsne-2d-one'] = X_embedded[:,0]\n",
        "f['tsne-2d-two'] = X_embedded[:,1]\n",
        "f['age'] = kinewonawoindic.AGE_BEN_SNDS\n",
        "plt.figure(figsize=(32,20))\n",
        "s = sns.scatterplot(\n",
        "    x=\"tsne-2d-one\", y=\"tsne-2d-two\",\n",
        "    hue=\"age\",\n",
        "    palette=sns.color_palette(\"hls\", n_colors=9),\n",
        "    data=f,\n",
        "    s=5,\n",
        "    legend=\"full\",\n",
        "    alpha=1,\n",
        "    edgecolors='none',\n",
        ")\n",
        "s.set_title(\"Kine PCA : age\")\n",
        "plt.savefig(\"kine-pca-age.png\")"
      ],
      "execution_count": 55,
      "outputs": [
        {
          "output_type": "display_data",
          "data": {
            "image/png": "[encoded data removed]",
            "text/plain": [
              "<Figure size 2304x1440 with 1 Axes>"
            ]
          },
          "metadata": {
            "needs_background": "light"
          }
        }
      ]
    },
    {
      "cell_type": "markdown",
      "metadata": {
        "id": "spxFAr1WMiuL"
      },
      "source": [
        "# Apprentissage supervisé"
      ]
    },
    {
      "cell_type": "code",
      "metadata": {
        "id": "41xVMo1DMiuL"
      },
      "source": [
        "from sklearn.model_selection import train_test_split\n",
        "from sklearn.pipeline import make_pipeline\n",
        "from sklearn.svm import SVC\n",
        "from sklearn.svm import LinearSVC\n",
        "\n",
        "from sklearn.preprocessing import MinMaxScaler\n",
        "\n",
        "from sklearn.experimental import enable_hist_gradient_boosting \n",
        "\n",
        "from sklearn.linear_model import LogisticRegression\n",
        "\n",
        "from sklearn.ensemble import AdaBoostClassifier\n",
        "from sklearn.ensemble import BaggingClassifier\n",
        "from sklearn.ensemble import ExtraTreesClassifier\n",
        "from sklearn.ensemble import GradientBoostingClassifier\n",
        "from sklearn.ensemble import RandomForestClassifier\n",
        "from sklearn.ensemble import StackingClassifier\n",
        "from sklearn.ensemble import RandomForestClassifier, VotingClassifier\n",
        "from sklearn.ensemble import HistGradientBoostingClassifier\n",
        "\n",
        "from sklearn.naive_bayes import GaussianNB\n",
        "from sklearn.naive_bayes import ComplementNB\n",
        "from sklearn.naive_bayes import CategoricalNB\n",
        "\n",
        "from sklearn.neural_network import MLPClassifier"
      ],
      "execution_count": 56,
      "outputs": []
    },
    {
      "cell_type": "markdown",
      "metadata": {
        "id": "uLsVWPiVMiuL"
      },
      "source": [
        "## Preparation du jeu de données"
      ]
    },
    {
      "cell_type": "markdown",
      "metadata": {
        "id": "IrOV_pVnMiuL"
      },
      "source": [
        "### Jeux de données avec les ages inconnus"
      ]
    },
    {
      "cell_type": "code",
      "metadata": {
        "colab": {
          "base_uri": "https://localhost:8080/",
          "height": 0
        },
        "id": "2_IJYGPSMiuM",
        "outputId": "ea6dfea4-abc3-4a03-ce45-18ab0d0ac4e7"
      },
      "source": [
        "kine_age_unknow = kinewonawoindic[kine.AGE_BEN_SNDS == 99]\n",
        "kine_age_unknow.head()"
      ],
      "execution_count": 62,
      "outputs": [
        {
          "output_type": "execute_result",
          "data": {
            "text/html": [
              "<div>\n",
              "<style scoped>\n",
              "    .dataframe tbody tr th:only-of-type {\n",
              "        vertical-align: middle;\n",
              "    }\n",
              "\n",
              "    .dataframe tbody tr th {\n",
              "        vertical-align: top;\n",
              "    }\n",
              "\n",
              "    .dataframe thead th {\n",
              "        text-align: right;\n",
              "    }\n",
              "</style>\n",
              "<table border=\"1\" class=\"dataframe\">\n",
              "  <thead>\n",
              "    <tr style=\"text-align: right;\">\n",
              "      <th></th>\n",
              "      <th>ORG_CLE_REG</th>\n",
              "      <th>AGE_BEN_SNDS</th>\n",
              "      <th>BEN_RES_REG</th>\n",
              "      <th>BEN_CMU_TOP</th>\n",
              "      <th>BEN_QLT_COD</th>\n",
              "      <th>BEN_SEX_COD</th>\n",
              "      <th>DDP_SPE_COD</th>\n",
              "      <th>ETE_REG_COD</th>\n",
              "      <th>ETE_TYP_SNDS</th>\n",
              "      <th>ETP_REG_COD</th>\n",
              "      <th>MDT_TYP_COD</th>\n",
              "      <th>MFT_COD</th>\n",
              "      <th>PRS_FJH_TYP</th>\n",
              "      <th>SOI_ANN</th>\n",
              "      <th>SOI_MOI</th>\n",
              "      <th>ASU_NAT</th>\n",
              "      <th>ATT_NAT</th>\n",
              "      <th>CPL_COD</th>\n",
              "      <th>CPT_ENV_TYP</th>\n",
              "      <th>DRG_AFF_NAT</th>\n",
              "      <th>ETE_IND_TAA</th>\n",
              "      <th>EXO_MTF</th>\n",
              "      <th>MTM_NAT</th>\n",
              "      <th>PRS_NAT</th>\n",
              "      <th>PRS_PPU_SEC</th>\n",
              "      <th>PRS_REM_TAU</th>\n",
              "      <th>PRS_REM_TYP</th>\n",
              "      <th>PRS_PDS_QCP</th>\n",
              "      <th>EXE_INS_REG</th>\n",
              "      <th>PSE_ACT_SNDS</th>\n",
              "      <th>PSE_ACT_CAT</th>\n",
              "      <th>PSE_SPE_SNDS</th>\n",
              "      <th>PSE_STJ_SNDS</th>\n",
              "      <th>PRE_INS_REG</th>\n",
              "      <th>PSP_ACT_SNDS</th>\n",
              "      <th>PSP_ACT_CAT</th>\n",
              "      <th>PSP_SPE_SNDS</th>\n",
              "      <th>PSP_STJ_SNDS</th>\n",
              "      <th>TOP_PS5_TRG</th>\n",
              "    </tr>\n",
              "  </thead>\n",
              "  <tbody>\n",
              "    <tr>\n",
              "      <th>1782</th>\n",
              "      <td>76</td>\n",
              "      <td>99</td>\n",
              "      <td>76</td>\n",
              "      <td>0</td>\n",
              "      <td>1</td>\n",
              "      <td>1</td>\n",
              "      <td>0</td>\n",
              "      <td>76</td>\n",
              "      <td>6</td>\n",
              "      <td>99</td>\n",
              "      <td>2</td>\n",
              "      <td>36</td>\n",
              "      <td>8</td>\n",
              "      <td>2019</td>\n",
              "      <td>11</td>\n",
              "      <td>10</td>\n",
              "      <td>0</td>\n",
              "      <td>0</td>\n",
              "      <td>1</td>\n",
              "      <td>35</td>\n",
              "      <td>0</td>\n",
              "      <td>42</td>\n",
              "      <td>0</td>\n",
              "      <td>3117</td>\n",
              "      <td>2</td>\n",
              "      <td>100.0</td>\n",
              "      <td>0</td>\n",
              "      <td>31</td>\n",
              "      <td>99</td>\n",
              "      <td>24</td>\n",
              "      <td>6</td>\n",
              "      <td>0</td>\n",
              "      <td>9</td>\n",
              "      <td>76</td>\n",
              "      <td>0</td>\n",
              "      <td>1</td>\n",
              "      <td>1</td>\n",
              "      <td>9</td>\n",
              "      <td>1</td>\n",
              "    </tr>\n",
              "    <tr>\n",
              "      <th>2457</th>\n",
              "      <td>93</td>\n",
              "      <td>99</td>\n",
              "      <td>99</td>\n",
              "      <td>0</td>\n",
              "      <td>1</td>\n",
              "      <td>0</td>\n",
              "      <td>121</td>\n",
              "      <td>99</td>\n",
              "      <td>99</td>\n",
              "      <td>99</td>\n",
              "      <td>9</td>\n",
              "      <td>99</td>\n",
              "      <td>0</td>\n",
              "      <td>2018</td>\n",
              "      <td>1</td>\n",
              "      <td>10</td>\n",
              "      <td>0</td>\n",
              "      <td>0</td>\n",
              "      <td>0</td>\n",
              "      <td>35</td>\n",
              "      <td>9</td>\n",
              "      <td>62</td>\n",
              "      <td>0</td>\n",
              "      <td>4370</td>\n",
              "      <td>2</td>\n",
              "      <td>100.0</td>\n",
              "      <td>0</td>\n",
              "      <td>0</td>\n",
              "      <td>93</td>\n",
              "      <td>0</td>\n",
              "      <td>6</td>\n",
              "      <td>99</td>\n",
              "      <td>8</td>\n",
              "      <td>99</td>\n",
              "      <td>0</td>\n",
              "      <td>99</td>\n",
              "      <td>0</td>\n",
              "      <td>9</td>\n",
              "      <td>1</td>\n",
              "    </tr>\n",
              "    <tr>\n",
              "      <th>6906</th>\n",
              "      <td>93</td>\n",
              "      <td>99</td>\n",
              "      <td>93</td>\n",
              "      <td>0</td>\n",
              "      <td>1</td>\n",
              "      <td>1</td>\n",
              "      <td>121</td>\n",
              "      <td>99</td>\n",
              "      <td>99</td>\n",
              "      <td>99</td>\n",
              "      <td>9</td>\n",
              "      <td>99</td>\n",
              "      <td>8</td>\n",
              "      <td>2019</td>\n",
              "      <td>11</td>\n",
              "      <td>10</td>\n",
              "      <td>0</td>\n",
              "      <td>0</td>\n",
              "      <td>1</td>\n",
              "      <td>35</td>\n",
              "      <td>9</td>\n",
              "      <td>42</td>\n",
              "      <td>0</td>\n",
              "      <td>1845</td>\n",
              "      <td>2</td>\n",
              "      <td>100.0</td>\n",
              "      <td>0</td>\n",
              "      <td>31</td>\n",
              "      <td>93</td>\n",
              "      <td>26</td>\n",
              "      <td>7</td>\n",
              "      <td>0</td>\n",
              "      <td>9</td>\n",
              "      <td>93</td>\n",
              "      <td>0</td>\n",
              "      <td>1</td>\n",
              "      <td>1</td>\n",
              "      <td>9</td>\n",
              "      <td>1</td>\n",
              "    </tr>\n",
              "    <tr>\n",
              "      <th>7072</th>\n",
              "      <td>93</td>\n",
              "      <td>99</td>\n",
              "      <td>93</td>\n",
              "      <td>0</td>\n",
              "      <td>1</td>\n",
              "      <td>1</td>\n",
              "      <td>121</td>\n",
              "      <td>99</td>\n",
              "      <td>99</td>\n",
              "      <td>99</td>\n",
              "      <td>9</td>\n",
              "      <td>99</td>\n",
              "      <td>8</td>\n",
              "      <td>2018</td>\n",
              "      <td>12</td>\n",
              "      <td>10</td>\n",
              "      <td>0</td>\n",
              "      <td>0</td>\n",
              "      <td>1</td>\n",
              "      <td>35</td>\n",
              "      <td>9</td>\n",
              "      <td>41</td>\n",
              "      <td>1</td>\n",
              "      <td>1812</td>\n",
              "      <td>2</td>\n",
              "      <td>100.0</td>\n",
              "      <td>0</td>\n",
              "      <td>31</td>\n",
              "      <td>93</td>\n",
              "      <td>24</td>\n",
              "      <td>6</td>\n",
              "      <td>0</td>\n",
              "      <td>9</td>\n",
              "      <td>93</td>\n",
              "      <td>0</td>\n",
              "      <td>1</td>\n",
              "      <td>1</td>\n",
              "      <td>9</td>\n",
              "      <td>1</td>\n",
              "    </tr>\n",
              "    <tr>\n",
              "      <th>8735</th>\n",
              "      <td>24</td>\n",
              "      <td>99</td>\n",
              "      <td>24</td>\n",
              "      <td>0</td>\n",
              "      <td>1</td>\n",
              "      <td>1</td>\n",
              "      <td>0</td>\n",
              "      <td>24</td>\n",
              "      <td>4</td>\n",
              "      <td>24</td>\n",
              "      <td>9</td>\n",
              "      <td>7</td>\n",
              "      <td>0</td>\n",
              "      <td>2019</td>\n",
              "      <td>9</td>\n",
              "      <td>10</td>\n",
              "      <td>0</td>\n",
              "      <td>0</td>\n",
              "      <td>2</td>\n",
              "      <td>35</td>\n",
              "      <td>2</td>\n",
              "      <td>62</td>\n",
              "      <td>0</td>\n",
              "      <td>2113</td>\n",
              "      <td>2</td>\n",
              "      <td>100.0</td>\n",
              "      <td>0</td>\n",
              "      <td>31</td>\n",
              "      <td>99</td>\n",
              "      <td>0</td>\n",
              "      <td>0</td>\n",
              "      <td>0</td>\n",
              "      <td>9</td>\n",
              "      <td>99</td>\n",
              "      <td>0</td>\n",
              "      <td>0</td>\n",
              "      <td>0</td>\n",
              "      <td>9</td>\n",
              "      <td>1</td>\n",
              "    </tr>\n",
              "  </tbody>\n",
              "</table>\n",
              "</div>"
            ],
            "text/plain": [
              "      ORG_CLE_REG  AGE_BEN_SNDS  ...  PSP_STJ_SNDS  TOP_PS5_TRG\n",
              "1782           76            99  ...             9            1\n",
              "2457           93            99  ...             9            1\n",
              "6906           93            99  ...             9            1\n",
              "7072           93            99  ...             9            1\n",
              "8735           24            99  ...             9            1\n",
              "\n",
              "[5 rows x 39 columns]"
            ]
          },
          "metadata": {},
          "execution_count": 62
        }
      ]
    },
    {
      "cell_type": "markdown",
      "metadata": {
        "id": "PR9HpOwiMiuM"
      },
      "source": [
        "### Jeux de données avec les ages connus"
      ]
    },
    {
      "cell_type": "code",
      "metadata": {
        "colab": {
          "base_uri": "https://localhost:8080/",
          "height": 0
        },
        "id": "xHw6EvtLMiuM",
        "outputId": "64e2d96a-11d9-416d-efc2-91ded8a26774"
      },
      "source": [
        "kine_age_know = kinewonawoindic[kinewonawoindic.AGE_BEN_SNDS != 99]\n",
        "kine_age_know.head()"
      ],
      "execution_count": 63,
      "outputs": [
        {
          "output_type": "execute_result",
          "data": {
            "text/html": [
              "<div>\n",
              "<style scoped>\n",
              "    .dataframe tbody tr th:only-of-type {\n",
              "        vertical-align: middle;\n",
              "    }\n",
              "\n",
              "    .dataframe tbody tr th {\n",
              "        vertical-align: top;\n",
              "    }\n",
              "\n",
              "    .dataframe thead th {\n",
              "        text-align: right;\n",
              "    }\n",
              "</style>\n",
              "<table border=\"1\" class=\"dataframe\">\n",
              "  <thead>\n",
              "    <tr style=\"text-align: right;\">\n",
              "      <th></th>\n",
              "      <th>ORG_CLE_REG</th>\n",
              "      <th>AGE_BEN_SNDS</th>\n",
              "      <th>BEN_RES_REG</th>\n",
              "      <th>BEN_CMU_TOP</th>\n",
              "      <th>BEN_QLT_COD</th>\n",
              "      <th>BEN_SEX_COD</th>\n",
              "      <th>DDP_SPE_COD</th>\n",
              "      <th>ETE_REG_COD</th>\n",
              "      <th>ETE_TYP_SNDS</th>\n",
              "      <th>ETP_REG_COD</th>\n",
              "      <th>MDT_TYP_COD</th>\n",
              "      <th>MFT_COD</th>\n",
              "      <th>PRS_FJH_TYP</th>\n",
              "      <th>SOI_ANN</th>\n",
              "      <th>SOI_MOI</th>\n",
              "      <th>ASU_NAT</th>\n",
              "      <th>ATT_NAT</th>\n",
              "      <th>CPL_COD</th>\n",
              "      <th>CPT_ENV_TYP</th>\n",
              "      <th>DRG_AFF_NAT</th>\n",
              "      <th>ETE_IND_TAA</th>\n",
              "      <th>EXO_MTF</th>\n",
              "      <th>MTM_NAT</th>\n",
              "      <th>PRS_NAT</th>\n",
              "      <th>PRS_PPU_SEC</th>\n",
              "      <th>PRS_REM_TAU</th>\n",
              "      <th>PRS_REM_TYP</th>\n",
              "      <th>PRS_PDS_QCP</th>\n",
              "      <th>EXE_INS_REG</th>\n",
              "      <th>PSE_ACT_SNDS</th>\n",
              "      <th>PSE_ACT_CAT</th>\n",
              "      <th>PSE_SPE_SNDS</th>\n",
              "      <th>PSE_STJ_SNDS</th>\n",
              "      <th>PRE_INS_REG</th>\n",
              "      <th>PSP_ACT_SNDS</th>\n",
              "      <th>PSP_ACT_CAT</th>\n",
              "      <th>PSP_SPE_SNDS</th>\n",
              "      <th>PSP_STJ_SNDS</th>\n",
              "      <th>TOP_PS5_TRG</th>\n",
              "    </tr>\n",
              "  </thead>\n",
              "  <tbody>\n",
              "    <tr>\n",
              "      <th>0</th>\n",
              "      <td>76</td>\n",
              "      <td>50</td>\n",
              "      <td>99</td>\n",
              "      <td>0</td>\n",
              "      <td>1</td>\n",
              "      <td>1</td>\n",
              "      <td>121</td>\n",
              "      <td>99</td>\n",
              "      <td>99</td>\n",
              "      <td>99</td>\n",
              "      <td>9</td>\n",
              "      <td>99</td>\n",
              "      <td>0</td>\n",
              "      <td>2019</td>\n",
              "      <td>8</td>\n",
              "      <td>10</td>\n",
              "      <td>0</td>\n",
              "      <td>0</td>\n",
              "      <td>1</td>\n",
              "      <td>11</td>\n",
              "      <td>9</td>\n",
              "      <td>41</td>\n",
              "      <td>0</td>\n",
              "      <td>6112</td>\n",
              "      <td>2</td>\n",
              "      <td>0.0</td>\n",
              "      <td>0</td>\n",
              "      <td>0</td>\n",
              "      <td>99</td>\n",
              "      <td>0</td>\n",
              "      <td>99</td>\n",
              "      <td>0</td>\n",
              "      <td>9</td>\n",
              "      <td>76</td>\n",
              "      <td>0</td>\n",
              "      <td>1</td>\n",
              "      <td>1</td>\n",
              "      <td>1</td>\n",
              "      <td>1</td>\n",
              "    </tr>\n",
              "    <tr>\n",
              "      <th>1</th>\n",
              "      <td>76</td>\n",
              "      <td>80</td>\n",
              "      <td>76</td>\n",
              "      <td>0</td>\n",
              "      <td>1</td>\n",
              "      <td>2</td>\n",
              "      <td>121</td>\n",
              "      <td>99</td>\n",
              "      <td>99</td>\n",
              "      <td>99</td>\n",
              "      <td>9</td>\n",
              "      <td>99</td>\n",
              "      <td>8</td>\n",
              "      <td>2019</td>\n",
              "      <td>12</td>\n",
              "      <td>10</td>\n",
              "      <td>0</td>\n",
              "      <td>0</td>\n",
              "      <td>1</td>\n",
              "      <td>35</td>\n",
              "      <td>9</td>\n",
              "      <td>41</td>\n",
              "      <td>0</td>\n",
              "      <td>1451</td>\n",
              "      <td>2</td>\n",
              "      <td>70.0</td>\n",
              "      <td>0</td>\n",
              "      <td>31</td>\n",
              "      <td>76</td>\n",
              "      <td>19</td>\n",
              "      <td>4</td>\n",
              "      <td>0</td>\n",
              "      <td>9</td>\n",
              "      <td>76</td>\n",
              "      <td>19</td>\n",
              "      <td>4</td>\n",
              "      <td>0</td>\n",
              "      <td>9</td>\n",
              "      <td>1</td>\n",
              "    </tr>\n",
              "    <tr>\n",
              "      <th>2</th>\n",
              "      <td>75</td>\n",
              "      <td>80</td>\n",
              "      <td>75</td>\n",
              "      <td>0</td>\n",
              "      <td>1</td>\n",
              "      <td>2</td>\n",
              "      <td>121</td>\n",
              "      <td>99</td>\n",
              "      <td>99</td>\n",
              "      <td>99</td>\n",
              "      <td>9</td>\n",
              "      <td>99</td>\n",
              "      <td>0</td>\n",
              "      <td>2019</td>\n",
              "      <td>12</td>\n",
              "      <td>10</td>\n",
              "      <td>0</td>\n",
              "      <td>0</td>\n",
              "      <td>1</td>\n",
              "      <td>35</td>\n",
              "      <td>9</td>\n",
              "      <td>0</td>\n",
              "      <td>0</td>\n",
              "      <td>3533</td>\n",
              "      <td>2</td>\n",
              "      <td>60.0</td>\n",
              "      <td>0</td>\n",
              "      <td>31</td>\n",
              "      <td>75</td>\n",
              "      <td>60</td>\n",
              "      <td>2</td>\n",
              "      <td>0</td>\n",
              "      <td>1</td>\n",
              "      <td>52</td>\n",
              "      <td>0</td>\n",
              "      <td>1</td>\n",
              "      <td>15</td>\n",
              "      <td>1</td>\n",
              "      <td>1</td>\n",
              "    </tr>\n",
              "    <tr>\n",
              "      <th>3</th>\n",
              "      <td>24</td>\n",
              "      <td>50</td>\n",
              "      <td>24</td>\n",
              "      <td>0</td>\n",
              "      <td>1</td>\n",
              "      <td>1</td>\n",
              "      <td>121</td>\n",
              "      <td>99</td>\n",
              "      <td>99</td>\n",
              "      <td>99</td>\n",
              "      <td>9</td>\n",
              "      <td>99</td>\n",
              "      <td>0</td>\n",
              "      <td>2019</td>\n",
              "      <td>8</td>\n",
              "      <td>10</td>\n",
              "      <td>0</td>\n",
              "      <td>0</td>\n",
              "      <td>1</td>\n",
              "      <td>36</td>\n",
              "      <td>9</td>\n",
              "      <td>41</td>\n",
              "      <td>0</td>\n",
              "      <td>3533</td>\n",
              "      <td>2</td>\n",
              "      <td>60.0</td>\n",
              "      <td>0</td>\n",
              "      <td>31</td>\n",
              "      <td>24</td>\n",
              "      <td>60</td>\n",
              "      <td>2</td>\n",
              "      <td>0</td>\n",
              "      <td>1</td>\n",
              "      <td>24</td>\n",
              "      <td>0</td>\n",
              "      <td>1</td>\n",
              "      <td>15</td>\n",
              "      <td>1</td>\n",
              "      <td>1</td>\n",
              "    </tr>\n",
              "    <tr>\n",
              "      <th>4</th>\n",
              "      <td>5</td>\n",
              "      <td>20</td>\n",
              "      <td>5</td>\n",
              "      <td>1</td>\n",
              "      <td>1</td>\n",
              "      <td>2</td>\n",
              "      <td>60</td>\n",
              "      <td>5</td>\n",
              "      <td>1</td>\n",
              "      <td>99</td>\n",
              "      <td>1</td>\n",
              "      <td>3</td>\n",
              "      <td>0</td>\n",
              "      <td>2019</td>\n",
              "      <td>10</td>\n",
              "      <td>10</td>\n",
              "      <td>0</td>\n",
              "      <td>0</td>\n",
              "      <td>2</td>\n",
              "      <td>36</td>\n",
              "      <td>0</td>\n",
              "      <td>0</td>\n",
              "      <td>0</td>\n",
              "      <td>2237</td>\n",
              "      <td>1</td>\n",
              "      <td>0.0</td>\n",
              "      <td>0</td>\n",
              "      <td>31</td>\n",
              "      <td>99</td>\n",
              "      <td>0</td>\n",
              "      <td>0</td>\n",
              "      <td>0</td>\n",
              "      <td>2</td>\n",
              "      <td>99</td>\n",
              "      <td>0</td>\n",
              "      <td>99</td>\n",
              "      <td>0</td>\n",
              "      <td>9</td>\n",
              "      <td>1</td>\n",
              "    </tr>\n",
              "  </tbody>\n",
              "</table>\n",
              "</div>"
            ],
            "text/plain": [
              "   ORG_CLE_REG  AGE_BEN_SNDS  ...  PSP_STJ_SNDS  TOP_PS5_TRG\n",
              "0           76            50  ...             1            1\n",
              "1           76            80  ...             9            1\n",
              "2           75            80  ...             1            1\n",
              "3           24            50  ...             1            1\n",
              "4            5            20  ...             9            1\n",
              "\n",
              "[5 rows x 39 columns]"
            ]
          },
          "metadata": {},
          "execution_count": 63
        }
      ]
    },
    {
      "cell_type": "markdown",
      "metadata": {
        "id": "iixQ-bqCMiuM"
      },
      "source": [
        "### Séparation du jeux d'apprentissage entre les variables(x) et la cible(y)"
      ]
    },
    {
      "cell_type": "code",
      "metadata": {
        "id": "NnbjM5o8MiuM"
      },
      "source": [
        "kine_X = kine_age_know[[\"DDP_SPE_COD\",\"PRS_REM_TYP\",\"EXO_MTF\",\"EXE_INS_REG\",\"ORG_CLE_REG\",\"PRE_INS_REG\",\"DRG_AFF_NAT\",\"BEN_RES_REG\",\"PRS_REM_TAU\",\"ETE_TYP_SNDS\",\"MFT_COD\",\"ETP_REG_COD\",\"ETE_REG_COD\",\"ASU_NAT\",\"PSP_SPE_SNDS\",\"PSP_STJ_SNDS\",\"PSE_STJ_SNDS\",\"PRS_FJH_TYP\",\"SOI_MOI\",\"CPT_ENV_TYP\",\"PSE_ACT_SNDS\"]]"
      ],
      "execution_count": 64,
      "outputs": []
    },
    {
      "cell_type": "code",
      "metadata": {
        "id": "HXaeHM5XMiuN"
      },
      "source": [
        "kine_Y = kine_age_know[[\"AGE_BEN_SNDS\"]]"
      ],
      "execution_count": 65,
      "outputs": []
    },
    {
      "cell_type": "code",
      "metadata": {
        "colab": {
          "base_uri": "https://localhost:8080/",
          "height": 361
        },
        "id": "nvFFPFxdMiuN",
        "outputId": "ce345f84-35f7-4718-a952-b3036b7fed43"
      },
      "source": [
        "kine_X_age_unknow = kine_age_unknow[[\"PRS_PAI_MNT\",\"ETP_CAT_SNDS\",\"EXE_INS_REG\",\"ORG_CLE_REG\",\"DDP_SPE_COD\",\"EXO_MTF\",\"PRE_INS_REG\",\"BEN_RES_REG\",\"PRS_REM_TAU\",\"PRS_REM_TYP\",\"ETE_CAT_SNDS\",\"ETP_REG_COD\",\"DRG_AFF_NAT\",\"PRS_ACT_QTE\",\"ASU_NAT\",\"PSP_SPE_SNDS\",\"ETE_REG_COD\",\"PSP_STJ_SNDS\",\"PRS_FJH_TYP\",\"PSE_STJ_SNDS\",\"MFT_COD\",\"ETE_TYP_SNDS\"]]"
      ],
      "execution_count": 66,
      "outputs": [
        {
          "output_type": "error",
          "ename": "KeyError",
          "evalue": "ignored",
          "traceback": [
            "\u001b[0;31m---------------------------------------------------------------------------\u001b[0m",
            "\u001b[0;31mKeyError\u001b[0m                                  Traceback (most recent call last)",
            "\u001b[0;32m<ipython-input-66-6796bd3fa380>\u001b[0m in \u001b[0;36m<module>\u001b[0;34m()\u001b[0m\n\u001b[0;32m----> 1\u001b[0;31m \u001b[0mkine_X_age_unknow\u001b[0m \u001b[0;34m=\u001b[0m \u001b[0mkine_age_unknow\u001b[0m\u001b[0;34m[\u001b[0m\u001b[0;34m[\u001b[0m\u001b[0;34m\"PRS_PAI_MNT\"\u001b[0m\u001b[0;34m,\u001b[0m\u001b[0;34m\"ETP_CAT_SNDS\"\u001b[0m\u001b[0;34m,\u001b[0m\u001b[0;34m\"EXE_INS_REG\"\u001b[0m\u001b[0;34m,\u001b[0m\u001b[0;34m\"ORG_CLE_REG\"\u001b[0m\u001b[0;34m,\u001b[0m\u001b[0;34m\"DDP_SPE_COD\"\u001b[0m\u001b[0;34m,\u001b[0m\u001b[0;34m\"EXO_MTF\"\u001b[0m\u001b[0;34m,\u001b[0m\u001b[0;34m\"PRE_INS_REG\"\u001b[0m\u001b[0;34m,\u001b[0m\u001b[0;34m\"BEN_RES_REG\"\u001b[0m\u001b[0;34m,\u001b[0m\u001b[0;34m\"PRS_REM_TAU\"\u001b[0m\u001b[0;34m,\u001b[0m\u001b[0;34m\"PRS_REM_TYP\"\u001b[0m\u001b[0;34m,\u001b[0m\u001b[0;34m\"ETE_CAT_SNDS\"\u001b[0m\u001b[0;34m,\u001b[0m\u001b[0;34m\"ETP_REG_COD\"\u001b[0m\u001b[0;34m,\u001b[0m\u001b[0;34m\"DRG_AFF_NAT\"\u001b[0m\u001b[0;34m,\u001b[0m\u001b[0;34m\"PRS_ACT_QTE\"\u001b[0m\u001b[0;34m,\u001b[0m\u001b[0;34m\"ASU_NAT\"\u001b[0m\u001b[0;34m,\u001b[0m\u001b[0;34m\"PSP_SPE_SNDS\"\u001b[0m\u001b[0;34m,\u001b[0m\u001b[0;34m\"ETE_REG_COD\"\u001b[0m\u001b[0;34m,\u001b[0m\u001b[0;34m\"PSP_STJ_SNDS\"\u001b[0m\u001b[0;34m,\u001b[0m\u001b[0;34m\"PRS_FJH_TYP\"\u001b[0m\u001b[0;34m,\u001b[0m\u001b[0;34m\"PSE_STJ_SNDS\"\u001b[0m\u001b[0;34m,\u001b[0m\u001b[0;34m\"MFT_COD\"\u001b[0m\u001b[0;34m,\u001b[0m\u001b[0;34m\"ETE_TYP_SNDS\"\u001b[0m\u001b[0;34m]\u001b[0m\u001b[0;34m]\u001b[0m\u001b[0;34m\u001b[0m\u001b[0;34m\u001b[0m\u001b[0m\n\u001b[0m",
            "\u001b[0;32m/usr/local/lib/python3.7/dist-packages/pandas/core/frame.py\u001b[0m in \u001b[0;36m__getitem__\u001b[0;34m(self, key)\u001b[0m\n\u001b[1;32m   2910\u001b[0m             \u001b[0;32mif\u001b[0m \u001b[0mis_iterator\u001b[0m\u001b[0;34m(\u001b[0m\u001b[0mkey\u001b[0m\u001b[0;34m)\u001b[0m\u001b[0;34m:\u001b[0m\u001b[0;34m\u001b[0m\u001b[0;34m\u001b[0m\u001b[0m\n\u001b[1;32m   2911\u001b[0m                 \u001b[0mkey\u001b[0m \u001b[0;34m=\u001b[0m \u001b[0mlist\u001b[0m\u001b[0;34m(\u001b[0m\u001b[0mkey\u001b[0m\u001b[0;34m)\u001b[0m\u001b[0;34m\u001b[0m\u001b[0;34m\u001b[0m\u001b[0m\n\u001b[0;32m-> 2912\u001b[0;31m             \u001b[0mindexer\u001b[0m \u001b[0;34m=\u001b[0m \u001b[0mself\u001b[0m\u001b[0;34m.\u001b[0m\u001b[0mloc\u001b[0m\u001b[0;34m.\u001b[0m\u001b[0m_get_listlike_indexer\u001b[0m\u001b[0;34m(\u001b[0m\u001b[0mkey\u001b[0m\u001b[0;34m,\u001b[0m \u001b[0maxis\u001b[0m\u001b[0;34m=\u001b[0m\u001b[0;36m1\u001b[0m\u001b[0;34m,\u001b[0m \u001b[0mraise_missing\u001b[0m\u001b[0;34m=\u001b[0m\u001b[0;32mTrue\u001b[0m\u001b[0;34m)\u001b[0m\u001b[0;34m[\u001b[0m\u001b[0;36m1\u001b[0m\u001b[0;34m]\u001b[0m\u001b[0;34m\u001b[0m\u001b[0;34m\u001b[0m\u001b[0m\n\u001b[0m\u001b[1;32m   2913\u001b[0m \u001b[0;34m\u001b[0m\u001b[0m\n\u001b[1;32m   2914\u001b[0m         \u001b[0;31m# take() does not accept boolean indexers\u001b[0m\u001b[0;34m\u001b[0m\u001b[0;34m\u001b[0m\u001b[0;34m\u001b[0m\u001b[0m\n",
            "\u001b[0;32m/usr/local/lib/python3.7/dist-packages/pandas/core/indexing.py\u001b[0m in \u001b[0;36m_get_listlike_indexer\u001b[0;34m(self, key, axis, raise_missing)\u001b[0m\n\u001b[1;32m   1252\u001b[0m             \u001b[0mkeyarr\u001b[0m\u001b[0;34m,\u001b[0m \u001b[0mindexer\u001b[0m\u001b[0;34m,\u001b[0m \u001b[0mnew_indexer\u001b[0m \u001b[0;34m=\u001b[0m \u001b[0max\u001b[0m\u001b[0;34m.\u001b[0m\u001b[0m_reindex_non_unique\u001b[0m\u001b[0;34m(\u001b[0m\u001b[0mkeyarr\u001b[0m\u001b[0;34m)\u001b[0m\u001b[0;34m\u001b[0m\u001b[0;34m\u001b[0m\u001b[0m\n\u001b[1;32m   1253\u001b[0m \u001b[0;34m\u001b[0m\u001b[0m\n\u001b[0;32m-> 1254\u001b[0;31m         \u001b[0mself\u001b[0m\u001b[0;34m.\u001b[0m\u001b[0m_validate_read_indexer\u001b[0m\u001b[0;34m(\u001b[0m\u001b[0mkeyarr\u001b[0m\u001b[0;34m,\u001b[0m \u001b[0mindexer\u001b[0m\u001b[0;34m,\u001b[0m \u001b[0maxis\u001b[0m\u001b[0;34m,\u001b[0m \u001b[0mraise_missing\u001b[0m\u001b[0;34m=\u001b[0m\u001b[0mraise_missing\u001b[0m\u001b[0;34m)\u001b[0m\u001b[0;34m\u001b[0m\u001b[0;34m\u001b[0m\u001b[0m\n\u001b[0m\u001b[1;32m   1255\u001b[0m         \u001b[0;32mreturn\u001b[0m \u001b[0mkeyarr\u001b[0m\u001b[0;34m,\u001b[0m \u001b[0mindexer\u001b[0m\u001b[0;34m\u001b[0m\u001b[0;34m\u001b[0m\u001b[0m\n\u001b[1;32m   1256\u001b[0m \u001b[0;34m\u001b[0m\u001b[0m\n",
            "\u001b[0;32m/usr/local/lib/python3.7/dist-packages/pandas/core/indexing.py\u001b[0m in \u001b[0;36m_validate_read_indexer\u001b[0;34m(self, key, indexer, axis, raise_missing)\u001b[0m\n\u001b[1;32m   1302\u001b[0m             \u001b[0;32mif\u001b[0m \u001b[0mraise_missing\u001b[0m\u001b[0;34m:\u001b[0m\u001b[0;34m\u001b[0m\u001b[0;34m\u001b[0m\u001b[0m\n\u001b[1;32m   1303\u001b[0m                 \u001b[0mnot_found\u001b[0m \u001b[0;34m=\u001b[0m \u001b[0mlist\u001b[0m\u001b[0;34m(\u001b[0m\u001b[0mset\u001b[0m\u001b[0;34m(\u001b[0m\u001b[0mkey\u001b[0m\u001b[0;34m)\u001b[0m \u001b[0;34m-\u001b[0m \u001b[0mset\u001b[0m\u001b[0;34m(\u001b[0m\u001b[0max\u001b[0m\u001b[0;34m)\u001b[0m\u001b[0;34m)\u001b[0m\u001b[0;34m\u001b[0m\u001b[0;34m\u001b[0m\u001b[0m\n\u001b[0;32m-> 1304\u001b[0;31m                 \u001b[0;32mraise\u001b[0m \u001b[0mKeyError\u001b[0m\u001b[0;34m(\u001b[0m\u001b[0;34mf\"{not_found} not in index\"\u001b[0m\u001b[0;34m)\u001b[0m\u001b[0;34m\u001b[0m\u001b[0;34m\u001b[0m\u001b[0m\n\u001b[0m\u001b[1;32m   1305\u001b[0m \u001b[0;34m\u001b[0m\u001b[0m\n\u001b[1;32m   1306\u001b[0m             \u001b[0;31m# we skip the warning on Categorical\u001b[0m\u001b[0;34m\u001b[0m\u001b[0;34m\u001b[0m\u001b[0;34m\u001b[0m\u001b[0m\n",
            "\u001b[0;31mKeyError\u001b[0m: \"['ETE_CAT_SNDS', 'PRS_ACT_QTE', 'PRS_PAI_MNT', 'ETP_CAT_SNDS'] not in index\""
          ]
        }
      ]
    },
    {
      "cell_type": "markdown",
      "metadata": {
        "id": "tO6yzo35MiuN"
      },
      "source": [
        "### Découpage des jeux en base d'apprentissage et de tests"
      ]
    },
    {
      "cell_type": "code",
      "metadata": {
        "id": "TFYyFzM2MiuN"
      },
      "source": [
        "kine_X_train, kine_X_test, kine_Y_train, kine_Y_test = train_test_split(kine_X.to_numpy(), kine_Y.to_numpy(), test_size=0.33, random_state=42) "
      ],
      "execution_count": 67,
      "outputs": []
    },
    {
      "cell_type": "markdown",
      "metadata": {
        "id": "OFF_JPO9MiuN"
      },
      "source": [
        "### Scaling data"
      ]
    },
    {
      "cell_type": "code",
      "metadata": {
        "id": "VEa5n9RYMiuN"
      },
      "source": [
        "scaler = StandardScaler()\n",
        "scaler = RobustScaler()\n",
        "kine_X_train_scaled  = scaler.fit(kine_X_train).transform(kine_X_train)\n",
        "kine_X_test_scaled  = scaler.fit(kine_X_test).transform(kine_X_test)"
      ],
      "execution_count": 68,
      "outputs": []
    },
    {
      "cell_type": "markdown",
      "metadata": {
        "id": "CQHzQN0wMiuN"
      },
      "source": [
        "## AdaBoost Classifier"
      ]
    },
    {
      "cell_type": "code",
      "metadata": {
        "colab": {
          "base_uri": "https://localhost:8080/"
        },
        "id": "h8mTnWaRMiuO",
        "outputId": "6ad5e110-5eb2-4fd4-8d27-c9d0160a3947"
      },
      "source": [
        "clf = AdaBoostClassifier(n_estimators=100, random_state=0)\n",
        "clf.fit(kine_X_train, kine_Y_train).score(kine_X_test, kine_Y_test)"
      ],
      "execution_count": 69,
      "outputs": [
        {
          "output_type": "execute_result",
          "data": {
            "text/plain": [
              "0.2594725674446802"
            ]
          },
          "metadata": {},
          "execution_count": 69
        }
      ]
    },
    {
      "cell_type": "code",
      "metadata": {
        "colab": {
          "base_uri": "https://localhost:8080/"
        },
        "id": "fQ5XSrmdMiuO",
        "outputId": "8d5f6a07-8725-43b5-ca2d-8876c77f2bfa"
      },
      "source": [
        "clf.fit(kine_X_train_scaled, kine_Y_train).score(kine_X_test_scaled, kine_Y_test)"
      ],
      "execution_count": 70,
      "outputs": [
        {
          "output_type": "execute_result",
          "data": {
            "text/plain": [
              "0.2546226129130039"
            ]
          },
          "metadata": {},
          "execution_count": 70
        }
      ]
    },
    {
      "cell_type": "markdown",
      "metadata": {
        "id": "4t43v3tPMiuO"
      },
      "source": [
        "## Bagging Classifier"
      ]
    },
    {
      "cell_type": "code",
      "metadata": {
        "id": "7GOTHyHEMiuO"
      },
      "source": [
        "clf = BaggingClassifier(base_estimator=SVC(), n_estimators=10, random_state=0, n_jobs=-1)"
      ],
      "execution_count": 71,
      "outputs": []
    },
    {
      "cell_type": "code",
      "metadata": {
        "colab": {
          "base_uri": "https://localhost:8080/"
        },
        "id": "Y4YhBgAPMiuO",
        "outputId": "29463ea2-dcfb-476d-ddad-015f70a519e1"
      },
      "source": [
        "clf.fit(kine_X_train, kine_Y_train).score(kine_X_test, kine_Y_test)"
      ],
      "execution_count": 72,
      "outputs": [
        {
          "output_type": "execute_result",
          "data": {
            "text/plain": [
              "0.26553501060927553"
            ]
          },
          "metadata": {},
          "execution_count": 72
        }
      ]
    },
    {
      "cell_type": "code",
      "metadata": {
        "colab": {
          "base_uri": "https://localhost:8080/"
        },
        "id": "vzoAEmRxMiuO",
        "outputId": "a9cbf45b-188e-4fc9-9e27-36727a804ea9"
      },
      "source": [
        "clf.fit(kine_X_train_scaled, kine_Y_train).score(kine_X_test_scaled, kine_Y_test)"
      ],
      "execution_count": 77,
      "outputs": [
        {
          "output_type": "execute_result",
          "data": {
            "text/plain": [
              "0.24704455895725977"
            ]
          },
          "metadata": {},
          "execution_count": 77
        }
      ]
    },
    {
      "cell_type": "markdown",
      "metadata": {
        "id": "AC8okSnoMiuP"
      },
      "source": [
        "## Extra Trees Classifier"
      ]
    },
    {
      "cell_type": "code",
      "metadata": {
        "colab": {
          "base_uri": "https://localhost:8080/"
        },
        "id": "QlAJC7f1MiuP",
        "outputId": "b3751f7b-541b-4086-c24a-c2123cd00e76"
      },
      "source": [
        "clf = ExtraTreesClassifier(n_estimators=9, random_state=0, n_jobs=-1)\n",
        "clf.fit(kine_X_train, kine_Y_train).score(kine_X_test, kine_Y_test)"
      ],
      "execution_count": 75,
      "outputs": [
        {
          "output_type": "execute_result",
          "data": {
            "text/plain": [
              "0.25098514701424673"
            ]
          },
          "metadata": {},
          "execution_count": 75
        }
      ]
    },
    {
      "cell_type": "code",
      "metadata": {
        "colab": {
          "base_uri": "https://localhost:8080/"
        },
        "id": "jZ9eflfbMiuP",
        "outputId": "ea224ed7-3493-4263-c10b-a43185c22350"
      },
      "source": [
        "clf.fit(kine_X_train_scaled, kine_Y_train).score(kine_X_test_scaled, kine_Y_test)"
      ],
      "execution_count": 76,
      "outputs": [
        {
          "output_type": "execute_result",
          "data": {
            "text/plain": [
              "0.24704455895725977"
            ]
          },
          "metadata": {},
          "execution_count": 76
        }
      ]
    },
    {
      "cell_type": "markdown",
      "metadata": {
        "id": "Ri3sb1KjMiuP"
      },
      "source": [
        "## Gradient Boosting Classifier"
      ]
    },
    {
      "cell_type": "code",
      "metadata": {
        "colab": {
          "base_uri": "https://localhost:8080/"
        },
        "id": "4zGZz_T5MiuP",
        "outputId": "4110a729-5739-4fa0-dc56-28a332a248d6"
      },
      "source": [
        "clf = GradientBoostingClassifier(random_state=0)\n",
        "clf.fit(kine_X_train, kine_Y_train).score(kine_X_test, kine_Y_test)"
      ],
      "execution_count": 78,
      "outputs": [
        {
          "output_type": "execute_result",
          "data": {
            "text/plain": [
              "0.29190663837526526"
            ]
          },
          "metadata": {},
          "execution_count": 78
        }
      ]
    },
    {
      "cell_type": "code",
      "metadata": {
        "colab": {
          "base_uri": "https://localhost:8080/"
        },
        "id": "3B07U_jrMiuP",
        "outputId": "9ac095de-fe4c-482a-e1e2-bfe2eea6f416"
      },
      "source": [
        "clf.fit(kine_X_train_scaled, kine_Y_train).score(kine_X_test_scaled, kine_Y_test)"
      ],
      "execution_count": 79,
      "outputs": [
        {
          "output_type": "execute_result",
          "data": {
            "text/plain": [
              "0.288269172476508"
            ]
          },
          "metadata": {},
          "execution_count": 79
        }
      ]
    },
    {
      "cell_type": "markdown",
      "metadata": {
        "id": "ayvtBER6MiuQ"
      },
      "source": [
        "## Random Forest Classifier"
      ]
    },
    {
      "cell_type": "code",
      "metadata": {
        "colab": {
          "base_uri": "https://localhost:8080/"
        },
        "id": "qJPs3h-1MiuQ",
        "outputId": "fce564f5-e432-4eb1-a4d8-84b083ce752f"
      },
      "source": [
        "clf = RandomForestClassifier(n_estimators=100, max_depth=30, random_state=9, n_jobs=-1)\n",
        "clf.fit(kine_X_train, kine_Y_train).score(kine_X_test, kine_Y_test)"
      ],
      "execution_count": 80,
      "outputs": [
        {
          "output_type": "execute_result",
          "data": {
            "text/plain": [
              "0.2682631100333434"
            ]
          },
          "metadata": {},
          "execution_count": 80
        }
      ]
    },
    {
      "cell_type": "code",
      "metadata": {
        "colab": {
          "base_uri": "https://localhost:8080/"
        },
        "id": "wYFWpP9mMiuQ",
        "outputId": "fd97dd85-cb3d-468a-8345-9d27e3bedaee"
      },
      "source": [
        "clf.fit(kine_X_train_scaled, kine_Y_train).score(kine_X_test_scaled, kine_Y_test)"
      ],
      "execution_count": 81,
      "outputs": [
        {
          "output_type": "execute_result",
          "data": {
            "text/plain": [
              "0.25795695665353136"
            ]
          },
          "metadata": {},
          "execution_count": 81
        }
      ]
    },
    {
      "cell_type": "markdown",
      "metadata": {
        "id": "d5F54CYAMiuQ"
      },
      "source": [
        "## Stacking Classifier "
      ]
    },
    {
      "cell_type": "code",
      "metadata": {
        "colab": {
          "base_uri": "https://localhost:8080/",
          "height": 358
        },
        "id": "5M7NnCzaMiuQ",
        "outputId": "8d483ffa-09d2-4660-d0f6-6ccaa8d293bd"
      },
      "source": [
        "estimators = [\n",
        "    ('rf', RandomForestClassifier(n_estimators=10, random_state=42, n_jobs=-1)),\n",
        "    ('svr', make_pipeline(StandardScaler(),\n",
        "                          LinearSVC(random_state=42)))\n",
        "]\n",
        "clf = StackingClassifier(\n",
        "    estimators=estimators, final_estimator=LogisticRegression()\n",
        ")\n",
        "clf.fit(kine_X_train, kine_Y_train).score(kine_X_test, kine_Y_test)"
      ],
      "execution_count": 82,
      "outputs": [
        {
          "output_type": "error",
          "ename": "AttributeError",
          "evalue": "ignored",
          "traceback": [
            "\u001b[0;31m---------------------------------------------------------------------------\u001b[0m",
            "\u001b[0;31mAttributeError\u001b[0m                            Traceback (most recent call last)",
            "\u001b[0;32m<ipython-input-82-975b84f179f8>\u001b[0m in \u001b[0;36m<module>\u001b[0;34m()\u001b[0m\n\u001b[1;32m      7\u001b[0m     \u001b[0mestimators\u001b[0m\u001b[0;34m=\u001b[0m\u001b[0mestimators\u001b[0m\u001b[0;34m,\u001b[0m \u001b[0mfinal_estimator\u001b[0m\u001b[0;34m=\u001b[0m\u001b[0mLogisticRegression\u001b[0m\u001b[0;34m(\u001b[0m\u001b[0;34m)\u001b[0m\u001b[0;34m\u001b[0m\u001b[0;34m\u001b[0m\u001b[0m\n\u001b[1;32m      8\u001b[0m )\n\u001b[0;32m----> 9\u001b[0;31m \u001b[0mclf\u001b[0m\u001b[0;34m.\u001b[0m\u001b[0mfit\u001b[0m\u001b[0;34m(\u001b[0m\u001b[0mkine_X_train\u001b[0m\u001b[0;34m,\u001b[0m \u001b[0mkine_Y_train\u001b[0m\u001b[0;34m)\u001b[0m\u001b[0;34m.\u001b[0m\u001b[0mscore\u001b[0m\u001b[0;34m(\u001b[0m\u001b[0mkine_X_test\u001b[0m\u001b[0;34m,\u001b[0m \u001b[0mkine_Y_test\u001b[0m\u001b[0;34m)\u001b[0m\u001b[0;34m\u001b[0m\u001b[0;34m\u001b[0m\u001b[0m\n\u001b[0m",
            "\u001b[0;32m/usr/local/lib/python3.7/dist-packages/sklearn/ensemble/_stacking.py\u001b[0m in \u001b[0;36mfit\u001b[0;34m(self, X, y, sample_weight)\u001b[0m\n\u001b[1;32m    411\u001b[0m         \u001b[0mself\u001b[0m\u001b[0;34m.\u001b[0m\u001b[0m_le\u001b[0m \u001b[0;34m=\u001b[0m \u001b[0mLabelEncoder\u001b[0m\u001b[0;34m(\u001b[0m\u001b[0;34m)\u001b[0m\u001b[0;34m.\u001b[0m\u001b[0mfit\u001b[0m\u001b[0;34m(\u001b[0m\u001b[0my\u001b[0m\u001b[0;34m)\u001b[0m\u001b[0;34m\u001b[0m\u001b[0;34m\u001b[0m\u001b[0m\n\u001b[1;32m    412\u001b[0m         \u001b[0mself\u001b[0m\u001b[0;34m.\u001b[0m\u001b[0mclasses_\u001b[0m \u001b[0;34m=\u001b[0m \u001b[0mself\u001b[0m\u001b[0;34m.\u001b[0m\u001b[0m_le\u001b[0m\u001b[0;34m.\u001b[0m\u001b[0mclasses_\u001b[0m\u001b[0;34m\u001b[0m\u001b[0;34m\u001b[0m\u001b[0m\n\u001b[0;32m--> 413\u001b[0;31m         \u001b[0;32mreturn\u001b[0m \u001b[0msuper\u001b[0m\u001b[0;34m(\u001b[0m\u001b[0;34m)\u001b[0m\u001b[0;34m.\u001b[0m\u001b[0mfit\u001b[0m\u001b[0;34m(\u001b[0m\u001b[0mX\u001b[0m\u001b[0;34m,\u001b[0m \u001b[0mself\u001b[0m\u001b[0;34m.\u001b[0m\u001b[0m_le\u001b[0m\u001b[0;34m.\u001b[0m\u001b[0mtransform\u001b[0m\u001b[0;34m(\u001b[0m\u001b[0my\u001b[0m\u001b[0;34m)\u001b[0m\u001b[0;34m,\u001b[0m \u001b[0msample_weight\u001b[0m\u001b[0;34m)\u001b[0m\u001b[0;34m\u001b[0m\u001b[0;34m\u001b[0m\u001b[0m\n\u001b[0m\u001b[1;32m    414\u001b[0m \u001b[0;34m\u001b[0m\u001b[0m\n\u001b[1;32m    415\u001b[0m     \u001b[0;34m@\u001b[0m\u001b[0mif_delegate_has_method\u001b[0m\u001b[0;34m(\u001b[0m\u001b[0mdelegate\u001b[0m\u001b[0;34m=\u001b[0m\u001b[0;34m'final_estimator_'\u001b[0m\u001b[0;34m)\u001b[0m\u001b[0;34m\u001b[0m\u001b[0;34m\u001b[0m\u001b[0m\n",
            "\u001b[0;32m/usr/local/lib/python3.7/dist-packages/sklearn/ensemble/_stacking.py\u001b[0m in \u001b[0;36mfit\u001b[0;34m(self, X, y, sample_weight)\u001b[0m\n\u001b[1;32m    197\u001b[0m                 \u001b[0;32mraise\u001b[0m\u001b[0;34m\u001b[0m\u001b[0;34m\u001b[0m\u001b[0m\n\u001b[1;32m    198\u001b[0m         \u001b[0;32melse\u001b[0m\u001b[0;34m:\u001b[0m\u001b[0;34m\u001b[0m\u001b[0;34m\u001b[0m\u001b[0m\n\u001b[0;32m--> 199\u001b[0;31m             \u001b[0mself\u001b[0m\u001b[0;34m.\u001b[0m\u001b[0mfinal_estimator_\u001b[0m\u001b[0;34m.\u001b[0m\u001b[0mfit\u001b[0m\u001b[0;34m(\u001b[0m\u001b[0mX_meta\u001b[0m\u001b[0;34m,\u001b[0m \u001b[0my\u001b[0m\u001b[0;34m)\u001b[0m\u001b[0;34m\u001b[0m\u001b[0;34m\u001b[0m\u001b[0m\n\u001b[0m\u001b[1;32m    200\u001b[0m \u001b[0;34m\u001b[0m\u001b[0m\n\u001b[1;32m    201\u001b[0m         \u001b[0;32mreturn\u001b[0m \u001b[0mself\u001b[0m\u001b[0;34m\u001b[0m\u001b[0;34m\u001b[0m\u001b[0m\n",
            "\u001b[0;32m/usr/local/lib/python3.7/dist-packages/sklearn/linear_model/_logistic.py\u001b[0m in \u001b[0;36mfit\u001b[0;34m(self, X, y, sample_weight)\u001b[0m\n\u001b[1;32m   1599\u001b[0m                       \u001b[0mpenalty\u001b[0m\u001b[0;34m=\u001b[0m\u001b[0mpenalty\u001b[0m\u001b[0;34m,\u001b[0m \u001b[0mmax_squared_sum\u001b[0m\u001b[0;34m=\u001b[0m\u001b[0mmax_squared_sum\u001b[0m\u001b[0;34m,\u001b[0m\u001b[0;34m\u001b[0m\u001b[0;34m\u001b[0m\u001b[0m\n\u001b[1;32m   1600\u001b[0m                       sample_weight=sample_weight)\n\u001b[0;32m-> 1601\u001b[0;31m             for class_, warm_start_coef_ in zip(classes_, warm_start_coef))\n\u001b[0m\u001b[1;32m   1602\u001b[0m \u001b[0;34m\u001b[0m\u001b[0m\n\u001b[1;32m   1603\u001b[0m         \u001b[0mfold_coefs_\u001b[0m\u001b[0;34m,\u001b[0m \u001b[0m_\u001b[0m\u001b[0;34m,\u001b[0m \u001b[0mn_iter_\u001b[0m \u001b[0;34m=\u001b[0m \u001b[0mzip\u001b[0m\u001b[0;34m(\u001b[0m\u001b[0;34m*\u001b[0m\u001b[0mfold_coefs_\u001b[0m\u001b[0;34m)\u001b[0m\u001b[0;34m\u001b[0m\u001b[0;34m\u001b[0m\u001b[0m\n",
            "\u001b[0;32m/usr/local/lib/python3.7/dist-packages/joblib/parallel.py\u001b[0m in \u001b[0;36m__call__\u001b[0;34m(self, iterable)\u001b[0m\n\u001b[1;32m   1039\u001b[0m             \u001b[0;31m# remaining jobs.\u001b[0m\u001b[0;34m\u001b[0m\u001b[0;34m\u001b[0m\u001b[0;34m\u001b[0m\u001b[0m\n\u001b[1;32m   1040\u001b[0m             \u001b[0mself\u001b[0m\u001b[0;34m.\u001b[0m\u001b[0m_iterating\u001b[0m \u001b[0;34m=\u001b[0m \u001b[0;32mFalse\u001b[0m\u001b[0;34m\u001b[0m\u001b[0;34m\u001b[0m\u001b[0m\n\u001b[0;32m-> 1041\u001b[0;31m             \u001b[0;32mif\u001b[0m \u001b[0mself\u001b[0m\u001b[0;34m.\u001b[0m\u001b[0mdispatch_one_batch\u001b[0m\u001b[0;34m(\u001b[0m\u001b[0miterator\u001b[0m\u001b[0;34m)\u001b[0m\u001b[0;34m:\u001b[0m\u001b[0;34m\u001b[0m\u001b[0;34m\u001b[0m\u001b[0m\n\u001b[0m\u001b[1;32m   1042\u001b[0m                 \u001b[0mself\u001b[0m\u001b[0;34m.\u001b[0m\u001b[0m_iterating\u001b[0m \u001b[0;34m=\u001b[0m \u001b[0mself\u001b[0m\u001b[0;34m.\u001b[0m\u001b[0m_original_iterator\u001b[0m \u001b[0;32mis\u001b[0m \u001b[0;32mnot\u001b[0m \u001b[0;32mNone\u001b[0m\u001b[0;34m\u001b[0m\u001b[0;34m\u001b[0m\u001b[0m\n\u001b[1;32m   1043\u001b[0m \u001b[0;34m\u001b[0m\u001b[0m\n",
            "\u001b[0;32m/usr/local/lib/python3.7/dist-packages/joblib/parallel.py\u001b[0m in \u001b[0;36mdispatch_one_batch\u001b[0;34m(self, iterator)\u001b[0m\n\u001b[1;32m    857\u001b[0m                 \u001b[0;32mreturn\u001b[0m \u001b[0;32mFalse\u001b[0m\u001b[0;34m\u001b[0m\u001b[0;34m\u001b[0m\u001b[0m\n\u001b[1;32m    858\u001b[0m             \u001b[0;32melse\u001b[0m\u001b[0;34m:\u001b[0m\u001b[0;34m\u001b[0m\u001b[0;34m\u001b[0m\u001b[0m\n\u001b[0;32m--> 859\u001b[0;31m                 \u001b[0mself\u001b[0m\u001b[0;34m.\u001b[0m\u001b[0m_dispatch\u001b[0m\u001b[0;34m(\u001b[0m\u001b[0mtasks\u001b[0m\u001b[0;34m)\u001b[0m\u001b[0;34m\u001b[0m\u001b[0;34m\u001b[0m\u001b[0m\n\u001b[0m\u001b[1;32m    860\u001b[0m                 \u001b[0;32mreturn\u001b[0m \u001b[0;32mTrue\u001b[0m\u001b[0;34m\u001b[0m\u001b[0;34m\u001b[0m\u001b[0m\n\u001b[1;32m    861\u001b[0m \u001b[0;34m\u001b[0m\u001b[0m\n",
            "\u001b[0;32m/usr/local/lib/python3.7/dist-packages/joblib/parallel.py\u001b[0m in \u001b[0;36m_dispatch\u001b[0;34m(self, batch)\u001b[0m\n\u001b[1;32m    775\u001b[0m         \u001b[0;32mwith\u001b[0m \u001b[0mself\u001b[0m\u001b[0;34m.\u001b[0m\u001b[0m_lock\u001b[0m\u001b[0;34m:\u001b[0m\u001b[0;34m\u001b[0m\u001b[0;34m\u001b[0m\u001b[0m\n\u001b[1;32m    776\u001b[0m             \u001b[0mjob_idx\u001b[0m \u001b[0;34m=\u001b[0m \u001b[0mlen\u001b[0m\u001b[0;34m(\u001b[0m\u001b[0mself\u001b[0m\u001b[0;34m.\u001b[0m\u001b[0m_jobs\u001b[0m\u001b[0;34m)\u001b[0m\u001b[0;34m\u001b[0m\u001b[0;34m\u001b[0m\u001b[0m\n\u001b[0;32m--> 777\u001b[0;31m             \u001b[0mjob\u001b[0m \u001b[0;34m=\u001b[0m \u001b[0mself\u001b[0m\u001b[0;34m.\u001b[0m\u001b[0m_backend\u001b[0m\u001b[0;34m.\u001b[0m\u001b[0mapply_async\u001b[0m\u001b[0;34m(\u001b[0m\u001b[0mbatch\u001b[0m\u001b[0;34m,\u001b[0m \u001b[0mcallback\u001b[0m\u001b[0;34m=\u001b[0m\u001b[0mcb\u001b[0m\u001b[0;34m)\u001b[0m\u001b[0;34m\u001b[0m\u001b[0;34m\u001b[0m\u001b[0m\n\u001b[0m\u001b[1;32m    778\u001b[0m             \u001b[0;31m# A job can complete so quickly than its callback is\u001b[0m\u001b[0;34m\u001b[0m\u001b[0;34m\u001b[0m\u001b[0;34m\u001b[0m\u001b[0m\n\u001b[1;32m    779\u001b[0m             \u001b[0;31m# called before we get here, causing self._jobs to\u001b[0m\u001b[0;34m\u001b[0m\u001b[0;34m\u001b[0m\u001b[0;34m\u001b[0m\u001b[0m\n",
            "\u001b[0;32m/usr/local/lib/python3.7/dist-packages/joblib/_parallel_backends.py\u001b[0m in \u001b[0;36mapply_async\u001b[0;34m(self, func, callback)\u001b[0m\n\u001b[1;32m    206\u001b[0m     \u001b[0;32mdef\u001b[0m \u001b[0mapply_async\u001b[0m\u001b[0;34m(\u001b[0m\u001b[0mself\u001b[0m\u001b[0;34m,\u001b[0m \u001b[0mfunc\u001b[0m\u001b[0;34m,\u001b[0m \u001b[0mcallback\u001b[0m\u001b[0;34m=\u001b[0m\u001b[0;32mNone\u001b[0m\u001b[0;34m)\u001b[0m\u001b[0;34m:\u001b[0m\u001b[0;34m\u001b[0m\u001b[0;34m\u001b[0m\u001b[0m\n\u001b[1;32m    207\u001b[0m         \u001b[0;34m\"\"\"Schedule a func to be run\"\"\"\u001b[0m\u001b[0;34m\u001b[0m\u001b[0;34m\u001b[0m\u001b[0m\n\u001b[0;32m--> 208\u001b[0;31m         \u001b[0mresult\u001b[0m \u001b[0;34m=\u001b[0m \u001b[0mImmediateResult\u001b[0m\u001b[0;34m(\u001b[0m\u001b[0mfunc\u001b[0m\u001b[0;34m)\u001b[0m\u001b[0;34m\u001b[0m\u001b[0;34m\u001b[0m\u001b[0m\n\u001b[0m\u001b[1;32m    209\u001b[0m         \u001b[0;32mif\u001b[0m \u001b[0mcallback\u001b[0m\u001b[0;34m:\u001b[0m\u001b[0;34m\u001b[0m\u001b[0;34m\u001b[0m\u001b[0m\n\u001b[1;32m    210\u001b[0m             \u001b[0mcallback\u001b[0m\u001b[0;34m(\u001b[0m\u001b[0mresult\u001b[0m\u001b[0;34m)\u001b[0m\u001b[0;34m\u001b[0m\u001b[0;34m\u001b[0m\u001b[0m\n",
            "\u001b[0;32m/usr/local/lib/python3.7/dist-packages/joblib/_parallel_backends.py\u001b[0m in \u001b[0;36m__init__\u001b[0;34m(self, batch)\u001b[0m\n\u001b[1;32m    570\u001b[0m         \u001b[0;31m# Don't delay the application, to avoid keeping the input\u001b[0m\u001b[0;34m\u001b[0m\u001b[0;34m\u001b[0m\u001b[0;34m\u001b[0m\u001b[0m\n\u001b[1;32m    571\u001b[0m         \u001b[0;31m# arguments in memory\u001b[0m\u001b[0;34m\u001b[0m\u001b[0;34m\u001b[0m\u001b[0;34m\u001b[0m\u001b[0m\n\u001b[0;32m--> 572\u001b[0;31m         \u001b[0mself\u001b[0m\u001b[0;34m.\u001b[0m\u001b[0mresults\u001b[0m \u001b[0;34m=\u001b[0m \u001b[0mbatch\u001b[0m\u001b[0;34m(\u001b[0m\u001b[0;34m)\u001b[0m\u001b[0;34m\u001b[0m\u001b[0;34m\u001b[0m\u001b[0m\n\u001b[0m\u001b[1;32m    573\u001b[0m \u001b[0;34m\u001b[0m\u001b[0m\n\u001b[1;32m    574\u001b[0m     \u001b[0;32mdef\u001b[0m \u001b[0mget\u001b[0m\u001b[0;34m(\u001b[0m\u001b[0mself\u001b[0m\u001b[0;34m)\u001b[0m\u001b[0;34m:\u001b[0m\u001b[0;34m\u001b[0m\u001b[0;34m\u001b[0m\u001b[0m\n",
            "\u001b[0;32m/usr/local/lib/python3.7/dist-packages/joblib/parallel.py\u001b[0m in \u001b[0;36m__call__\u001b[0;34m(self)\u001b[0m\n\u001b[1;32m    261\u001b[0m         \u001b[0;32mwith\u001b[0m \u001b[0mparallel_backend\u001b[0m\u001b[0;34m(\u001b[0m\u001b[0mself\u001b[0m\u001b[0;34m.\u001b[0m\u001b[0m_backend\u001b[0m\u001b[0;34m,\u001b[0m \u001b[0mn_jobs\u001b[0m\u001b[0;34m=\u001b[0m\u001b[0mself\u001b[0m\u001b[0;34m.\u001b[0m\u001b[0m_n_jobs\u001b[0m\u001b[0;34m)\u001b[0m\u001b[0;34m:\u001b[0m\u001b[0;34m\u001b[0m\u001b[0;34m\u001b[0m\u001b[0m\n\u001b[1;32m    262\u001b[0m             return [func(*args, **kwargs)\n\u001b[0;32m--> 263\u001b[0;31m                     for func, args, kwargs in self.items]\n\u001b[0m\u001b[1;32m    264\u001b[0m \u001b[0;34m\u001b[0m\u001b[0m\n\u001b[1;32m    265\u001b[0m     \u001b[0;32mdef\u001b[0m \u001b[0m__reduce__\u001b[0m\u001b[0;34m(\u001b[0m\u001b[0mself\u001b[0m\u001b[0;34m)\u001b[0m\u001b[0;34m:\u001b[0m\u001b[0;34m\u001b[0m\u001b[0;34m\u001b[0m\u001b[0m\n",
            "\u001b[0;32m/usr/local/lib/python3.7/dist-packages/joblib/parallel.py\u001b[0m in \u001b[0;36m<listcomp>\u001b[0;34m(.0)\u001b[0m\n\u001b[1;32m    261\u001b[0m         \u001b[0;32mwith\u001b[0m \u001b[0mparallel_backend\u001b[0m\u001b[0;34m(\u001b[0m\u001b[0mself\u001b[0m\u001b[0;34m.\u001b[0m\u001b[0m_backend\u001b[0m\u001b[0;34m,\u001b[0m \u001b[0mn_jobs\u001b[0m\u001b[0;34m=\u001b[0m\u001b[0mself\u001b[0m\u001b[0;34m.\u001b[0m\u001b[0m_n_jobs\u001b[0m\u001b[0;34m)\u001b[0m\u001b[0;34m:\u001b[0m\u001b[0;34m\u001b[0m\u001b[0;34m\u001b[0m\u001b[0m\n\u001b[1;32m    262\u001b[0m             return [func(*args, **kwargs)\n\u001b[0;32m--> 263\u001b[0;31m                     for func, args, kwargs in self.items]\n\u001b[0m\u001b[1;32m    264\u001b[0m \u001b[0;34m\u001b[0m\u001b[0m\n\u001b[1;32m    265\u001b[0m     \u001b[0;32mdef\u001b[0m \u001b[0m__reduce__\u001b[0m\u001b[0;34m(\u001b[0m\u001b[0mself\u001b[0m\u001b[0;34m)\u001b[0m\u001b[0;34m:\u001b[0m\u001b[0;34m\u001b[0m\u001b[0;34m\u001b[0m\u001b[0m\n",
            "\u001b[0;32m/usr/local/lib/python3.7/dist-packages/sklearn/linear_model/_logistic.py\u001b[0m in \u001b[0;36m_logistic_regression_path\u001b[0;34m(X, y, pos_class, Cs, fit_intercept, max_iter, tol, verbose, solver, coef, class_weight, dual, penalty, intercept_scaling, multi_class, random_state, check_input, max_squared_sum, sample_weight, l1_ratio)\u001b[0m\n\u001b[1;32m    938\u001b[0m             n_iter_i = _check_optimize_result(\n\u001b[1;32m    939\u001b[0m                 \u001b[0msolver\u001b[0m\u001b[0;34m,\u001b[0m \u001b[0mopt_res\u001b[0m\u001b[0;34m,\u001b[0m \u001b[0mmax_iter\u001b[0m\u001b[0;34m,\u001b[0m\u001b[0;34m\u001b[0m\u001b[0;34m\u001b[0m\u001b[0m\n\u001b[0;32m--> 940\u001b[0;31m                 extra_warning_msg=_LOGISTIC_SOLVER_CONVERGENCE_MSG)\n\u001b[0m\u001b[1;32m    941\u001b[0m             \u001b[0mw0\u001b[0m\u001b[0;34m,\u001b[0m \u001b[0mloss\u001b[0m \u001b[0;34m=\u001b[0m \u001b[0mopt_res\u001b[0m\u001b[0;34m.\u001b[0m\u001b[0mx\u001b[0m\u001b[0;34m,\u001b[0m \u001b[0mopt_res\u001b[0m\u001b[0;34m.\u001b[0m\u001b[0mfun\u001b[0m\u001b[0;34m\u001b[0m\u001b[0;34m\u001b[0m\u001b[0m\n\u001b[1;32m    942\u001b[0m         \u001b[0;32melif\u001b[0m \u001b[0msolver\u001b[0m \u001b[0;34m==\u001b[0m \u001b[0;34m'newton-cg'\u001b[0m\u001b[0;34m:\u001b[0m\u001b[0;34m\u001b[0m\u001b[0;34m\u001b[0m\u001b[0m\n",
            "\u001b[0;32m/usr/local/lib/python3.7/dist-packages/sklearn/utils/optimize.py\u001b[0m in \u001b[0;36m_check_optimize_result\u001b[0;34m(solver, result, max_iter, extra_warning_msg)\u001b[0m\n\u001b[1;32m    241\u001b[0m                 \u001b[0;34m\"    https://scikit-learn.org/stable/modules/\"\u001b[0m\u001b[0;34m\u001b[0m\u001b[0;34m\u001b[0m\u001b[0m\n\u001b[1;32m    242\u001b[0m                 \u001b[0;34m\"preprocessing.html\"\u001b[0m\u001b[0;34m\u001b[0m\u001b[0;34m\u001b[0m\u001b[0m\n\u001b[0;32m--> 243\u001b[0;31m             ).format(solver, result.status, result.message.decode(\"latin1\"))\n\u001b[0m\u001b[1;32m    244\u001b[0m             \u001b[0;32mif\u001b[0m \u001b[0mextra_warning_msg\u001b[0m \u001b[0;32mis\u001b[0m \u001b[0;32mnot\u001b[0m \u001b[0;32mNone\u001b[0m\u001b[0;34m:\u001b[0m\u001b[0;34m\u001b[0m\u001b[0;34m\u001b[0m\u001b[0m\n\u001b[1;32m    245\u001b[0m                 \u001b[0mwarning_msg\u001b[0m \u001b[0;34m+=\u001b[0m \u001b[0;34m\"\\n\"\u001b[0m \u001b[0;34m+\u001b[0m \u001b[0mextra_warning_msg\u001b[0m\u001b[0;34m\u001b[0m\u001b[0;34m\u001b[0m\u001b[0m\n",
            "\u001b[0;31mAttributeError\u001b[0m: 'str' object has no attribute 'decode'"
          ]
        }
      ]
    },
    {
      "cell_type": "markdown",
      "metadata": {
        "id": "86k6bgPkMiuQ"
      },
      "source": [
        "## Voting Classifier"
      ]
    },
    {
      "cell_type": "code",
      "metadata": {
        "colab": {
          "base_uri": "https://localhost:8080/",
          "height": 766
        },
        "id": "2ex2Tb6vMiuR",
        "outputId": "e8740527-8422-4cd3-aef8-73b2ff2644fe"
      },
      "source": [
        "clf1 = LogisticRegression(multi_class='multinomial', random_state=1, n_jobs=-1)\n",
        "clf2 = RandomForestClassifier(n_estimators=100, random_state=1, n_jobs=-1)\n",
        "clf3 = GaussianNB()\n",
        "eclf1 = VotingClassifier(estimators=[\n",
        "    ('lr', clf1), ('rf', clf2), ('gnb', clf3)], voting='hard')\n",
        "eclf1 = eclf1.fit(kine_X_train, kine_Y_train).score(kine_X_test, kine_Y_test)"
      ],
      "execution_count": 84,
      "outputs": [
        {
          "output_type": "error",
          "ename": "AttributeError",
          "evalue": "ignored",
          "traceback": [
            "\u001b[0;31m---------------------------------------------------------------------------\u001b[0m",
            "\u001b[0;31m_RemoteTraceback\u001b[0m                          Traceback (most recent call last)",
            "\u001b[0;31m_RemoteTraceback\u001b[0m: \n\"\"\"\nTraceback (most recent call last):\n  File \"/usr/local/lib/python3.7/dist-packages/joblib/externals/loky/process_executor.py\", line 431, in _process_worker\n    r = call_item()\n  File \"/usr/local/lib/python3.7/dist-packages/joblib/externals/loky/process_executor.py\", line 285, in __call__\n    return self.fn(*self.args, **self.kwargs)\n  File \"/usr/local/lib/python3.7/dist-packages/joblib/_parallel_backends.py\", line 595, in __call__\n    return self.func(*args, **kwargs)\n  File \"/usr/local/lib/python3.7/dist-packages/joblib/parallel.py\", line 263, in __call__\n    for func, args, kwargs in self.items]\n  File \"/usr/local/lib/python3.7/dist-packages/joblib/parallel.py\", line 263, in <listcomp>\n    for func, args, kwargs in self.items]\n  File \"/usr/local/lib/python3.7/dist-packages/sklearn/linear_model/_logistic.py\", line 940, in _logistic_regression_path\n    extra_warning_msg=_LOGISTIC_SOLVER_CONVERGENCE_MSG)\n  File \"/usr/local/lib/python3.7/dist-packages/sklearn/utils/optimize.py\", line 243, in _check_optimize_result\n    ).format(solver, result.status, result.message.decode(\"latin1\"))\nAttributeError: 'str' object has no attribute 'decode'\n\"\"\"",
            "\nThe above exception was the direct cause of the following exception:\n",
            "\u001b[0;31mAttributeError\u001b[0m                            Traceback (most recent call last)",
            "\u001b[0;32m<ipython-input-84-7081b70898dd>\u001b[0m in \u001b[0;36m<module>\u001b[0;34m()\u001b[0m\n\u001b[1;32m      4\u001b[0m eclf1 = VotingClassifier(estimators=[\n\u001b[1;32m      5\u001b[0m     ('lr', clf1), ('rf', clf2), ('gnb', clf3)], voting='hard')\n\u001b[0;32m----> 6\u001b[0;31m \u001b[0meclf1\u001b[0m \u001b[0;34m=\u001b[0m \u001b[0meclf1\u001b[0m\u001b[0;34m.\u001b[0m\u001b[0mfit\u001b[0m\u001b[0;34m(\u001b[0m\u001b[0mkine_X_train\u001b[0m\u001b[0;34m,\u001b[0m \u001b[0mkine_Y_train\u001b[0m\u001b[0;34m)\u001b[0m\u001b[0;34m.\u001b[0m\u001b[0mscore\u001b[0m\u001b[0;34m(\u001b[0m\u001b[0mkine_X_test\u001b[0m\u001b[0;34m,\u001b[0m \u001b[0mkine_Y_test\u001b[0m\u001b[0;34m)\u001b[0m\u001b[0;34m\u001b[0m\u001b[0;34m\u001b[0m\u001b[0m\n\u001b[0m",
            "\u001b[0;32m/usr/local/lib/python3.7/dist-packages/sklearn/ensemble/_voting.py\u001b[0m in \u001b[0;36mfit\u001b[0;34m(self, X, y, sample_weight)\u001b[0m\n\u001b[1;32m    220\u001b[0m         \u001b[0mtransformed_y\u001b[0m \u001b[0;34m=\u001b[0m \u001b[0mself\u001b[0m\u001b[0;34m.\u001b[0m\u001b[0mle_\u001b[0m\u001b[0;34m.\u001b[0m\u001b[0mtransform\u001b[0m\u001b[0;34m(\u001b[0m\u001b[0my\u001b[0m\u001b[0;34m)\u001b[0m\u001b[0;34m\u001b[0m\u001b[0;34m\u001b[0m\u001b[0m\n\u001b[1;32m    221\u001b[0m \u001b[0;34m\u001b[0m\u001b[0m\n\u001b[0;32m--> 222\u001b[0;31m         \u001b[0;32mreturn\u001b[0m \u001b[0msuper\u001b[0m\u001b[0;34m(\u001b[0m\u001b[0;34m)\u001b[0m\u001b[0;34m.\u001b[0m\u001b[0mfit\u001b[0m\u001b[0;34m(\u001b[0m\u001b[0mX\u001b[0m\u001b[0;34m,\u001b[0m \u001b[0mtransformed_y\u001b[0m\u001b[0;34m,\u001b[0m \u001b[0msample_weight\u001b[0m\u001b[0;34m)\u001b[0m\u001b[0;34m\u001b[0m\u001b[0;34m\u001b[0m\u001b[0m\n\u001b[0m\u001b[1;32m    223\u001b[0m \u001b[0;34m\u001b[0m\u001b[0m\n\u001b[1;32m    224\u001b[0m     \u001b[0;32mdef\u001b[0m \u001b[0mpredict\u001b[0m\u001b[0;34m(\u001b[0m\u001b[0mself\u001b[0m\u001b[0;34m,\u001b[0m \u001b[0mX\u001b[0m\u001b[0;34m)\u001b[0m\u001b[0;34m:\u001b[0m\u001b[0;34m\u001b[0m\u001b[0;34m\u001b[0m\u001b[0m\n",
            "\u001b[0;32m/usr/local/lib/python3.7/dist-packages/sklearn/ensemble/_voting.py\u001b[0m in \u001b[0;36mfit\u001b[0;34m(self, X, y, sample_weight)\u001b[0m\n\u001b[1;32m     66\u001b[0m                 delayed(_parallel_fit_estimator)(clone(clf), X, y,\n\u001b[1;32m     67\u001b[0m                                                  sample_weight=sample_weight)\n\u001b[0;32m---> 68\u001b[0;31m                 \u001b[0;32mfor\u001b[0m \u001b[0mclf\u001b[0m \u001b[0;32min\u001b[0m \u001b[0mclfs\u001b[0m \u001b[0;32mif\u001b[0m \u001b[0mclf\u001b[0m \u001b[0;32mnot\u001b[0m \u001b[0;32min\u001b[0m \u001b[0;34m(\u001b[0m\u001b[0;32mNone\u001b[0m\u001b[0;34m,\u001b[0m \u001b[0;34m'drop'\u001b[0m\u001b[0;34m)\u001b[0m\u001b[0;34m\u001b[0m\u001b[0;34m\u001b[0m\u001b[0m\n\u001b[0m\u001b[1;32m     69\u001b[0m             )\n\u001b[1;32m     70\u001b[0m \u001b[0;34m\u001b[0m\u001b[0m\n",
            "\u001b[0;32m/usr/local/lib/python3.7/dist-packages/joblib/parallel.py\u001b[0m in \u001b[0;36m__call__\u001b[0;34m(self, iterable)\u001b[0m\n\u001b[1;32m   1039\u001b[0m             \u001b[0;31m# remaining jobs.\u001b[0m\u001b[0;34m\u001b[0m\u001b[0;34m\u001b[0m\u001b[0;34m\u001b[0m\u001b[0m\n\u001b[1;32m   1040\u001b[0m             \u001b[0mself\u001b[0m\u001b[0;34m.\u001b[0m\u001b[0m_iterating\u001b[0m \u001b[0;34m=\u001b[0m \u001b[0;32mFalse\u001b[0m\u001b[0;34m\u001b[0m\u001b[0;34m\u001b[0m\u001b[0m\n\u001b[0;32m-> 1041\u001b[0;31m             \u001b[0;32mif\u001b[0m \u001b[0mself\u001b[0m\u001b[0;34m.\u001b[0m\u001b[0mdispatch_one_batch\u001b[0m\u001b[0;34m(\u001b[0m\u001b[0miterator\u001b[0m\u001b[0;34m)\u001b[0m\u001b[0;34m:\u001b[0m\u001b[0;34m\u001b[0m\u001b[0;34m\u001b[0m\u001b[0m\n\u001b[0m\u001b[1;32m   1042\u001b[0m                 \u001b[0mself\u001b[0m\u001b[0;34m.\u001b[0m\u001b[0m_iterating\u001b[0m \u001b[0;34m=\u001b[0m \u001b[0mself\u001b[0m\u001b[0;34m.\u001b[0m\u001b[0m_original_iterator\u001b[0m \u001b[0;32mis\u001b[0m \u001b[0;32mnot\u001b[0m \u001b[0;32mNone\u001b[0m\u001b[0;34m\u001b[0m\u001b[0;34m\u001b[0m\u001b[0m\n\u001b[1;32m   1043\u001b[0m \u001b[0;34m\u001b[0m\u001b[0m\n",
            "\u001b[0;32m/usr/local/lib/python3.7/dist-packages/joblib/parallel.py\u001b[0m in \u001b[0;36mdispatch_one_batch\u001b[0;34m(self, iterator)\u001b[0m\n\u001b[1;32m    857\u001b[0m                 \u001b[0;32mreturn\u001b[0m \u001b[0;32mFalse\u001b[0m\u001b[0;34m\u001b[0m\u001b[0;34m\u001b[0m\u001b[0m\n\u001b[1;32m    858\u001b[0m             \u001b[0;32melse\u001b[0m\u001b[0;34m:\u001b[0m\u001b[0;34m\u001b[0m\u001b[0;34m\u001b[0m\u001b[0m\n\u001b[0;32m--> 859\u001b[0;31m                 \u001b[0mself\u001b[0m\u001b[0;34m.\u001b[0m\u001b[0m_dispatch\u001b[0m\u001b[0;34m(\u001b[0m\u001b[0mtasks\u001b[0m\u001b[0;34m)\u001b[0m\u001b[0;34m\u001b[0m\u001b[0;34m\u001b[0m\u001b[0m\n\u001b[0m\u001b[1;32m    860\u001b[0m                 \u001b[0;32mreturn\u001b[0m \u001b[0;32mTrue\u001b[0m\u001b[0;34m\u001b[0m\u001b[0;34m\u001b[0m\u001b[0m\n\u001b[1;32m    861\u001b[0m \u001b[0;34m\u001b[0m\u001b[0m\n",
            "\u001b[0;32m/usr/local/lib/python3.7/dist-packages/joblib/parallel.py\u001b[0m in \u001b[0;36m_dispatch\u001b[0;34m(self, batch)\u001b[0m\n\u001b[1;32m    775\u001b[0m         \u001b[0;32mwith\u001b[0m \u001b[0mself\u001b[0m\u001b[0;34m.\u001b[0m\u001b[0m_lock\u001b[0m\u001b[0;34m:\u001b[0m\u001b[0;34m\u001b[0m\u001b[0;34m\u001b[0m\u001b[0m\n\u001b[1;32m    776\u001b[0m             \u001b[0mjob_idx\u001b[0m \u001b[0;34m=\u001b[0m \u001b[0mlen\u001b[0m\u001b[0;34m(\u001b[0m\u001b[0mself\u001b[0m\u001b[0;34m.\u001b[0m\u001b[0m_jobs\u001b[0m\u001b[0;34m)\u001b[0m\u001b[0;34m\u001b[0m\u001b[0;34m\u001b[0m\u001b[0m\n\u001b[0;32m--> 777\u001b[0;31m             \u001b[0mjob\u001b[0m \u001b[0;34m=\u001b[0m \u001b[0mself\u001b[0m\u001b[0;34m.\u001b[0m\u001b[0m_backend\u001b[0m\u001b[0;34m.\u001b[0m\u001b[0mapply_async\u001b[0m\u001b[0;34m(\u001b[0m\u001b[0mbatch\u001b[0m\u001b[0;34m,\u001b[0m \u001b[0mcallback\u001b[0m\u001b[0;34m=\u001b[0m\u001b[0mcb\u001b[0m\u001b[0;34m)\u001b[0m\u001b[0;34m\u001b[0m\u001b[0;34m\u001b[0m\u001b[0m\n\u001b[0m\u001b[1;32m    778\u001b[0m             \u001b[0;31m# A job can complete so quickly than its callback is\u001b[0m\u001b[0;34m\u001b[0m\u001b[0;34m\u001b[0m\u001b[0;34m\u001b[0m\u001b[0m\n\u001b[1;32m    779\u001b[0m             \u001b[0;31m# called before we get here, causing self._jobs to\u001b[0m\u001b[0;34m\u001b[0m\u001b[0;34m\u001b[0m\u001b[0;34m\u001b[0m\u001b[0m\n",
            "\u001b[0;32m/usr/local/lib/python3.7/dist-packages/joblib/_parallel_backends.py\u001b[0m in \u001b[0;36mapply_async\u001b[0;34m(self, func, callback)\u001b[0m\n\u001b[1;32m    206\u001b[0m     \u001b[0;32mdef\u001b[0m \u001b[0mapply_async\u001b[0m\u001b[0;34m(\u001b[0m\u001b[0mself\u001b[0m\u001b[0;34m,\u001b[0m \u001b[0mfunc\u001b[0m\u001b[0;34m,\u001b[0m \u001b[0mcallback\u001b[0m\u001b[0;34m=\u001b[0m\u001b[0;32mNone\u001b[0m\u001b[0;34m)\u001b[0m\u001b[0;34m:\u001b[0m\u001b[0;34m\u001b[0m\u001b[0;34m\u001b[0m\u001b[0m\n\u001b[1;32m    207\u001b[0m         \u001b[0;34m\"\"\"Schedule a func to be run\"\"\"\u001b[0m\u001b[0;34m\u001b[0m\u001b[0;34m\u001b[0m\u001b[0m\n\u001b[0;32m--> 208\u001b[0;31m         \u001b[0mresult\u001b[0m \u001b[0;34m=\u001b[0m \u001b[0mImmediateResult\u001b[0m\u001b[0;34m(\u001b[0m\u001b[0mfunc\u001b[0m\u001b[0;34m)\u001b[0m\u001b[0;34m\u001b[0m\u001b[0;34m\u001b[0m\u001b[0m\n\u001b[0m\u001b[1;32m    209\u001b[0m         \u001b[0;32mif\u001b[0m \u001b[0mcallback\u001b[0m\u001b[0;34m:\u001b[0m\u001b[0;34m\u001b[0m\u001b[0;34m\u001b[0m\u001b[0m\n\u001b[1;32m    210\u001b[0m             \u001b[0mcallback\u001b[0m\u001b[0;34m(\u001b[0m\u001b[0mresult\u001b[0m\u001b[0;34m)\u001b[0m\u001b[0;34m\u001b[0m\u001b[0;34m\u001b[0m\u001b[0m\n",
            "\u001b[0;32m/usr/local/lib/python3.7/dist-packages/joblib/_parallel_backends.py\u001b[0m in \u001b[0;36m__init__\u001b[0;34m(self, batch)\u001b[0m\n\u001b[1;32m    570\u001b[0m         \u001b[0;31m# Don't delay the application, to avoid keeping the input\u001b[0m\u001b[0;34m\u001b[0m\u001b[0;34m\u001b[0m\u001b[0;34m\u001b[0m\u001b[0m\n\u001b[1;32m    571\u001b[0m         \u001b[0;31m# arguments in memory\u001b[0m\u001b[0;34m\u001b[0m\u001b[0;34m\u001b[0m\u001b[0;34m\u001b[0m\u001b[0m\n\u001b[0;32m--> 572\u001b[0;31m         \u001b[0mself\u001b[0m\u001b[0;34m.\u001b[0m\u001b[0mresults\u001b[0m \u001b[0;34m=\u001b[0m \u001b[0mbatch\u001b[0m\u001b[0;34m(\u001b[0m\u001b[0;34m)\u001b[0m\u001b[0;34m\u001b[0m\u001b[0;34m\u001b[0m\u001b[0m\n\u001b[0m\u001b[1;32m    573\u001b[0m \u001b[0;34m\u001b[0m\u001b[0m\n\u001b[1;32m    574\u001b[0m     \u001b[0;32mdef\u001b[0m \u001b[0mget\u001b[0m\u001b[0;34m(\u001b[0m\u001b[0mself\u001b[0m\u001b[0;34m)\u001b[0m\u001b[0;34m:\u001b[0m\u001b[0;34m\u001b[0m\u001b[0;34m\u001b[0m\u001b[0m\n",
            "\u001b[0;32m/usr/local/lib/python3.7/dist-packages/joblib/parallel.py\u001b[0m in \u001b[0;36m__call__\u001b[0;34m(self)\u001b[0m\n\u001b[1;32m    261\u001b[0m         \u001b[0;32mwith\u001b[0m \u001b[0mparallel_backend\u001b[0m\u001b[0;34m(\u001b[0m\u001b[0mself\u001b[0m\u001b[0;34m.\u001b[0m\u001b[0m_backend\u001b[0m\u001b[0;34m,\u001b[0m \u001b[0mn_jobs\u001b[0m\u001b[0;34m=\u001b[0m\u001b[0mself\u001b[0m\u001b[0;34m.\u001b[0m\u001b[0m_n_jobs\u001b[0m\u001b[0;34m)\u001b[0m\u001b[0;34m:\u001b[0m\u001b[0;34m\u001b[0m\u001b[0;34m\u001b[0m\u001b[0m\n\u001b[1;32m    262\u001b[0m             return [func(*args, **kwargs)\n\u001b[0;32m--> 263\u001b[0;31m                     for func, args, kwargs in self.items]\n\u001b[0m\u001b[1;32m    264\u001b[0m \u001b[0;34m\u001b[0m\u001b[0m\n\u001b[1;32m    265\u001b[0m     \u001b[0;32mdef\u001b[0m \u001b[0m__reduce__\u001b[0m\u001b[0;34m(\u001b[0m\u001b[0mself\u001b[0m\u001b[0;34m)\u001b[0m\u001b[0;34m:\u001b[0m\u001b[0;34m\u001b[0m\u001b[0;34m\u001b[0m\u001b[0m\n",
            "\u001b[0;32m/usr/local/lib/python3.7/dist-packages/joblib/parallel.py\u001b[0m in \u001b[0;36m<listcomp>\u001b[0;34m(.0)\u001b[0m\n\u001b[1;32m    261\u001b[0m         \u001b[0;32mwith\u001b[0m \u001b[0mparallel_backend\u001b[0m\u001b[0;34m(\u001b[0m\u001b[0mself\u001b[0m\u001b[0;34m.\u001b[0m\u001b[0m_backend\u001b[0m\u001b[0;34m,\u001b[0m \u001b[0mn_jobs\u001b[0m\u001b[0;34m=\u001b[0m\u001b[0mself\u001b[0m\u001b[0;34m.\u001b[0m\u001b[0m_n_jobs\u001b[0m\u001b[0;34m)\u001b[0m\u001b[0;34m:\u001b[0m\u001b[0;34m\u001b[0m\u001b[0;34m\u001b[0m\u001b[0m\n\u001b[1;32m    262\u001b[0m             return [func(*args, **kwargs)\n\u001b[0;32m--> 263\u001b[0;31m                     for func, args, kwargs in self.items]\n\u001b[0m\u001b[1;32m    264\u001b[0m \u001b[0;34m\u001b[0m\u001b[0m\n\u001b[1;32m    265\u001b[0m     \u001b[0;32mdef\u001b[0m \u001b[0m__reduce__\u001b[0m\u001b[0;34m(\u001b[0m\u001b[0mself\u001b[0m\u001b[0;34m)\u001b[0m\u001b[0;34m:\u001b[0m\u001b[0;34m\u001b[0m\u001b[0;34m\u001b[0m\u001b[0m\n",
            "\u001b[0;32m/usr/local/lib/python3.7/dist-packages/sklearn/ensemble/_base.py\u001b[0m in \u001b[0;36m_parallel_fit_estimator\u001b[0;34m(estimator, X, y, sample_weight)\u001b[0m\n\u001b[1;32m     34\u001b[0m             \u001b[0;32mraise\u001b[0m\u001b[0;34m\u001b[0m\u001b[0;34m\u001b[0m\u001b[0m\n\u001b[1;32m     35\u001b[0m     \u001b[0;32melse\u001b[0m\u001b[0;34m:\u001b[0m\u001b[0;34m\u001b[0m\u001b[0;34m\u001b[0m\u001b[0m\n\u001b[0;32m---> 36\u001b[0;31m         \u001b[0mestimator\u001b[0m\u001b[0;34m.\u001b[0m\u001b[0mfit\u001b[0m\u001b[0;34m(\u001b[0m\u001b[0mX\u001b[0m\u001b[0;34m,\u001b[0m \u001b[0my\u001b[0m\u001b[0;34m)\u001b[0m\u001b[0;34m\u001b[0m\u001b[0;34m\u001b[0m\u001b[0m\n\u001b[0m\u001b[1;32m     37\u001b[0m     \u001b[0;32mreturn\u001b[0m \u001b[0mestimator\u001b[0m\u001b[0;34m\u001b[0m\u001b[0;34m\u001b[0m\u001b[0m\n\u001b[1;32m     38\u001b[0m \u001b[0;34m\u001b[0m\u001b[0m\n",
            "\u001b[0;32m/usr/local/lib/python3.7/dist-packages/sklearn/linear_model/_logistic.py\u001b[0m in \u001b[0;36mfit\u001b[0;34m(self, X, y, sample_weight)\u001b[0m\n\u001b[1;32m   1599\u001b[0m                       \u001b[0mpenalty\u001b[0m\u001b[0;34m=\u001b[0m\u001b[0mpenalty\u001b[0m\u001b[0;34m,\u001b[0m \u001b[0mmax_squared_sum\u001b[0m\u001b[0;34m=\u001b[0m\u001b[0mmax_squared_sum\u001b[0m\u001b[0;34m,\u001b[0m\u001b[0;34m\u001b[0m\u001b[0;34m\u001b[0m\u001b[0m\n\u001b[1;32m   1600\u001b[0m                       sample_weight=sample_weight)\n\u001b[0;32m-> 1601\u001b[0;31m             for class_, warm_start_coef_ in zip(classes_, warm_start_coef))\n\u001b[0m\u001b[1;32m   1602\u001b[0m \u001b[0;34m\u001b[0m\u001b[0m\n\u001b[1;32m   1603\u001b[0m         \u001b[0mfold_coefs_\u001b[0m\u001b[0;34m,\u001b[0m \u001b[0m_\u001b[0m\u001b[0;34m,\u001b[0m \u001b[0mn_iter_\u001b[0m \u001b[0;34m=\u001b[0m \u001b[0mzip\u001b[0m\u001b[0;34m(\u001b[0m\u001b[0;34m*\u001b[0m\u001b[0mfold_coefs_\u001b[0m\u001b[0;34m)\u001b[0m\u001b[0;34m\u001b[0m\u001b[0;34m\u001b[0m\u001b[0m\n",
            "\u001b[0;32m/usr/local/lib/python3.7/dist-packages/joblib/parallel.py\u001b[0m in \u001b[0;36m__call__\u001b[0;34m(self, iterable)\u001b[0m\n\u001b[1;32m   1052\u001b[0m \u001b[0;34m\u001b[0m\u001b[0m\n\u001b[1;32m   1053\u001b[0m             \u001b[0;32mwith\u001b[0m \u001b[0mself\u001b[0m\u001b[0;34m.\u001b[0m\u001b[0m_backend\u001b[0m\u001b[0;34m.\u001b[0m\u001b[0mretrieval_context\u001b[0m\u001b[0;34m(\u001b[0m\u001b[0;34m)\u001b[0m\u001b[0;34m:\u001b[0m\u001b[0;34m\u001b[0m\u001b[0;34m\u001b[0m\u001b[0m\n\u001b[0;32m-> 1054\u001b[0;31m                 \u001b[0mself\u001b[0m\u001b[0;34m.\u001b[0m\u001b[0mretrieve\u001b[0m\u001b[0;34m(\u001b[0m\u001b[0;34m)\u001b[0m\u001b[0;34m\u001b[0m\u001b[0;34m\u001b[0m\u001b[0m\n\u001b[0m\u001b[1;32m   1055\u001b[0m             \u001b[0;31m# Make sure that we get a last message telling us we are done\u001b[0m\u001b[0;34m\u001b[0m\u001b[0;34m\u001b[0m\u001b[0;34m\u001b[0m\u001b[0m\n\u001b[1;32m   1056\u001b[0m             \u001b[0melapsed_time\u001b[0m \u001b[0;34m=\u001b[0m \u001b[0mtime\u001b[0m\u001b[0;34m.\u001b[0m\u001b[0mtime\u001b[0m\u001b[0;34m(\u001b[0m\u001b[0;34m)\u001b[0m \u001b[0;34m-\u001b[0m \u001b[0mself\u001b[0m\u001b[0;34m.\u001b[0m\u001b[0m_start_time\u001b[0m\u001b[0;34m\u001b[0m\u001b[0;34m\u001b[0m\u001b[0m\n",
            "\u001b[0;32m/usr/local/lib/python3.7/dist-packages/joblib/parallel.py\u001b[0m in \u001b[0;36mretrieve\u001b[0;34m(self)\u001b[0m\n\u001b[1;32m    931\u001b[0m             \u001b[0;32mtry\u001b[0m\u001b[0;34m:\u001b[0m\u001b[0;34m\u001b[0m\u001b[0;34m\u001b[0m\u001b[0m\n\u001b[1;32m    932\u001b[0m                 \u001b[0;32mif\u001b[0m \u001b[0mgetattr\u001b[0m\u001b[0;34m(\u001b[0m\u001b[0mself\u001b[0m\u001b[0;34m.\u001b[0m\u001b[0m_backend\u001b[0m\u001b[0;34m,\u001b[0m \u001b[0;34m'supports_timeout'\u001b[0m\u001b[0;34m,\u001b[0m \u001b[0;32mFalse\u001b[0m\u001b[0;34m)\u001b[0m\u001b[0;34m:\u001b[0m\u001b[0;34m\u001b[0m\u001b[0;34m\u001b[0m\u001b[0m\n\u001b[0;32m--> 933\u001b[0;31m                     \u001b[0mself\u001b[0m\u001b[0;34m.\u001b[0m\u001b[0m_output\u001b[0m\u001b[0;34m.\u001b[0m\u001b[0mextend\u001b[0m\u001b[0;34m(\u001b[0m\u001b[0mjob\u001b[0m\u001b[0;34m.\u001b[0m\u001b[0mget\u001b[0m\u001b[0;34m(\u001b[0m\u001b[0mtimeout\u001b[0m\u001b[0;34m=\u001b[0m\u001b[0mself\u001b[0m\u001b[0;34m.\u001b[0m\u001b[0mtimeout\u001b[0m\u001b[0;34m)\u001b[0m\u001b[0;34m)\u001b[0m\u001b[0;34m\u001b[0m\u001b[0;34m\u001b[0m\u001b[0m\n\u001b[0m\u001b[1;32m    934\u001b[0m                 \u001b[0;32melse\u001b[0m\u001b[0;34m:\u001b[0m\u001b[0;34m\u001b[0m\u001b[0;34m\u001b[0m\u001b[0m\n\u001b[1;32m    935\u001b[0m                     \u001b[0mself\u001b[0m\u001b[0;34m.\u001b[0m\u001b[0m_output\u001b[0m\u001b[0;34m.\u001b[0m\u001b[0mextend\u001b[0m\u001b[0;34m(\u001b[0m\u001b[0mjob\u001b[0m\u001b[0;34m.\u001b[0m\u001b[0mget\u001b[0m\u001b[0;34m(\u001b[0m\u001b[0;34m)\u001b[0m\u001b[0;34m)\u001b[0m\u001b[0;34m\u001b[0m\u001b[0;34m\u001b[0m\u001b[0m\n",
            "\u001b[0;32m/usr/local/lib/python3.7/dist-packages/joblib/_parallel_backends.py\u001b[0m in \u001b[0;36mwrap_future_result\u001b[0;34m(future, timeout)\u001b[0m\n\u001b[1;32m    540\u001b[0m         AsyncResults.get from multiprocessing.\"\"\"\n\u001b[1;32m    541\u001b[0m         \u001b[0;32mtry\u001b[0m\u001b[0;34m:\u001b[0m\u001b[0;34m\u001b[0m\u001b[0;34m\u001b[0m\u001b[0m\n\u001b[0;32m--> 542\u001b[0;31m             \u001b[0;32mreturn\u001b[0m \u001b[0mfuture\u001b[0m\u001b[0;34m.\u001b[0m\u001b[0mresult\u001b[0m\u001b[0;34m(\u001b[0m\u001b[0mtimeout\u001b[0m\u001b[0;34m=\u001b[0m\u001b[0mtimeout\u001b[0m\u001b[0;34m)\u001b[0m\u001b[0;34m\u001b[0m\u001b[0;34m\u001b[0m\u001b[0m\n\u001b[0m\u001b[1;32m    543\u001b[0m         \u001b[0;32mexcept\u001b[0m \u001b[0mCfTimeoutError\u001b[0m \u001b[0;32mas\u001b[0m \u001b[0me\u001b[0m\u001b[0;34m:\u001b[0m\u001b[0;34m\u001b[0m\u001b[0;34m\u001b[0m\u001b[0m\n\u001b[1;32m    544\u001b[0m             \u001b[0;32mraise\u001b[0m \u001b[0mTimeoutError\u001b[0m \u001b[0;32mfrom\u001b[0m \u001b[0me\u001b[0m\u001b[0;34m\u001b[0m\u001b[0;34m\u001b[0m\u001b[0m\n",
            "\u001b[0;32m/usr/lib/python3.7/concurrent/futures/_base.py\u001b[0m in \u001b[0;36mresult\u001b[0;34m(self, timeout)\u001b[0m\n\u001b[1;32m    433\u001b[0m                 \u001b[0;32mraise\u001b[0m \u001b[0mCancelledError\u001b[0m\u001b[0;34m(\u001b[0m\u001b[0;34m)\u001b[0m\u001b[0;34m\u001b[0m\u001b[0;34m\u001b[0m\u001b[0m\n\u001b[1;32m    434\u001b[0m             \u001b[0;32melif\u001b[0m \u001b[0mself\u001b[0m\u001b[0;34m.\u001b[0m\u001b[0m_state\u001b[0m \u001b[0;34m==\u001b[0m \u001b[0mFINISHED\u001b[0m\u001b[0;34m:\u001b[0m\u001b[0;34m\u001b[0m\u001b[0;34m\u001b[0m\u001b[0m\n\u001b[0;32m--> 435\u001b[0;31m                 \u001b[0;32mreturn\u001b[0m \u001b[0mself\u001b[0m\u001b[0;34m.\u001b[0m\u001b[0m__get_result\u001b[0m\u001b[0;34m(\u001b[0m\u001b[0;34m)\u001b[0m\u001b[0;34m\u001b[0m\u001b[0;34m\u001b[0m\u001b[0m\n\u001b[0m\u001b[1;32m    436\u001b[0m             \u001b[0;32melse\u001b[0m\u001b[0;34m:\u001b[0m\u001b[0;34m\u001b[0m\u001b[0;34m\u001b[0m\u001b[0m\n\u001b[1;32m    437\u001b[0m                 \u001b[0;32mraise\u001b[0m \u001b[0mTimeoutError\u001b[0m\u001b[0;34m(\u001b[0m\u001b[0;34m)\u001b[0m\u001b[0;34m\u001b[0m\u001b[0;34m\u001b[0m\u001b[0m\n",
            "\u001b[0;32m/usr/lib/python3.7/concurrent/futures/_base.py\u001b[0m in \u001b[0;36m__get_result\u001b[0;34m(self)\u001b[0m\n\u001b[1;32m    382\u001b[0m     \u001b[0;32mdef\u001b[0m \u001b[0m__get_result\u001b[0m\u001b[0;34m(\u001b[0m\u001b[0mself\u001b[0m\u001b[0;34m)\u001b[0m\u001b[0;34m:\u001b[0m\u001b[0;34m\u001b[0m\u001b[0;34m\u001b[0m\u001b[0m\n\u001b[1;32m    383\u001b[0m         \u001b[0;32mif\u001b[0m \u001b[0mself\u001b[0m\u001b[0;34m.\u001b[0m\u001b[0m_exception\u001b[0m\u001b[0;34m:\u001b[0m\u001b[0;34m\u001b[0m\u001b[0;34m\u001b[0m\u001b[0m\n\u001b[0;32m--> 384\u001b[0;31m             \u001b[0;32mraise\u001b[0m \u001b[0mself\u001b[0m\u001b[0;34m.\u001b[0m\u001b[0m_exception\u001b[0m\u001b[0;34m\u001b[0m\u001b[0;34m\u001b[0m\u001b[0m\n\u001b[0m\u001b[1;32m    385\u001b[0m         \u001b[0;32melse\u001b[0m\u001b[0;34m:\u001b[0m\u001b[0;34m\u001b[0m\u001b[0;34m\u001b[0m\u001b[0m\n\u001b[1;32m    386\u001b[0m             \u001b[0;32mreturn\u001b[0m \u001b[0mself\u001b[0m\u001b[0;34m.\u001b[0m\u001b[0m_result\u001b[0m\u001b[0;34m\u001b[0m\u001b[0;34m\u001b[0m\u001b[0m\n",
            "\u001b[0;31mAttributeError\u001b[0m: 'str' object has no attribute 'decode'"
          ]
        }
      ]
    },
    {
      "cell_type": "code",
      "metadata": {
        "colab": {
          "base_uri": "https://localhost:8080/",
          "height": 766
        },
        "id": "6c2f0vZ5MiuR",
        "outputId": "3464bf84-0f61-465a-ccfb-e03b9229f61f"
      },
      "source": [
        "eclf2 = VotingClassifier(estimators=[\n",
        "                                    ('lr', clf1), \n",
        "                                    ('rf', clf2), \n",
        "                                    ('gnb', clf3)],\n",
        "                         voting='soft')\n",
        "eclf2 = eclf2.fit(kine_X_train, kine_Y_train).score(kine_X_test, kine_Y_test)"
      ],
      "execution_count": 85,
      "outputs": [
        {
          "output_type": "error",
          "ename": "AttributeError",
          "evalue": "ignored",
          "traceback": [
            "\u001b[0;31m---------------------------------------------------------------------------\u001b[0m",
            "\u001b[0;31m_RemoteTraceback\u001b[0m                          Traceback (most recent call last)",
            "\u001b[0;31m_RemoteTraceback\u001b[0m: \n\"\"\"\nTraceback (most recent call last):\n  File \"/usr/local/lib/python3.7/dist-packages/joblib/externals/loky/process_executor.py\", line 431, in _process_worker\n    r = call_item()\n  File \"/usr/local/lib/python3.7/dist-packages/joblib/externals/loky/process_executor.py\", line 285, in __call__\n    return self.fn(*self.args, **self.kwargs)\n  File \"/usr/local/lib/python3.7/dist-packages/joblib/_parallel_backends.py\", line 595, in __call__\n    return self.func(*args, **kwargs)\n  File \"/usr/local/lib/python3.7/dist-packages/joblib/parallel.py\", line 263, in __call__\n    for func, args, kwargs in self.items]\n  File \"/usr/local/lib/python3.7/dist-packages/joblib/parallel.py\", line 263, in <listcomp>\n    for func, args, kwargs in self.items]\n  File \"/usr/local/lib/python3.7/dist-packages/sklearn/linear_model/_logistic.py\", line 940, in _logistic_regression_path\n    extra_warning_msg=_LOGISTIC_SOLVER_CONVERGENCE_MSG)\n  File \"/usr/local/lib/python3.7/dist-packages/sklearn/utils/optimize.py\", line 243, in _check_optimize_result\n    ).format(solver, result.status, result.message.decode(\"latin1\"))\nAttributeError: 'str' object has no attribute 'decode'\n\"\"\"",
            "\nThe above exception was the direct cause of the following exception:\n",
            "\u001b[0;31mAttributeError\u001b[0m                            Traceback (most recent call last)",
            "\u001b[0;32m<ipython-input-85-efee43c00989>\u001b[0m in \u001b[0;36m<module>\u001b[0;34m()\u001b[0m\n\u001b[1;32m      4\u001b[0m                                     ('gnb', clf3)],\n\u001b[1;32m      5\u001b[0m                          voting='soft')\n\u001b[0;32m----> 6\u001b[0;31m \u001b[0meclf2\u001b[0m \u001b[0;34m=\u001b[0m \u001b[0meclf2\u001b[0m\u001b[0;34m.\u001b[0m\u001b[0mfit\u001b[0m\u001b[0;34m(\u001b[0m\u001b[0mkine_X_train\u001b[0m\u001b[0;34m,\u001b[0m \u001b[0mkine_Y_train\u001b[0m\u001b[0;34m)\u001b[0m\u001b[0;34m.\u001b[0m\u001b[0mscore\u001b[0m\u001b[0;34m(\u001b[0m\u001b[0mkine_X_test\u001b[0m\u001b[0;34m,\u001b[0m \u001b[0mkine_Y_test\u001b[0m\u001b[0;34m)\u001b[0m\u001b[0;34m\u001b[0m\u001b[0;34m\u001b[0m\u001b[0m\n\u001b[0m",
            "\u001b[0;32m/usr/local/lib/python3.7/dist-packages/sklearn/ensemble/_voting.py\u001b[0m in \u001b[0;36mfit\u001b[0;34m(self, X, y, sample_weight)\u001b[0m\n\u001b[1;32m    220\u001b[0m         \u001b[0mtransformed_y\u001b[0m \u001b[0;34m=\u001b[0m \u001b[0mself\u001b[0m\u001b[0;34m.\u001b[0m\u001b[0mle_\u001b[0m\u001b[0;34m.\u001b[0m\u001b[0mtransform\u001b[0m\u001b[0;34m(\u001b[0m\u001b[0my\u001b[0m\u001b[0;34m)\u001b[0m\u001b[0;34m\u001b[0m\u001b[0;34m\u001b[0m\u001b[0m\n\u001b[1;32m    221\u001b[0m \u001b[0;34m\u001b[0m\u001b[0m\n\u001b[0;32m--> 222\u001b[0;31m         \u001b[0;32mreturn\u001b[0m \u001b[0msuper\u001b[0m\u001b[0;34m(\u001b[0m\u001b[0;34m)\u001b[0m\u001b[0;34m.\u001b[0m\u001b[0mfit\u001b[0m\u001b[0;34m(\u001b[0m\u001b[0mX\u001b[0m\u001b[0;34m,\u001b[0m \u001b[0mtransformed_y\u001b[0m\u001b[0;34m,\u001b[0m \u001b[0msample_weight\u001b[0m\u001b[0;34m)\u001b[0m\u001b[0;34m\u001b[0m\u001b[0;34m\u001b[0m\u001b[0m\n\u001b[0m\u001b[1;32m    223\u001b[0m \u001b[0;34m\u001b[0m\u001b[0m\n\u001b[1;32m    224\u001b[0m     \u001b[0;32mdef\u001b[0m \u001b[0mpredict\u001b[0m\u001b[0;34m(\u001b[0m\u001b[0mself\u001b[0m\u001b[0;34m,\u001b[0m \u001b[0mX\u001b[0m\u001b[0;34m)\u001b[0m\u001b[0;34m:\u001b[0m\u001b[0;34m\u001b[0m\u001b[0;34m\u001b[0m\u001b[0m\n",
            "\u001b[0;32m/usr/local/lib/python3.7/dist-packages/sklearn/ensemble/_voting.py\u001b[0m in \u001b[0;36mfit\u001b[0;34m(self, X, y, sample_weight)\u001b[0m\n\u001b[1;32m     66\u001b[0m                 delayed(_parallel_fit_estimator)(clone(clf), X, y,\n\u001b[1;32m     67\u001b[0m                                                  sample_weight=sample_weight)\n\u001b[0;32m---> 68\u001b[0;31m                 \u001b[0;32mfor\u001b[0m \u001b[0mclf\u001b[0m \u001b[0;32min\u001b[0m \u001b[0mclfs\u001b[0m \u001b[0;32mif\u001b[0m \u001b[0mclf\u001b[0m \u001b[0;32mnot\u001b[0m \u001b[0;32min\u001b[0m \u001b[0;34m(\u001b[0m\u001b[0;32mNone\u001b[0m\u001b[0;34m,\u001b[0m \u001b[0;34m'drop'\u001b[0m\u001b[0;34m)\u001b[0m\u001b[0;34m\u001b[0m\u001b[0;34m\u001b[0m\u001b[0m\n\u001b[0m\u001b[1;32m     69\u001b[0m             )\n\u001b[1;32m     70\u001b[0m \u001b[0;34m\u001b[0m\u001b[0m\n",
            "\u001b[0;32m/usr/local/lib/python3.7/dist-packages/joblib/parallel.py\u001b[0m in \u001b[0;36m__call__\u001b[0;34m(self, iterable)\u001b[0m\n\u001b[1;32m   1039\u001b[0m             \u001b[0;31m# remaining jobs.\u001b[0m\u001b[0;34m\u001b[0m\u001b[0;34m\u001b[0m\u001b[0;34m\u001b[0m\u001b[0m\n\u001b[1;32m   1040\u001b[0m             \u001b[0mself\u001b[0m\u001b[0;34m.\u001b[0m\u001b[0m_iterating\u001b[0m \u001b[0;34m=\u001b[0m \u001b[0;32mFalse\u001b[0m\u001b[0;34m\u001b[0m\u001b[0;34m\u001b[0m\u001b[0m\n\u001b[0;32m-> 1041\u001b[0;31m             \u001b[0;32mif\u001b[0m \u001b[0mself\u001b[0m\u001b[0;34m.\u001b[0m\u001b[0mdispatch_one_batch\u001b[0m\u001b[0;34m(\u001b[0m\u001b[0miterator\u001b[0m\u001b[0;34m)\u001b[0m\u001b[0;34m:\u001b[0m\u001b[0;34m\u001b[0m\u001b[0;34m\u001b[0m\u001b[0m\n\u001b[0m\u001b[1;32m   1042\u001b[0m                 \u001b[0mself\u001b[0m\u001b[0;34m.\u001b[0m\u001b[0m_iterating\u001b[0m \u001b[0;34m=\u001b[0m \u001b[0mself\u001b[0m\u001b[0;34m.\u001b[0m\u001b[0m_original_iterator\u001b[0m \u001b[0;32mis\u001b[0m \u001b[0;32mnot\u001b[0m \u001b[0;32mNone\u001b[0m\u001b[0;34m\u001b[0m\u001b[0;34m\u001b[0m\u001b[0m\n\u001b[1;32m   1043\u001b[0m \u001b[0;34m\u001b[0m\u001b[0m\n",
            "\u001b[0;32m/usr/local/lib/python3.7/dist-packages/joblib/parallel.py\u001b[0m in \u001b[0;36mdispatch_one_batch\u001b[0;34m(self, iterator)\u001b[0m\n\u001b[1;32m    857\u001b[0m                 \u001b[0;32mreturn\u001b[0m \u001b[0;32mFalse\u001b[0m\u001b[0;34m\u001b[0m\u001b[0;34m\u001b[0m\u001b[0m\n\u001b[1;32m    858\u001b[0m             \u001b[0;32melse\u001b[0m\u001b[0;34m:\u001b[0m\u001b[0;34m\u001b[0m\u001b[0;34m\u001b[0m\u001b[0m\n\u001b[0;32m--> 859\u001b[0;31m                 \u001b[0mself\u001b[0m\u001b[0;34m.\u001b[0m\u001b[0m_dispatch\u001b[0m\u001b[0;34m(\u001b[0m\u001b[0mtasks\u001b[0m\u001b[0;34m)\u001b[0m\u001b[0;34m\u001b[0m\u001b[0;34m\u001b[0m\u001b[0m\n\u001b[0m\u001b[1;32m    860\u001b[0m                 \u001b[0;32mreturn\u001b[0m \u001b[0;32mTrue\u001b[0m\u001b[0;34m\u001b[0m\u001b[0;34m\u001b[0m\u001b[0m\n\u001b[1;32m    861\u001b[0m \u001b[0;34m\u001b[0m\u001b[0m\n",
            "\u001b[0;32m/usr/local/lib/python3.7/dist-packages/joblib/parallel.py\u001b[0m in \u001b[0;36m_dispatch\u001b[0;34m(self, batch)\u001b[0m\n\u001b[1;32m    775\u001b[0m         \u001b[0;32mwith\u001b[0m \u001b[0mself\u001b[0m\u001b[0;34m.\u001b[0m\u001b[0m_lock\u001b[0m\u001b[0;34m:\u001b[0m\u001b[0;34m\u001b[0m\u001b[0;34m\u001b[0m\u001b[0m\n\u001b[1;32m    776\u001b[0m             \u001b[0mjob_idx\u001b[0m \u001b[0;34m=\u001b[0m \u001b[0mlen\u001b[0m\u001b[0;34m(\u001b[0m\u001b[0mself\u001b[0m\u001b[0;34m.\u001b[0m\u001b[0m_jobs\u001b[0m\u001b[0;34m)\u001b[0m\u001b[0;34m\u001b[0m\u001b[0;34m\u001b[0m\u001b[0m\n\u001b[0;32m--> 777\u001b[0;31m             \u001b[0mjob\u001b[0m \u001b[0;34m=\u001b[0m \u001b[0mself\u001b[0m\u001b[0;34m.\u001b[0m\u001b[0m_backend\u001b[0m\u001b[0;34m.\u001b[0m\u001b[0mapply_async\u001b[0m\u001b[0;34m(\u001b[0m\u001b[0mbatch\u001b[0m\u001b[0;34m,\u001b[0m \u001b[0mcallback\u001b[0m\u001b[0;34m=\u001b[0m\u001b[0mcb\u001b[0m\u001b[0;34m)\u001b[0m\u001b[0;34m\u001b[0m\u001b[0;34m\u001b[0m\u001b[0m\n\u001b[0m\u001b[1;32m    778\u001b[0m             \u001b[0;31m# A job can complete so quickly than its callback is\u001b[0m\u001b[0;34m\u001b[0m\u001b[0;34m\u001b[0m\u001b[0;34m\u001b[0m\u001b[0m\n\u001b[1;32m    779\u001b[0m             \u001b[0;31m# called before we get here, causing self._jobs to\u001b[0m\u001b[0;34m\u001b[0m\u001b[0;34m\u001b[0m\u001b[0;34m\u001b[0m\u001b[0m\n",
            "\u001b[0;32m/usr/local/lib/python3.7/dist-packages/joblib/_parallel_backends.py\u001b[0m in \u001b[0;36mapply_async\u001b[0;34m(self, func, callback)\u001b[0m\n\u001b[1;32m    206\u001b[0m     \u001b[0;32mdef\u001b[0m \u001b[0mapply_async\u001b[0m\u001b[0;34m(\u001b[0m\u001b[0mself\u001b[0m\u001b[0;34m,\u001b[0m \u001b[0mfunc\u001b[0m\u001b[0;34m,\u001b[0m \u001b[0mcallback\u001b[0m\u001b[0;34m=\u001b[0m\u001b[0;32mNone\u001b[0m\u001b[0;34m)\u001b[0m\u001b[0;34m:\u001b[0m\u001b[0;34m\u001b[0m\u001b[0;34m\u001b[0m\u001b[0m\n\u001b[1;32m    207\u001b[0m         \u001b[0;34m\"\"\"Schedule a func to be run\"\"\"\u001b[0m\u001b[0;34m\u001b[0m\u001b[0;34m\u001b[0m\u001b[0m\n\u001b[0;32m--> 208\u001b[0;31m         \u001b[0mresult\u001b[0m \u001b[0;34m=\u001b[0m \u001b[0mImmediateResult\u001b[0m\u001b[0;34m(\u001b[0m\u001b[0mfunc\u001b[0m\u001b[0;34m)\u001b[0m\u001b[0;34m\u001b[0m\u001b[0;34m\u001b[0m\u001b[0m\n\u001b[0m\u001b[1;32m    209\u001b[0m         \u001b[0;32mif\u001b[0m \u001b[0mcallback\u001b[0m\u001b[0;34m:\u001b[0m\u001b[0;34m\u001b[0m\u001b[0;34m\u001b[0m\u001b[0m\n\u001b[1;32m    210\u001b[0m             \u001b[0mcallback\u001b[0m\u001b[0;34m(\u001b[0m\u001b[0mresult\u001b[0m\u001b[0;34m)\u001b[0m\u001b[0;34m\u001b[0m\u001b[0;34m\u001b[0m\u001b[0m\n",
            "\u001b[0;32m/usr/local/lib/python3.7/dist-packages/joblib/_parallel_backends.py\u001b[0m in \u001b[0;36m__init__\u001b[0;34m(self, batch)\u001b[0m\n\u001b[1;32m    570\u001b[0m         \u001b[0;31m# Don't delay the application, to avoid keeping the input\u001b[0m\u001b[0;34m\u001b[0m\u001b[0;34m\u001b[0m\u001b[0;34m\u001b[0m\u001b[0m\n\u001b[1;32m    571\u001b[0m         \u001b[0;31m# arguments in memory\u001b[0m\u001b[0;34m\u001b[0m\u001b[0;34m\u001b[0m\u001b[0;34m\u001b[0m\u001b[0m\n\u001b[0;32m--> 572\u001b[0;31m         \u001b[0mself\u001b[0m\u001b[0;34m.\u001b[0m\u001b[0mresults\u001b[0m \u001b[0;34m=\u001b[0m \u001b[0mbatch\u001b[0m\u001b[0;34m(\u001b[0m\u001b[0;34m)\u001b[0m\u001b[0;34m\u001b[0m\u001b[0;34m\u001b[0m\u001b[0m\n\u001b[0m\u001b[1;32m    573\u001b[0m \u001b[0;34m\u001b[0m\u001b[0m\n\u001b[1;32m    574\u001b[0m     \u001b[0;32mdef\u001b[0m \u001b[0mget\u001b[0m\u001b[0;34m(\u001b[0m\u001b[0mself\u001b[0m\u001b[0;34m)\u001b[0m\u001b[0;34m:\u001b[0m\u001b[0;34m\u001b[0m\u001b[0;34m\u001b[0m\u001b[0m\n",
            "\u001b[0;32m/usr/local/lib/python3.7/dist-packages/joblib/parallel.py\u001b[0m in \u001b[0;36m__call__\u001b[0;34m(self)\u001b[0m\n\u001b[1;32m    261\u001b[0m         \u001b[0;32mwith\u001b[0m \u001b[0mparallel_backend\u001b[0m\u001b[0;34m(\u001b[0m\u001b[0mself\u001b[0m\u001b[0;34m.\u001b[0m\u001b[0m_backend\u001b[0m\u001b[0;34m,\u001b[0m \u001b[0mn_jobs\u001b[0m\u001b[0;34m=\u001b[0m\u001b[0mself\u001b[0m\u001b[0;34m.\u001b[0m\u001b[0m_n_jobs\u001b[0m\u001b[0;34m)\u001b[0m\u001b[0;34m:\u001b[0m\u001b[0;34m\u001b[0m\u001b[0;34m\u001b[0m\u001b[0m\n\u001b[1;32m    262\u001b[0m             return [func(*args, **kwargs)\n\u001b[0;32m--> 263\u001b[0;31m                     for func, args, kwargs in self.items]\n\u001b[0m\u001b[1;32m    264\u001b[0m \u001b[0;34m\u001b[0m\u001b[0m\n\u001b[1;32m    265\u001b[0m     \u001b[0;32mdef\u001b[0m \u001b[0m__reduce__\u001b[0m\u001b[0;34m(\u001b[0m\u001b[0mself\u001b[0m\u001b[0;34m)\u001b[0m\u001b[0;34m:\u001b[0m\u001b[0;34m\u001b[0m\u001b[0;34m\u001b[0m\u001b[0m\n",
            "\u001b[0;32m/usr/local/lib/python3.7/dist-packages/joblib/parallel.py\u001b[0m in \u001b[0;36m<listcomp>\u001b[0;34m(.0)\u001b[0m\n\u001b[1;32m    261\u001b[0m         \u001b[0;32mwith\u001b[0m \u001b[0mparallel_backend\u001b[0m\u001b[0;34m(\u001b[0m\u001b[0mself\u001b[0m\u001b[0;34m.\u001b[0m\u001b[0m_backend\u001b[0m\u001b[0;34m,\u001b[0m \u001b[0mn_jobs\u001b[0m\u001b[0;34m=\u001b[0m\u001b[0mself\u001b[0m\u001b[0;34m.\u001b[0m\u001b[0m_n_jobs\u001b[0m\u001b[0;34m)\u001b[0m\u001b[0;34m:\u001b[0m\u001b[0;34m\u001b[0m\u001b[0;34m\u001b[0m\u001b[0m\n\u001b[1;32m    262\u001b[0m             return [func(*args, **kwargs)\n\u001b[0;32m--> 263\u001b[0;31m                     for func, args, kwargs in self.items]\n\u001b[0m\u001b[1;32m    264\u001b[0m \u001b[0;34m\u001b[0m\u001b[0m\n\u001b[1;32m    265\u001b[0m     \u001b[0;32mdef\u001b[0m \u001b[0m__reduce__\u001b[0m\u001b[0;34m(\u001b[0m\u001b[0mself\u001b[0m\u001b[0;34m)\u001b[0m\u001b[0;34m:\u001b[0m\u001b[0;34m\u001b[0m\u001b[0;34m\u001b[0m\u001b[0m\n",
            "\u001b[0;32m/usr/local/lib/python3.7/dist-packages/sklearn/ensemble/_base.py\u001b[0m in \u001b[0;36m_parallel_fit_estimator\u001b[0;34m(estimator, X, y, sample_weight)\u001b[0m\n\u001b[1;32m     34\u001b[0m             \u001b[0;32mraise\u001b[0m\u001b[0;34m\u001b[0m\u001b[0;34m\u001b[0m\u001b[0m\n\u001b[1;32m     35\u001b[0m     \u001b[0;32melse\u001b[0m\u001b[0;34m:\u001b[0m\u001b[0;34m\u001b[0m\u001b[0;34m\u001b[0m\u001b[0m\n\u001b[0;32m---> 36\u001b[0;31m         \u001b[0mestimator\u001b[0m\u001b[0;34m.\u001b[0m\u001b[0mfit\u001b[0m\u001b[0;34m(\u001b[0m\u001b[0mX\u001b[0m\u001b[0;34m,\u001b[0m \u001b[0my\u001b[0m\u001b[0;34m)\u001b[0m\u001b[0;34m\u001b[0m\u001b[0;34m\u001b[0m\u001b[0m\n\u001b[0m\u001b[1;32m     37\u001b[0m     \u001b[0;32mreturn\u001b[0m \u001b[0mestimator\u001b[0m\u001b[0;34m\u001b[0m\u001b[0;34m\u001b[0m\u001b[0m\n\u001b[1;32m     38\u001b[0m \u001b[0;34m\u001b[0m\u001b[0m\n",
            "\u001b[0;32m/usr/local/lib/python3.7/dist-packages/sklearn/linear_model/_logistic.py\u001b[0m in \u001b[0;36mfit\u001b[0;34m(self, X, y, sample_weight)\u001b[0m\n\u001b[1;32m   1599\u001b[0m                       \u001b[0mpenalty\u001b[0m\u001b[0;34m=\u001b[0m\u001b[0mpenalty\u001b[0m\u001b[0;34m,\u001b[0m \u001b[0mmax_squared_sum\u001b[0m\u001b[0;34m=\u001b[0m\u001b[0mmax_squared_sum\u001b[0m\u001b[0;34m,\u001b[0m\u001b[0;34m\u001b[0m\u001b[0;34m\u001b[0m\u001b[0m\n\u001b[1;32m   1600\u001b[0m                       sample_weight=sample_weight)\n\u001b[0;32m-> 1601\u001b[0;31m             for class_, warm_start_coef_ in zip(classes_, warm_start_coef))\n\u001b[0m\u001b[1;32m   1602\u001b[0m \u001b[0;34m\u001b[0m\u001b[0m\n\u001b[1;32m   1603\u001b[0m         \u001b[0mfold_coefs_\u001b[0m\u001b[0;34m,\u001b[0m \u001b[0m_\u001b[0m\u001b[0;34m,\u001b[0m \u001b[0mn_iter_\u001b[0m \u001b[0;34m=\u001b[0m \u001b[0mzip\u001b[0m\u001b[0;34m(\u001b[0m\u001b[0;34m*\u001b[0m\u001b[0mfold_coefs_\u001b[0m\u001b[0;34m)\u001b[0m\u001b[0;34m\u001b[0m\u001b[0;34m\u001b[0m\u001b[0m\n",
            "\u001b[0;32m/usr/local/lib/python3.7/dist-packages/joblib/parallel.py\u001b[0m in \u001b[0;36m__call__\u001b[0;34m(self, iterable)\u001b[0m\n\u001b[1;32m   1052\u001b[0m \u001b[0;34m\u001b[0m\u001b[0m\n\u001b[1;32m   1053\u001b[0m             \u001b[0;32mwith\u001b[0m \u001b[0mself\u001b[0m\u001b[0;34m.\u001b[0m\u001b[0m_backend\u001b[0m\u001b[0;34m.\u001b[0m\u001b[0mretrieval_context\u001b[0m\u001b[0;34m(\u001b[0m\u001b[0;34m)\u001b[0m\u001b[0;34m:\u001b[0m\u001b[0;34m\u001b[0m\u001b[0;34m\u001b[0m\u001b[0m\n\u001b[0;32m-> 1054\u001b[0;31m                 \u001b[0mself\u001b[0m\u001b[0;34m.\u001b[0m\u001b[0mretrieve\u001b[0m\u001b[0;34m(\u001b[0m\u001b[0;34m)\u001b[0m\u001b[0;34m\u001b[0m\u001b[0;34m\u001b[0m\u001b[0m\n\u001b[0m\u001b[1;32m   1055\u001b[0m             \u001b[0;31m# Make sure that we get a last message telling us we are done\u001b[0m\u001b[0;34m\u001b[0m\u001b[0;34m\u001b[0m\u001b[0;34m\u001b[0m\u001b[0m\n\u001b[1;32m   1056\u001b[0m             \u001b[0melapsed_time\u001b[0m \u001b[0;34m=\u001b[0m \u001b[0mtime\u001b[0m\u001b[0;34m.\u001b[0m\u001b[0mtime\u001b[0m\u001b[0;34m(\u001b[0m\u001b[0;34m)\u001b[0m \u001b[0;34m-\u001b[0m \u001b[0mself\u001b[0m\u001b[0;34m.\u001b[0m\u001b[0m_start_time\u001b[0m\u001b[0;34m\u001b[0m\u001b[0;34m\u001b[0m\u001b[0m\n",
            "\u001b[0;32m/usr/local/lib/python3.7/dist-packages/joblib/parallel.py\u001b[0m in \u001b[0;36mretrieve\u001b[0;34m(self)\u001b[0m\n\u001b[1;32m    931\u001b[0m             \u001b[0;32mtry\u001b[0m\u001b[0;34m:\u001b[0m\u001b[0;34m\u001b[0m\u001b[0;34m\u001b[0m\u001b[0m\n\u001b[1;32m    932\u001b[0m                 \u001b[0;32mif\u001b[0m \u001b[0mgetattr\u001b[0m\u001b[0;34m(\u001b[0m\u001b[0mself\u001b[0m\u001b[0;34m.\u001b[0m\u001b[0m_backend\u001b[0m\u001b[0;34m,\u001b[0m \u001b[0;34m'supports_timeout'\u001b[0m\u001b[0;34m,\u001b[0m \u001b[0;32mFalse\u001b[0m\u001b[0;34m)\u001b[0m\u001b[0;34m:\u001b[0m\u001b[0;34m\u001b[0m\u001b[0;34m\u001b[0m\u001b[0m\n\u001b[0;32m--> 933\u001b[0;31m                     \u001b[0mself\u001b[0m\u001b[0;34m.\u001b[0m\u001b[0m_output\u001b[0m\u001b[0;34m.\u001b[0m\u001b[0mextend\u001b[0m\u001b[0;34m(\u001b[0m\u001b[0mjob\u001b[0m\u001b[0;34m.\u001b[0m\u001b[0mget\u001b[0m\u001b[0;34m(\u001b[0m\u001b[0mtimeout\u001b[0m\u001b[0;34m=\u001b[0m\u001b[0mself\u001b[0m\u001b[0;34m.\u001b[0m\u001b[0mtimeout\u001b[0m\u001b[0;34m)\u001b[0m\u001b[0;34m)\u001b[0m\u001b[0;34m\u001b[0m\u001b[0;34m\u001b[0m\u001b[0m\n\u001b[0m\u001b[1;32m    934\u001b[0m                 \u001b[0;32melse\u001b[0m\u001b[0;34m:\u001b[0m\u001b[0;34m\u001b[0m\u001b[0;34m\u001b[0m\u001b[0m\n\u001b[1;32m    935\u001b[0m                     \u001b[0mself\u001b[0m\u001b[0;34m.\u001b[0m\u001b[0m_output\u001b[0m\u001b[0;34m.\u001b[0m\u001b[0mextend\u001b[0m\u001b[0;34m(\u001b[0m\u001b[0mjob\u001b[0m\u001b[0;34m.\u001b[0m\u001b[0mget\u001b[0m\u001b[0;34m(\u001b[0m\u001b[0;34m)\u001b[0m\u001b[0;34m)\u001b[0m\u001b[0;34m\u001b[0m\u001b[0;34m\u001b[0m\u001b[0m\n",
            "\u001b[0;32m/usr/local/lib/python3.7/dist-packages/joblib/_parallel_backends.py\u001b[0m in \u001b[0;36mwrap_future_result\u001b[0;34m(future, timeout)\u001b[0m\n\u001b[1;32m    540\u001b[0m         AsyncResults.get from multiprocessing.\"\"\"\n\u001b[1;32m    541\u001b[0m         \u001b[0;32mtry\u001b[0m\u001b[0;34m:\u001b[0m\u001b[0;34m\u001b[0m\u001b[0;34m\u001b[0m\u001b[0m\n\u001b[0;32m--> 542\u001b[0;31m             \u001b[0;32mreturn\u001b[0m \u001b[0mfuture\u001b[0m\u001b[0;34m.\u001b[0m\u001b[0mresult\u001b[0m\u001b[0;34m(\u001b[0m\u001b[0mtimeout\u001b[0m\u001b[0;34m=\u001b[0m\u001b[0mtimeout\u001b[0m\u001b[0;34m)\u001b[0m\u001b[0;34m\u001b[0m\u001b[0;34m\u001b[0m\u001b[0m\n\u001b[0m\u001b[1;32m    543\u001b[0m         \u001b[0;32mexcept\u001b[0m \u001b[0mCfTimeoutError\u001b[0m \u001b[0;32mas\u001b[0m \u001b[0me\u001b[0m\u001b[0;34m:\u001b[0m\u001b[0;34m\u001b[0m\u001b[0;34m\u001b[0m\u001b[0m\n\u001b[1;32m    544\u001b[0m             \u001b[0;32mraise\u001b[0m \u001b[0mTimeoutError\u001b[0m \u001b[0;32mfrom\u001b[0m \u001b[0me\u001b[0m\u001b[0;34m\u001b[0m\u001b[0;34m\u001b[0m\u001b[0m\n",
            "\u001b[0;32m/usr/lib/python3.7/concurrent/futures/_base.py\u001b[0m in \u001b[0;36mresult\u001b[0;34m(self, timeout)\u001b[0m\n\u001b[1;32m    433\u001b[0m                 \u001b[0;32mraise\u001b[0m \u001b[0mCancelledError\u001b[0m\u001b[0;34m(\u001b[0m\u001b[0;34m)\u001b[0m\u001b[0;34m\u001b[0m\u001b[0;34m\u001b[0m\u001b[0m\n\u001b[1;32m    434\u001b[0m             \u001b[0;32melif\u001b[0m \u001b[0mself\u001b[0m\u001b[0;34m.\u001b[0m\u001b[0m_state\u001b[0m \u001b[0;34m==\u001b[0m \u001b[0mFINISHED\u001b[0m\u001b[0;34m:\u001b[0m\u001b[0;34m\u001b[0m\u001b[0;34m\u001b[0m\u001b[0m\n\u001b[0;32m--> 435\u001b[0;31m                 \u001b[0;32mreturn\u001b[0m \u001b[0mself\u001b[0m\u001b[0;34m.\u001b[0m\u001b[0m__get_result\u001b[0m\u001b[0;34m(\u001b[0m\u001b[0;34m)\u001b[0m\u001b[0;34m\u001b[0m\u001b[0;34m\u001b[0m\u001b[0m\n\u001b[0m\u001b[1;32m    436\u001b[0m             \u001b[0;32melse\u001b[0m\u001b[0;34m:\u001b[0m\u001b[0;34m\u001b[0m\u001b[0;34m\u001b[0m\u001b[0m\n\u001b[1;32m    437\u001b[0m                 \u001b[0;32mraise\u001b[0m \u001b[0mTimeoutError\u001b[0m\u001b[0;34m(\u001b[0m\u001b[0;34m)\u001b[0m\u001b[0;34m\u001b[0m\u001b[0;34m\u001b[0m\u001b[0m\n",
            "\u001b[0;32m/usr/lib/python3.7/concurrent/futures/_base.py\u001b[0m in \u001b[0;36m__get_result\u001b[0;34m(self)\u001b[0m\n\u001b[1;32m    382\u001b[0m     \u001b[0;32mdef\u001b[0m \u001b[0m__get_result\u001b[0m\u001b[0;34m(\u001b[0m\u001b[0mself\u001b[0m\u001b[0;34m)\u001b[0m\u001b[0;34m:\u001b[0m\u001b[0;34m\u001b[0m\u001b[0;34m\u001b[0m\u001b[0m\n\u001b[1;32m    383\u001b[0m         \u001b[0;32mif\u001b[0m \u001b[0mself\u001b[0m\u001b[0;34m.\u001b[0m\u001b[0m_exception\u001b[0m\u001b[0;34m:\u001b[0m\u001b[0;34m\u001b[0m\u001b[0;34m\u001b[0m\u001b[0m\n\u001b[0;32m--> 384\u001b[0;31m             \u001b[0;32mraise\u001b[0m \u001b[0mself\u001b[0m\u001b[0;34m.\u001b[0m\u001b[0m_exception\u001b[0m\u001b[0;34m\u001b[0m\u001b[0;34m\u001b[0m\u001b[0m\n\u001b[0m\u001b[1;32m    385\u001b[0m         \u001b[0;32melse\u001b[0m\u001b[0;34m:\u001b[0m\u001b[0;34m\u001b[0m\u001b[0;34m\u001b[0m\u001b[0m\n\u001b[1;32m    386\u001b[0m             \u001b[0;32mreturn\u001b[0m \u001b[0mself\u001b[0m\u001b[0;34m.\u001b[0m\u001b[0m_result\u001b[0m\u001b[0;34m\u001b[0m\u001b[0;34m\u001b[0m\u001b[0m\n",
            "\u001b[0;31mAttributeError\u001b[0m: 'str' object has no attribute 'decode'"
          ]
        }
      ]
    },
    {
      "cell_type": "code",
      "metadata": {
        "colab": {
          "base_uri": "https://localhost:8080/",
          "height": 766
        },
        "id": "Ckm8t8XXMiuR",
        "outputId": "c5b6d2f1-1207-45d9-ff41-d1f16f7309d1"
      },
      "source": [
        "eclf3 = VotingClassifier(estimators=[\n",
        "    ('lr', clf1), ('rf', clf2), ('gnb', clf3)],\n",
        "                         voting='soft', weights=[2,1,1],\n",
        "                         flatten_transform=True)\n",
        "eclf3 = eclf3.fit(kine_X_train, kine_Y_train).score(kine_X_test, kine_Y_test)"
      ],
      "execution_count": 86,
      "outputs": [
        {
          "output_type": "error",
          "ename": "AttributeError",
          "evalue": "ignored",
          "traceback": [
            "\u001b[0;31m---------------------------------------------------------------------------\u001b[0m",
            "\u001b[0;31m_RemoteTraceback\u001b[0m                          Traceback (most recent call last)",
            "\u001b[0;31m_RemoteTraceback\u001b[0m: \n\"\"\"\nTraceback (most recent call last):\n  File \"/usr/local/lib/python3.7/dist-packages/joblib/externals/loky/process_executor.py\", line 431, in _process_worker\n    r = call_item()\n  File \"/usr/local/lib/python3.7/dist-packages/joblib/externals/loky/process_executor.py\", line 285, in __call__\n    return self.fn(*self.args, **self.kwargs)\n  File \"/usr/local/lib/python3.7/dist-packages/joblib/_parallel_backends.py\", line 595, in __call__\n    return self.func(*args, **kwargs)\n  File \"/usr/local/lib/python3.7/dist-packages/joblib/parallel.py\", line 263, in __call__\n    for func, args, kwargs in self.items]\n  File \"/usr/local/lib/python3.7/dist-packages/joblib/parallel.py\", line 263, in <listcomp>\n    for func, args, kwargs in self.items]\n  File \"/usr/local/lib/python3.7/dist-packages/sklearn/linear_model/_logistic.py\", line 940, in _logistic_regression_path\n    extra_warning_msg=_LOGISTIC_SOLVER_CONVERGENCE_MSG)\n  File \"/usr/local/lib/python3.7/dist-packages/sklearn/utils/optimize.py\", line 243, in _check_optimize_result\n    ).format(solver, result.status, result.message.decode(\"latin1\"))\nAttributeError: 'str' object has no attribute 'decode'\n\"\"\"",
            "\nThe above exception was the direct cause of the following exception:\n",
            "\u001b[0;31mAttributeError\u001b[0m                            Traceback (most recent call last)",
            "\u001b[0;32m<ipython-input-86-30675bf897ce>\u001b[0m in \u001b[0;36m<module>\u001b[0;34m()\u001b[0m\n\u001b[1;32m      3\u001b[0m                          \u001b[0mvoting\u001b[0m\u001b[0;34m=\u001b[0m\u001b[0;34m'soft'\u001b[0m\u001b[0;34m,\u001b[0m \u001b[0mweights\u001b[0m\u001b[0;34m=\u001b[0m\u001b[0;34m[\u001b[0m\u001b[0;36m2\u001b[0m\u001b[0;34m,\u001b[0m\u001b[0;36m1\u001b[0m\u001b[0;34m,\u001b[0m\u001b[0;36m1\u001b[0m\u001b[0;34m]\u001b[0m\u001b[0;34m,\u001b[0m\u001b[0;34m\u001b[0m\u001b[0;34m\u001b[0m\u001b[0m\n\u001b[1;32m      4\u001b[0m                          flatten_transform=True)\n\u001b[0;32m----> 5\u001b[0;31m \u001b[0meclf3\u001b[0m \u001b[0;34m=\u001b[0m \u001b[0meclf3\u001b[0m\u001b[0;34m.\u001b[0m\u001b[0mfit\u001b[0m\u001b[0;34m(\u001b[0m\u001b[0mkine_X_train\u001b[0m\u001b[0;34m,\u001b[0m \u001b[0mkine_Y_train\u001b[0m\u001b[0;34m)\u001b[0m\u001b[0;34m.\u001b[0m\u001b[0mscore\u001b[0m\u001b[0;34m(\u001b[0m\u001b[0mkine_X_test\u001b[0m\u001b[0;34m,\u001b[0m \u001b[0mkine_Y_test\u001b[0m\u001b[0;34m)\u001b[0m\u001b[0;34m\u001b[0m\u001b[0;34m\u001b[0m\u001b[0m\n\u001b[0m",
            "\u001b[0;32m/usr/local/lib/python3.7/dist-packages/sklearn/ensemble/_voting.py\u001b[0m in \u001b[0;36mfit\u001b[0;34m(self, X, y, sample_weight)\u001b[0m\n\u001b[1;32m    220\u001b[0m         \u001b[0mtransformed_y\u001b[0m \u001b[0;34m=\u001b[0m \u001b[0mself\u001b[0m\u001b[0;34m.\u001b[0m\u001b[0mle_\u001b[0m\u001b[0;34m.\u001b[0m\u001b[0mtransform\u001b[0m\u001b[0;34m(\u001b[0m\u001b[0my\u001b[0m\u001b[0;34m)\u001b[0m\u001b[0;34m\u001b[0m\u001b[0;34m\u001b[0m\u001b[0m\n\u001b[1;32m    221\u001b[0m \u001b[0;34m\u001b[0m\u001b[0m\n\u001b[0;32m--> 222\u001b[0;31m         \u001b[0;32mreturn\u001b[0m \u001b[0msuper\u001b[0m\u001b[0;34m(\u001b[0m\u001b[0;34m)\u001b[0m\u001b[0;34m.\u001b[0m\u001b[0mfit\u001b[0m\u001b[0;34m(\u001b[0m\u001b[0mX\u001b[0m\u001b[0;34m,\u001b[0m \u001b[0mtransformed_y\u001b[0m\u001b[0;34m,\u001b[0m \u001b[0msample_weight\u001b[0m\u001b[0;34m)\u001b[0m\u001b[0;34m\u001b[0m\u001b[0;34m\u001b[0m\u001b[0m\n\u001b[0m\u001b[1;32m    223\u001b[0m \u001b[0;34m\u001b[0m\u001b[0m\n\u001b[1;32m    224\u001b[0m     \u001b[0;32mdef\u001b[0m \u001b[0mpredict\u001b[0m\u001b[0;34m(\u001b[0m\u001b[0mself\u001b[0m\u001b[0;34m,\u001b[0m \u001b[0mX\u001b[0m\u001b[0;34m)\u001b[0m\u001b[0;34m:\u001b[0m\u001b[0;34m\u001b[0m\u001b[0;34m\u001b[0m\u001b[0m\n",
            "\u001b[0;32m/usr/local/lib/python3.7/dist-packages/sklearn/ensemble/_voting.py\u001b[0m in \u001b[0;36mfit\u001b[0;34m(self, X, y, sample_weight)\u001b[0m\n\u001b[1;32m     66\u001b[0m                 delayed(_parallel_fit_estimator)(clone(clf), X, y,\n\u001b[1;32m     67\u001b[0m                                                  sample_weight=sample_weight)\n\u001b[0;32m---> 68\u001b[0;31m                 \u001b[0;32mfor\u001b[0m \u001b[0mclf\u001b[0m \u001b[0;32min\u001b[0m \u001b[0mclfs\u001b[0m \u001b[0;32mif\u001b[0m \u001b[0mclf\u001b[0m \u001b[0;32mnot\u001b[0m \u001b[0;32min\u001b[0m \u001b[0;34m(\u001b[0m\u001b[0;32mNone\u001b[0m\u001b[0;34m,\u001b[0m \u001b[0;34m'drop'\u001b[0m\u001b[0;34m)\u001b[0m\u001b[0;34m\u001b[0m\u001b[0;34m\u001b[0m\u001b[0m\n\u001b[0m\u001b[1;32m     69\u001b[0m             )\n\u001b[1;32m     70\u001b[0m \u001b[0;34m\u001b[0m\u001b[0m\n",
            "\u001b[0;32m/usr/local/lib/python3.7/dist-packages/joblib/parallel.py\u001b[0m in \u001b[0;36m__call__\u001b[0;34m(self, iterable)\u001b[0m\n\u001b[1;32m   1039\u001b[0m             \u001b[0;31m# remaining jobs.\u001b[0m\u001b[0;34m\u001b[0m\u001b[0;34m\u001b[0m\u001b[0;34m\u001b[0m\u001b[0m\n\u001b[1;32m   1040\u001b[0m             \u001b[0mself\u001b[0m\u001b[0;34m.\u001b[0m\u001b[0m_iterating\u001b[0m \u001b[0;34m=\u001b[0m \u001b[0;32mFalse\u001b[0m\u001b[0;34m\u001b[0m\u001b[0;34m\u001b[0m\u001b[0m\n\u001b[0;32m-> 1041\u001b[0;31m             \u001b[0;32mif\u001b[0m \u001b[0mself\u001b[0m\u001b[0;34m.\u001b[0m\u001b[0mdispatch_one_batch\u001b[0m\u001b[0;34m(\u001b[0m\u001b[0miterator\u001b[0m\u001b[0;34m)\u001b[0m\u001b[0;34m:\u001b[0m\u001b[0;34m\u001b[0m\u001b[0;34m\u001b[0m\u001b[0m\n\u001b[0m\u001b[1;32m   1042\u001b[0m                 \u001b[0mself\u001b[0m\u001b[0;34m.\u001b[0m\u001b[0m_iterating\u001b[0m \u001b[0;34m=\u001b[0m \u001b[0mself\u001b[0m\u001b[0;34m.\u001b[0m\u001b[0m_original_iterator\u001b[0m \u001b[0;32mis\u001b[0m \u001b[0;32mnot\u001b[0m \u001b[0;32mNone\u001b[0m\u001b[0;34m\u001b[0m\u001b[0;34m\u001b[0m\u001b[0m\n\u001b[1;32m   1043\u001b[0m \u001b[0;34m\u001b[0m\u001b[0m\n",
            "\u001b[0;32m/usr/local/lib/python3.7/dist-packages/joblib/parallel.py\u001b[0m in \u001b[0;36mdispatch_one_batch\u001b[0;34m(self, iterator)\u001b[0m\n\u001b[1;32m    857\u001b[0m                 \u001b[0;32mreturn\u001b[0m \u001b[0;32mFalse\u001b[0m\u001b[0;34m\u001b[0m\u001b[0;34m\u001b[0m\u001b[0m\n\u001b[1;32m    858\u001b[0m             \u001b[0;32melse\u001b[0m\u001b[0;34m:\u001b[0m\u001b[0;34m\u001b[0m\u001b[0;34m\u001b[0m\u001b[0m\n\u001b[0;32m--> 859\u001b[0;31m                 \u001b[0mself\u001b[0m\u001b[0;34m.\u001b[0m\u001b[0m_dispatch\u001b[0m\u001b[0;34m(\u001b[0m\u001b[0mtasks\u001b[0m\u001b[0;34m)\u001b[0m\u001b[0;34m\u001b[0m\u001b[0;34m\u001b[0m\u001b[0m\n\u001b[0m\u001b[1;32m    860\u001b[0m                 \u001b[0;32mreturn\u001b[0m \u001b[0;32mTrue\u001b[0m\u001b[0;34m\u001b[0m\u001b[0;34m\u001b[0m\u001b[0m\n\u001b[1;32m    861\u001b[0m \u001b[0;34m\u001b[0m\u001b[0m\n",
            "\u001b[0;32m/usr/local/lib/python3.7/dist-packages/joblib/parallel.py\u001b[0m in \u001b[0;36m_dispatch\u001b[0;34m(self, batch)\u001b[0m\n\u001b[1;32m    775\u001b[0m         \u001b[0;32mwith\u001b[0m \u001b[0mself\u001b[0m\u001b[0;34m.\u001b[0m\u001b[0m_lock\u001b[0m\u001b[0;34m:\u001b[0m\u001b[0;34m\u001b[0m\u001b[0;34m\u001b[0m\u001b[0m\n\u001b[1;32m    776\u001b[0m             \u001b[0mjob_idx\u001b[0m \u001b[0;34m=\u001b[0m \u001b[0mlen\u001b[0m\u001b[0;34m(\u001b[0m\u001b[0mself\u001b[0m\u001b[0;34m.\u001b[0m\u001b[0m_jobs\u001b[0m\u001b[0;34m)\u001b[0m\u001b[0;34m\u001b[0m\u001b[0;34m\u001b[0m\u001b[0m\n\u001b[0;32m--> 777\u001b[0;31m             \u001b[0mjob\u001b[0m \u001b[0;34m=\u001b[0m \u001b[0mself\u001b[0m\u001b[0;34m.\u001b[0m\u001b[0m_backend\u001b[0m\u001b[0;34m.\u001b[0m\u001b[0mapply_async\u001b[0m\u001b[0;34m(\u001b[0m\u001b[0mbatch\u001b[0m\u001b[0;34m,\u001b[0m \u001b[0mcallback\u001b[0m\u001b[0;34m=\u001b[0m\u001b[0mcb\u001b[0m\u001b[0;34m)\u001b[0m\u001b[0;34m\u001b[0m\u001b[0;34m\u001b[0m\u001b[0m\n\u001b[0m\u001b[1;32m    778\u001b[0m             \u001b[0;31m# A job can complete so quickly than its callback is\u001b[0m\u001b[0;34m\u001b[0m\u001b[0;34m\u001b[0m\u001b[0;34m\u001b[0m\u001b[0m\n\u001b[1;32m    779\u001b[0m             \u001b[0;31m# called before we get here, causing self._jobs to\u001b[0m\u001b[0;34m\u001b[0m\u001b[0;34m\u001b[0m\u001b[0;34m\u001b[0m\u001b[0m\n",
            "\u001b[0;32m/usr/local/lib/python3.7/dist-packages/joblib/_parallel_backends.py\u001b[0m in \u001b[0;36mapply_async\u001b[0;34m(self, func, callback)\u001b[0m\n\u001b[1;32m    206\u001b[0m     \u001b[0;32mdef\u001b[0m \u001b[0mapply_async\u001b[0m\u001b[0;34m(\u001b[0m\u001b[0mself\u001b[0m\u001b[0;34m,\u001b[0m \u001b[0mfunc\u001b[0m\u001b[0;34m,\u001b[0m \u001b[0mcallback\u001b[0m\u001b[0;34m=\u001b[0m\u001b[0;32mNone\u001b[0m\u001b[0;34m)\u001b[0m\u001b[0;34m:\u001b[0m\u001b[0;34m\u001b[0m\u001b[0;34m\u001b[0m\u001b[0m\n\u001b[1;32m    207\u001b[0m         \u001b[0;34m\"\"\"Schedule a func to be run\"\"\"\u001b[0m\u001b[0;34m\u001b[0m\u001b[0;34m\u001b[0m\u001b[0m\n\u001b[0;32m--> 208\u001b[0;31m         \u001b[0mresult\u001b[0m \u001b[0;34m=\u001b[0m \u001b[0mImmediateResult\u001b[0m\u001b[0;34m(\u001b[0m\u001b[0mfunc\u001b[0m\u001b[0;34m)\u001b[0m\u001b[0;34m\u001b[0m\u001b[0;34m\u001b[0m\u001b[0m\n\u001b[0m\u001b[1;32m    209\u001b[0m         \u001b[0;32mif\u001b[0m \u001b[0mcallback\u001b[0m\u001b[0;34m:\u001b[0m\u001b[0;34m\u001b[0m\u001b[0;34m\u001b[0m\u001b[0m\n\u001b[1;32m    210\u001b[0m             \u001b[0mcallback\u001b[0m\u001b[0;34m(\u001b[0m\u001b[0mresult\u001b[0m\u001b[0;34m)\u001b[0m\u001b[0;34m\u001b[0m\u001b[0;34m\u001b[0m\u001b[0m\n",
            "\u001b[0;32m/usr/local/lib/python3.7/dist-packages/joblib/_parallel_backends.py\u001b[0m in \u001b[0;36m__init__\u001b[0;34m(self, batch)\u001b[0m\n\u001b[1;32m    570\u001b[0m         \u001b[0;31m# Don't delay the application, to avoid keeping the input\u001b[0m\u001b[0;34m\u001b[0m\u001b[0;34m\u001b[0m\u001b[0;34m\u001b[0m\u001b[0m\n\u001b[1;32m    571\u001b[0m         \u001b[0;31m# arguments in memory\u001b[0m\u001b[0;34m\u001b[0m\u001b[0;34m\u001b[0m\u001b[0;34m\u001b[0m\u001b[0m\n\u001b[0;32m--> 572\u001b[0;31m         \u001b[0mself\u001b[0m\u001b[0;34m.\u001b[0m\u001b[0mresults\u001b[0m \u001b[0;34m=\u001b[0m \u001b[0mbatch\u001b[0m\u001b[0;34m(\u001b[0m\u001b[0;34m)\u001b[0m\u001b[0;34m\u001b[0m\u001b[0;34m\u001b[0m\u001b[0m\n\u001b[0m\u001b[1;32m    573\u001b[0m \u001b[0;34m\u001b[0m\u001b[0m\n\u001b[1;32m    574\u001b[0m     \u001b[0;32mdef\u001b[0m \u001b[0mget\u001b[0m\u001b[0;34m(\u001b[0m\u001b[0mself\u001b[0m\u001b[0;34m)\u001b[0m\u001b[0;34m:\u001b[0m\u001b[0;34m\u001b[0m\u001b[0;34m\u001b[0m\u001b[0m\n",
            "\u001b[0;32m/usr/local/lib/python3.7/dist-packages/joblib/parallel.py\u001b[0m in \u001b[0;36m__call__\u001b[0;34m(self)\u001b[0m\n\u001b[1;32m    261\u001b[0m         \u001b[0;32mwith\u001b[0m \u001b[0mparallel_backend\u001b[0m\u001b[0;34m(\u001b[0m\u001b[0mself\u001b[0m\u001b[0;34m.\u001b[0m\u001b[0m_backend\u001b[0m\u001b[0;34m,\u001b[0m \u001b[0mn_jobs\u001b[0m\u001b[0;34m=\u001b[0m\u001b[0mself\u001b[0m\u001b[0;34m.\u001b[0m\u001b[0m_n_jobs\u001b[0m\u001b[0;34m)\u001b[0m\u001b[0;34m:\u001b[0m\u001b[0;34m\u001b[0m\u001b[0;34m\u001b[0m\u001b[0m\n\u001b[1;32m    262\u001b[0m             return [func(*args, **kwargs)\n\u001b[0;32m--> 263\u001b[0;31m                     for func, args, kwargs in self.items]\n\u001b[0m\u001b[1;32m    264\u001b[0m \u001b[0;34m\u001b[0m\u001b[0m\n\u001b[1;32m    265\u001b[0m     \u001b[0;32mdef\u001b[0m \u001b[0m__reduce__\u001b[0m\u001b[0;34m(\u001b[0m\u001b[0mself\u001b[0m\u001b[0;34m)\u001b[0m\u001b[0;34m:\u001b[0m\u001b[0;34m\u001b[0m\u001b[0;34m\u001b[0m\u001b[0m\n",
            "\u001b[0;32m/usr/local/lib/python3.7/dist-packages/joblib/parallel.py\u001b[0m in \u001b[0;36m<listcomp>\u001b[0;34m(.0)\u001b[0m\n\u001b[1;32m    261\u001b[0m         \u001b[0;32mwith\u001b[0m \u001b[0mparallel_backend\u001b[0m\u001b[0;34m(\u001b[0m\u001b[0mself\u001b[0m\u001b[0;34m.\u001b[0m\u001b[0m_backend\u001b[0m\u001b[0;34m,\u001b[0m \u001b[0mn_jobs\u001b[0m\u001b[0;34m=\u001b[0m\u001b[0mself\u001b[0m\u001b[0;34m.\u001b[0m\u001b[0m_n_jobs\u001b[0m\u001b[0;34m)\u001b[0m\u001b[0;34m:\u001b[0m\u001b[0;34m\u001b[0m\u001b[0;34m\u001b[0m\u001b[0m\n\u001b[1;32m    262\u001b[0m             return [func(*args, **kwargs)\n\u001b[0;32m--> 263\u001b[0;31m                     for func, args, kwargs in self.items]\n\u001b[0m\u001b[1;32m    264\u001b[0m \u001b[0;34m\u001b[0m\u001b[0m\n\u001b[1;32m    265\u001b[0m     \u001b[0;32mdef\u001b[0m \u001b[0m__reduce__\u001b[0m\u001b[0;34m(\u001b[0m\u001b[0mself\u001b[0m\u001b[0;34m)\u001b[0m\u001b[0;34m:\u001b[0m\u001b[0;34m\u001b[0m\u001b[0;34m\u001b[0m\u001b[0m\n",
            "\u001b[0;32m/usr/local/lib/python3.7/dist-packages/sklearn/ensemble/_base.py\u001b[0m in \u001b[0;36m_parallel_fit_estimator\u001b[0;34m(estimator, X, y, sample_weight)\u001b[0m\n\u001b[1;32m     34\u001b[0m             \u001b[0;32mraise\u001b[0m\u001b[0;34m\u001b[0m\u001b[0;34m\u001b[0m\u001b[0m\n\u001b[1;32m     35\u001b[0m     \u001b[0;32melse\u001b[0m\u001b[0;34m:\u001b[0m\u001b[0;34m\u001b[0m\u001b[0;34m\u001b[0m\u001b[0m\n\u001b[0;32m---> 36\u001b[0;31m         \u001b[0mestimator\u001b[0m\u001b[0;34m.\u001b[0m\u001b[0mfit\u001b[0m\u001b[0;34m(\u001b[0m\u001b[0mX\u001b[0m\u001b[0;34m,\u001b[0m \u001b[0my\u001b[0m\u001b[0;34m)\u001b[0m\u001b[0;34m\u001b[0m\u001b[0;34m\u001b[0m\u001b[0m\n\u001b[0m\u001b[1;32m     37\u001b[0m     \u001b[0;32mreturn\u001b[0m \u001b[0mestimator\u001b[0m\u001b[0;34m\u001b[0m\u001b[0;34m\u001b[0m\u001b[0m\n\u001b[1;32m     38\u001b[0m \u001b[0;34m\u001b[0m\u001b[0m\n",
            "\u001b[0;32m/usr/local/lib/python3.7/dist-packages/sklearn/linear_model/_logistic.py\u001b[0m in \u001b[0;36mfit\u001b[0;34m(self, X, y, sample_weight)\u001b[0m\n\u001b[1;32m   1599\u001b[0m                       \u001b[0mpenalty\u001b[0m\u001b[0;34m=\u001b[0m\u001b[0mpenalty\u001b[0m\u001b[0;34m,\u001b[0m \u001b[0mmax_squared_sum\u001b[0m\u001b[0;34m=\u001b[0m\u001b[0mmax_squared_sum\u001b[0m\u001b[0;34m,\u001b[0m\u001b[0;34m\u001b[0m\u001b[0;34m\u001b[0m\u001b[0m\n\u001b[1;32m   1600\u001b[0m                       sample_weight=sample_weight)\n\u001b[0;32m-> 1601\u001b[0;31m             for class_, warm_start_coef_ in zip(classes_, warm_start_coef))\n\u001b[0m\u001b[1;32m   1602\u001b[0m \u001b[0;34m\u001b[0m\u001b[0m\n\u001b[1;32m   1603\u001b[0m         \u001b[0mfold_coefs_\u001b[0m\u001b[0;34m,\u001b[0m \u001b[0m_\u001b[0m\u001b[0;34m,\u001b[0m \u001b[0mn_iter_\u001b[0m \u001b[0;34m=\u001b[0m \u001b[0mzip\u001b[0m\u001b[0;34m(\u001b[0m\u001b[0;34m*\u001b[0m\u001b[0mfold_coefs_\u001b[0m\u001b[0;34m)\u001b[0m\u001b[0;34m\u001b[0m\u001b[0;34m\u001b[0m\u001b[0m\n",
            "\u001b[0;32m/usr/local/lib/python3.7/dist-packages/joblib/parallel.py\u001b[0m in \u001b[0;36m__call__\u001b[0;34m(self, iterable)\u001b[0m\n\u001b[1;32m   1052\u001b[0m \u001b[0;34m\u001b[0m\u001b[0m\n\u001b[1;32m   1053\u001b[0m             \u001b[0;32mwith\u001b[0m \u001b[0mself\u001b[0m\u001b[0;34m.\u001b[0m\u001b[0m_backend\u001b[0m\u001b[0;34m.\u001b[0m\u001b[0mretrieval_context\u001b[0m\u001b[0;34m(\u001b[0m\u001b[0;34m)\u001b[0m\u001b[0;34m:\u001b[0m\u001b[0;34m\u001b[0m\u001b[0;34m\u001b[0m\u001b[0m\n\u001b[0;32m-> 1054\u001b[0;31m                 \u001b[0mself\u001b[0m\u001b[0;34m.\u001b[0m\u001b[0mretrieve\u001b[0m\u001b[0;34m(\u001b[0m\u001b[0;34m)\u001b[0m\u001b[0;34m\u001b[0m\u001b[0;34m\u001b[0m\u001b[0m\n\u001b[0m\u001b[1;32m   1055\u001b[0m             \u001b[0;31m# Make sure that we get a last message telling us we are done\u001b[0m\u001b[0;34m\u001b[0m\u001b[0;34m\u001b[0m\u001b[0;34m\u001b[0m\u001b[0m\n\u001b[1;32m   1056\u001b[0m             \u001b[0melapsed_time\u001b[0m \u001b[0;34m=\u001b[0m \u001b[0mtime\u001b[0m\u001b[0;34m.\u001b[0m\u001b[0mtime\u001b[0m\u001b[0;34m(\u001b[0m\u001b[0;34m)\u001b[0m \u001b[0;34m-\u001b[0m \u001b[0mself\u001b[0m\u001b[0;34m.\u001b[0m\u001b[0m_start_time\u001b[0m\u001b[0;34m\u001b[0m\u001b[0;34m\u001b[0m\u001b[0m\n",
            "\u001b[0;32m/usr/local/lib/python3.7/dist-packages/joblib/parallel.py\u001b[0m in \u001b[0;36mretrieve\u001b[0;34m(self)\u001b[0m\n\u001b[1;32m    931\u001b[0m             \u001b[0;32mtry\u001b[0m\u001b[0;34m:\u001b[0m\u001b[0;34m\u001b[0m\u001b[0;34m\u001b[0m\u001b[0m\n\u001b[1;32m    932\u001b[0m                 \u001b[0;32mif\u001b[0m \u001b[0mgetattr\u001b[0m\u001b[0;34m(\u001b[0m\u001b[0mself\u001b[0m\u001b[0;34m.\u001b[0m\u001b[0m_backend\u001b[0m\u001b[0;34m,\u001b[0m \u001b[0;34m'supports_timeout'\u001b[0m\u001b[0;34m,\u001b[0m \u001b[0;32mFalse\u001b[0m\u001b[0;34m)\u001b[0m\u001b[0;34m:\u001b[0m\u001b[0;34m\u001b[0m\u001b[0;34m\u001b[0m\u001b[0m\n\u001b[0;32m--> 933\u001b[0;31m                     \u001b[0mself\u001b[0m\u001b[0;34m.\u001b[0m\u001b[0m_output\u001b[0m\u001b[0;34m.\u001b[0m\u001b[0mextend\u001b[0m\u001b[0;34m(\u001b[0m\u001b[0mjob\u001b[0m\u001b[0;34m.\u001b[0m\u001b[0mget\u001b[0m\u001b[0;34m(\u001b[0m\u001b[0mtimeout\u001b[0m\u001b[0;34m=\u001b[0m\u001b[0mself\u001b[0m\u001b[0;34m.\u001b[0m\u001b[0mtimeout\u001b[0m\u001b[0;34m)\u001b[0m\u001b[0;34m)\u001b[0m\u001b[0;34m\u001b[0m\u001b[0;34m\u001b[0m\u001b[0m\n\u001b[0m\u001b[1;32m    934\u001b[0m                 \u001b[0;32melse\u001b[0m\u001b[0;34m:\u001b[0m\u001b[0;34m\u001b[0m\u001b[0;34m\u001b[0m\u001b[0m\n\u001b[1;32m    935\u001b[0m                     \u001b[0mself\u001b[0m\u001b[0;34m.\u001b[0m\u001b[0m_output\u001b[0m\u001b[0;34m.\u001b[0m\u001b[0mextend\u001b[0m\u001b[0;34m(\u001b[0m\u001b[0mjob\u001b[0m\u001b[0;34m.\u001b[0m\u001b[0mget\u001b[0m\u001b[0;34m(\u001b[0m\u001b[0;34m)\u001b[0m\u001b[0;34m)\u001b[0m\u001b[0;34m\u001b[0m\u001b[0;34m\u001b[0m\u001b[0m\n",
            "\u001b[0;32m/usr/local/lib/python3.7/dist-packages/joblib/_parallel_backends.py\u001b[0m in \u001b[0;36mwrap_future_result\u001b[0;34m(future, timeout)\u001b[0m\n\u001b[1;32m    540\u001b[0m         AsyncResults.get from multiprocessing.\"\"\"\n\u001b[1;32m    541\u001b[0m         \u001b[0;32mtry\u001b[0m\u001b[0;34m:\u001b[0m\u001b[0;34m\u001b[0m\u001b[0;34m\u001b[0m\u001b[0m\n\u001b[0;32m--> 542\u001b[0;31m             \u001b[0;32mreturn\u001b[0m \u001b[0mfuture\u001b[0m\u001b[0;34m.\u001b[0m\u001b[0mresult\u001b[0m\u001b[0;34m(\u001b[0m\u001b[0mtimeout\u001b[0m\u001b[0;34m=\u001b[0m\u001b[0mtimeout\u001b[0m\u001b[0;34m)\u001b[0m\u001b[0;34m\u001b[0m\u001b[0;34m\u001b[0m\u001b[0m\n\u001b[0m\u001b[1;32m    543\u001b[0m         \u001b[0;32mexcept\u001b[0m \u001b[0mCfTimeoutError\u001b[0m \u001b[0;32mas\u001b[0m \u001b[0me\u001b[0m\u001b[0;34m:\u001b[0m\u001b[0;34m\u001b[0m\u001b[0;34m\u001b[0m\u001b[0m\n\u001b[1;32m    544\u001b[0m             \u001b[0;32mraise\u001b[0m \u001b[0mTimeoutError\u001b[0m \u001b[0;32mfrom\u001b[0m \u001b[0me\u001b[0m\u001b[0;34m\u001b[0m\u001b[0;34m\u001b[0m\u001b[0m\n",
            "\u001b[0;32m/usr/lib/python3.7/concurrent/futures/_base.py\u001b[0m in \u001b[0;36mresult\u001b[0;34m(self, timeout)\u001b[0m\n\u001b[1;32m    433\u001b[0m                 \u001b[0;32mraise\u001b[0m \u001b[0mCancelledError\u001b[0m\u001b[0;34m(\u001b[0m\u001b[0;34m)\u001b[0m\u001b[0;34m\u001b[0m\u001b[0;34m\u001b[0m\u001b[0m\n\u001b[1;32m    434\u001b[0m             \u001b[0;32melif\u001b[0m \u001b[0mself\u001b[0m\u001b[0;34m.\u001b[0m\u001b[0m_state\u001b[0m \u001b[0;34m==\u001b[0m \u001b[0mFINISHED\u001b[0m\u001b[0;34m:\u001b[0m\u001b[0;34m\u001b[0m\u001b[0;34m\u001b[0m\u001b[0m\n\u001b[0;32m--> 435\u001b[0;31m                 \u001b[0;32mreturn\u001b[0m \u001b[0mself\u001b[0m\u001b[0;34m.\u001b[0m\u001b[0m__get_result\u001b[0m\u001b[0;34m(\u001b[0m\u001b[0;34m)\u001b[0m\u001b[0;34m\u001b[0m\u001b[0;34m\u001b[0m\u001b[0m\n\u001b[0m\u001b[1;32m    436\u001b[0m             \u001b[0;32melse\u001b[0m\u001b[0;34m:\u001b[0m\u001b[0;34m\u001b[0m\u001b[0;34m\u001b[0m\u001b[0m\n\u001b[1;32m    437\u001b[0m                 \u001b[0;32mraise\u001b[0m \u001b[0mTimeoutError\u001b[0m\u001b[0;34m(\u001b[0m\u001b[0;34m)\u001b[0m\u001b[0;34m\u001b[0m\u001b[0;34m\u001b[0m\u001b[0m\n",
            "\u001b[0;32m/usr/lib/python3.7/concurrent/futures/_base.py\u001b[0m in \u001b[0;36m__get_result\u001b[0;34m(self)\u001b[0m\n\u001b[1;32m    382\u001b[0m     \u001b[0;32mdef\u001b[0m \u001b[0m__get_result\u001b[0m\u001b[0;34m(\u001b[0m\u001b[0mself\u001b[0m\u001b[0;34m)\u001b[0m\u001b[0;34m:\u001b[0m\u001b[0;34m\u001b[0m\u001b[0;34m\u001b[0m\u001b[0m\n\u001b[1;32m    383\u001b[0m         \u001b[0;32mif\u001b[0m \u001b[0mself\u001b[0m\u001b[0;34m.\u001b[0m\u001b[0m_exception\u001b[0m\u001b[0;34m:\u001b[0m\u001b[0;34m\u001b[0m\u001b[0;34m\u001b[0m\u001b[0m\n\u001b[0;32m--> 384\u001b[0;31m             \u001b[0;32mraise\u001b[0m \u001b[0mself\u001b[0m\u001b[0;34m.\u001b[0m\u001b[0m_exception\u001b[0m\u001b[0;34m\u001b[0m\u001b[0;34m\u001b[0m\u001b[0m\n\u001b[0m\u001b[1;32m    385\u001b[0m         \u001b[0;32melse\u001b[0m\u001b[0;34m:\u001b[0m\u001b[0;34m\u001b[0m\u001b[0;34m\u001b[0m\u001b[0m\n\u001b[1;32m    386\u001b[0m             \u001b[0;32mreturn\u001b[0m \u001b[0mself\u001b[0m\u001b[0;34m.\u001b[0m\u001b[0m_result\u001b[0m\u001b[0;34m\u001b[0m\u001b[0;34m\u001b[0m\u001b[0m\n",
            "\u001b[0;31mAttributeError\u001b[0m: 'str' object has no attribute 'decode'"
          ]
        }
      ]
    },
    {
      "cell_type": "code",
      "metadata": {
        "id": "-8-E5X54MiuR"
      },
      "source": [
        "eclf1, eclf2, eclf3"
      ],
      "execution_count": null,
      "outputs": []
    },
    {
      "cell_type": "code",
      "metadata": {
        "id": "3N3YJB1zMiuR"
      },
      "source": [
        ""
      ],
      "execution_count": null,
      "outputs": []
    },
    {
      "cell_type": "markdown",
      "metadata": {
        "id": "P_1nKkLTMiuR"
      },
      "source": [
        "## History Gradient Boosting"
      ]
    },
    {
      "cell_type": "code",
      "metadata": {
        "colab": {
          "base_uri": "https://localhost:8080/"
        },
        "id": "Pon440vQMiuR",
        "outputId": "55da8ece-dafc-4e21-8301-f3c4d6a65ece"
      },
      "source": [
        "clf = HistGradientBoostingClassifier()\n",
        "clf.fit(kine_X_train, kine_Y_train).score(kine_X_test, kine_Y_test)"
      ],
      "execution_count": 87,
      "outputs": [
        {
          "output_type": "execute_result",
          "data": {
            "text/plain": [
              "0.2934222491664141"
            ]
          },
          "metadata": {},
          "execution_count": 87
        }
      ]
    },
    {
      "cell_type": "code",
      "metadata": {
        "colab": {
          "base_uri": "https://localhost:8080/"
        },
        "id": "PZSWtRzeMiuS",
        "outputId": "470b8e65-3055-4374-d35c-1c815268ccff"
      },
      "source": [
        "clf.fit(kine_X_train_scaled, kine_Y_train).score(kine_X_test_scaled, kine_Y_test)"
      ],
      "execution_count": 88,
      "outputs": [
        {
          "output_type": "execute_result",
          "data": {
            "text/plain": [
              "0.27796301909669596"
            ]
          },
          "metadata": {},
          "execution_count": 88
        }
      ]
    },
    {
      "cell_type": "markdown",
      "metadata": {
        "id": "vzIQukEoMiuS"
      },
      "source": [
        "## Complement Naive Bayesian Classifier "
      ]
    },
    {
      "cell_type": "code",
      "metadata": {
        "colab": {
          "base_uri": "https://localhost:8080/"
        },
        "id": "XiA7QMC8MiuS",
        "outputId": "1d759f9f-c90e-4cd9-e05e-052dbfc07494"
      },
      "source": [
        "clf = CategoricalNB()\n",
        "scaler = MinMaxScaler()\n",
        "kine_X_train_scaled  = scaler.fit(kine_X_train).transform(kine_X_train)\n",
        "kine_X_test_scaled  = scaler.fit(kine_X_test).transform(kine_X_test)\n",
        "clf.fit(kine_X_train_scaled, kine_Y_train).score(kine_X_test_scaled, kine_Y_test)\n",
        "#clf.fit(kine_X_train, kine_Y_train).score(kine_X_test, kine_Y_test)"
      ],
      "execution_count": 89,
      "outputs": [
        {
          "output_type": "execute_result",
          "data": {
            "text/plain": [
              "0.2240072749317975"
            ]
          },
          "metadata": {},
          "execution_count": 89
        }
      ]
    },
    {
      "cell_type": "markdown",
      "metadata": {
        "id": "DESiTTa9MiuS"
      },
      "source": [
        "## Categorical Naïve Bayesean Classifier"
      ]
    },
    {
      "cell_type": "code",
      "metadata": {
        "colab": {
          "base_uri": "https://localhost:8080/"
        },
        "id": "lAHHtaXHMiuS",
        "outputId": "026e0d8a-cba8-4a2b-b21d-5722f128a8e1"
      },
      "source": [
        "clf = ComplementNB()\n",
        "scaler = MinMaxScaler()\n",
        "kine_X_train_scaled  = scaler.fit(kine_X_train).transform(kine_X_train)\n",
        "kine_X_test_scaled  = scaler.fit(kine_X_test).transform(kine_X_test)\n",
        "clf.fit(kine_X_train_scaled, kine_Y_train).score(kine_X_test_scaled, kine_Y_test)"
      ],
      "execution_count": 90,
      "outputs": [
        {
          "output_type": "execute_result",
          "data": {
            "text/plain": [
              "0.2197635647165808"
            ]
          },
          "metadata": {},
          "execution_count": 90
        }
      ]
    },
    {
      "cell_type": "markdown",
      "metadata": {
        "id": "6873Q2YyMiuS"
      },
      "source": [
        "## Multi-layer Perceptron classifier"
      ]
    },
    {
      "cell_type": "code",
      "metadata": {
        "colab": {
          "base_uri": "https://localhost:8080/"
        },
        "id": "2As3XmuhMiuT",
        "outputId": "08d9fd4f-a74e-47b1-b327-0e6f3217fa66"
      },
      "source": [
        "clf = MLPClassifier(random_state=1, max_iter=1000, verbose=True, solver='sgd', learning_rate='adaptive', early_stopping=True).fit(kine_X_train, kine_Y_train)\n",
        "clf.fit(kine_X_train_scaled, kine_Y_train).score(kine_X_test_scaled, kine_Y_test)\n",
        "#clf.fit(kine_X_train, kine_Y_train).score(kine_X_test, kine_Y_test)"
      ],
      "execution_count": 91,
      "outputs": [
        {
          "output_type": "stream",
          "name": "stdout",
          "text": [
            "Iteration 1, loss = 15.07839467\n",
            "Validation score: 0.128358\n",
            "Iteration 2, loss = 2.10712308\n",
            "Validation score: 0.161194\n",
            "Iteration 3, loss = 2.05215858\n",
            "Validation score: 0.161194\n",
            "Iteration 4, loss = 2.01244119\n",
            "Validation score: 0.156716\n",
            "Iteration 5, loss = 1.99988197\n",
            "Validation score: 0.149254\n",
            "Iteration 6, loss = 1.99300734\n",
            "Validation score: 0.165672\n",
            "Iteration 7, loss = 1.98627957\n",
            "Validation score: 0.159701\n",
            "Iteration 8, loss = 1.98279684\n",
            "Validation score: 0.158209\n",
            "Iteration 9, loss = 1.97706936\n",
            "Validation score: 0.165672\n",
            "Iteration 10, loss = 1.97217126\n",
            "Validation score: 0.159701\n",
            "Iteration 11, loss = 1.97217206\n",
            "Validation score: 0.171642\n",
            "Iteration 12, loss = 1.96218042\n",
            "Validation score: 0.170149\n",
            "Iteration 13, loss = 1.95022004\n",
            "Validation score: 0.192537\n",
            "Iteration 14, loss = 1.93378861\n",
            "Validation score: 0.205970\n",
            "Iteration 15, loss = 1.92472226\n",
            "Validation score: 0.204478\n",
            "Iteration 16, loss = 1.91908343\n",
            "Validation score: 0.197015\n",
            "Iteration 17, loss = 1.91633322\n",
            "Validation score: 0.198507\n",
            "Iteration 18, loss = 1.91348614\n",
            "Validation score: 0.205970\n",
            "Iteration 19, loss = 1.91188939\n",
            "Validation score: 0.207463\n",
            "Iteration 20, loss = 1.90969887\n",
            "Validation score: 0.201493\n",
            "Iteration 21, loss = 1.90814508\n",
            "Validation score: 0.197015\n",
            "Iteration 22, loss = 1.90733316\n",
            "Validation score: 0.192537\n",
            "Iteration 23, loss = 1.90673569\n",
            "Validation score: 0.205970\n",
            "Iteration 24, loss = 1.90468384\n",
            "Validation score: 0.201493\n",
            "Iteration 25, loss = 1.90376512\n",
            "Validation score: 0.202985\n",
            "Iteration 26, loss = 1.90370039\n",
            "Validation score: 0.198507\n",
            "Iteration 27, loss = 1.90204596\n",
            "Validation score: 0.204478\n",
            "Iteration 28, loss = 1.90144167\n",
            "Validation score: 0.195522\n",
            "Iteration 29, loss = 1.90034442\n",
            "Validation score: 0.222388\n",
            "Iteration 30, loss = 1.89903880\n",
            "Validation score: 0.214925\n",
            "Iteration 31, loss = 1.89932788\n",
            "Validation score: 0.205970\n",
            "Iteration 32, loss = 1.89760838\n",
            "Validation score: 0.211940\n",
            "Iteration 33, loss = 1.89818680\n",
            "Validation score: 0.208955\n",
            "Iteration 34, loss = 1.89605463\n",
            "Validation score: 0.205970\n",
            "Iteration 35, loss = 1.89607916\n",
            "Validation score: 0.247761\n",
            "Iteration 36, loss = 1.89428449\n",
            "Validation score: 0.226866\n",
            "Iteration 37, loss = 1.89467059\n",
            "Validation score: 0.244776\n",
            "Iteration 38, loss = 1.89481084\n",
            "Validation score: 0.222388\n",
            "Iteration 39, loss = 1.89292416\n",
            "Validation score: 0.225373\n",
            "Iteration 40, loss = 1.89349547\n",
            "Validation score: 0.226866\n",
            "Iteration 41, loss = 1.89231466\n",
            "Validation score: 0.232836\n",
            "Iteration 42, loss = 1.89119318\n",
            "Validation score: 0.238806\n",
            "Iteration 43, loss = 1.89180217\n",
            "Validation score: 0.250746\n",
            "Iteration 44, loss = 1.89185774\n",
            "Validation score: 0.226866\n",
            "Iteration 45, loss = 1.89011315\n",
            "Validation score: 0.243284\n",
            "Iteration 46, loss = 1.89136930\n",
            "Validation score: 0.241791\n",
            "Iteration 47, loss = 1.88905082\n",
            "Validation score: 0.228358\n",
            "Iteration 48, loss = 1.89032879\n",
            "Validation score: 0.237313\n",
            "Iteration 49, loss = 1.88942287\n",
            "Validation score: 0.229851\n",
            "Iteration 50, loss = 1.88788888\n",
            "Validation score: 0.235821\n",
            "Iteration 51, loss = 1.88745692\n",
            "Validation score: 0.232836\n",
            "Iteration 52, loss = 1.88936629\n",
            "Validation score: 0.234328\n",
            "Iteration 53, loss = 1.88689320\n",
            "Validation score: 0.232836\n",
            "Iteration 54, loss = 1.88854316\n",
            "Validation score: 0.243284\n",
            "Validation score did not improve more than tol=0.000100 for 10 consecutive epochs. Setting learning rate to 0.000200\n",
            "Iteration 55, loss = 1.88817443\n",
            "Validation score: 0.234328\n",
            "Iteration 56, loss = 1.88490418\n",
            "Validation score: 0.238806\n",
            "Iteration 57, loss = 1.88346410\n",
            "Validation score: 0.240299\n",
            "Iteration 58, loss = 1.88331857\n",
            "Validation score: 0.234328\n",
            "Iteration 59, loss = 1.88304174\n",
            "Validation score: 0.243284\n",
            "Iteration 60, loss = 1.88299635\n",
            "Validation score: 0.244776\n",
            "Iteration 61, loss = 1.88290330\n",
            "Validation score: 0.241791\n",
            "Iteration 62, loss = 1.88270153\n",
            "Validation score: 0.241791\n",
            "Iteration 63, loss = 1.88324964\n",
            "Validation score: 0.241791\n",
            "Iteration 64, loss = 1.88339732\n",
            "Validation score: 0.243284\n",
            "Iteration 65, loss = 1.88303601\n",
            "Validation score: 0.243284\n",
            "Validation score did not improve more than tol=0.000100 for 10 consecutive epochs. Setting learning rate to 0.000040\n",
            "Iteration 66, loss = 1.88216195\n",
            "Validation score: 0.250746\n",
            "Iteration 67, loss = 1.88182791\n",
            "Validation score: 0.249254\n",
            "Iteration 68, loss = 1.88181170\n",
            "Validation score: 0.243284\n",
            "Iteration 69, loss = 1.88171269\n",
            "Validation score: 0.246269\n",
            "Iteration 70, loss = 1.88174664\n",
            "Validation score: 0.244776\n",
            "Iteration 71, loss = 1.88173014\n",
            "Validation score: 0.240299\n",
            "Iteration 72, loss = 1.88172324\n",
            "Validation score: 0.243284\n",
            "Iteration 73, loss = 1.88163855\n",
            "Validation score: 0.246269\n",
            "Iteration 74, loss = 1.88174909\n",
            "Validation score: 0.246269\n",
            "Iteration 75, loss = 1.88164410\n",
            "Validation score: 0.241791\n",
            "Iteration 76, loss = 1.88161959\n",
            "Validation score: 0.243284\n",
            "Validation score did not improve more than tol=0.000100 for 10 consecutive epochs. Setting learning rate to 0.000008\n",
            "Iteration 77, loss = 1.88148381\n",
            "Validation score: 0.241791\n",
            "Iteration 78, loss = 1.88147552\n",
            "Validation score: 0.244776\n",
            "Iteration 79, loss = 1.88145908\n",
            "Validation score: 0.244776\n",
            "Iteration 80, loss = 1.88143636\n",
            "Validation score: 0.244776\n",
            "Iteration 81, loss = 1.88143864\n",
            "Validation score: 0.243284\n",
            "Iteration 82, loss = 1.88142829\n",
            "Validation score: 0.243284\n",
            "Iteration 83, loss = 1.88143033\n",
            "Validation score: 0.244776\n",
            "Iteration 84, loss = 1.88142436\n",
            "Validation score: 0.244776\n",
            "Iteration 85, loss = 1.88141493\n",
            "Validation score: 0.243284\n",
            "Iteration 86, loss = 1.88141828\n",
            "Validation score: 0.240299\n",
            "Iteration 87, loss = 1.88139237\n",
            "Validation score: 0.243284\n",
            "Validation score did not improve more than tol=0.000100 for 10 consecutive epochs. Setting learning rate to 0.000002\n",
            "Iteration 88, loss = 1.88136665\n",
            "Validation score: 0.243284\n",
            "Iteration 89, loss = 1.88136479\n",
            "Validation score: 0.243284\n",
            "Iteration 90, loss = 1.88136564\n",
            "Validation score: 0.243284\n",
            "Iteration 91, loss = 1.88136336\n",
            "Validation score: 0.243284\n",
            "Iteration 92, loss = 1.88136695\n",
            "Validation score: 0.244776\n",
            "Iteration 93, loss = 1.88136323\n",
            "Validation score: 0.243284\n",
            "Iteration 94, loss = 1.88136144\n",
            "Validation score: 0.243284\n",
            "Iteration 95, loss = 1.88135725\n",
            "Validation score: 0.244776\n",
            "Iteration 96, loss = 1.88135952\n",
            "Validation score: 0.243284\n",
            "Iteration 97, loss = 1.88136037\n",
            "Validation score: 0.243284\n",
            "Iteration 98, loss = 1.88136013\n",
            "Validation score: 0.244776\n",
            "Validation score did not improve more than tol=0.000100 for 10 consecutive epochs. Setting learning rate to 0.000000\n",
            "Iteration 99, loss = 1.88135015\n",
            "Validation score: 0.243284\n",
            "Iteration 100, loss = 1.88134894\n",
            "Validation score: 0.243284\n",
            "Iteration 101, loss = 1.88134922\n",
            "Validation score: 0.243284\n",
            "Iteration 102, loss = 1.88134856\n",
            "Validation score: 0.243284\n",
            "Iteration 103, loss = 1.88134836\n",
            "Validation score: 0.243284\n",
            "Iteration 104, loss = 1.88134802\n",
            "Validation score: 0.243284\n",
            "Iteration 105, loss = 1.88134773\n",
            "Validation score: 0.243284\n",
            "Iteration 106, loss = 1.88134765\n",
            "Validation score: 0.243284\n",
            "Iteration 107, loss = 1.88134760\n",
            "Validation score: 0.243284\n",
            "Iteration 108, loss = 1.88134838\n",
            "Validation score: 0.243284\n",
            "Iteration 109, loss = 1.88134747\n",
            "Validation score: 0.243284\n",
            "Validation score did not improve more than tol=0.000100 for 10 consecutive epochs. Learning rate too small. Stopping.\n",
            "Iteration 1, loss = 2.08567149\n",
            "Validation score: 0.135821\n",
            "Iteration 2, loss = 2.06675748\n",
            "Validation score: 0.140299\n",
            "Iteration 3, loss = 2.05488893\n",
            "Validation score: 0.146269\n",
            "Iteration 4, loss = 2.04781658\n",
            "Validation score: 0.162687\n",
            "Iteration 5, loss = 2.04249777\n",
            "Validation score: 0.162687\n",
            "Iteration 6, loss = 2.03771505\n",
            "Validation score: 0.161194\n",
            "Iteration 7, loss = 2.03348574\n",
            "Validation score: 0.171642\n",
            "Iteration 8, loss = 2.02974775\n",
            "Validation score: 0.176119\n",
            "Iteration 9, loss = 2.02602196\n",
            "Validation score: 0.173134\n",
            "Iteration 10, loss = 2.02253724\n",
            "Validation score: 0.180597\n",
            "Iteration 11, loss = 2.01917875\n",
            "Validation score: 0.182090\n",
            "Iteration 12, loss = 2.01598942\n",
            "Validation score: 0.177612\n",
            "Iteration 13, loss = 2.01302534\n",
            "Validation score: 0.177612\n",
            "Iteration 14, loss = 2.01014578\n",
            "Validation score: 0.179104\n",
            "Iteration 15, loss = 2.00746785\n",
            "Validation score: 0.183582\n",
            "Iteration 16, loss = 2.00492025\n",
            "Validation score: 0.186567\n",
            "Iteration 17, loss = 2.00240228\n",
            "Validation score: 0.183582\n",
            "Iteration 18, loss = 1.99999107\n",
            "Validation score: 0.186567\n",
            "Iteration 19, loss = 1.99763946\n",
            "Validation score: 0.191045\n",
            "Iteration 20, loss = 1.99529184\n",
            "Validation score: 0.195522\n",
            "Iteration 21, loss = 1.99310153\n",
            "Validation score: 0.192537\n",
            "Iteration 22, loss = 1.99087610\n",
            "Validation score: 0.194030\n",
            "Iteration 23, loss = 1.98886422\n",
            "Validation score: 0.194030\n",
            "Iteration 24, loss = 1.98671572\n",
            "Validation score: 0.201493\n",
            "Iteration 25, loss = 1.98478296\n",
            "Validation score: 0.197015\n",
            "Iteration 26, loss = 1.98294446\n",
            "Validation score: 0.201493\n",
            "Iteration 27, loss = 1.98104842\n",
            "Validation score: 0.202985\n",
            "Iteration 28, loss = 1.97925311\n",
            "Validation score: 0.201493\n",
            "Iteration 29, loss = 1.97761349\n",
            "Validation score: 0.198507\n",
            "Iteration 30, loss = 1.97592411\n",
            "Validation score: 0.200000\n",
            "Iteration 31, loss = 1.97441515\n",
            "Validation score: 0.198507\n",
            "Iteration 32, loss = 1.97275255\n",
            "Validation score: 0.204478\n",
            "Iteration 33, loss = 1.97124259\n",
            "Validation score: 0.205970\n",
            "Iteration 34, loss = 1.96993954\n",
            "Validation score: 0.205970\n",
            "Iteration 35, loss = 1.96841555\n",
            "Validation score: 0.204478\n",
            "Iteration 36, loss = 1.96720817\n",
            "Validation score: 0.204478\n",
            "Iteration 37, loss = 1.96582905\n",
            "Validation score: 0.204478\n",
            "Iteration 38, loss = 1.96472819\n",
            "Validation score: 0.204478\n",
            "Iteration 39, loss = 1.96346736\n",
            "Validation score: 0.202985\n",
            "Iteration 40, loss = 1.96228349\n",
            "Validation score: 0.202985\n",
            "Iteration 41, loss = 1.96112585\n",
            "Validation score: 0.201493\n",
            "Iteration 42, loss = 1.96008568\n",
            "Validation score: 0.202985\n",
            "Iteration 43, loss = 1.95918123\n",
            "Validation score: 0.198507\n",
            "Iteration 44, loss = 1.95800824\n",
            "Validation score: 0.204478\n",
            "Validation score did not improve more than tol=0.000100 for 10 consecutive epochs. Setting learning rate to 0.000200\n",
            "Iteration 45, loss = 1.95705894\n",
            "Validation score: 0.205970\n",
            "Iteration 46, loss = 1.95677604\n",
            "Validation score: 0.204478\n",
            "Iteration 47, loss = 1.95659672\n",
            "Validation score: 0.205970\n",
            "Iteration 48, loss = 1.95639367\n",
            "Validation score: 0.204478\n",
            "Iteration 49, loss = 1.95618863\n",
            "Validation score: 0.204478\n",
            "Iteration 50, loss = 1.95601977\n",
            "Validation score: 0.202985\n",
            "Iteration 51, loss = 1.95581609\n",
            "Validation score: 0.204478\n",
            "Iteration 52, loss = 1.95565272\n",
            "Validation score: 0.204478\n",
            "Iteration 53, loss = 1.95545810\n",
            "Validation score: 0.204478\n",
            "Iteration 54, loss = 1.95528243\n",
            "Validation score: 0.204478\n",
            "Iteration 55, loss = 1.95510319\n",
            "Validation score: 0.205970\n",
            "Validation score did not improve more than tol=0.000100 for 10 consecutive epochs. Setting learning rate to 0.000040\n",
            "Iteration 56, loss = 1.95491870\n",
            "Validation score: 0.207463\n",
            "Iteration 57, loss = 1.95488027\n",
            "Validation score: 0.205970\n",
            "Iteration 58, loss = 1.95483746\n",
            "Validation score: 0.205970\n",
            "Iteration 59, loss = 1.95479818\n",
            "Validation score: 0.205970\n",
            "Iteration 60, loss = 1.95476391\n",
            "Validation score: 0.207463\n",
            "Iteration 61, loss = 1.95472505\n",
            "Validation score: 0.207463\n",
            "Iteration 62, loss = 1.95468772\n",
            "Validation score: 0.207463\n",
            "Iteration 63, loss = 1.95465545\n",
            "Validation score: 0.205970\n",
            "Iteration 64, loss = 1.95461501\n",
            "Validation score: 0.205970\n",
            "Iteration 65, loss = 1.95458169\n",
            "Validation score: 0.205970\n",
            "Iteration 66, loss = 1.95454396\n",
            "Validation score: 0.205970\n",
            "Iteration 67, loss = 1.95450896\n",
            "Validation score: 0.205970\n",
            "Validation score did not improve more than tol=0.000100 for 10 consecutive epochs. Setting learning rate to 0.000008\n",
            "Iteration 68, loss = 1.95447364\n",
            "Validation score: 0.205970\n",
            "Iteration 69, loss = 1.95446448\n",
            "Validation score: 0.205970\n",
            "Iteration 70, loss = 1.95445715\n",
            "Validation score: 0.205970\n",
            "Iteration 71, loss = 1.95444914\n",
            "Validation score: 0.205970\n",
            "Iteration 72, loss = 1.95444228\n",
            "Validation score: 0.205970\n",
            "Iteration 73, loss = 1.95443503\n",
            "Validation score: 0.205970\n",
            "Iteration 74, loss = 1.95442756\n",
            "Validation score: 0.205970\n",
            "Iteration 75, loss = 1.95442030\n",
            "Validation score: 0.205970\n",
            "Iteration 76, loss = 1.95441326\n",
            "Validation score: 0.205970\n",
            "Iteration 77, loss = 1.95440572\n",
            "Validation score: 0.205970\n",
            "Iteration 78, loss = 1.95439802\n",
            "Validation score: 0.205970\n",
            "Validation score did not improve more than tol=0.000100 for 10 consecutive epochs. Setting learning rate to 0.000002\n",
            "Iteration 79, loss = 1.95439125\n",
            "Validation score: 0.205970\n",
            "Iteration 80, loss = 1.95438948\n",
            "Validation score: 0.205970\n",
            "Iteration 81, loss = 1.95438791\n",
            "Validation score: 0.205970\n",
            "Iteration 82, loss = 1.95438639\n",
            "Validation score: 0.205970\n",
            "Iteration 83, loss = 1.95438500\n",
            "Validation score: 0.205970\n",
            "Iteration 84, loss = 1.95438357\n",
            "Validation score: 0.205970\n",
            "Iteration 85, loss = 1.95438210\n",
            "Validation score: 0.205970\n",
            "Iteration 86, loss = 1.95438069\n",
            "Validation score: 0.205970\n",
            "Iteration 87, loss = 1.95437915\n",
            "Validation score: 0.205970\n",
            "Iteration 88, loss = 1.95437790\n",
            "Validation score: 0.205970\n",
            "Iteration 89, loss = 1.95437628\n",
            "Validation score: 0.205970\n",
            "Validation score did not improve more than tol=0.000100 for 10 consecutive epochs. Setting learning rate to 0.000000\n",
            "Iteration 90, loss = 1.95437495\n",
            "Validation score: 0.205970\n",
            "Iteration 91, loss = 1.95437458\n",
            "Validation score: 0.205970\n",
            "Iteration 92, loss = 1.95437431\n",
            "Validation score: 0.205970\n",
            "Iteration 93, loss = 1.95437402\n",
            "Validation score: 0.205970\n",
            "Iteration 94, loss = 1.95437374\n",
            "Validation score: 0.205970\n",
            "Iteration 95, loss = 1.95437343\n",
            "Validation score: 0.205970\n",
            "Iteration 96, loss = 1.95437315\n",
            "Validation score: 0.205970\n",
            "Iteration 97, loss = 1.95437286\n",
            "Validation score: 0.205970\n",
            "Iteration 98, loss = 1.95437259\n",
            "Validation score: 0.205970\n",
            "Iteration 99, loss = 1.95437229\n",
            "Validation score: 0.205970\n",
            "Iteration 100, loss = 1.95437200\n",
            "Validation score: 0.205970\n",
            "Validation score did not improve more than tol=0.000100 for 10 consecutive epochs. Learning rate too small. Stopping.\n"
          ]
        },
        {
          "output_type": "execute_result",
          "data": {
            "text/plain": [
              "0.22431039709002729"
            ]
          },
          "metadata": {},
          "execution_count": 91
        }
      ]
    },
    {
      "cell_type": "code",
      "metadata": {
        "id": "UBIG9bbIMiuT"
      },
      "source": [
        ""
      ],
      "execution_count": null,
      "outputs": []
    }
  ]
}